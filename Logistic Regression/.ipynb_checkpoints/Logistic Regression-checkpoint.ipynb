{
 "cells": [
  {
   "cell_type": "code",
   "execution_count": 444,
   "metadata": {},
   "outputs": [],
   "source": [
    "import numpy as np\n",
    "import matplotlib.pyplot as plt"
   ]
  },
  {
   "cell_type": "code",
   "execution_count": 445,
   "metadata": {},
   "outputs": [],
   "source": [
    "#NOTE:\n",
    "#If you run the getConfusionData / train functions more than once without \n",
    "#re-running ALL the code from the start, the confusion matrx will get messed up\n",
    "\n",
    "#ALWAYS RE-RUN THE CODE "
   ]
  },
  {
   "cell_type": "code",
   "execution_count": 446,
   "metadata": {},
   "outputs": [],
   "source": [
    "#Formatting Questions - Helper Function\n",
    "def quesPrint(number):\n",
    "    print(\"Question\",number)\n",
    "    totLen = len(\"Question\") + 1 + len(str(number))\n",
    "    string = \"\"\n",
    "    \n",
    "    for i in range(totLen):\n",
    "        string += \"=\"\n",
    "    \n",
    "    print(string,\"\\n\")"
   ]
  },
  {
   "cell_type": "code",
   "execution_count": 447,
   "metadata": {},
   "outputs": [],
   "source": [
    "# Question 1(a)\n",
    "def generateData(std, numbPoints, cx1=-1,cy1=1,cx2=1,cy2=-1):\n",
    "    # Class 0\n",
    "    x = [[], []]\n",
    "\n",
    "    x[0] = np.random.normal(cx1, std, numbPoints)\n",
    "    x[1] = np.random.normal(cy1, std, numbPoints)\n",
    "    class0_points = np.array(x)\n",
    "\n",
    "    #Class 1\n",
    "    y = [[], []]\n",
    "\n",
    "    y[0] = np.random.normal(cx2, std, numbPoints)\n",
    "    y[1] = np.random.normal(cy2, std, numbPoints)\n",
    "    class1_points = np.array(y)\n",
    "    \n",
    "    return [class0_points, class1_points]\n",
    "\n",
    "class0_points, class1_points = generateData(1,20)"
   ]
  },
  {
   "cell_type": "code",
   "execution_count": 448,
   "metadata": {
    "scrolled": true
   },
   "outputs": [
    {
     "name": "stdout",
     "output_type": "stream",
     "text": [
      "Question 1(a)\n",
      "============= \n",
      "\n",
      "Class 0\n",
      "=======\n",
      "Training x1 values:\n",
      "\n",
      "[-0.88740513 -1.70781345 -0.72088041 -0.66903841  0.21498495 -1.23885293\n",
      " -1.3352038  -1.59880908  1.34475258 -1.8988491  -1.04981501 -1.74281209\n",
      " -0.53959671 -1.67376541 -0.96201042  0.58777158 -1.77450958 -1.34587362\n",
      "  0.76048588 -1.41747763]\n",
      "\n",
      "Training x2 values:\n",
      "\n",
      "[ 2.00463024  2.16002953  1.22815757  2.03893461  1.71668584  0.44191887\n",
      "  2.38670804  1.64724726  0.60803838 -0.88902516  2.89377227  0.24519806\n",
      "  3.08888783  0.65576707 -1.40240942  2.17734218  0.69878568  1.58785506\n",
      "  0.99599723  0.24212817]\n",
      "\n",
      "Class 1\n",
      "=======\n",
      "Training x1 values:\n",
      "\n",
      "[ 2.55290015 -0.15526087  1.2340078   0.38823988  1.09678638  2.62600493\n",
      "  2.22762847  2.51498588  0.63672925  0.67426477  0.34479726  1.66532866\n",
      "  2.79984841  0.01868286  2.70873257  1.21169872  0.59513504  0.72270766\n",
      "  2.083353    1.34468209]\n",
      "\n",
      "Training x2 values:\n",
      "\n",
      "[-0.53905801 -0.98779068 -0.81290451 -0.69195207 -0.65025693 -1.32648256\n",
      " -0.20989815 -1.11821755 -0.83942644 -0.91838871 -1.29904129 -1.48881555\n",
      "  0.01478324  0.31003041 -1.51327373 -0.35383437 -1.41039853 -1.80556738\n",
      " -0.37750367 -2.48733191]\n"
     ]
    }
   ],
   "source": [
    "def print2Class(class0,class1, typeData):\n",
    "    print(\"Class 0\")\n",
    "    print(\"=======\")\n",
    "\n",
    "    print(typeData + \" x1 values:\\n\")\n",
    "    print(class0[0])\n",
    "    print(\"\\n\" + typeData + \" x2 values:\\n\")\n",
    "    print(class0[1])\n",
    "\n",
    "    print(\"\\nClass 1\")\n",
    "    print(\"=======\")\n",
    "\n",
    "    print(typeData + \" x1 values:\\n\")\n",
    "    print(class1[0])\n",
    "    print(\"\\n\" + typeData + \" x2 values:\\n\")\n",
    "    print(class1[1])\n",
    "\n",
    "# Question 1(a) - PRINT\n",
    "\n",
    "quesPrint(\"1(a)\")\n",
    "print2Class(class0_points, class1_points, \"Training\")"
   ]
  },
  {
   "cell_type": "code",
   "execution_count": 449,
   "metadata": {},
   "outputs": [
    {
     "name": "stdout",
     "output_type": "stream",
     "text": [
      "Question 1(b)\n",
      "============= \n",
      "\n"
     ]
    },
    {
     "data": {
      "image/png": "[encoded data removed]",
      "text/plain": [
       "<Figure size 432x288 with 1 Axes>"
      ]
     },
     "metadata": {
      "needs_background": "light"
     },
     "output_type": "display_data"
    },
    {
     "name": "stdout",
     "output_type": "stream",
     "text": [
      "\n"
     ]
    }
   ],
   "source": [
    "# Question 1(b)\n",
    "\n",
    "#Plot Scatter Graph Function\n",
    "def plotScatter(class0, class1):\n",
    "    \n",
    "    plt.scatter(class0[0], class0[1])\n",
    "    plt.scatter(class1[0], class1[1])\n",
    "\n",
    "    plt.axis('equal')\n",
    "    plt.show()\n",
    "\n",
    "\n",
    "# Question 1(b) - PRINT\n",
    "quesPrint(\"1(b)\")\n",
    "\n",
    "plotScatter(class0_points, class1_points)\n",
    "\n",
    "\n",
    "#TODO: insert explanation here \n",
    "print(\"\")"
   ]
  },
  {
   "cell_type": "code",
   "execution_count": 450,
   "metadata": {},
   "outputs": [
    {
     "name": "stdout",
     "output_type": "stream",
     "text": [
      "Question 1(c)\n",
      "============= \n",
      "\n",
      "variance = 3\n",
      "standard variation = 1.73205\n"
     ]
    },
    {
     "data": {
      "image/png": "[encoded data removed]",
      "text/plain": [
       "<Figure size 432x288 with 1 Axes>"
      ]
     },
     "metadata": {
      "needs_background": "light"
     },
     "output_type": "display_data"
    },
    {
     "name": "stdout",
     "output_type": "stream",
     "text": [
      "\n"
     ]
    }
   ],
   "source": [
    "# Question 1(c)\n",
    "# var = 3 therefore, std = 1.73205...\n",
    "# center at (1,-1) and (-1, 1)\n",
    "\n",
    "x1, x2 = generateData(np.sqrt(3),20)\n",
    "\n",
    "# Question 1(c) - PRINT\n",
    "quesPrint(\"1(c)\")\n",
    "print(\"variance = 3\")\n",
    "print(\"standard variation = 1.73205\")\n",
    "\n",
    "plotScatter(x1,x2)\n",
    "\n",
    "#TODO: insert explanation here \n",
    "print(\"\")"
   ]
  },
  {
   "cell_type": "code",
   "execution_count": 451,
   "metadata": {},
   "outputs": [
    {
     "name": "stdout",
     "output_type": "stream",
     "text": [
      "Question 1(d)\n",
      "============= \n",
      "\n",
      "variance = 10\n",
      "standard deviation = 3.16227...\n",
      "class 0 center at (-1,1)\n",
      "class 1 center at (1,-1)\n"
     ]
    },
    {
     "data": {
      "image/png": "[encoded data removed]",
      "text/plain": [
       "<Figure size 432x288 with 1 Axes>"
      ]
     },
     "metadata": {
      "needs_background": "light"
     },
     "output_type": "display_data"
    },
    {
     "name": "stdout",
     "output_type": "stream",
     "text": [
      "\n"
     ]
    }
   ],
   "source": [
    "# Question 1(d)\n",
    "# var = 10 therefore, std = 3.16227...\n",
    "# center at (-1,1) and (1,-1)\n",
    "\n",
    "x1, x2 = generateData(np.sqrt(10), 20)\n",
    "\n",
    "#Question 1(d) - PRINT\n",
    "quesPrint(\"1(d)\")\n",
    "print(\"variance = 10\")\n",
    "print(\"standard deviation = 3.16227...\")\n",
    "print(\"class 0 center at (-1,1)\")\n",
    "print(\"class 1 center at (1,-1)\")\n",
    "\n",
    "plotScatter(x1,x2)\n",
    "\n",
    "#TODO: insert explanation here \n",
    "print(\"\")"
   ]
  },
  {
   "cell_type": "code",
   "execution_count": 452,
   "metadata": {},
   "outputs": [
    {
     "name": "stdout",
     "output_type": "stream",
     "text": [
      "Question 1(d)\n",
      "============= \n",
      "\n",
      "variance = 25\n",
      "standard deviation = 5\n",
      "class 0 center at (-2,-2)\n",
      "class 1 center at (2,2)\n"
     ]
    },
    {
     "data": {
      "image/png": "[encoded data removed]",
      "text/plain": [
       "<Figure size 432x288 with 1 Axes>"
      ]
     },
     "metadata": {
      "needs_background": "light"
     },
     "output_type": "display_data"
    },
    {
     "name": "stdout",
     "output_type": "stream",
     "text": [
      "\n"
     ]
    }
   ],
   "source": [
    "# Question 1(d)\n",
    "# var = 25 therefore, std = 5\n",
    "# center at (2,2) and (-2, -2)\n",
    "\n",
    "\n",
    "x1, x2 = generateData(np.sqrt(25), 20,-2,-2,2,2)\n",
    "\n",
    "#Question 1(d)\n",
    "quesPrint(\"1(d)\")\n",
    "print(\"variance = 25\")\n",
    "print(\"standard deviation = 5\")\n",
    "print(\"class 0 center at (-2,-2)\")\n",
    "print(\"class 1 center at (2,2)\")\n",
    "\n",
    "plotScatter(x1,x2)\n",
    "\n",
    "#TODO: insert explanation here \n",
    "print(\"\")"
   ]
  },
  {
   "cell_type": "code",
   "execution_count": 453,
   "metadata": {},
   "outputs": [
    {
     "name": "stdout",
     "output_type": "stream",
     "text": [
      "Question 1(d)\n",
      "============= \n",
      "\n",
      "variance = 1\n",
      "standard deviation = 1\n",
      "class 0 center at (3,3)\n",
      "class 1 center at (-3,-3)\n"
     ]
    },
    {
     "data": {
      "image/png": "[encoded data removed]",
      "text/plain": [
       "<Figure size 432x288 with 1 Axes>"
      ]
     },
     "metadata": {
      "needs_background": "light"
     },
     "output_type": "display_data"
    },
    {
     "name": "stdout",
     "output_type": "stream",
     "text": [
      "\n"
     ]
    }
   ],
   "source": [
    "# Question 1(d)\n",
    "# var = 1 therefore, std = 1)]\n",
    "# center at (3, 3) and (-3, -3)\n",
    "\n",
    "x1, x2 = generateData(1,20,3,3,-3,-3)\n",
    "\n",
    "# Question 1(d) - PRINT\n",
    "quesPrint(\"1(d)\")\n",
    "print(\"variance = 1\")\n",
    "print(\"standard deviation = 1\")\n",
    "print(\"class 0 center at (3,3)\")\n",
    "print(\"class 1 center at (-3,-3)\")\n",
    "\n",
    "plotScatter(x1,x2)\n",
    "\n",
    "#TODO: insert explanation here \n",
    "print(\"\")"
   ]
  },
  {
   "cell_type": "code",
   "execution_count": 454,
   "metadata": {},
   "outputs": [
    {
     "name": "stdout",
     "output_type": "stream",
     "text": [
      "Question 2(a)\n",
      "============= \n",
      "\n"
     ]
    },
    {
     "data": {
      "image/png": "[encoded data removed]",
      "text/plain": [
       "<Figure size 432x288 with 1 Axes>"
      ]
     },
     "metadata": {
      "needs_background": "light"
     },
     "output_type": "display_data"
    },
    {
     "name": "stdout",
     "output_type": "stream",
     "text": [
      "\n",
      "theta vector: \n",
      "[ 0.2494306  -0.45168755 -0.16641495]\n"
     ]
    }
   ],
   "source": [
    "# Question 2(a)\n",
    "\n",
    "theta = np.random.uniform(-0.5,0.5,3) # Initialising random theta values\n",
    "origTheta = [theta[0],theta[1],theta[2]] # Keeping a copy of original theta values\n",
    "\n",
    "x = np.linspace(-6,6,100)\n",
    "y = -theta[1]/theta[2]*x - theta[0]/theta[2] #Initialising decision boundary\n",
    "\n",
    "\n",
    "# Question 2(a) - PRINT\n",
    "quesPrint(\"2(a)\")\n",
    "\n",
    "plt.plot(x, y)\n",
    "plotScatter(class0_points, class1_points)\n",
    "print(\"\")\n",
    "\n",
    "print(\"theta vector: \")\n",
    "print(theta)\n",
    "    "
   ]
  },
  {
   "cell_type": "code",
   "execution_count": 455,
   "metadata": {},
   "outputs": [
    {
     "name": "stdout",
     "output_type": "stream",
     "text": [
      "Question 2(b)\n",
      "============= \n",
      "\n",
      "Confusion Matrix\n",
      "====================\n",
      "Class\t0\t1\n",
      "0\t5\t15\n",
      "1\t11\t9\n",
      "\n",
      "Accuracy is 0.35\n",
      "====================\n",
      "\n",
      "Log Likelihood Error is 31.669091190695347\n"
     ]
    }
   ],
   "source": [
    "# Question 2(b)\n",
    "\n",
    "def sigmoid(x): #Sigmoid function\n",
    "    return 1/(1+np.exp(-x))\n",
    "\n",
    "def prediction(theta, x): #Intermediate function\n",
    "    return sigmoid(np.matmul(np.transpose(theta),x))\n",
    "\n",
    "def likelihoodFunc(x,y,theta, hFunc):\n",
    "    return y * np.log(hFunc(theta, x)) + (1 - y)*np.log(1 - hFunc(theta, x))\n",
    "\n",
    "#Get confusion matrix data for making the matrix and log likelihood error\n",
    "def getConfusionDataAndLogLikelihood(class0,class1, theta):\n",
    "    amountDataPoints = len(class0[0])\n",
    "    \n",
    "    logSum = 0\n",
    "    correctTotal0 = 0\n",
    "    correctTotal1 = 0\n",
    "\n",
    "    for i in range(amountDataPoints): \n",
    "        #Calculating log likelehood for class 0\n",
    "        x = [1,class0[0][i],class0[1][i]] #Getting x values at i for class 0\n",
    "        \n",
    "        logSum = logSum + likelihoodFunc(x,0,theta,prediction) #Adding to log likelihood sum\n",
    "\n",
    "        predictedValue = round(prediction(theta, x),0) #Model adding to confusion matrix the predicted value\n",
    "        if(predictedValue == 0):\n",
    "            correctTotal0 += 1\n",
    "\n",
    "        #Calculating log likelehood for class 1\n",
    "        x = [1,class1[0][i],class1[1][i]] #Getting x values at i for class 1\n",
    "       \n",
    "        logSum = logSum + likelihoodFunc(x,0,theta,prediction) #Adding to log likelihood sum\n",
    "\n",
    "        predictedValue = round(prediction(theta, x),0) #Model adding to confusion matrix the predicted value\n",
    "        if(predictedValue == 1):\n",
    "            correctTotal1 += 1\n",
    "            \n",
    "    logSum *= -1\n",
    "        \n",
    "    return [correctTotal0, correctTotal1, logSum]\n",
    "        \n",
    "#Printing out confusion matrix\n",
    "def printConfusionMatrix(correct0, correct1, amountDataPoints):\n",
    "    \n",
    "    print(\"Confusion Matrix\")\n",
    "    print(\"====================\")\n",
    "    print(\"Class\\t0\\t1\")\n",
    "    print(\"0\\t\"+str(correct0)+\"\\t\"+str(amountDataPoints-correct0))\n",
    "    print(\"1\\t\"+str(amountDataPoints-correct1)+\"\\t\"+str(correct1))\n",
    "    print(\"\\nAccuracy is \"+ str((correct0 + correct1)/(amountDataPoints * 2)))\n",
    "    print(\"====================\\n\")\n",
    "    \n",
    "    \n",
    "def printLogLikelihood(logLikelihood):\n",
    "    print(\"Log Likelihood Error is \" + str(logLikelihood))\n",
    "\n",
    "\n",
    "correct0, correct1, logLikelihood = getConfusionDataAndLogLikelihood(class0_points, class1_points, theta)\n",
    "\n",
    "#Question 2(b) - PRINT\n",
    "quesPrint(\"2(b)\")\n",
    "\n",
    "printConfusionMatrix(correct0, correct1, 20)\n",
    "printLogLikelihood(logLikelihood)"
   ]
  },
  {
   "cell_type": "code",
   "execution_count": 456,
   "metadata": {},
   "outputs": [],
   "source": [
    "# Question 2(c)\n",
    "\n",
    "# -----------------------------------------------------\n",
    "\n",
    "# If true value of point is in class 0:\n",
    "\n",
    "# i runs in for loop from 0 through 19\n",
    "# x = [1,class0_points[0][i],class0_points[1][i]]\n",
    "\n",
    "# theta[0] = theta[0] - 0.01*(prediction(theta,x))\n",
    "# theta[1] = theta[1] - 0.01*(prediction(theta,x))*x[1]\n",
    "# theta[2] = theta[2] - 0.01*(prediction(theta,x))*x[2]\n",
    "\n",
    "# -----------------------------------------------------\n",
    "\n",
    "# If true value of point is in class 1:\n",
    "\n",
    "# i runs in for loop from 0 through 19\n",
    "# x = [1,class1_points[1][i],class1_points[1][i]]\n",
    "\n",
    "# theta[0] = theta[0] - 0.01*(prediction(theta,x) - 1)\n",
    "# theta[1] = theta[1] - 0.01*(prediction(theta,x) - 1)*x[1]\n",
    "# theta[2] = theta[2] - 0.01*(prediction(theta,x) - 1)*x[2]\n",
    "\n",
    "# -----------------------------------------------------\n"
   ]
  },
  {
   "cell_type": "code",
   "execution_count": 457,
   "metadata": {},
   "outputs": [
    {
     "name": "stdout",
     "output_type": "stream",
     "text": [
      "Question 2(d)\n",
      "============= \n",
      "\n",
      "Theta at start:\n",
      "[-0.05, 0.03, 0.4] \n",
      "\n",
      "Theta after class 0 update:\n",
      "[-0.05529964051764572, 0.035286436933068197, 0.3973633688751857] \n",
      "\n",
      "Theta after class 1 update:\n",
      "[-0.0593303731023967, 0.028450671937220867, 0.4013565008660544]\n"
     ]
    }
   ],
   "source": [
    "# Question 2(d) - PRINT\n",
    "quesPrint(\"2(d)\")\n",
    "\n",
    "# Confirming Calculations Done By Hand\n",
    "\n",
    "xStart0 = [1, -1.0, 0.5]\n",
    "\n",
    "xStart1 = [1, 1.7, -1.0]\n",
    "\n",
    "thetaStart = [-0.05, 0.03, 0.4]\n",
    "\n",
    "print(\"Theta at start:\")\n",
    "print(thetaStart,'\\n')\n",
    "\n",
    "thetaStart[0] = thetaStart[0] - 0.01*(prediction(thetaStart,xStart0))\n",
    "thetaStart[1] = thetaStart[1] - 0.01*(prediction(thetaStart,xStart0))*xStart0[1]\n",
    "thetaStart[2] = thetaStart[2] - 0.01*(prediction(thetaStart,xStart0))*xStart0[2]\n",
    "\n",
    "print(\"Theta after class 0 update:\")\n",
    "print(thetaStart,'\\n')\n",
    "\n",
    "\n",
    "thetaStart[0] = thetaStart[0] - 0.01*(prediction(thetaStart,xStart1))\n",
    "thetaStart[1] = thetaStart[1] - 0.01*(prediction(thetaStart,xStart1))*xStart1[1]\n",
    "thetaStart[2] = thetaStart[2] - 0.01*(prediction(thetaStart,xStart1))*xStart1[2]\n",
    "\n",
    "print(\"Theta after class 1 update:\")\n",
    "print(thetaStart)\n",
    "\n",
    "\n",
    "# -----------------------------------------------------\n",
    "#TODO: Do this by hand and put it here - use normal calculator"
   ]
  },
  {
   "cell_type": "code",
   "execution_count": 458,
   "metadata": {},
   "outputs": [],
   "source": [
    "# Question 2(e)\n",
    "\n",
    "def trainOnce(class0, class1, theta, aVal):\n",
    "    amountDataPoints = len(class0[0])\n",
    "\n",
    "    for i in range(amountDataPoints):\n",
    "        #Train Class 0\n",
    "        x = [1,class0[0][i],class0[1][i]]\n",
    "        theta[0] = theta[0] - aVal*(prediction(theta,x))\n",
    "        theta[1] = theta[1] - aVal*(prediction(theta,x))*x[1]\n",
    "        theta[2] = theta[2] - aVal*(prediction(theta,x))*x[2]\n",
    "        #Train Class 1\n",
    "        x = [1,class1[0][i],class1[1][i]]\n",
    "        theta[0] = theta[0] - aVal*(prediction(theta,x) - 1)\n",
    "        theta[1] = theta[1] - aVal*(prediction(theta,x) - 1)*x[1]\n",
    "        theta[2] = theta[2] - aVal*(prediction(theta,x) - 1 )*x[2]\n",
    "\n",
    "    return theta\n",
    "\n",
    "theta = trainOnce(class0_points, class1_points, theta, 0.01)"
   ]
  },
  {
   "cell_type": "code",
   "execution_count": 459,
   "metadata": {},
   "outputs": [
    {
     "name": "stdout",
     "output_type": "stream",
     "text": [
      "Question 2(e)\n",
      "============= \n",
      "\n"
     ]
    },
    {
     "data": {
      "image/png": "[encoded data removed]",
      "text/plain": [
       "<Figure size 432x288 with 1 Axes>"
      ]
     },
     "metadata": {
      "needs_background": "light"
     },
     "output_type": "display_data"
    },
    {
     "name": "stdout",
     "output_type": "stream",
     "text": [
      "\n",
      "Confusion Matrix\n",
      "====================\n",
      "Class\t0\t1\n",
      "0\t13\t7\n",
      "1\t11\t9\n",
      "\n",
      "Accuracy is 0.55\n",
      "====================\n",
      "\n",
      "\n",
      "Log Likelihood Error is 31.442127123529307\n"
     ]
    }
   ],
   "source": [
    "#Confusion Matrix & Log-Likelihood\n",
    "\n",
    "correct0, correc1, logLikelihood = getConfusionDataAndLogLikelihood(class0_points, class1_points, theta)\n",
    "\n",
    "#Graph Plot\n",
    "x = np.linspace(-6,6,100)\n",
    "y = -theta[1]/theta[2]*x - theta[0]/theta[2] #Initialising decision boundary\n",
    "\n",
    "\n",
    "# Question 2(e) - PRINT\n",
    "quesPrint(\"2(e)\")\n",
    "\n",
    "plt.plot(x, y)\n",
    "plotScatter(class0_points, class1_points)\n",
    "print(\"\")\n",
    "\n",
    "printConfusionMatrix(correct0, correct1, 20)\n",
    "print(\"\")\n",
    "\n",
    "printLogLikelihood(logLikelihood)"
   ]
  },
  {
   "cell_type": "code",
   "execution_count": 460,
   "metadata": {},
   "outputs": [
    {
     "name": "stdout",
     "output_type": "stream",
     "text": [
      "Iterations: 1\n"
     ]
    }
   ],
   "source": [
    "# Question 2(f)\n",
    "\n",
    "def norm2(new, old):\n",
    "    finish = [0,0,0]\n",
    "    \n",
    "    for i in range(3):\n",
    "        finish[i] = abs(new[i] - old[i])\n",
    "    \n",
    "    return np.linalg.norm(finish,2)\n",
    "\n",
    "def trainFully(class0, class1, theta, aVal, thresVal, maxIterations):\n",
    "    amountDataPoints = len(class0[0])\n",
    "    \n",
    "    count = 0\n",
    "    newtheta = [0,0,0]\n",
    "\n",
    "    while (count < maxIterations):\n",
    "        for i in range(amountDataPoints):\n",
    "            #Train for class 0\n",
    "            newtheta = [theta[0],theta[1],theta[2]] #Set up newTheta\n",
    "\n",
    "            x = [1,class0[0][i],class0[1][i]] #Get x values for i position for class 0\n",
    "\n",
    "            newtheta[0] = newtheta[0] - aVal*(prediction(newtheta,x) - 0) # Gradient Descent\n",
    "            newtheta[1] = newtheta[1] - aVal*(prediction(newtheta,x)- 0 )*x[1]\n",
    "            newtheta[2] = newtheta[2] - aVal*(prediction(newtheta,x) - 0)*x[2]\n",
    "\n",
    "\n",
    "            con = norm2(newtheta, theta) #Getting Norm2\n",
    "\n",
    "            theta = [newtheta[0],newtheta[1],newtheta[2]] #Updating old theta to new theta\n",
    "\n",
    "            count += 1 #Keeping track of iterations\n",
    "\n",
    "            if(con < thresVal):\n",
    "                print(\"Iterations:\",count)\n",
    "                return theta\n",
    "\n",
    "            #Train for class 1\n",
    "            x = [1,class1[0][i],class1[1][i]] #Get x values for i position for class 1\n",
    "\n",
    "            newtheta[0] = newtheta[0] - aVal*(prediction(newtheta,x) - 1) # Gradient Descent\n",
    "            newtheta[1] = newtheta[1] - aVal*(prediction(newtheta,x) - 1)*x[1]\n",
    "            newtheta[2] = newtheta[2] - aVal*(prediction(newtheta,x) - 1)*x[2]\n",
    "\n",
    "            con = norm2(newtheta, theta) #Getting Norm2\n",
    "\n",
    "            theta = [newtheta[0],newtheta[1],newtheta[2]] #Updating old theta to new theta\n",
    "\n",
    "            count += 1 #Keeping track of iterations\n",
    "\n",
    "            if(con < thresVal):\n",
    "                print(\"Iterations:\",count)\n",
    "                return theta\n",
    "\n",
    "\n",
    "    print(\"Iterations:\",count)\n",
    "    return theta\n",
    "\n",
    "\n",
    "theta = trainFully(class0_points, class1_points, theta, 0.01, 0.05, 1000)"
   ]
  },
  {
   "cell_type": "code",
   "execution_count": 461,
   "metadata": {
    "scrolled": true
   },
   "outputs": [
    {
     "name": "stdout",
     "output_type": "stream",
     "text": [
      "Question 2(f)\n",
      "============= \n",
      "\n"
     ]
    },
    {
     "data": {
      "image/png": "[encoded data removed]",
      "text/plain": [
       "<Figure size 432x288 with 1 Axes>"
      ]
     },
     "metadata": {
      "needs_background": "light"
     },
     "output_type": "display_data"
    },
    {
     "name": "stdout",
     "output_type": "stream",
     "text": [
      "\n",
      "Confusion Matrix\n",
      "====================\n",
      "Class\t0\t1\n",
      "0\t13\t7\n",
      "1\t4\t16\n",
      "\n",
      "Accuracy is 0.725\n",
      "====================\n",
      "\n",
      "\n",
      "Log Likelihood Error is 31.388257492393134\n"
     ]
    }
   ],
   "source": [
    "#Confusion Matrix & Log-Likelihood\n",
    "\n",
    "correct0, correct1, logLikelihood = getConfusionDataAndLogLikelihood(class0_points, class1_points, theta)\n",
    "\n",
    "#Graph Plot \n",
    "x = np.linspace(-6,6,100)\n",
    "y = -theta[1]/theta[2]*x - theta[0]/theta[2] #Initialising first iteration decision boundary\n",
    "\n",
    "# Question 2(f) - PRINT\n",
    "quesPrint(\"2(f)\")\n",
    "\n",
    "plt.plot(x, y)\n",
    "plotScatter(class0_points, class1_points)\n",
    "print(\"\")\n",
    "\n",
    "printConfusionMatrix(correct0, correct1, 20)\n",
    "print(\"\")\n",
    "\n",
    "printLogLikelihood(logLikelihood)"
   ]
  },
  {
   "cell_type": "code",
   "execution_count": 462,
   "metadata": {},
   "outputs": [
    {
     "name": "stdout",
     "output_type": "stream",
     "text": [
      "Question 2(g)\n",
      "============= \n",
      "\n",
      "Class 0\n",
      "=======\n",
      "Validation x1 values:\n",
      "\n",
      "[-1.75486556 -2.25702545  0.36517596  1.48227617 -1.9615894  -3.04694915\n",
      " -2.04323182 -0.11127124  0.09322112 -2.43501763  0.83302274 -0.60773475\n",
      " -0.40540996 -1.09377112 -0.94754104 -0.85834005 -1.05417191 -1.32057024\n",
      " -2.80651376 -2.15176397]\n",
      "\n",
      "Validation x2 values:\n",
      "\n",
      "[ 1.42043933  1.86158361  0.34396943 -0.08761563  2.63178512  0.32674193\n",
      "  0.09022183  2.43004401  0.34214301  1.32723089  2.27444482  0.27576476\n",
      "  0.02138638  0.24797987  0.71576583 -0.44413382  3.30412055  0.57879669\n",
      "  0.24864908  0.39719152]\n",
      "\n",
      "Class 1\n",
      "=======\n",
      "Validation x1 values:\n",
      "\n",
      "[ 1.56964137 -0.23602001  1.40834216  1.2149825   1.21992038 -0.51664099\n",
      "  0.15931324  1.60451966  0.0232025   0.91389605  1.25243717  1.47797762\n",
      "  2.15852929 -0.43922576  1.51946355  1.04955039  0.99280911  1.80620023\n",
      "  0.16001333 -0.02462194]\n",
      "\n",
      "Validation x2 values:\n",
      "\n",
      "[-1.31228807 -0.43589916 -0.9687083   0.35419994 -0.81079417 -3.13765655\n",
      " -1.00223584 -0.57102401 -0.19447568 -0.98680851 -0.04893535 -0.72683182\n",
      " -1.14427752 -1.78491154  0.48649995 -0.37100171 -1.46102317 -0.25504642\n",
      " -0.72780492 -0.70322342]\n"
     ]
    }
   ],
   "source": [
    "# Question 2(g)\n",
    "\n",
    "valid0_points, valid1_points = generateData(1,20)\n",
    "\n",
    "# Question 2(g) - PRINT\n",
    "quesPrint(\"2(g)\")\n",
    "print2Class(valid0_points, valid1_points, \"Validation\")"
   ]
  },
  {
   "cell_type": "code",
   "execution_count": 463,
   "metadata": {},
   "outputs": [],
   "source": [
    "def trainFullyWIterations(class0, class1, theta, aVal, thresVal, maxIterations):\n",
    "    amountDataPoints = len(class0[0])\n",
    "    \n",
    "    count = 0\n",
    "    newtheta = [0,0,0]\n",
    "\n",
    "    while (count < maxIterations):\n",
    "        for i in range(amountDataPoints):\n",
    "            #Train for class 0\n",
    "            newtheta = [theta[0],theta[1],theta[2]] #Set up newTheta\n",
    "\n",
    "            x = [1,class0[0][i],class0[1][i]] #Get x values for i position for class 0\n",
    "\n",
    "            newtheta[0] = newtheta[0] - aVal*(prediction(newtheta,x) - 0) # Gradient Descent\n",
    "            newtheta[1] = newtheta[1] - aVal*(prediction(newtheta,x)- 0 )*x[1]\n",
    "            newtheta[2] = newtheta[2] - aVal*(prediction(newtheta,x) - 0)*x[2]\n",
    "\n",
    "\n",
    "            con = norm2(newtheta, theta) #Getting Norm2\n",
    "\n",
    "            theta = [newtheta[0],newtheta[1],newtheta[2]] #Updating old theta to new theta\n",
    "\n",
    "            count += 1 #Keeping track of iterations\n",
    "\n",
    "            if(con < thresVal):\n",
    "                print(\"Iterations:\",count)\n",
    "                return theta,count\n",
    "\n",
    "            #Train for class 1\n",
    "            x = [1,class1[0][i],class1[1][i]] #Get x values for i position for class 1\n",
    "\n",
    "            newtheta[0] = newtheta[0] - aVal*(prediction(newtheta,x) - 1) # Gradient Descent\n",
    "            newtheta[1] = newtheta[1] - aVal*(prediction(newtheta,x) - 1)*x[1]\n",
    "            newtheta[2] = newtheta[2] - aVal*(prediction(newtheta,x) - 1)*x[2]\n",
    "\n",
    "            con = norm2(newtheta, theta) #Getting Norm2\n",
    "\n",
    "            theta = [newtheta[0],newtheta[1],newtheta[2]] #Updating old theta to new theta\n",
    "\n",
    "            count += 1 #Keeping track of iterations\n",
    "\n",
    "            if(con < thresVal):\n",
    "                print(\"Iterations:\",count)\n",
    "                return theta, count\n",
    "\n",
    "\n",
    "    print(\"Iterations:\",count)\n",
    "    return theta,count"
   ]
  },
  {
   "cell_type": "code",
   "execution_count": 464,
   "metadata": {
    "scrolled": false
   },
   "outputs": [
    {
     "name": "stdout",
     "output_type": "stream",
     "text": [
      "Question 2(h)\n",
      "============= \n",
      "\n",
      "a is: 0.1\n",
      "thres is: 0.5\n",
      "Iterations: 1\n"
     ]
    },
    {
     "data": {
      "image/png": "[encoded data removed]",
      "text/plain": [
       "<Figure size 432x288 with 1 Axes>"
      ]
     },
     "metadata": {
      "needs_background": "light"
     },
     "output_type": "display_data"
    },
    {
     "name": "stdout",
     "output_type": "stream",
     "text": [
      "\n",
      "Confusion Matrix\n",
      "====================\n",
      "Class\t0\t1\n",
      "0\t5\t15\n",
      "1\t11\t9\n",
      "\n",
      "Accuracy is 0.35\n",
      "====================\n",
      "\n",
      "\n",
      "Log Likelihood Error is 33.744579631900095\n",
      "\n",
      "==========================\n",
      "a is: 0.1\n",
      "thres is: 0.05\n",
      "Iterations: 4\n"
     ]
    },
    {
     "data": {
      "image/png": "[encoded data removed]",
      "text/plain": [
       "<Figure size 432x288 with 1 Axes>"
      ]
     },
     "metadata": {
      "needs_background": "light"
     },
     "output_type": "display_data"
    },
    {
     "name": "stdout",
     "output_type": "stream",
     "text": [
      "\n",
      "Confusion Matrix\n",
      "====================\n",
      "Class\t0\t1\n",
      "0\t6\t14\n",
      "1\t2\t18\n",
      "\n",
      "Accuracy is 0.6\n",
      "====================\n",
      "\n",
      "\n",
      "Log Likelihood Error is 33.852081736632854\n",
      "\n",
      "==========================\n",
      "a is: 0.1\n",
      "thres is: 0.005\n",
      "Iterations: 61\n"
     ]
    },
    {
     "data": {
      "image/png": "[encoded data removed]",
      "text/plain": [
       "<Figure size 432x288 with 1 Axes>"
      ]
     },
     "metadata": {
      "needs_background": "light"
     },
     "output_type": "display_data"
    },
    {
     "name": "stdout",
     "output_type": "stream",
     "text": [
      "\n",
      "Confusion Matrix\n",
      "====================\n",
      "Class\t0\t1\n",
      "0\t19\t1\n",
      "1\t0\t20\n",
      "\n",
      "Accuracy is 0.975\n",
      "====================\n",
      "\n",
      "\n",
      "Log Likelihood Error is 45.07210303700354\n",
      "\n",
      "==========================\n",
      "a is: 0.1\n",
      "thres is: 0.0005\n",
      "Iterations: 221\n"
     ]
    },
    {
     "data": {
      "image/png": "[encoded data removed]",
      "text/plain": [
       "<Figure size 432x288 with 1 Axes>"
      ]
     },
     "metadata": {
      "needs_background": "light"
     },
     "output_type": "display_data"
    },
    {
     "name": "stdout",
     "output_type": "stream",
     "text": [
      "\n",
      "Confusion Matrix\n",
      "====================\n",
      "Class\t0\t1\n",
      "0\t19\t1\n",
      "1\t0\t20\n",
      "\n",
      "Accuracy is 0.975\n",
      "====================\n",
      "\n",
      "\n",
      "Log Likelihood Error is 55.823341262797655\n",
      "\n",
      "==========================\n",
      "a is: 0.1\n",
      "thres is: 5e-05\n",
      "Iterations: 621\n"
     ]
    },
    {
     "data": {
      "image/png": "[encoded data removed]",
      "text/plain": [
       "<Figure size 432x288 with 1 Axes>"
      ]
     },
     "metadata": {
      "needs_background": "light"
     },
     "output_type": "display_data"
    },
    {
     "name": "stdout",
     "output_type": "stream",
     "text": [
      "\n",
      "Confusion Matrix\n",
      "====================\n",
      "Class\t0\t1\n",
      "0\t19\t1\n",
      "1\t2\t18\n",
      "\n",
      "Accuracy is 0.925\n",
      "====================\n",
      "\n",
      "\n",
      "Log Likelihood Error is 62.53909876434423\n",
      "\n",
      "==========================\n",
      "a is: 0.01\n",
      "thres is: 0.5\n",
      "Iterations: 1\n"
     ]
    },
    {
     "data": {
      "image/png": "[encoded data removed]",
      "text/plain": [
       "<Figure size 432x288 with 1 Axes>"
      ]
     },
     "metadata": {
      "needs_background": "light"
     },
     "output_type": "display_data"
    },
    {
     "name": "stdout",
     "output_type": "stream",
     "text": [
      "\n",
      "Confusion Matrix\n",
      "====================\n",
      "Class\t0\t1\n",
      "0\t3\t17\n",
      "1\t11\t9\n",
      "\n",
      "Accuracy is 0.3\n",
      "====================\n",
      "\n",
      "\n",
      "Log Likelihood Error is 35.4136872946886\n",
      "\n",
      "==========================\n",
      "a is: 0.01\n",
      "thres is: 0.05\n",
      "Iterations: 1\n"
     ]
    },
    {
     "data": {
      "image/png": "[encoded data removed]",
      "text/plain": [
       "<Figure size 432x288 with 1 Axes>"
      ]
     },
     "metadata": {
      "needs_background": "light"
     },
     "output_type": "display_data"
    },
    {
     "name": "stdout",
     "output_type": "stream",
     "text": [
      "\n",
      "Confusion Matrix\n",
      "====================\n",
      "Class\t0\t1\n",
      "0\t3\t17\n",
      "1\t11\t9\n",
      "\n",
      "Accuracy is 0.3\n",
      "====================\n",
      "\n",
      "\n",
      "Log Likelihood Error is 35.4136872946886\n",
      "\n",
      "==========================\n",
      "a is: 0.01\n",
      "thres is: 0.005\n",
      "Iterations: 28\n"
     ]
    },
    {
     "data": {
      "image/png": "[encoded data removed]",
      "text/plain": [
       "<Figure size 432x288 with 1 Axes>"
      ]
     },
     "metadata": {
      "needs_background": "light"
     },
     "output_type": "display_data"
    },
    {
     "name": "stdout",
     "output_type": "stream",
     "text": [
      "\n",
      "Confusion Matrix\n",
      "====================\n",
      "Class\t0\t1\n",
      "0\t5\t15\n",
      "1\t4\t16\n",
      "\n",
      "Accuracy is 0.525\n",
      "====================\n",
      "\n",
      "\n",
      "Log Likelihood Error is 33.941533309197624\n",
      "\n",
      "==========================\n",
      "a is: 0.01\n",
      "thres is: 0.0005\n",
      "Iterations: 581\n"
     ]
    },
    {
     "data": {
      "image/png": "[encoded data removed]",
      "text/plain": [
       "<Figure size 432x288 with 1 Axes>"
      ]
     },
     "metadata": {
      "needs_background": "light"
     },
     "output_type": "display_data"
    },
    {
     "name": "stdout",
     "output_type": "stream",
     "text": [
      "\n",
      "Confusion Matrix\n",
      "====================\n",
      "Class\t0\t1\n",
      "0\t18\t2\n",
      "1\t0\t20\n",
      "\n",
      "Accuracy is 0.95\n",
      "====================\n",
      "\n",
      "\n",
      "Log Likelihood Error is 44.764890745737176\n",
      "\n",
      "==========================\n",
      "a is: 0.01\n",
      "thres is: 5e-05\n",
      "Iterations: 1000\n"
     ]
    },
    {
     "data": {
      "image/png": "[encoded data removed]",
      "text/plain": [
       "<Figure size 432x288 with 1 Axes>"
      ]
     },
     "metadata": {
      "needs_background": "light"
     },
     "output_type": "display_data"
    },
    {
     "name": "stdout",
     "output_type": "stream",
     "text": [
      "\n",
      "Confusion Matrix\n",
      "====================\n",
      "Class\t0\t1\n",
      "0\t19\t1\n",
      "1\t0\t20\n",
      "\n",
      "Accuracy is 0.975\n",
      "====================\n",
      "\n",
      "\n",
      "Log Likelihood Error is 49.59297027372418\n",
      "\n",
      "==========================\n",
      "a is: 0.001\n",
      "thres is: 0.5\n",
      "Iterations: 1\n"
     ]
    },
    {
     "data": {
      "image/png": "[encoded data removed]",
      "text/plain": [
       "<Figure size 432x288 with 1 Axes>"
      ]
     },
     "metadata": {
      "needs_background": "light"
     },
     "output_type": "display_data"
    },
    {
     "name": "stdout",
     "output_type": "stream",
     "text": [
      "\n",
      "Confusion Matrix\n",
      "====================\n",
      "Class\t0\t1\n",
      "0\t3\t17\n",
      "1\t11\t9\n",
      "\n",
      "Accuracy is 0.3\n",
      "====================\n",
      "\n",
      "\n",
      "Log Likelihood Error is 35.59730329475231\n",
      "\n",
      "==========================\n",
      "a is: 0.001\n",
      "thres is: 0.05\n",
      "Iterations: 1\n"
     ]
    },
    {
     "data": {
      "image/png": "[encoded data removed]",
      "text/plain": [
       "<Figure size 432x288 with 1 Axes>"
      ]
     },
     "metadata": {
      "needs_background": "light"
     },
     "output_type": "display_data"
    },
    {
     "name": "stdout",
     "output_type": "stream",
     "text": [
      "\n",
      "Confusion Matrix\n",
      "====================\n",
      "Class\t0\t1\n",
      "0\t3\t17\n",
      "1\t11\t9\n",
      "\n",
      "Accuracy is 0.3\n",
      "====================\n",
      "\n",
      "\n",
      "Log Likelihood Error is 35.59730329475231\n",
      "\n",
      "==========================\n",
      "a is: 0.001\n",
      "thres is: 0.005\n",
      "Iterations: 1\n"
     ]
    },
    {
     "data": {
      "image/png": "[encoded data removed]",
      "text/plain": [
       "<Figure size 432x288 with 1 Axes>"
      ]
     },
     "metadata": {
      "needs_background": "light"
     },
     "output_type": "display_data"
    },
    {
     "name": "stdout",
     "output_type": "stream",
     "text": [
      "\n",
      "Confusion Matrix\n",
      "====================\n",
      "Class\t0\t1\n",
      "0\t3\t17\n",
      "1\t11\t9\n",
      "\n",
      "Accuracy is 0.3\n",
      "====================\n",
      "\n",
      "\n",
      "Log Likelihood Error is 35.59730329475231\n",
      "\n",
      "==========================\n",
      "a is: 0.001\n",
      "thres is: 0.0005\n",
      "Iterations: 28\n"
     ]
    },
    {
     "data": {
      "image/png": "[encoded data removed]",
      "text/plain": [
       "<Figure size 432x288 with 1 Axes>"
      ]
     },
     "metadata": {
      "needs_background": "light"
     },
     "output_type": "display_data"
    },
    {
     "name": "stdout",
     "output_type": "stream",
     "text": [
      "\n",
      "Confusion Matrix\n",
      "====================\n",
      "Class\t0\t1\n",
      "0\t3\t17\n",
      "1\t11\t9\n",
      "\n",
      "Accuracy is 0.3\n",
      "====================\n",
      "\n",
      "\n",
      "Log Likelihood Error is 35.3667788901337\n",
      "\n",
      "==========================\n",
      "a is: 0.001\n",
      "thres is: 5e-05\n",
      "Iterations: 1000\n"
     ]
    },
    {
     "data": {
      "image/png": "[encoded data removed]",
      "text/plain": [
       "<Figure size 432x288 with 1 Axes>"
      ]
     },
     "metadata": {
      "needs_background": "light"
     },
     "output_type": "display_data"
    },
    {
     "name": "stdout",
     "output_type": "stream",
     "text": [
      "\n",
      "Confusion Matrix\n",
      "====================\n",
      "Class\t0\t1\n",
      "0\t13\t7\n",
      "1\t0\t20\n",
      "\n",
      "Accuracy is 0.825\n",
      "====================\n",
      "\n",
      "\n",
      "Log Likelihood Error is 33.996915604695545\n",
      "\n",
      "==========================\n",
      "a is: 0.0001\n",
      "thres is: 0.5\n",
      "Iterations: 1\n"
     ]
    },
    {
     "data": {
      "image/png": "[encoded data removed]",
      "text/plain": [
       "<Figure size 432x288 with 1 Axes>"
      ]
     },
     "metadata": {
      "needs_background": "light"
     },
     "output_type": "display_data"
    },
    {
     "name": "stdout",
     "output_type": "stream",
     "text": [
      "\n",
      "Confusion Matrix\n",
      "====================\n",
      "Class\t0\t1\n",
      "0\t3\t17\n",
      "1\t11\t9\n",
      "\n",
      "Accuracy is 0.3\n",
      "====================\n",
      "\n",
      "\n",
      "Log Likelihood Error is 35.61583990631355\n",
      "\n",
      "==========================\n",
      "a is: 0.0001\n",
      "thres is: 0.05\n",
      "Iterations: 1\n"
     ]
    },
    {
     "data": {
      "image/png": "[encoded data removed]",
      "text/plain": [
       "<Figure size 432x288 with 1 Axes>"
      ]
     },
     "metadata": {
      "needs_background": "light"
     },
     "output_type": "display_data"
    },
    {
     "name": "stdout",
     "output_type": "stream",
     "text": [
      "\n",
      "Confusion Matrix\n",
      "====================\n",
      "Class\t0\t1\n",
      "0\t3\t17\n",
      "1\t11\t9\n",
      "\n",
      "Accuracy is 0.3\n",
      "====================\n",
      "\n",
      "\n",
      "Log Likelihood Error is 35.61583990631355\n",
      "\n",
      "==========================\n",
      "a is: 0.0001\n",
      "thres is: 0.005\n",
      "Iterations: 1\n"
     ]
    },
    {
     "data": {
      "image/png": "[encoded data removed]",
      "text/plain": [
       "<Figure size 432x288 with 1 Axes>"
      ]
     },
     "metadata": {
      "needs_background": "light"
     },
     "output_type": "display_data"
    },
    {
     "name": "stdout",
     "output_type": "stream",
     "text": [
      "\n",
      "Confusion Matrix\n",
      "====================\n",
      "Class\t0\t1\n",
      "0\t3\t17\n",
      "1\t11\t9\n",
      "\n",
      "Accuracy is 0.3\n",
      "====================\n",
      "\n",
      "\n",
      "Log Likelihood Error is 35.61583990631355\n",
      "\n",
      "==========================\n",
      "a is: 0.0001\n",
      "thres is: 0.0005\n",
      "Iterations: 1\n"
     ]
    },
    {
     "data": {
      "image/png": "[encoded data removed]",
      "text/plain": [
       "<Figure size 432x288 with 1 Axes>"
      ]
     },
     "metadata": {
      "needs_background": "light"
     },
     "output_type": "display_data"
    },
    {
     "name": "stdout",
     "output_type": "stream",
     "text": [
      "\n",
      "Confusion Matrix\n",
      "====================\n",
      "Class\t0\t1\n",
      "0\t3\t17\n",
      "1\t11\t9\n",
      "\n",
      "Accuracy is 0.3\n",
      "====================\n",
      "\n",
      "\n",
      "Log Likelihood Error is 35.61583990631355\n",
      "\n",
      "==========================\n",
      "a is: 0.0001\n",
      "thres is: 5e-05\n",
      "Iterations: 28\n"
     ]
    },
    {
     "data": {
      "image/png": "[encoded data removed]",
      "text/plain": [
       "<Figure size 432x288 with 1 Axes>"
      ]
     },
     "metadata": {
      "needs_background": "light"
     },
     "output_type": "display_data"
    },
    {
     "name": "stdout",
     "output_type": "stream",
     "text": [
      "\n",
      "Confusion Matrix\n",
      "====================\n",
      "Class\t0\t1\n",
      "0\t3\t17\n",
      "1\t11\t9\n",
      "\n",
      "Accuracy is 0.3\n",
      "====================\n",
      "\n",
      "\n",
      "Log Likelihood Error is 35.59183585003475\n",
      "\n",
      "==========================\n",
      "a is: 1e-05\n",
      "thres is: 0.5\n",
      "Iterations: 1\n"
     ]
    },
    {
     "data": {
      "image/png": "[encoded data removed]",
      "text/plain": [
       "<Figure size 432x288 with 1 Axes>"
      ]
     },
     "metadata": {
      "needs_background": "light"
     },
     "output_type": "display_data"
    },
    {
     "name": "stdout",
     "output_type": "stream",
     "text": [
      "\n",
      "Confusion Matrix\n",
      "====================\n",
      "Class\t0\t1\n",
      "0\t3\t17\n",
      "1\t11\t9\n",
      "\n",
      "Accuracy is 0.3\n",
      "====================\n",
      "\n",
      "\n",
      "Log Likelihood Error is 35.61769532495683\n",
      "\n",
      "==========================\n",
      "a is: 1e-05\n",
      "thres is: 0.05\n",
      "Iterations: 1\n"
     ]
    },
    {
     "data": {
      "image/png": "[encoded data removed]",
      "text/plain": [
       "<Figure size 432x288 with 1 Axes>"
      ]
     },
     "metadata": {
      "needs_background": "light"
     },
     "output_type": "display_data"
    },
    {
     "name": "stdout",
     "output_type": "stream",
     "text": [
      "\n",
      "Confusion Matrix\n",
      "====================\n",
      "Class\t0\t1\n",
      "0\t3\t17\n",
      "1\t11\t9\n",
      "\n",
      "Accuracy is 0.3\n",
      "====================\n",
      "\n",
      "\n",
      "Log Likelihood Error is 35.61769532495683\n",
      "\n",
      "==========================\n",
      "a is: 1e-05\n",
      "thres is: 0.005\n",
      "Iterations: 1\n"
     ]
    },
    {
     "data": {
      "image/png": "[encoded data removed]",
      "text/plain": [
       "<Figure size 432x288 with 1 Axes>"
      ]
     },
     "metadata": {
      "needs_background": "light"
     },
     "output_type": "display_data"
    },
    {
     "name": "stdout",
     "output_type": "stream",
     "text": [
      "\n",
      "Confusion Matrix\n",
      "====================\n",
      "Class\t0\t1\n",
      "0\t3\t17\n",
      "1\t11\t9\n",
      "\n",
      "Accuracy is 0.3\n",
      "====================\n",
      "\n",
      "\n",
      "Log Likelihood Error is 35.61769532495683\n",
      "\n",
      "==========================\n",
      "a is: 1e-05\n",
      "thres is: 0.0005\n",
      "Iterations: 1\n"
     ]
    },
    {
     "data": {
      "image/png": "[encoded data removed]",
      "text/plain": [
       "<Figure size 432x288 with 1 Axes>"
      ]
     },
     "metadata": {
      "needs_background": "light"
     },
     "output_type": "display_data"
    },
    {
     "name": "stdout",
     "output_type": "stream",
     "text": [
      "\n",
      "Confusion Matrix\n",
      "====================\n",
      "Class\t0\t1\n",
      "0\t3\t17\n",
      "1\t11\t9\n",
      "\n",
      "Accuracy is 0.3\n",
      "====================\n",
      "\n",
      "\n",
      "Log Likelihood Error is 35.61769532495683\n",
      "\n",
      "==========================\n",
      "a is: 1e-05\n",
      "thres is: 5e-05\n",
      "Iterations: 1\n"
     ]
    },
    {
     "data": {
      "image/png": "[encoded data removed]",
      "text/plain": [
       "<Figure size 432x288 with 1 Axes>"
      ]
     },
     "metadata": {
      "needs_background": "light"
     },
     "output_type": "display_data"
    },
    {
     "name": "stdout",
     "output_type": "stream",
     "text": [
      "\n",
      "Confusion Matrix\n",
      "====================\n",
      "Class\t0\t1\n",
      "0\t3\t17\n",
      "1\t11\t9\n",
      "\n",
      "Accuracy is 0.3\n",
      "====================\n",
      "\n",
      "\n",
      "Log Likelihood Error is 35.61769532495683\n",
      "\n",
      "==========================\n"
     ]
    }
   ],
   "source": [
    "# Question 2(h)\n",
    "aValues = [0.1,0.01,0.001,0.0001,0.00001]\n",
    "thresholdValues = [0.5,0.05,0.005,0.0005,0.00005]\n",
    "maxIterations = 1000\n",
    "\n",
    "\n",
    "def trainAndValidate(origTheta, class0, class1,valid0, valid1, aVal, threshVal, maxIterations):\n",
    "    \n",
    "    theta, iterations = trainFullyWIterations(class0, class1, origTheta, aVal, threshVal, maxIterations)\n",
    "    \n",
    "    #Graph Plot\n",
    "\n",
    "    x = np.linspace(-6,6,100)\n",
    "    y = -theta[1]/theta[2]*x - theta[0]/theta[2] #Initialising decision boundary\n",
    "    \n",
    "    plt.plot(x, y)\n",
    "    plotScatter(valid0,valid1)\n",
    "    print(\"\")\n",
    "    \n",
    "    #Validation Error\n",
    "    correct0, correct1, logLikelihood = getConfusionDataAndLogLikelihood(valid0, valid1, theta)\n",
    "\n",
    "    printConfusionMatrix(correct0, correct1, 20)\n",
    "    print(\"\")\n",
    "\n",
    "    printLogLikelihood(logLikelihood)\n",
    "    \n",
    "    print(\"\\n==========================\")    \n",
    "    \n",
    "    return (correct0 + correct1)/40, iterations\n",
    "    \n",
    "    \n",
    "maxAcc = 0\n",
    "optimalA = 0\n",
    "optimalThresh = 0\n",
    "currIterations = 0\n",
    "\n",
    "# Question 2(h) - PRINT\n",
    "quesPrint(\"2(h)\")\n",
    "for aVal in aValues:\n",
    "    for threshVal in thresholdValues:\n",
    "        print(\"a is:\",aVal)\n",
    "        print(\"thres is:\",threshVal)\n",
    "        currAcc, iterations = trainAndValidate(origTheta, class0_points, class1_points,valid0_points, valid1_points, aVal, threshVal, maxIterations)\n",
    "        \n",
    "        if (currAcc > maxAcc):\n",
    "            if (currAcc == maxAcc):\n",
    "                if (iterations != maxIterations):\n",
    "                    currIterations = iterations\n",
    "            else:\n",
    "                maxAcc = currAcc\n",
    "                optimalA = aVal\n",
    "                optimalThresh = threshVal\n",
    "                currIterations = iterations"
   ]
  },
  {
   "cell_type": "code",
   "execution_count": 465,
   "metadata": {},
   "outputs": [
    {
     "name": "stdout",
     "output_type": "stream",
     "text": [
      "Class 0\n",
      "=======\n",
      "Testing x1 values:\n",
      "\n",
      "[-0.88434333  0.18785496 -2.33219903 -1.53549308  0.29031794 -0.69721071\n",
      " -1.92397465 -1.63837675 -0.14189426 -2.25611521 -1.56358917 -1.55748582\n",
      "  0.31796048 -1.83910378 -0.89169081 -1.48676977 -0.3444962  -0.49186021\n",
      "  0.60385646 -2.61186666]\n",
      "\n",
      "Testing x2 values:\n",
      "\n",
      "[-0.3021194  -0.07490553  0.6580938  -0.1239063   1.15743551  2.47682607\n",
      "  0.1868672   0.63880843  1.20893675  2.23133716 -0.44197731  1.09203014\n",
      "  0.44427468  0.07418645  1.79666224  1.49338316  2.25812376  1.50696316\n",
      "  0.04824165  1.72104064]\n",
      "\n",
      "Class 1\n",
      "=======\n",
      "Testing x1 values:\n",
      "\n",
      "[ 0.89339167 -0.3646291   1.27882256  0.92726657  0.11662719  1.01476164\n",
      " -0.3040149   1.0096542  -0.39353299  0.62025353  0.40551157  1.44831316\n",
      " -1.36653119  0.10878004  1.68621895  2.91057366  2.63172647  1.48297818\n",
      " -0.83460528  1.07191664]\n",
      "\n",
      "Testing x2 values:\n",
      "\n",
      "[-2.24735917  0.39877185 -0.30404321 -2.33260048  0.16042667 -1.22427671\n",
      " -1.98873103 -0.8004126  -1.00780457 -0.59805216  0.63984533 -1.93168249\n",
      " -0.03782594 -1.21881551 -1.7975296   0.14204394 -1.87657912 -1.9241109\n",
      " -1.35437747 -0.53304243]\n"
     ]
    }
   ],
   "source": [
    "# Question 2(i)\n",
    "\n",
    "test0_points, test1_points = generateData(1,20)\n",
    "\n",
    "print2Class(test0_points, test1_points, \"Testing\")"
   ]
  },
  {
   "cell_type": "code",
   "execution_count": 466,
   "metadata": {},
   "outputs": [
    {
     "name": "stdout",
     "output_type": "stream",
     "text": [
      "Iterations: 61\n",
      "Question 2(i)\n",
      "============= \n",
      "\n",
      "Optimal A is 0.1\n",
      "Optimal Threshold is 0.005 \n",
      "\n"
     ]
    },
    {
     "data": {
      "image/png": "[encoded data removed]",
      "text/plain": [
       "<Figure size 432x288 with 1 Axes>"
      ]
     },
     "metadata": {
      "needs_background": "light"
     },
     "output_type": "display_data"
    },
    {
     "name": "stdout",
     "output_type": "stream",
     "text": [
      "\n",
      "Confusion Matrix\n",
      "====================\n",
      "Class\t0\t1\n",
      "0\t18\t2\n",
      "1\t4\t16\n",
      "\n",
      "Accuracy is 0.85\n",
      "====================\n",
      "\n",
      "\n",
      "Log Likelihood Error is 48.63793867743258\n"
     ]
    }
   ],
   "source": [
    "# Question 2(i)\n",
    "theta = trainFully(class0_points, class1_points, origTheta, optimalA, optimalThresh, maxIterations)\n",
    "\n",
    "#Confusion Matrix & Log-Likelihood\n",
    "\n",
    "correct0, correct1, logLikelihood = getConfusionDataAndLogLikelihood(test0_points, test1_points, theta)\n",
    "\n",
    "#Graph Plot \n",
    "x = np.linspace(-6,6,100)\n",
    "y = -theta[1]/theta[2]*x - theta[0]/theta[2] #Initialising first iteration decision boundary\n",
    "\n",
    "# Question 2(i) - PRINT\n",
    "quesPrint(\"2(i)\")\n",
    "\n",
    "print(\"Optimal A is\",optimalA)\n",
    "print(\"Optimal Threshold is\",optimalThresh,\"\\n\")\n",
    "\n",
    "plt.plot(x, y)\n",
    "plotScatter(test0_points, test1_points)\n",
    "print(\"\")\n",
    "\n",
    "printConfusionMatrix(correct0, correct1, 20)\n",
    "print(\"\")\n",
    "\n",
    "printLogLikelihood(logLikelihood)"
   ]
  },
  {
   "cell_type": "code",
   "execution_count": null,
   "metadata": {},
   "outputs": [],
   "source": [
    "# Question 2(j)\n",
    "\n",
    "# It is important to have all 3 common data sets because,\n",
    "\n",
    "# Training Set\n",
    "#=============\n",
    "\n",
    "# We need an actual data set to let our algorithm learn from \n",
    "# otherwise I algorithm would not be able to predict anything\n",
    "# therefore, having no use to us (ML will be useless)\n",
    "\n",
    "# Validation Set\n",
    "#===============\n",
    "\n",
    "# As seen in this lab, different a (or alpha) values and threshold values\n",
    "# (for our stopping condition) can and will majorly impact how good our \n",
    "# algorithm will be at predicting values. We therefore use the validation\n",
    "# data set to go through and find the most effective a (or alpha) and \n",
    "# threshold values\n",
    "\n",
    "# We use it for fine-tuning our hyperparameters!\n",
    "\n",
    "# Testing Set\n",
    "#============\n",
    "\n",
    "# We need to actually put our algorithm into action! We need to make sure\n",
    "# we never overfit our data. We simulate what a real-life example would be\n",
    "# by merely giving a data set the algorithm never interact with before.\n",
    "# i.e. the testing data set. We can tell if we overfitted our data\n",
    "# and also we can just see how our algorithm does in general without having\n",
    "# to physically get/wait for real world data."
   ]
  }
 ],
 "metadata": {
  "kernelspec": {
   "display_name": "Python 3",
   "language": "python",
   "name": "python3"
  },
  "language_info": {
   "codemirror_mode": {
    "name": "ipython",
    "version": 3
   },
   "file_extension": ".py",
   "mimetype": "text/x-python",
   "name": "python",
   "nbconvert_exporter": "python",
   "pygments_lexer": "ipython3",
   "version": "3.8.5"
  }
 },
 "nbformat": 4,
 "nbformat_minor": 4
}
