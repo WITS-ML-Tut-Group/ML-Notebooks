{
 "cells": [
  {
   "cell_type": "markdown",
   "metadata": {},
   "source": [
    "# Authors\n",
    "# ----------------------------------------\n",
    "\n",
    "## Kiara Gabriel             -    2161334\n",
    "\n",
    "## Phola Bavuma          -    1848739\n",
    "\n",
    "## Shravan Singh         -    2173638\n",
    "\n",
    "## Arneev Singh          -    2180393\n",
    "\n",
    "# ----------------------------------------"
   ]
  },
  {
   "cell_type": "code",
   "execution_count": 2,
   "metadata": {},
   "outputs": [],
   "source": [
    "import numpy as np\n",
    "import matplotlib.pyplot as plt"
   ]
  },
  {
   "cell_type": "code",
   "execution_count": 3,
   "metadata": {},
   "outputs": [],
   "source": [
    "#NOTE:\n",
    "#If you run the getConfusionData / train functions more than once without \n",
    "#re-running ALL the code from the start, the confusion matrx will get messed up\n",
    "\n",
    "#ALWAYS RE-RUN THE CODE "
   ]
  },
  {
   "cell_type": "code",
   "execution_count": 4,
   "metadata": {},
   "outputs": [],
   "source": [
    "#Formatting Questions - Helper Function\n",
    "def quesPrint(number):\n",
    "    print(\"Question\",number)\n",
    "    totLen = len(\"Question\") + 1 + len(str(number))\n",
    "    string = \"\"\n",
    "    \n",
    "    for i in range(totLen):\n",
    "        string += \"=\"\n",
    "    \n",
    "    print(string,\"\\n\")"
   ]
  },
  {
   "cell_type": "code",
   "execution_count": 5,
   "metadata": {},
   "outputs": [],
   "source": [
    "# Question 1(a)\n",
    "def generateData(std, numbPoints, cx1=-1,cy1=1,cx2=1,cy2=-1):\n",
    "    # Class 0\n",
    "    x = [[], []]\n",
    "\n",
    "    x[0] = np.random.normal(cx1, std, numbPoints)\n",
    "    x[1] = np.random.normal(cy1, std, numbPoints)\n",
    "    class0_points = np.array(x)\n",
    "\n",
    "    #Class 1\n",
    "    y = [[], []]\n",
    "\n",
    "    y[0] = np.random.normal(cx2, std, numbPoints)\n",
    "    y[1] = np.random.normal(cy2, std, numbPoints)\n",
    "    class1_points = np.array(y)\n",
    "    \n",
    "    return [class0_points, class1_points]\n",
    "\n",
    "class0_points, class1_points = generateData(1,20)"
   ]
  },
  {
   "cell_type": "code",
   "execution_count": 6,
   "metadata": {
    "scrolled": true
   },
   "outputs": [
    {
     "name": "stdout",
     "output_type": "stream",
     "text": [
      "Question 1(a)\n",
      "============= \n",
      "\n",
      "Class 0\n",
      "=======\n",
      "Training x1 values:\n",
      "\n",
      "[-2.17539669  0.08119999 -1.97612923 -1.67397239 -2.34631313 -0.71803386\n",
      " -1.47010894 -1.62798067  0.01331119 -1.70881511 -0.41586663 -1.11953637\n",
      " -2.24868469  0.52791529 -1.54196444 -0.0655953  -2.73104886 -0.67108485\n",
      " -0.33954112 -0.41508984]\n",
      "\n",
      "Training x2 values:\n",
      "\n",
      "[ 1.99567295  2.33133511  1.32618578  0.41468943 -0.23679953  0.76764421\n",
      "  0.9735805   1.11348463  0.50626417 -0.77365111  0.29084627  1.13750996\n",
      "  1.68848102  0.70146421  2.56429845  2.26145616  0.88352374  0.01747897\n",
      "  0.18558018  1.66424657]\n",
      "\n",
      "Class 1\n",
      "=======\n",
      "Training x1 values:\n",
      "\n",
      "[ 0.08668602  1.87946651 -0.60906704 -0.40421974  1.42220057  2.4871844\n",
      "  0.98594993  1.49544849 -1.23334562  0.77331681  0.40109663  1.88425483\n",
      "  1.23693628  1.49794392  0.05103597  1.40293064  0.23390259  2.19963976\n",
      "  0.05470056  1.75971798]\n",
      "\n",
      "Training x2 values:\n",
      "\n",
      "[ 0.26995668 -0.41299284  0.69795522 -0.71821347 -1.53164855 -1.89940607\n",
      " -0.51748531  0.24841933 -2.6831775  -0.94475474 -1.30011083 -1.06620591\n",
      " -1.35237534 -3.15285274 -2.51084458 -0.16679621 -1.49775326 -1.69769893\n",
      " -0.8301426  -0.89727403]\n"
     ]
    }
   ],
   "source": [
    "def print2Class(class0,class1, typeData):\n",
    "    print(\"Class 0\")\n",
    "    print(\"=======\")\n",
    "\n",
    "    print(typeData + \" x1 values:\\n\")\n",
    "    print(class0[0])\n",
    "    print(\"\\n\" + typeData + \" x2 values:\\n\")\n",
    "    print(class0[1])\n",
    "\n",
    "    print(\"\\nClass 1\")\n",
    "    print(\"=======\")\n",
    "\n",
    "    print(typeData + \" x1 values:\\n\")\n",
    "    print(class1[0])\n",
    "    print(\"\\n\" + typeData + \" x2 values:\\n\")\n",
    "    print(class1[1])\n",
    "\n",
    "# Question 1(a) - PRINT\n",
    "\n",
    "quesPrint(\"1(a)\")\n",
    "print2Class(class0_points, class1_points, \"Training\")"
   ]
  },
  {
   "cell_type": "code",
   "execution_count": 7,
   "metadata": {},
   "outputs": [
    {
     "name": "stdout",
     "output_type": "stream",
     "text": [
      "Question 1(b)\n",
      "============= \n",
      "\n"
     ]
    },
    {
     "data": {
      "image/png": "[encoded data removed]",
      "text/plain": [
       "<Figure size 432x288 with 1 Axes>"
      ]
     },
     "metadata": {
      "needs_background": "light"
     },
     "output_type": "display_data"
    },
    {
     "name": "stdout",
     "output_type": "stream",
     "text": [
      "The points are easily separable - it is clear where the centre of each class is because of the denseness of the dots. There are a few overlaps between the data in the two classes, similar to real-world data.\n"
     ]
    }
   ],
   "source": [
    "# Question 1(b)\n",
    "\n",
    "#Plot Scatter Graph Function\n",
    "def plotScatter(class0, class1):\n",
    "    \n",
    "    plt.scatter(class0[0], class0[1])\n",
    "    plt.scatter(class1[0], class1[1])\n",
    "\n",
    "    plt.axis('equal')\n",
    "    plt.show()\n",
    "\n",
    "\n",
    "# Question 1(b) - PRINT\n",
    "quesPrint(\"1(b)\")\n",
    "\n",
    "plotScatter(class0_points, class1_points)\n",
    "\n",
    "print(\"The points are easily separable - it is clear where the centre of each class is because of the denseness of the dots. There are a few overlaps between the data in the two classes, similar to real-world data.\")"
   ]
  },
  {
   "cell_type": "code",
   "execution_count": 8,
   "metadata": {},
   "outputs": [
    {
     "name": "stdout",
     "output_type": "stream",
     "text": [
      "Question 1(c)\n",
      "============= \n",
      "\n",
      "variance = 3\n",
      "standard variation = 1.73205\n"
     ]
    },
    {
     "data": {
      "image/png": "[encoded data removed]",
      "text/plain": [
       "<Figure size 432x288 with 1 Axes>"
      ]
     },
     "metadata": {
      "needs_background": "light"
     },
     "output_type": "display_data"
    },
    {
     "name": "stdout",
     "output_type": "stream",
     "text": [
      "With a variance of 3, the data in the two different classes are a lot less separable. It is harder to determine which points belong to which class because the overlap is a lot greater and all the points looks very clustered together. It is evident that, the greater the variance (with close centers), the greater the overlap.\n"
     ]
    }
   ],
   "source": [
    "# Question 1(c)\n",
    "# var = 3 therefore, std = 1.73205...\n",
    "# center at (1,-1) and (-1, 1)\n",
    "\n",
    "x1, x2 = generateData(np.sqrt(3),20)\n",
    "\n",
    "# Question 1(c) - PRINT\n",
    "quesPrint(\"1(c)\")\n",
    "print(\"variance = 3\")\n",
    "print(\"standard variation = 1.73205\")\n",
    "\n",
    "plotScatter(x1,x2)\n",
    "\n",
    "print(\"With a variance of 3, the data in the two different classes are a lot less separable. It is harder to determine which points belong to which class because the overlap is a lot greater and all the points looks very clustered together. It is evident that, the greater the variance (with close centers), the greater the overlap.\")"
   ]
  },
  {
   "cell_type": "code",
   "execution_count": 9,
   "metadata": {},
   "outputs": [
    {
     "name": "stdout",
     "output_type": "stream",
     "text": [
      "Question 1(d)\n",
      "============= \n",
      "\n",
      "variance = 1\n",
      "standard deviation = 1\n",
      "class 0 center at (3,3)\n",
      "class 1 center at (-3,-3)\n"
     ]
    },
    {
     "data": {
      "image/png": "[encoded data removed]",
      "text/plain": [
       "<Figure size 432x288 with 1 Axes>"
      ]
     },
     "metadata": {
      "needs_background": "light"
     },
     "output_type": "display_data"
    },
    {
     "name": "stdout",
     "output_type": "stream",
     "text": [
      "variance = 25\n",
      "standard deviation = 5\n",
      "class 0 center at (-2,-2)\n",
      "class 1 center at (2,2)\n"
     ]
    },
    {
     "data": {
      "image/png": "[encoded data removed]",
      "text/plain": [
       "<Figure size 432x288 with 1 Axes>"
      ]
     },
     "metadata": {
      "needs_background": "light"
     },
     "output_type": "display_data"
    },
    {
     "name": "stdout",
     "output_type": "stream",
     "text": [
      "variance = 10\n",
      "standard deviation = 3.16227...\n",
      "class 0 center at (-1,1)\n",
      "class 1 center at (1,-1)\n"
     ]
    },
    {
     "data": {
      "image/png": "[encoded data removed]",
      "text/plain": [
       "<Figure size 432x288 with 1 Axes>"
      ]
     },
     "metadata": {
      "needs_background": "light"
     },
     "output_type": "display_data"
    },
    {
     "name": "stdout",
     "output_type": "stream",
     "text": [
      "It is clear from the above 3 examples that the smaller the variance, the closer the points are to their centers, making it easier to distinguish between the two classes. Also, the further the centers of the two classes are from each other, the more separable the data is. The dataset in the last example would be the easiest to classify.\n"
     ]
    }
   ],
   "source": [
    "# Question 1(d)\n",
    "# var = 1 therefore, std = 1)]\n",
    "# center at (3, 3) and (-3, -3)\n",
    "\n",
    "x1, x2 = generateData(1,20,3,3,-3,-3)\n",
    "\n",
    "# Question 1(d) - PRINT\n",
    "quesPrint(\"1(d)\")\n",
    "\n",
    "print(\"variance = 1\")\n",
    "print(\"standard deviation = 1\")\n",
    "print(\"class 0 center at (3,3)\")\n",
    "print(\"class 1 center at (-3,-3)\")\n",
    "\n",
    "plotScatter(x1,x2)\n",
    "\n",
    "# var = 25 therefore, std = 5\n",
    "# center at (2,2) and (-2, -2)\n",
    "\n",
    "x1, x2 = generateData(np.sqrt(25), 20,-2,-2,2,2)\n",
    "\n",
    "print(\"variance = 25\")\n",
    "print(\"standard deviation = 5\")\n",
    "print(\"class 0 center at (-2,-2)\")\n",
    "print(\"class 1 center at (2,2)\")\n",
    "\n",
    "plotScatter(x1,x2)\n",
    "\n",
    "# var = 10 therefore, std = 3.16227...\n",
    "# center at (-1,1) and (1,-1)\n",
    "\n",
    "x1, x2 = generateData(np.sqrt(10), 20)\n",
    "\n",
    "print(\"variance = 10\")\n",
    "print(\"standard deviation = 3.16227...\")\n",
    "print(\"class 0 center at (-1,1)\")\n",
    "print(\"class 1 center at (1,-1)\")\n",
    "\n",
    "plotScatter(x1,x2)\n",
    "\n",
    "\n",
    "print(\"It is clear from the above 3 examples that the smaller the variance, the closer the points are to their centers, making it easier to distinguish between the two classes. Also, the further the centers of the two classes are from each other, the more separable the data is. The dataset in the last example would be the easiest to classify.\")"
   ]
  },
  {
   "cell_type": "code",
   "execution_count": 10,
   "metadata": {},
   "outputs": [
    {
     "name": "stdout",
     "output_type": "stream",
     "text": [
      "Question 2(a)\n",
      "============= \n",
      "\n"
     ]
    },
    {
     "data": {
      "image/png": "[encoded data removed]",
      "text/plain": [
       "<Figure size 432x288 with 1 Axes>"
      ]
     },
     "metadata": {
      "needs_background": "light"
     },
     "output_type": "display_data"
    },
    {
     "name": "stdout",
     "output_type": "stream",
     "text": [
      "\n",
      "theta vector: \n",
      "[0.20173481 0.09385737 0.23485667]\n"
     ]
    }
   ],
   "source": [
    "# Question 2(a)\n",
    "\n",
    "theta = np.random.uniform(-0.5,0.5,3) # Initialising random theta values\n",
    "origTheta = [theta[0],theta[1],theta[2]] # Keeping a copy of original theta values\n",
    "\n",
    "x = np.linspace(-6,6,100)\n",
    "y = -theta[1]/theta[2]*x - theta[0]/theta[2] #Initialising decision boundary\n",
    "\n",
    "\n",
    "# Question 2(a) - PRINT\n",
    "quesPrint(\"2(a)\")\n",
    "\n",
    "plt.plot(x, y)\n",
    "plotScatter(class0_points, class1_points)\n",
    "print(\"\")\n",
    "\n",
    "print(\"theta vector: \")\n",
    "print(theta)"
   ]
  },
  {
   "cell_type": "code",
   "execution_count": 11,
   "metadata": {},
   "outputs": [
    {
     "name": "stdout",
     "output_type": "stream",
     "text": [
      "Question 2(b)\n",
      "============= \n",
      "\n",
      "Confusion Matrix\n",
      "====================\n",
      "Class\t0\t1\n",
      "0\t2\t18\n",
      "1\t8\t12\n",
      "\n",
      "Accuracy is 0.35\n",
      "====================\n",
      "\n",
      "Log Likelihood Error is 31.814709400923775\n"
     ]
    }
   ],
   "source": [
    "# Question 2(b)\n",
    "\n",
    "def sigmoid(x): #Sigmoid function\n",
    "    return 1/(1+np.exp(-x))\n",
    "\n",
    "def prediction(theta, x): #Intermediate function\n",
    "    return sigmoid(np.matmul(np.transpose(theta),x))\n",
    "\n",
    "def likelihoodFunc(x,y,theta, hFunc):\n",
    "    return y * np.log(hFunc(theta, x)) + (1 - y)*np.log(1 - hFunc(theta, x))\n",
    "\n",
    "#Get confusion matrix data for making the matrix and log likelihood error\n",
    "def getConfusionDataAndLogLikelihood(class0,class1, theta):\n",
    "    amountDataPoints = len(class0[0])\n",
    "    \n",
    "    logSum = 0\n",
    "    correctTotal0 = 0\n",
    "    correctTotal1 = 0\n",
    "\n",
    "    for i in range(amountDataPoints): \n",
    "        #Calculating log likelehood for class 0\n",
    "        x = [1,class0[0][i],class0[1][i]] #Getting x values at i for class 0\n",
    "        \n",
    "        logSum = logSum + likelihoodFunc(x,0,theta,prediction) #Adding to log likelihood sum\n",
    "\n",
    "        predictedValue = round(prediction(theta, x),0) #Model adding to confusion matrix the predicted value\n",
    "        if(predictedValue == 0):\n",
    "            correctTotal0 += 1\n",
    "\n",
    "        #Calculating log likelehood for class 1\n",
    "        x = [1,class1[0][i],class1[1][i]] #Getting x values at i for class 1\n",
    "       \n",
    "        logSum = logSum + likelihoodFunc(x,0,theta,prediction) #Adding to log likelihood sum\n",
    "\n",
    "        predictedValue = round(prediction(theta, x),0) #Model adding to confusion matrix the predicted value\n",
    "        if(predictedValue == 1):\n",
    "            correctTotal1 += 1\n",
    "            \n",
    "    logSum *= -1\n",
    "        \n",
    "    return [correctTotal0, correctTotal1, logSum]\n",
    "        \n",
    "#Printing out confusion matrix\n",
    "def printConfusionMatrix(correct0, correct1, amountDataPoints):\n",
    "    \n",
    "    print(\"Confusion Matrix\")\n",
    "    print(\"====================\")\n",
    "    print(\"Class\\t0\\t1\")\n",
    "    print(\"0\\t\"+str(correct0)+\"\\t\"+str(amountDataPoints-correct0))\n",
    "    print(\"1\\t\"+str(amountDataPoints-correct1)+\"\\t\"+str(correct1))\n",
    "    print(\"\\nAccuracy is \"+ str((correct0 + correct1)/(amountDataPoints * 2)))\n",
    "    print(\"====================\\n\")\n",
    "    \n",
    "    \n",
    "def printLogLikelihood(logLikelihood):\n",
    "    print(\"Log Likelihood Error is \" + str(logLikelihood))\n",
    "\n",
    "\n",
    "correct0, correct1, logLikelihood = getConfusionDataAndLogLikelihood(class0_points, class1_points, theta)\n",
    "\n",
    "#Question 2(b) - PRINT\n",
    "quesPrint(\"2(b)\")\n",
    "\n",
    "printConfusionMatrix(correct0, correct1, 20)\n",
    "printLogLikelihood(logLikelihood)"
   ]
  },
  {
   "cell_type": "markdown",
   "metadata": {},
   "source": [
    "## Question 2(c)\n",
    "\n",
    "-----------------------------------------------------\n",
    "**If true value of point is in class 0:**\n",
    "\n",
    "i runs in for loop from 0 through 19\n",
    "\n",
    "x = [1, class0_points[0][i] ,class0_points[1][i]]\n",
    "\n",
    "theta[0] = theta[0] - 0.01*(prediction(theta,x))\n",
    "theta[1] = theta[1] - 0.01*(prediction(theta,x))*x[1]\n",
    "theta[2] = theta[2] - 0.01*(prediction(theta,x))*x[2]\n",
    "\n",
    "-----------------------------------------------------\n",
    "\n",
    "**If true value of point is in class 1:**\n",
    "\n",
    "i runs in for loop from 0 through 19\n",
    "\n",
    "x = [1, class1_points[1][i], class1_points[1][i]]\n",
    "\n",
    "theta[0] = theta[0] - 0.01*(prediction(theta,x) - 1)\n",
    "theta[1] = theta[1] - 0.01*(prediction(theta,x) - 1)*x[1]\n",
    "theta[2] = theta[2] - 0.01*(prediction(theta,x) - 1)*x[2]\n",
    "\n",
    "-----------------------------------------------------"
   ]
  },
  {
   "cell_type": "code",
   "execution_count": 12,
   "metadata": {},
   "outputs": [],
   "source": [
    "# Question 2(c)\n",
    "\n",
    "# -----------------------------------------------------\n",
    "\n",
    "# If true value of point is in class 0:\n",
    "\n",
    "# i runs in for loop from 0 through 19\n",
    "# x = [1,class0_points[0][i],class0_points[1][i]]\n",
    "\n",
    "# theta[0] = theta[0] - 0.01*(prediction(theta,x))\n",
    "# theta[1] = theta[1] - 0.01*(prediction(theta,x))*x[1]\n",
    "# theta[2] = theta[2] - 0.01*(prediction(theta,x))*x[2]\n",
    "\n",
    "# -----------------------------------------------------\n",
    "\n",
    "# If true value of point is in class 1:\n",
    "\n",
    "# i runs in for loop from 0 through 19\n",
    "# x = [1,class1_points[1][i],class1_points[1][i]]\n",
    "\n",
    "# theta[0] = theta[0] - 0.01*(prediction(theta,x) - 1)\n",
    "# theta[1] = theta[1] - 0.01*(prediction(theta,x) - 1)*x[1]\n",
    "# theta[2] = theta[2] - 0.01*(prediction(theta,x) - 1)*x[2]\n",
    "\n",
    "# -----------------------------------------------------\n"
   ]
  },
  {
   "cell_type": "code",
   "execution_count": 13,
   "metadata": {},
   "outputs": [
    {
     "name": "stdout",
     "output_type": "stream",
     "text": [
      "Question 2(d)\n",
      "============= \n",
      "\n",
      "Theta at start:\n",
      "[-0.05, 0.03, 0.4] \n",
      "\n",
      "Theta after class 0 update:\n",
      "[-0.05529964051764572, 0.035286436933068197, 0.3973633688751857] \n",
      "\n",
      "Theta after class 1 update:\n",
      "[-0.0593303731023967, 0.028450671937220867, 0.4013565008660544]\n",
      "The results are more or less the same, this is due to rounding off error when using calculator\n"
     ]
    }
   ],
   "source": [
    "# Question 2(d) - PRINT\n",
    "quesPrint(\"2(d)\")\n",
    "\n",
    "# Confirming Calculations Done By Hand\n",
    "\n",
    "xStart0 = [1, -1.0, 0.5]\n",
    "\n",
    "xStart1 = [1, 1.7, -1.0]\n",
    "\n",
    "thetaStart = [-0.05, 0.03, 0.4]\n",
    "\n",
    "print(\"Theta at start:\")\n",
    "print(thetaStart,'\\n')\n",
    "\n",
    "thetaStart[0] = thetaStart[0] - 0.01*(prediction(thetaStart,xStart0))\n",
    "thetaStart[1] = thetaStart[1] - 0.01*(prediction(thetaStart,xStart0))*xStart0[1]\n",
    "thetaStart[2] = thetaStart[2] - 0.01*(prediction(thetaStart,xStart0))*xStart0[2]\n",
    "\n",
    "print(\"Theta after class 0 update:\")\n",
    "print(thetaStart,'\\n')\n",
    "\n",
    "\n",
    "thetaStart[0] = thetaStart[0] - 0.01*(prediction(thetaStart,xStart1))\n",
    "thetaStart[1] = thetaStart[1] - 0.01*(prediction(thetaStart,xStart1))*xStart1[1]\n",
    "thetaStart[2] = thetaStart[2] - 0.01*(prediction(thetaStart,xStart1))*xStart1[2]\n",
    "\n",
    "print(\"Theta after class 1 update:\")\n",
    "print(thetaStart)\n",
    "\n",
    "print(\"The results are more or less the same, this is due to rounding off error when using calculator\")"
   ]
  },
  {
   "cell_type": "code",
   "execution_count": 14,
   "metadata": {},
   "outputs": [],
   "source": [
    "# Question 2(e)\n",
    "\n",
    "def trainOnce(class0, class1, theta, aVal):\n",
    "    amountDataPoints = len(class0[0])\n",
    "\n",
    "    for i in range(amountDataPoints):\n",
    "        #Train Class 0\n",
    "        x = [1,class0[0][i],class0[1][i]]\n",
    "        theta[0] = theta[0] - aVal*(prediction(theta,x))\n",
    "        theta[1] = theta[1] - aVal*(prediction(theta,x))*x[1]\n",
    "        theta[2] = theta[2] - aVal*(prediction(theta,x))*x[2]\n",
    "        #Train Class 1\n",
    "        x = [1,class1[0][i],class1[1][i]]\n",
    "        theta[0] = theta[0] - aVal*(prediction(theta,x) - 1)\n",
    "        theta[1] = theta[1] - aVal*(prediction(theta,x) - 1)*x[1]\n",
    "        theta[2] = theta[2] - aVal*(prediction(theta,x) - 1 )*x[2]\n",
    "\n",
    "    return theta\n",
    "\n",
    "theta = trainOnce(class0_points, class1_points, theta, 0.01)"
   ]
  },
  {
   "cell_type": "code",
   "execution_count": 15,
   "metadata": {},
   "outputs": [
    {
     "name": "stdout",
     "output_type": "stream",
     "text": [
      "Question 2(e)\n",
      "============= \n",
      "\n"
     ]
    },
    {
     "data": {
      "image/png": "[encoded data removed]",
      "text/plain": [
       "<Figure size 432x288 with 1 Axes>"
      ]
     },
     "metadata": {
      "needs_background": "light"
     },
     "output_type": "display_data"
    },
    {
     "name": "stdout",
     "output_type": "stream",
     "text": [
      "\n",
      "Confusion Matrix\n",
      "====================\n",
      "Class\t0\t1\n",
      "0\t12\t8\n",
      "1\t8\t12\n",
      "\n",
      "Accuracy is 0.6\n",
      "====================\n",
      "\n",
      "\n",
      "Log Likelihood Error is 31.448530307358737\n"
     ]
    }
   ],
   "source": [
    "#Confusion Matrix & Log-Likelihood\n",
    "\n",
    "correct0, correc1, logLikelihood = getConfusionDataAndLogLikelihood(class0_points, class1_points, theta)\n",
    "\n",
    "#Graph Plot\n",
    "x = np.linspace(-6,6,100)\n",
    "y = -theta[1]/theta[2]*x - theta[0]/theta[2] #Initialising decision boundary\n",
    "\n",
    "\n",
    "# Question 2(e) - PRINT\n",
    "quesPrint(\"2(e)\")\n",
    "\n",
    "plt.plot(x, y)\n",
    "plotScatter(class0_points, class1_points)\n",
    "print(\"\")\n",
    "\n",
    "printConfusionMatrix(correct0, correct1, 20)\n",
    "print(\"\")\n",
    "\n",
    "printLogLikelihood(logLikelihood)"
   ]
  },
  {
   "cell_type": "code",
   "execution_count": 16,
   "metadata": {},
   "outputs": [
    {
     "name": "stdout",
     "output_type": "stream",
     "text": [
      "Iterations: 1\n"
     ]
    }
   ],
   "source": [
    "# Question 2(f)\n",
    "\n",
    "def norm2(new, old):\n",
    "    finish = [0,0,0]\n",
    "    \n",
    "    for i in range(3):\n",
    "        finish[i] = abs(new[i] - old[i])\n",
    "    \n",
    "    return np.linalg.norm(finish,2)\n",
    "\n",
    "def trainFully(class0, class1, theta, aVal, thresVal, maxIterations):\n",
    "    amountDataPoints = len(class0[0])\n",
    "    \n",
    "    count = 0\n",
    "    newtheta = [0,0,0]\n",
    "\n",
    "    while (count < maxIterations):\n",
    "        for i in range(amountDataPoints):\n",
    "            #Train for class 0\n",
    "            newtheta = [theta[0],theta[1],theta[2]] #Set up newTheta\n",
    "\n",
    "            x = [1,class0[0][i],class0[1][i]] #Get x values for i position for class 0\n",
    "\n",
    "            newtheta[0] = newtheta[0] - aVal*(prediction(newtheta,x) - 0) # Gradient Descent\n",
    "            newtheta[1] = newtheta[1] - aVal*(prediction(newtheta,x)- 0 )*x[1]\n",
    "            newtheta[2] = newtheta[2] - aVal*(prediction(newtheta,x) - 0)*x[2]\n",
    "\n",
    "\n",
    "            con = norm2(newtheta, theta) #Getting Norm2\n",
    "\n",
    "            theta = [newtheta[0],newtheta[1],newtheta[2]] #Updating old theta to new theta\n",
    "\n",
    "            count += 1 #Keeping track of iterations\n",
    "\n",
    "            if(con < thresVal):\n",
    "                print(\"Iterations:\",count)\n",
    "                return theta\n",
    "\n",
    "            #Train for class 1\n",
    "            x = [1,class1[0][i],class1[1][i]] #Get x values for i position for class 1\n",
    "\n",
    "            newtheta[0] = newtheta[0] - aVal*(prediction(newtheta,x) - 1) # Gradient Descent\n",
    "            newtheta[1] = newtheta[1] - aVal*(prediction(newtheta,x) - 1)*x[1]\n",
    "            newtheta[2] = newtheta[2] - aVal*(prediction(newtheta,x) - 1)*x[2]\n",
    "\n",
    "            con = norm2(newtheta, theta) #Getting Norm2\n",
    "\n",
    "            theta = [newtheta[0],newtheta[1],newtheta[2]] #Updating old theta to new theta\n",
    "\n",
    "            count += 1 #Keeping track of iterations\n",
    "\n",
    "            if(con < thresVal):\n",
    "                print(\"Iterations:\",count)\n",
    "                return theta\n",
    "\n",
    "\n",
    "    print(\"Iterations:\",count)\n",
    "    return theta\n",
    "\n",
    "\n",
    "theta = trainFully(class0_points, class1_points, theta, 0.01, 0.05, 1000)"
   ]
  },
  {
   "cell_type": "code",
   "execution_count": 17,
   "metadata": {
    "scrolled": true
   },
   "outputs": [
    {
     "name": "stdout",
     "output_type": "stream",
     "text": [
      "Question 2(f)\n",
      "============= \n",
      "\n"
     ]
    },
    {
     "data": {
      "image/png": "[encoded data removed]",
      "text/plain": [
       "<Figure size 432x288 with 1 Axes>"
      ]
     },
     "metadata": {
      "needs_background": "light"
     },
     "output_type": "display_data"
    },
    {
     "name": "stdout",
     "output_type": "stream",
     "text": [
      "\n",
      "Confusion Matrix\n",
      "====================\n",
      "Class\t0\t1\n",
      "0\t13\t7\n",
      "1\t1\t19\n",
      "\n",
      "Accuracy is 0.8\n",
      "====================\n",
      "\n",
      "\n",
      "Log Likelihood Error is 31.41164644016035\n"
     ]
    }
   ],
   "source": [
    "#Confusion Matrix & Log-Likelihood\n",
    "\n",
    "correct0, correct1, logLikelihood = getConfusionDataAndLogLikelihood(class0_points, class1_points, theta)\n",
    "\n",
    "#Graph Plot \n",
    "x = np.linspace(-6,6,100)\n",
    "y = -theta[1]/theta[2]*x - theta[0]/theta[2] #Initialising first iteration decision boundary\n",
    "\n",
    "# Question 2(f) - PRINT\n",
    "quesPrint(\"2(f)\")\n",
    "\n",
    "plt.plot(x, y)\n",
    "plotScatter(class0_points, class1_points)\n",
    "print(\"\")\n",
    "\n",
    "printConfusionMatrix(correct0, correct1, 20)\n",
    "print(\"\")\n",
    "\n",
    "printLogLikelihood(logLikelihood)"
   ]
  },
  {
   "cell_type": "code",
   "execution_count": 18,
   "metadata": {},
   "outputs": [
    {
     "name": "stdout",
     "output_type": "stream",
     "text": [
      "Question 2(g)\n",
      "============= \n",
      "\n",
      "Class 0\n",
      "=======\n",
      "Validation x1 values:\n",
      "\n",
      "[-3.0106868  -0.85866466  0.50827597  0.52863321  0.45897197  0.24103736\n",
      " -1.30523042 -0.70378524 -0.38364387 -0.05551114 -2.1771706  -1.54125176\n",
      " -1.27706272 -1.68855003 -1.08831387 -0.59627141  1.15163299 -1.09655269\n",
      " -0.82778927 -0.30655611]\n",
      "\n",
      "Validation x2 values:\n",
      "\n",
      "[ 1.49920014  1.9232127   1.62357625 -0.20521411  0.58614821  1.20580323\n",
      "  1.218055    0.49080596  0.16992781  1.31589408  3.25738489  1.32122074\n",
      "  2.67498687 -0.06084953  3.01647885  1.2230079   1.16305798  0.85034273\n",
      "  1.70829709  3.39036744]\n",
      "\n",
      "Class 1\n",
      "=======\n",
      "Validation x1 values:\n",
      "\n",
      "[ 2.20122331  0.0930677   2.96193687  1.81641213  1.32276467 -0.7004958\n",
      "  0.44660664  0.16399947  0.78133308  1.51463136  2.71012872  1.5081441\n",
      "  0.70869915  2.91374298 -1.25858814  0.46550371  0.81220062  1.25154086\n",
      "  0.38111311 -1.06599442]\n",
      "\n",
      "Validation x2 values:\n",
      "\n",
      "[-0.88881651 -2.40075758 -1.32914337 -0.20598262 -1.69051884 -0.86626247\n",
      " -3.25853757 -0.95590097 -0.63068043 -1.43781636 -0.37268488 -0.53586142\n",
      " -0.94531069 -3.096102   -3.1127907  -1.11238403  0.82636547 -0.63026096\n",
      "  1.84402455 -0.4637704 ]\n"
     ]
    }
   ],
   "source": [
    "# Question 2(g)\n",
    "\n",
    "valid0_points, valid1_points = generateData(1,20)\n",
    "\n",
    "# Question 2(g) - PRINT\n",
    "quesPrint(\"2(g)\")\n",
    "print2Class(valid0_points, valid1_points, \"Validation\")"
   ]
  },
  {
   "cell_type": "code",
   "execution_count": 19,
   "metadata": {},
   "outputs": [],
   "source": [
    "def trainFullyWIterations(class0, class1, theta, aVal, thresVal, maxIterations):\n",
    "    amountDataPoints = len(class0[0])\n",
    "    \n",
    "    count = 0\n",
    "    newtheta = [0,0,0]\n",
    "\n",
    "    while (count < maxIterations):\n",
    "        for i in range(amountDataPoints):\n",
    "            #Train for class 0\n",
    "            newtheta = [theta[0],theta[1],theta[2]] #Set up newTheta\n",
    "\n",
    "            x = [1,class0[0][i],class0[1][i]] #Get x values for i position for class 0\n",
    "\n",
    "            newtheta[0] = newtheta[0] - aVal*(prediction(newtheta,x) - 0) # Gradient Descent\n",
    "            newtheta[1] = newtheta[1] - aVal*(prediction(newtheta,x)- 0 )*x[1]\n",
    "            newtheta[2] = newtheta[2] - aVal*(prediction(newtheta,x) - 0)*x[2]\n",
    "\n",
    "\n",
    "            con = norm2(newtheta, theta) #Getting Norm2\n",
    "\n",
    "            theta = [newtheta[0],newtheta[1],newtheta[2]] #Updating old theta to new theta\n",
    "\n",
    "            count += 1 #Keeping track of iterations\n",
    "\n",
    "            if(con < thresVal):\n",
    "                print(\"Iterations:\",count)\n",
    "                return theta,count\n",
    "\n",
    "            #Train for class 1\n",
    "            x = [1,class1[0][i],class1[1][i]] #Get x values for i position for class 1\n",
    "\n",
    "            newtheta[0] = newtheta[0] - aVal*(prediction(newtheta,x) - 1) # Gradient Descent\n",
    "            newtheta[1] = newtheta[1] - aVal*(prediction(newtheta,x) - 1)*x[1]\n",
    "            newtheta[2] = newtheta[2] - aVal*(prediction(newtheta,x) - 1)*x[2]\n",
    "\n",
    "            con = norm2(newtheta, theta) #Getting Norm2\n",
    "\n",
    "            theta = [newtheta[0],newtheta[1],newtheta[2]] #Updating old theta to new theta\n",
    "\n",
    "            count += 1 #Keeping track of iterations\n",
    "\n",
    "            if(con < thresVal):\n",
    "                print(\"Iterations:\",count)\n",
    "                return theta, count\n",
    "\n",
    "\n",
    "    print(\"Iterations:\",count)\n",
    "    return theta,count"
   ]
  },
  {
   "cell_type": "code",
   "execution_count": 20,
   "metadata": {
    "scrolled": false
   },
   "outputs": [
    {
     "name": "stdout",
     "output_type": "stream",
     "text": [
      "Question 2(h)\n",
      "============= \n",
      "\n",
      "a is: 0.1\n",
      "thres is: 0.5\n",
      "Iterations: 1\n"
     ]
    },
    {
     "data": {
      "image/png": "[encoded data removed]",
      "text/plain": [
       "<Figure size 432x288 with 1 Axes>"
      ]
     },
     "metadata": {
      "needs_background": "light"
     },
     "output_type": "display_data"
    },
    {
     "name": "stdout",
     "output_type": "stream",
     "text": [
      "\n",
      "Confusion Matrix\n",
      "====================\n",
      "Class\t0\t1\n",
      "0\t3\t17\n",
      "1\t5\t15\n",
      "\n",
      "Accuracy is 0.45\n",
      "====================\n",
      "\n",
      "\n",
      "Log Likelihood Error is 32.10157686893096\n",
      "\n",
      "==========================\n",
      "a is: 0.1\n",
      "thres is: 0.05\n",
      "Iterations: 2\n"
     ]
    },
    {
     "data": {
      "image/png": "[encoded data removed]",
      "text/plain": [
       "<Figure size 432x288 with 1 Axes>"
      ]
     },
     "metadata": {
      "needs_background": "light"
     },
     "output_type": "display_data"
    },
    {
     "name": "stdout",
     "output_type": "stream",
     "text": [
      "\n",
      "Confusion Matrix\n",
      "====================\n",
      "Class\t0\t1\n",
      "0\t2\t18\n",
      "1\t5\t15\n",
      "\n",
      "Accuracy is 0.425\n",
      "====================\n",
      "\n",
      "\n",
      "Log Likelihood Error is 33.18109285324667\n",
      "\n",
      "==========================\n",
      "a is: 0.1\n",
      "thres is: 0.005\n",
      "Iterations: 52\n"
     ]
    },
    {
     "data": {
      "image/png": "[encoded data removed]",
      "text/plain": [
       "<Figure size 432x288 with 1 Axes>"
      ]
     },
     "metadata": {
      "needs_background": "light"
     },
     "output_type": "display_data"
    },
    {
     "name": "stdout",
     "output_type": "stream",
     "text": [
      "\n",
      "Confusion Matrix\n",
      "====================\n",
      "Class\t0\t1\n",
      "0\t17\t3\n",
      "1\t2\t18\n",
      "\n",
      "Accuracy is 0.875\n",
      "====================\n",
      "\n",
      "\n",
      "Log Likelihood Error is 51.32345033818136\n",
      "\n",
      "==========================\n",
      "a is: 0.1\n",
      "thres is: 0.0005\n",
      "Iterations: 148\n"
     ]
    },
    {
     "data": {
      "image/png": "[encoded data removed]",
      "text/plain": [
       "<Figure size 432x288 with 1 Axes>"
      ]
     },
     "metadata": {
      "needs_background": "light"
     },
     "output_type": "display_data"
    },
    {
     "name": "stdout",
     "output_type": "stream",
     "text": [
      "\n",
      "Confusion Matrix\n",
      "====================\n",
      "Class\t0\t1\n",
      "0\t18\t2\n",
      "1\t2\t18\n",
      "\n",
      "Accuracy is 0.9\n",
      "====================\n",
      "\n",
      "\n",
      "Log Likelihood Error is 69.24413507299103\n",
      "\n",
      "==========================\n",
      "a is: 0.1\n",
      "thres is: 5e-05\n",
      "Iterations: 388\n"
     ]
    },
    {
     "data": {
      "image/png": "[encoded data removed]",
      "text/plain": [
       "<Figure size 432x288 with 1 Axes>"
      ]
     },
     "metadata": {
      "needs_background": "light"
     },
     "output_type": "display_data"
    },
    {
     "name": "stdout",
     "output_type": "stream",
     "text": [
      "\n",
      "Confusion Matrix\n",
      "====================\n",
      "Class\t0\t1\n",
      "0\t18\t2\n",
      "1\t2\t18\n",
      "\n",
      "Accuracy is 0.9\n",
      "====================\n",
      "\n",
      "\n",
      "Log Likelihood Error is 88.99472342498385\n",
      "\n",
      "==========================\n",
      "a is: 0.01\n",
      "thres is: 0.5\n",
      "Iterations: 1\n"
     ]
    },
    {
     "data": {
      "image/png": "[encoded data removed]",
      "text/plain": [
       "<Figure size 432x288 with 1 Axes>"
      ]
     },
     "metadata": {
      "needs_background": "light"
     },
     "output_type": "display_data"
    },
    {
     "name": "stdout",
     "output_type": "stream",
     "text": [
      "\n",
      "Confusion Matrix\n",
      "====================\n",
      "Class\t0\t1\n",
      "0\t0\t20\n",
      "1\t8\t12\n",
      "\n",
      "Accuracy is 0.3\n",
      "====================\n",
      "\n",
      "\n",
      "Log Likelihood Error is 33.52114053508383\n",
      "\n",
      "==========================\n",
      "a is: 0.01\n",
      "thres is: 0.05\n",
      "Iterations: 1\n"
     ]
    },
    {
     "data": {
      "image/png": "[encoded data removed]",
      "text/plain": [
       "<Figure size 432x288 with 1 Axes>"
      ]
     },
     "metadata": {
      "needs_background": "light"
     },
     "output_type": "display_data"
    },
    {
     "name": "stdout",
     "output_type": "stream",
     "text": [
      "\n",
      "Confusion Matrix\n",
      "====================\n",
      "Class\t0\t1\n",
      "0\t0\t20\n",
      "1\t8\t12\n",
      "\n",
      "Accuracy is 0.3\n",
      "====================\n",
      "\n",
      "\n",
      "Log Likelihood Error is 33.52114053508383\n",
      "\n",
      "==========================\n",
      "a is: 0.01\n",
      "thres is: 0.005\n",
      "Iterations: 2\n"
     ]
    },
    {
     "data": {
      "image/png": "[encoded data removed]",
      "text/plain": [
       "<Figure size 432x288 with 1 Axes>"
      ]
     },
     "metadata": {
      "needs_background": "light"
     },
     "output_type": "display_data"
    },
    {
     "name": "stdout",
     "output_type": "stream",
     "text": [
      "\n",
      "Confusion Matrix\n",
      "====================\n",
      "Class\t0\t1\n",
      "0\t0\t20\n",
      "1\t7\t13\n",
      "\n",
      "Accuracy is 0.325\n",
      "====================\n",
      "\n",
      "\n",
      "Log Likelihood Error is 33.62976700860542\n",
      "\n",
      "==========================\n",
      "a is: 0.01\n",
      "thres is: 0.0005\n",
      "Iterations: 492\n"
     ]
    },
    {
     "data": {
      "image/png": "[encoded data removed]",
      "text/plain": [
       "<Figure size 432x288 with 1 Axes>"
      ]
     },
     "metadata": {
      "needs_background": "light"
     },
     "output_type": "display_data"
    },
    {
     "name": "stdout",
     "output_type": "stream",
     "text": [
      "\n",
      "Confusion Matrix\n",
      "====================\n",
      "Class\t0\t1\n",
      "0\t17\t3\n",
      "1\t2\t18\n",
      "\n",
      "Accuracy is 0.875\n",
      "====================\n",
      "\n",
      "\n",
      "Log Likelihood Error is 50.75620737058864\n",
      "\n",
      "==========================\n",
      "a is: 0.01\n",
      "thres is: 5e-05\n",
      "Iterations: 1000\n"
     ]
    },
    {
     "data": {
      "image/png": "[encoded data removed]",
      "text/plain": [
       "<Figure size 432x288 with 1 Axes>"
      ]
     },
     "metadata": {
      "needs_background": "light"
     },
     "output_type": "display_data"
    },
    {
     "name": "stdout",
     "output_type": "stream",
     "text": [
      "\n",
      "Confusion Matrix\n",
      "====================\n",
      "Class\t0\t1\n",
      "0\t18\t2\n",
      "1\t2\t18\n",
      "\n",
      "Accuracy is 0.9\n",
      "====================\n",
      "\n",
      "\n",
      "Log Likelihood Error is 62.42213638424434\n",
      "\n",
      "==========================\n",
      "a is: 0.001\n",
      "thres is: 0.5\n",
      "Iterations: 1\n"
     ]
    },
    {
     "data": {
      "image/png": "[encoded data removed]",
      "text/plain": [
       "<Figure size 432x288 with 1 Axes>"
      ]
     },
     "metadata": {
      "needs_background": "light"
     },
     "output_type": "display_data"
    },
    {
     "name": "stdout",
     "output_type": "stream",
     "text": [
      "\n",
      "Confusion Matrix\n",
      "====================\n",
      "Class\t0\t1\n",
      "0\t0\t20\n",
      "1\t9\t11\n",
      "\n",
      "Accuracy is 0.275\n",
      "====================\n",
      "\n",
      "\n",
      "Log Likelihood Error is 33.71787030121956\n",
      "\n",
      "==========================\n",
      "a is: 0.001\n",
      "thres is: 0.05\n",
      "Iterations: 1\n"
     ]
    },
    {
     "data": {
      "image/png": "[encoded data removed]",
      "text/plain": [
       "<Figure size 432x288 with 1 Axes>"
      ]
     },
     "metadata": {
      "needs_background": "light"
     },
     "output_type": "display_data"
    },
    {
     "name": "stdout",
     "output_type": "stream",
     "text": [
      "\n",
      "Confusion Matrix\n",
      "====================\n",
      "Class\t0\t1\n",
      "0\t0\t20\n",
      "1\t9\t11\n",
      "\n",
      "Accuracy is 0.275\n",
      "====================\n",
      "\n",
      "\n",
      "Log Likelihood Error is 33.71787030121956\n",
      "\n",
      "==========================\n",
      "a is: 0.001\n",
      "thres is: 0.005\n",
      "Iterations: 1\n"
     ]
    },
    {
     "data": {
      "image/png": "[encoded data removed]",
      "text/plain": [
       "<Figure size 432x288 with 1 Axes>"
      ]
     },
     "metadata": {
      "needs_background": "light"
     },
     "output_type": "display_data"
    },
    {
     "name": "stdout",
     "output_type": "stream",
     "text": [
      "\n",
      "Confusion Matrix\n",
      "====================\n",
      "Class\t0\t1\n",
      "0\t0\t20\n",
      "1\t9\t11\n",
      "\n",
      "Accuracy is 0.275\n",
      "====================\n",
      "\n",
      "\n",
      "Log Likelihood Error is 33.71787030121956\n",
      "\n",
      "==========================\n",
      "a is: 0.001\n",
      "thres is: 0.0005\n",
      "Iterations: 2\n"
     ]
    },
    {
     "data": {
      "image/png": "[encoded data removed]",
      "text/plain": [
       "<Figure size 432x288 with 1 Axes>"
      ]
     },
     "metadata": {
      "needs_background": "light"
     },
     "output_type": "display_data"
    },
    {
     "name": "stdout",
     "output_type": "stream",
     "text": [
      "\n",
      "Confusion Matrix\n",
      "====================\n",
      "Class\t0\t1\n",
      "0\t0\t20\n",
      "1\t9\t11\n",
      "\n",
      "Accuracy is 0.275\n",
      "====================\n",
      "\n",
      "\n",
      "Log Likelihood Error is 33.728737803266064\n",
      "\n",
      "==========================\n",
      "a is: 0.001\n",
      "thres is: 5e-05\n",
      "Iterations: 1000\n"
     ]
    },
    {
     "data": {
      "image/png": "[encoded data removed]",
      "text/plain": [
       "<Figure size 432x288 with 1 Axes>"
      ]
     },
     "metadata": {
      "needs_background": "light"
     },
     "output_type": "display_data"
    },
    {
     "name": "stdout",
     "output_type": "stream",
     "text": [
      "\n",
      "Confusion Matrix\n",
      "====================\n",
      "Class\t0\t1\n",
      "0\t15\t5\n",
      "1\t2\t18\n",
      "\n",
      "Accuracy is 0.825\n",
      "====================\n",
      "\n",
      "\n",
      "Log Likelihood Error is 35.09482619243963\n",
      "\n",
      "==========================\n",
      "a is: 0.0001\n",
      "thres is: 0.5\n",
      "Iterations: 1\n"
     ]
    },
    {
     "data": {
      "image/png": "[encoded data removed]",
      "text/plain": [
       "<Figure size 432x288 with 1 Axes>"
      ]
     },
     "metadata": {
      "needs_background": "light"
     },
     "output_type": "display_data"
    },
    {
     "name": "stdout",
     "output_type": "stream",
     "text": [
      "\n",
      "Confusion Matrix\n",
      "====================\n",
      "Class\t0\t1\n",
      "0\t0\t20\n",
      "1\t9\t11\n",
      "\n",
      "Accuracy is 0.275\n",
      "====================\n",
      "\n",
      "\n",
      "Log Likelihood Error is 33.73815763932162\n",
      "\n",
      "==========================\n",
      "a is: 0.0001\n",
      "thres is: 0.05\n",
      "Iterations: 1\n"
     ]
    },
    {
     "data": {
      "image/png": "[encoded data removed]",
      "text/plain": [
       "<Figure size 432x288 with 1 Axes>"
      ]
     },
     "metadata": {
      "needs_background": "light"
     },
     "output_type": "display_data"
    },
    {
     "name": "stdout",
     "output_type": "stream",
     "text": [
      "\n",
      "Confusion Matrix\n",
      "====================\n",
      "Class\t0\t1\n",
      "0\t0\t20\n",
      "1\t9\t11\n",
      "\n",
      "Accuracy is 0.275\n",
      "====================\n",
      "\n",
      "\n",
      "Log Likelihood Error is 33.73815763932162\n",
      "\n",
      "==========================\n",
      "a is: 0.0001\n",
      "thres is: 0.005\n",
      "Iterations: 1\n"
     ]
    },
    {
     "data": {
      "image/png": "[encoded data removed]",
      "text/plain": [
       "<Figure size 432x288 with 1 Axes>"
      ]
     },
     "metadata": {
      "needs_background": "light"
     },
     "output_type": "display_data"
    },
    {
     "name": "stdout",
     "output_type": "stream",
     "text": [
      "\n",
      "Confusion Matrix\n",
      "====================\n",
      "Class\t0\t1\n",
      "0\t0\t20\n",
      "1\t9\t11\n",
      "\n",
      "Accuracy is 0.275\n",
      "====================\n",
      "\n",
      "\n",
      "Log Likelihood Error is 33.73815763932162\n",
      "\n",
      "==========================\n",
      "a is: 0.0001\n",
      "thres is: 0.0005\n",
      "Iterations: 1\n"
     ]
    },
    {
     "data": {
      "image/png": "[encoded data removed]",
      "text/plain": [
       "<Figure size 432x288 with 1 Axes>"
      ]
     },
     "metadata": {
      "needs_background": "light"
     },
     "output_type": "display_data"
    },
    {
     "name": "stdout",
     "output_type": "stream",
     "text": [
      "\n",
      "Confusion Matrix\n",
      "====================\n",
      "Class\t0\t1\n",
      "0\t0\t20\n",
      "1\t9\t11\n",
      "\n",
      "Accuracy is 0.275\n",
      "====================\n",
      "\n",
      "\n",
      "Log Likelihood Error is 33.73815763932162\n",
      "\n",
      "==========================\n",
      "a is: 0.0001\n",
      "thres is: 5e-05\n",
      "Iterations: 2\n"
     ]
    },
    {
     "data": {
      "image/png": "[encoded data removed]",
      "text/plain": [
       "<Figure size 432x288 with 1 Axes>"
      ]
     },
     "metadata": {
      "needs_background": "light"
     },
     "output_type": "display_data"
    },
    {
     "name": "stdout",
     "output_type": "stream",
     "text": [
      "\n",
      "Confusion Matrix\n",
      "====================\n",
      "Class\t0\t1\n",
      "0\t0\t20\n",
      "1\t9\t11\n",
      "\n",
      "Accuracy is 0.275\n",
      "====================\n",
      "\n",
      "\n",
      "Log Likelihood Error is 33.73924443458415\n",
      "\n",
      "==========================\n",
      "a is: 1e-05\n",
      "thres is: 0.5\n",
      "Iterations: 1\n"
     ]
    },
    {
     "data": {
      "image/png": "[encoded data removed]",
      "text/plain": [
       "<Figure size 432x288 with 1 Axes>"
      ]
     },
     "metadata": {
      "needs_background": "light"
     },
     "output_type": "display_data"
    },
    {
     "name": "stdout",
     "output_type": "stream",
     "text": [
      "\n",
      "Confusion Matrix\n",
      "====================\n",
      "Class\t0\t1\n",
      "0\t0\t20\n",
      "1\t9\t11\n",
      "\n",
      "Accuracy is 0.275\n",
      "====================\n",
      "\n",
      "\n",
      "Log Likelihood Error is 33.74019257767321\n",
      "\n",
      "==========================\n",
      "a is: 1e-05\n",
      "thres is: 0.05\n",
      "Iterations: 1\n"
     ]
    },
    {
     "data": {
      "image/png": "[encoded data removed]",
      "text/plain": [
       "<Figure size 432x288 with 1 Axes>"
      ]
     },
     "metadata": {
      "needs_background": "light"
     },
     "output_type": "display_data"
    },
    {
     "name": "stdout",
     "output_type": "stream",
     "text": [
      "\n",
      "Confusion Matrix\n",
      "====================\n",
      "Class\t0\t1\n",
      "0\t0\t20\n",
      "1\t9\t11\n",
      "\n",
      "Accuracy is 0.275\n",
      "====================\n",
      "\n",
      "\n",
      "Log Likelihood Error is 33.74019257767321\n",
      "\n",
      "==========================\n",
      "a is: 1e-05\n",
      "thres is: 0.005\n",
      "Iterations: 1\n"
     ]
    },
    {
     "data": {
      "image/png": "[encoded data removed]",
      "text/plain": [
       "<Figure size 432x288 with 1 Axes>"
      ]
     },
     "metadata": {
      "needs_background": "light"
     },
     "output_type": "display_data"
    },
    {
     "name": "stdout",
     "output_type": "stream",
     "text": [
      "\n",
      "Confusion Matrix\n",
      "====================\n",
      "Class\t0\t1\n",
      "0\t0\t20\n",
      "1\t9\t11\n",
      "\n",
      "Accuracy is 0.275\n",
      "====================\n",
      "\n",
      "\n",
      "Log Likelihood Error is 33.74019257767321\n",
      "\n",
      "==========================\n",
      "a is: 1e-05\n",
      "thres is: 0.0005\n",
      "Iterations: 1\n"
     ]
    },
    {
     "data": {
      "image/png": "[encoded data removed]",
      "text/plain": [
       "<Figure size 432x288 with 1 Axes>"
      ]
     },
     "metadata": {
      "needs_background": "light"
     },
     "output_type": "display_data"
    },
    {
     "name": "stdout",
     "output_type": "stream",
     "text": [
      "\n",
      "Confusion Matrix\n",
      "====================\n",
      "Class\t0\t1\n",
      "0\t0\t20\n",
      "1\t9\t11\n",
      "\n",
      "Accuracy is 0.275\n",
      "====================\n",
      "\n",
      "\n",
      "Log Likelihood Error is 33.74019257767321\n",
      "\n",
      "==========================\n",
      "a is: 1e-05\n",
      "thres is: 5e-05\n",
      "Iterations: 1\n"
     ]
    },
    {
     "data": {
      "image/png": "[encoded data removed]",
      "text/plain": [
       "<Figure size 432x288 with 1 Axes>"
      ]
     },
     "metadata": {
      "needs_background": "light"
     },
     "output_type": "display_data"
    },
    {
     "name": "stdout",
     "output_type": "stream",
     "text": [
      "\n",
      "Confusion Matrix\n",
      "====================\n",
      "Class\t0\t1\n",
      "0\t0\t20\n",
      "1\t9\t11\n",
      "\n",
      "Accuracy is 0.275\n",
      "====================\n",
      "\n",
      "\n",
      "Log Likelihood Error is 33.74019257767321\n",
      "\n",
      "==========================\n"
     ]
    }
   ],
   "source": [
    "# Question 2(h)\n",
    "aValues = [0.1,0.01,0.001,0.0001,0.00001]\n",
    "thresholdValues = [0.5,0.05,0.005,0.0005,0.00005]\n",
    "maxIterations = 1000\n",
    "\n",
    "\n",
    "def trainAndValidate(origTheta, class0, class1,valid0, valid1, aVal, threshVal, maxIterations):\n",
    "    \n",
    "    theta, iterations = trainFullyWIterations(class0, class1, origTheta, aVal, threshVal, maxIterations)\n",
    "    \n",
    "    #Graph Plot\n",
    "\n",
    "    x = np.linspace(-6,6,100)\n",
    "    y = -theta[1]/theta[2]*x - theta[0]/theta[2] #Initialising decision boundary\n",
    "    \n",
    "    plt.plot(x, y)\n",
    "    plotScatter(valid0,valid1)\n",
    "    print(\"\")\n",
    "    \n",
    "    #Validation Error\n",
    "    correct0, correct1, logLikelihood = getConfusionDataAndLogLikelihood(valid0, valid1, theta)\n",
    "\n",
    "    printConfusionMatrix(correct0, correct1, 20)\n",
    "    print(\"\")\n",
    "\n",
    "    printLogLikelihood(logLikelihood)\n",
    "    \n",
    "    print(\"\\n==========================\")    \n",
    "    \n",
    "    return (correct0 + correct1)/40, iterations\n",
    "    \n",
    "    \n",
    "maxAcc = 0\n",
    "optimalA = 0\n",
    "optimalThresh = 0\n",
    "currIterations = 0\n",
    "\n",
    "# Question 2(h) - PRINT\n",
    "quesPrint(\"2(h)\")\n",
    "for aVal in aValues:\n",
    "    for threshVal in thresholdValues:\n",
    "        print(\"a is:\",aVal)\n",
    "        print(\"thres is:\",threshVal)\n",
    "        currAcc, iterations = trainAndValidate(origTheta, class0_points, class1_points,valid0_points, valid1_points, aVal, threshVal, maxIterations)\n",
    "        \n",
    "        if (currAcc > maxAcc):\n",
    "            if (currAcc == maxAcc):\n",
    "                if (iterations != maxIterations):\n",
    "                    currIterations = iterations\n",
    "            else:\n",
    "                maxAcc = currAcc\n",
    "                optimalA = aVal\n",
    "                optimalThresh = threshVal\n",
    "                currIterations = iterations"
   ]
  },
  {
   "cell_type": "code",
   "execution_count": 21,
   "metadata": {},
   "outputs": [
    {
     "name": "stdout",
     "output_type": "stream",
     "text": [
      "Class 0\n",
      "=======\n",
      "Testing x1 values:\n",
      "\n",
      "[-0.72926673  0.4813907  -1.7742191  -0.26526483 -0.83320035 -1.58768329\n",
      " -1.20232268 -2.46336027 -2.74512088 -0.6451999  -0.80565334 -2.843022\n",
      " -1.61730345 -1.7103897  -1.80161457  0.59117606 -1.60422913  0.79930674\n",
      " -2.22865919 -1.3990102 ]\n",
      "\n",
      "Testing x2 values:\n",
      "\n",
      "[ 0.73789362  3.77916778  0.89092901  1.73842998  0.5732163   1.58898253\n",
      "  1.5322391  -0.2660044   1.80299203  0.96477809  0.4812784   2.10992152\n",
      "  0.08590508  1.08262246 -0.43085253  1.86345661  1.27522295 -0.45050245\n",
      " -0.24728686  0.42014334]\n",
      "\n",
      "Class 1\n",
      "=======\n",
      "Testing x1 values:\n",
      "\n",
      "[ 0.2715993   0.46775984 -0.06837869  2.98118442 -0.56305094  1.46311262\n",
      "  3.08546841  0.06713532  0.93763483  1.87702797  2.08958315  1.70325684\n",
      " -1.40045818  0.9172261   0.97492611  0.77887258  1.14367125  0.85990057\n",
      "  0.81791461  0.87983507]\n",
      "\n",
      "Testing x2 values:\n",
      "\n",
      "[ 0.233212   -2.798693   -1.24435225 -3.01562844 -0.39868757  0.05850605\n",
      "  0.38548961  1.04278915 -1.60253783 -2.45549035 -1.43334901 -1.18842111\n",
      "  0.13940233 -0.44692398  0.72619683  0.18196117 -1.0819419  -0.18370418\n",
      " -1.38302287 -0.75402794]\n"
     ]
    }
   ],
   "source": [
    "# Question 2(i)\n",
    "\n",
    "test0_points, test1_points = generateData(1,20)\n",
    "\n",
    "print2Class(test0_points, test1_points, \"Testing\")"
   ]
  },
  {
   "cell_type": "code",
   "execution_count": 22,
   "metadata": {},
   "outputs": [
    {
     "name": "stdout",
     "output_type": "stream",
     "text": [
      "Iterations: 148\n",
      "Question 2(i)\n",
      "============= \n",
      "\n",
      "Optimal A is 0.1\n",
      "Optimal Threshold is 0.0005 \n",
      "\n"
     ]
    },
    {
     "data": {
      "image/png": "[encoded data removed]",
      "text/plain": [
       "<Figure size 432x288 with 1 Axes>"
      ]
     },
     "metadata": {
      "needs_background": "light"
     },
     "output_type": "display_data"
    },
    {
     "name": "stdout",
     "output_type": "stream",
     "text": [
      "\n",
      "Confusion Matrix\n",
      "====================\n",
      "Class\t0\t1\n",
      "0\t19\t1\n",
      "1\t3\t17\n",
      "\n",
      "Accuracy is 0.9\n",
      "====================\n",
      "\n",
      "\n",
      "Log Likelihood Error is 61.4751905298811\n"
     ]
    }
   ],
   "source": [
    "# Question 2(i)\n",
    "theta = trainFully(class0_points, class1_points, origTheta, optimalA, optimalThresh, maxIterations)\n",
    "\n",
    "#Confusion Matrix & Log-Likelihood\n",
    "\n",
    "correct0, correct1, logLikelihood = getConfusionDataAndLogLikelihood(test0_points, test1_points, theta)\n",
    "\n",
    "#Graph Plot \n",
    "x = np.linspace(-6,6,100)\n",
    "y = -theta[1]/theta[2]*x - theta[0]/theta[2] #Initialising first iteration decision boundary\n",
    "\n",
    "# Question 2(i) - PRINT\n",
    "quesPrint(\"2(i)\")\n",
    "\n",
    "print(\"Optimal A is\",optimalA)\n",
    "print(\"Optimal Threshold is\",optimalThresh,\"\\n\")\n",
    "\n",
    "plt.plot(x, y)\n",
    "plotScatter(test0_points, test1_points)\n",
    "print(\"\")\n",
    "\n",
    "printConfusionMatrix(correct0, correct1, 20)\n",
    "print(\"\")\n",
    "\n",
    "printLogLikelihood(logLikelihood)"
   ]
  },
  {
   "cell_type": "markdown",
   "metadata": {},
   "source": [
    "## Question 2(j)\n",
    "\n",
    "### It is important to have all 3 common data sets because,\n",
    "\n",
    "### Training Set\n",
    "=============\n",
    "\n",
    "We need an actual data set to let our algorithm learn from \n",
    "otherwise I algorithm would not be able to predict anything\n",
    "therefore, having no use to us (ML will be useless)\n",
    "\n",
    "### Validation Set\n",
    "===============\n",
    "\n",
    "As seen in this lab, different a (or alpha) values and threshold values\n",
    "(for our stopping condition) can and will majorly impact how good our \n",
    "algorithm will be at predicting values. We therefore use the validation\n",
    "data set to go through and find the most effective a (or alpha) and \n",
    "threshold values\n",
    "\n",
    "We use it for fine-tuning our hyperparameters!\n",
    "\n",
    "### Testing Set\n",
    "============\n",
    "\n",
    "We need to actually put our algorithm into action! We need to make sure\n",
    "we never overfit our data. We simulate what a real-life example would be\n",
    "by merely giving a data set the algorithm never interact with before.\n",
    "i.e. the testing data set. We can tell if we overfitted our data\n",
    "and also we can just see how our algorithm does in general without having\n",
    "to physically get/wait for real world data."
   ]
  },
  {
   "cell_type": "code",
   "execution_count": 23,
   "metadata": {},
   "outputs": [],
   "source": [
    "# Question 2(j)\n",
    "\n",
    "# It is important to have all 3 common data sets because,\n",
    "\n",
    "# Training Set\n",
    "#=============\n",
    "\n",
    "# We need an actual data set to let our algorithm learn from \n",
    "# otherwise I algorithm would not be able to predict anything\n",
    "# therefore, having no use to us (ML will be useless)\n",
    "\n",
    "# Validation Set\n",
    "#===============\n",
    "\n",
    "# As seen in this lab, different a (or alpha) values and threshold values\n",
    "# (for our stopping condition) can and will majorly impact how good our \n",
    "# algorithm will be at predicting values. We therefore use the validation\n",
    "# data set to go through and find the most effective a (or alpha) and \n",
    "# threshold values\n",
    "\n",
    "# We use it for fine-tuning our hyperparameters!\n",
    "\n",
    "# Testing Set\n",
    "#============\n",
    "\n",
    "# We need to actually put our algorithm into action! We need to make sure\n",
    "# we never overfit our data. We simulate what a real-life example would be\n",
    "# by merely giving a data set the algorithm never interact with before.\n",
    "# i.e. the testing data set. We can tell if we overfitted our data\n",
    "# and also we can just see how our algorithm does in general without having\n",
    "# to physically get/wait for real world data."
   ]
  }
 ],
 "metadata": {
  "kernelspec": {
   "display_name": "Python 3",
   "language": "python",
   "name": "python3"
  },
  "language_info": {
   "codemirror_mode": {
    "name": "ipython",
    "version": 3
   },
   "file_extension": ".py",
   "mimetype": "text/x-python",
   "name": "python",
   "nbconvert_exporter": "python",
   "pygments_lexer": "ipython3",
   "version": "3.9.5"
  }
 },
 "nbformat": 4,
 "nbformat_minor": 4
}
