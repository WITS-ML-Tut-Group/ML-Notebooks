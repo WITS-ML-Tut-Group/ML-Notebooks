{
 "cells": [
  {
   "cell_type": "markdown",
   "metadata": {},
   "source": [
    "# Authors\n",
    "# ----------------------------------------\n",
    "\n",
    "## Kiara Gabriel             -    2161334\n",
    "\n",
    "## Phola Bavuma          -    1848739\n",
    "\n",
    "## Shravan Singh         -    2173638\n",
    "\n",
    "## Arneev Singh          -    2180393\n",
    "\n",
    "# ----------------------------------------"
   ]
  },
  {
   "cell_type": "code",
   "execution_count": 1,
   "metadata": {},
   "outputs": [],
   "source": [
    "import numpy as np\n",
    "import matplotlib.pyplot as plt"
   ]
  },
  {
   "cell_type": "code",
   "execution_count": 2,
   "metadata": {},
   "outputs": [],
   "source": [
    "#NOTE:\n",
    "#If you run the getConfusionData / train functions more than once without \n",
    "#re-running ALL the code from the start, the confusion matrx will get messed up\n",
    "\n",
    "#ALWAYS RE-RUN THE CODE "
   ]
  },
  {
   "cell_type": "code",
   "execution_count": 3,
   "metadata": {},
   "outputs": [],
   "source": [
    "#Formatting Questions - Helper Function\n",
    "def quesPrint(number):\n",
    "    print(\"Question\",number)\n",
    "    totLen = len(\"Question\") + 1 + len(str(number))\n",
    "    string = \"\"\n",
    "    \n",
    "    for i in range(totLen):\n",
    "        string += \"=\"\n",
    "    \n",
    "    print(string,\"\\n\")"
   ]
  },
  {
   "cell_type": "code",
   "execution_count": 4,
   "metadata": {},
   "outputs": [],
   "source": [
    "# Question 1(a)\n",
    "def generateData(std, numbPoints, cx1=-1,cy1=1,cx2=1,cy2=-1):\n",
    "    # Class 0\n",
    "    x = [[], []]\n",
    "\n",
    "    x[0] = np.random.normal(cx1, std, numbPoints)\n",
    "    x[1] = np.random.normal(cy1, std, numbPoints)\n",
    "    class0_points = np.array(x)\n",
    "\n",
    "    #Class 1\n",
    "    y = [[], []]\n",
    "\n",
    "    y[0] = np.random.normal(cx2, std, numbPoints)\n",
    "    y[1] = np.random.normal(cy2, std, numbPoints)\n",
    "    class1_points = np.array(y)\n",
    "    \n",
    "    return [class0_points, class1_points]\n",
    "\n",
    "class0_points, class1_points = generateData(1,20)"
   ]
  },
  {
   "cell_type": "code",
   "execution_count": 5,
   "metadata": {
    "scrolled": true
   },
   "outputs": [
    {
     "name": "stdout",
     "output_type": "stream",
     "text": [
      "Question 1(a)\n",
      "============= \n",
      "\n",
      "Class 0\n",
      "=======\n",
      "Training x1 values:\n",
      "\n",
      "[-1.40805506  0.05343008  0.4244731   0.08713437 -2.08377693 -0.76261961\n",
      "  0.27660926 -0.87922099 -0.84216935 -2.61038797 -1.17616758  0.04331397\n",
      " -2.57421072 -1.08634574  0.1509215  -0.77579307 -2.80102338 -0.32172517\n",
      " -3.21299499 -1.00652826]\n",
      "\n",
      "Training x2 values:\n",
      "\n",
      "[-0.77400146 -0.32591469 -0.19802765  0.62346662 -1.60129903  0.07842719\n",
      " -0.23434878  0.97954254 -0.00612404 -2.50417033  4.27576666  0.23582287\n",
      "  2.28215072  0.21722076 -0.61122823  0.10644975 -0.80013752  0.33563435\n",
      " -0.24398988  0.90162762]\n",
      "\n",
      "Class 1\n",
      "=======\n",
      "Training x1 values:\n",
      "\n",
      "[ 0.56053959  0.70656613  0.13217995  1.77694359  2.10363428  2.09970651\n",
      "  1.02447459 -0.35925395  1.92824104  0.06058339  1.02795651  1.70232974\n",
      "  2.43542132  2.21176653  1.53283386  0.46120131  0.79468365  1.21564424\n",
      "  0.27262467  1.11808758]\n",
      "\n",
      "Training x2 values:\n",
      "\n",
      "[-1.10346997  0.51085059 -2.57428324 -0.83561946 -2.85750641  0.57105835\n",
      "  0.53339196 -0.07206588 -1.37511287 -0.9456989  -0.08507076 -1.3463054\n",
      "  0.84622391 -0.3102258   0.0527218  -1.73819871 -0.56080381  0.02655268\n",
      "  0.18200334  0.51499532]\n"
     ]
    }
   ],
   "source": [
    "def print2Class(class0,class1, typeData):\n",
    "    print(\"Class 0\")\n",
    "    print(\"=======\")\n",
    "\n",
    "    print(typeData + \" x1 values:\\n\")\n",
    "    print(class0[0])\n",
    "    print(\"\\n\" + typeData + \" x2 values:\\n\")\n",
    "    print(class0[1])\n",
    "\n",
    "    print(\"\\nClass 1\")\n",
    "    print(\"=======\")\n",
    "\n",
    "    print(typeData + \" x1 values:\\n\")\n",
    "    print(class1[0])\n",
    "    print(\"\\n\" + typeData + \" x2 values:\\n\")\n",
    "    print(class1[1])\n",
    "\n",
    "# Question 1(a) - PRINT\n",
    "\n",
    "quesPrint(\"1(a)\")\n",
    "print2Class(class0_points, class1_points, \"Training\")"
   ]
  },
  {
   "cell_type": "code",
   "execution_count": 6,
   "metadata": {},
   "outputs": [
    {
     "name": "stdout",
     "output_type": "stream",
     "text": [
      "Question 1(b)\n",
      "============= \n",
      "\n"
     ]
    },
    {
     "data": {
      "image/png": "[encoded data removed]",
      "text/plain": [
       "<Figure size 432x288 with 1 Axes>"
      ]
     },
     "metadata": {
      "needs_background": "light"
     },
     "output_type": "display_data"
    },
    {
     "name": "stdout",
     "output_type": "stream",
     "text": [
      "The points are easily separable - it is clear where the centre of each class is because of the denseness of the dots. There are a few overlaps between the data in the two classes, similar to real-world data.\n"
     ]
    }
   ],
   "source": [
    "# Question 1(b)\n",
    "\n",
    "#Plot Scatter Graph Function\n",
    "def plotScatter(class0, class1):\n",
    "    \n",
    "    plt.scatter(class0[0], class0[1])\n",
    "    plt.scatter(class1[0], class1[1])\n",
    "\n",
    "    plt.axis('equal')\n",
    "    plt.show()\n",
    "\n",
    "\n",
    "# Question 1(b) - PRINT\n",
    "quesPrint(\"1(b)\")\n",
    "\n",
    "plotScatter(class0_points, class1_points)\n",
    "\n",
    "print(\"The points are easily separable - it is clear where the centre of each class is because of the denseness of the dots. There are a few overlaps between the data in the two classes, similar to real-world data.\")"
   ]
  },
  {
   "cell_type": "code",
   "execution_count": 7,
   "metadata": {},
   "outputs": [
    {
     "name": "stdout",
     "output_type": "stream",
     "text": [
      "Question 1(c)\n",
      "============= \n",
      "\n",
      "variance = 3\n",
      "standard variation = 1.73205\n"
     ]
    },
    {
     "data": {
      "image/png": "[encoded data removed]",
      "text/plain": [
       "<Figure size 432x288 with 1 Axes>"
      ]
     },
     "metadata": {
      "needs_background": "light"
     },
     "output_type": "display_data"
    },
    {
     "name": "stdout",
     "output_type": "stream",
     "text": [
      "With a variance of 3, the data in the two different classes are a lot less separable. It is harder to determine which points belong to which class because the overlap is a lot greater and all the points looks very clustered together. It is evident that, the greater the variance (with close centers), the greater the overlap.\n"
     ]
    }
   ],
   "source": [
    "# Question 1(c)\n",
    "# var = 3 therefore, std = 1.73205...\n",
    "# center at (1,-1) and (-1, 1)\n",
    "\n",
    "x1, x2 = generateData(np.sqrt(3),20)\n",
    "\n",
    "# Question 1(c) - PRINT\n",
    "quesPrint(\"1(c)\")\n",
    "print(\"variance = 3\")\n",
    "print(\"standard variation = 1.73205\")\n",
    "\n",
    "plotScatter(x1,x2)\n",
    "\n",
    "print(\"With a variance of 3, the data in the two different classes are a lot less separable. It is harder to determine which points belong to which class because the overlap is a lot greater and all the points looks very clustered together. It is evident that, the greater the variance (with close centers), the greater the overlap.\")"
   ]
  },
  {
   "cell_type": "code",
   "execution_count": 8,
   "metadata": {},
   "outputs": [
    {
     "name": "stdout",
     "output_type": "stream",
     "text": [
      "Question 1(d)\n",
      "============= \n",
      "\n",
      "variance = 1\n",
      "standard deviation = 1\n",
      "class 0 center at (3,3)\n",
      "class 1 center at (-3,-3)\n"
     ]
    },
    {
     "data": {
      "image/png": "[encoded data removed]",
      "text/plain": [
       "<Figure size 432x288 with 1 Axes>"
      ]
     },
     "metadata": {
      "needs_background": "light"
     },
     "output_type": "display_data"
    },
    {
     "name": "stdout",
     "output_type": "stream",
     "text": [
      "variance = 25\n",
      "standard deviation = 5\n",
      "class 0 center at (-2,-2)\n",
      "class 1 center at (2,2)\n"
     ]
    },
    {
     "data": {
      "image/png": "[encoded data removed]",
      "text/plain": [
       "<Figure size 432x288 with 1 Axes>"
      ]
     },
     "metadata": {
      "needs_background": "light"
     },
     "output_type": "display_data"
    },
    {
     "name": "stdout",
     "output_type": "stream",
     "text": [
      "variance = 10\n",
      "standard deviation = 3.16227...\n",
      "class 0 center at (-1,1)\n",
      "class 1 center at (1,-1)\n"
     ]
    },
    {
     "data": {
      "image/png": "[encoded data removed]",
      "text/plain": [
       "<Figure size 432x288 with 1 Axes>"
      ]
     },
     "metadata": {
      "needs_background": "light"
     },
     "output_type": "display_data"
    },
    {
     "name": "stdout",
     "output_type": "stream",
     "text": [
      "It is clear from the above 3 examples that the smaller the variance, the closer the points are to their centers, making it easier to distinguish between the two classes. Also, the further the centers of the teo classes are from each other, the more separable the data is. The dataset in the last example would be the easiest to classify.\n"
     ]
    }
   ],
   "source": [
    "# Question 1(d)\n",
    "# var = 1 therefore, std = 1)]\n",
    "# center at (3, 3) and (-3, -3)\n",
    "\n",
    "x1, x2 = generateData(1,20,3,3,-3,-3)\n",
    "\n",
    "# Question 1(d) - PRINT\n",
    "quesPrint(\"1(d)\")\n",
    "\n",
    "print(\"variance = 1\")\n",
    "print(\"standard deviation = 1\")\n",
    "print(\"class 0 center at (3,3)\")\n",
    "print(\"class 1 center at (-3,-3)\")\n",
    "\n",
    "plotScatter(x1,x2)\n",
    "\n",
    "# var = 25 therefore, std = 5\n",
    "# center at (2,2) and (-2, -2)\n",
    "\n",
    "x1, x2 = generateData(np.sqrt(25), 20,-2,-2,2,2)\n",
    "\n",
    "print(\"variance = 25\")\n",
    "print(\"standard deviation = 5\")\n",
    "print(\"class 0 center at (-2,-2)\")\n",
    "print(\"class 1 center at (2,2)\")\n",
    "\n",
    "plotScatter(x1,x2)\n",
    "\n",
    "# var = 10 therefore, std = 3.16227...\n",
    "# center at (-1,1) and (1,-1)\n",
    "\n",
    "x1, x2 = generateData(np.sqrt(10), 20)\n",
    "\n",
    "print(\"variance = 10\")\n",
    "print(\"standard deviation = 3.16227...\")\n",
    "print(\"class 0 center at (-1,1)\")\n",
    "print(\"class 1 center at (1,-1)\")\n",
    "\n",
    "plotScatter(x1,x2)\n",
    "\n",
    "\n",
    "print(\"It is clear from the above 3 examples that the smaller the variance, the closer the points are to their centers, making it easier to distinguish between the two classes. Also, the further the centers of the two classes are from each other, the more separable the data is. The dataset in the last example would be the easiest to classify.\")"
   ]
  },
  {
   "cell_type": "code",
   "execution_count": 9,
   "metadata": {},
   "outputs": [
    {
     "name": "stdout",
     "output_type": "stream",
     "text": [
      "Question 2(a)\n",
      "============= \n",
      "\n"
     ]
    },
    {
     "data": {
      "image/png": "[encoded data removed]",
      "text/plain": [
       "<Figure size 432x288 with 1 Axes>"
      ]
     },
     "metadata": {
      "needs_background": "light"
     },
     "output_type": "display_data"
    },
    {
     "name": "stdout",
     "output_type": "stream",
     "text": [
      "\n",
      "theta vector: \n",
      "[-0.34148557  0.3934485  -0.39369303]\n"
     ]
    }
   ],
   "source": [
    "# Question 2(a)\n",
    "\n",
    "theta = np.random.uniform(-0.5,0.5,3) # Initialising random theta values\n",
    "origTheta = [theta[0],theta[1],theta[2]] # Keeping a copy of original theta values\n",
    "\n",
    "x = np.linspace(-6,6,100)\n",
    "y = -theta[1]/theta[2]*x - theta[0]/theta[2] #Initialising decision boundary\n",
    "\n",
    "\n",
    "# Question 2(a) - PRINT\n",
    "quesPrint(\"2(a)\")\n",
    "\n",
    "plt.plot(x, y)\n",
    "plotScatter(class0_points, class1_points)\n",
    "print(\"\")\n",
    "\n",
    "print(\"theta vector: \")\n",
    "print(theta)\n",
    "    "
   ]
  },
  {
   "cell_type": "code",
   "execution_count": 10,
   "metadata": {},
   "outputs": [
    {
     "name": "stdout",
     "output_type": "stream",
     "text": [
      "Question 2(b)\n",
      "============= \n",
      "\n",
      "Confusion Matrix\n",
      "====================\n",
      "Class\t0\t1\n",
      "0\t20\t0\n",
      "1\t5\t15\n",
      "\n",
      "Accuracy is 0.875\n",
      "====================\n",
      "\n",
      "Log Likelihood Error is 26.0105023390534\n"
     ]
    }
   ],
   "source": [
    "# Question 2(b)\n",
    "\n",
    "def sigmoid(x): #Sigmoid function\n",
    "    return 1/(1+np.exp(-x))\n",
    "\n",
    "def prediction(theta, x): #Intermediate function\n",
    "    return sigmoid(np.matmul(np.transpose(theta),x))\n",
    "\n",
    "def likelihoodFunc(x,y,theta, hFunc):\n",
    "    return y * np.log(hFunc(theta, x)) + (1 - y)*np.log(1 - hFunc(theta, x))\n",
    "\n",
    "#Get confusion matrix data for making the matrix and log likelihood error\n",
    "def getConfusionDataAndLogLikelihood(class0,class1, theta):\n",
    "    amountDataPoints = len(class0[0])\n",
    "    \n",
    "    logSum = 0\n",
    "    correctTotal0 = 0\n",
    "    correctTotal1 = 0\n",
    "\n",
    "    for i in range(amountDataPoints): \n",
    "        #Calculating log likelehood for class 0\n",
    "        x = [1,class0[0][i],class0[1][i]] #Getting x values at i for class 0\n",
    "        \n",
    "        logSum = logSum + likelihoodFunc(x,0,theta,prediction) #Adding to log likelihood sum\n",
    "\n",
    "        predictedValue = round(prediction(theta, x),0) #Model adding to confusion matrix the predicted value\n",
    "        if(predictedValue == 0):\n",
    "            correctTotal0 += 1\n",
    "\n",
    "        #Calculating log likelehood for class 1\n",
    "        x = [1,class1[0][i],class1[1][i]] #Getting x values at i for class 1\n",
    "       \n",
    "        logSum = logSum + likelihoodFunc(x,0,theta,prediction) #Adding to log likelihood sum\n",
    "\n",
    "        predictedValue = round(prediction(theta, x),0) #Model adding to confusion matrix the predicted value\n",
    "        if(predictedValue == 1):\n",
    "            correctTotal1 += 1\n",
    "            \n",
    "    logSum *= -1\n",
    "        \n",
    "    return [correctTotal0, correctTotal1, logSum]\n",
    "        \n",
    "#Printing out confusion matrix\n",
    "def printConfusionMatrix(correct0, correct1, amountDataPoints):\n",
    "    \n",
    "    print(\"Confusion Matrix\")\n",
    "    print(\"====================\")\n",
    "    print(\"Class\\t0\\t1\")\n",
    "    print(\"0\\t\"+str(correct0)+\"\\t\"+str(amountDataPoints-correct0))\n",
    "    print(\"1\\t\"+str(amountDataPoints-correct1)+\"\\t\"+str(correct1))\n",
    "    print(\"\\nAccuracy is \"+ str((correct0 + correct1)/(amountDataPoints * 2)))\n",
    "    print(\"====================\\n\")\n",
    "    \n",
    "    \n",
    "def printLogLikelihood(logLikelihood):\n",
    "    print(\"Log Likelihood Error is \" + str(logLikelihood))\n",
    "\n",
    "\n",
    "correct0, correct1, logLikelihood = getConfusionDataAndLogLikelihood(class0_points, class1_points, theta)\n",
    "\n",
    "#Question 2(b) - PRINT\n",
    "quesPrint(\"2(b)\")\n",
    "\n",
    "printConfusionMatrix(correct0, correct1, 20)\n",
    "printLogLikelihood(logLikelihood)"
   ]
  },
  {
   "cell_type": "markdown",
   "metadata": {},
   "source": [
    "## Question 2(c)\n",
    "\n",
    "-----------------------------------------------------\n",
    "**If true value of point is in class 0:**\n",
    "\n",
    "i runs in for loop from 0 through 19\n",
    "\n",
    "x = [1, class0_points[0][i] ,class0_points[1][i]]\n",
    "\n",
    "theta[0] = theta[0] - 0.01*(prediction(theta,x))\n",
    "theta[1] = theta[1] - 0.01*(prediction(theta,x))*x[1]\n",
    "theta[2] = theta[2] - 0.01*(prediction(theta,x))*x[2]\n",
    "\n",
    "-----------------------------------------------------\n",
    "\n",
    "**If true value of point is in class 1:**\n",
    "\n",
    "i runs in for loop from 0 through 19\n",
    "\n",
    "x = [1, class1_points[1][i], class1_points[1][i]]\n",
    "\n",
    "theta[0] = theta[0] - 0.01*(prediction(theta,x) - 1)\n",
    "theta[1] = theta[1] - 0.01*(prediction(theta,x) - 1)*x[1]\n",
    "theta[2] = theta[2] - 0.01*(prediction(theta,x) - 1)*x[2]\n",
    "\n",
    "-----------------------------------------------------"
   ]
  },
  {
   "cell_type": "code",
   "execution_count": 11,
   "metadata": {},
   "outputs": [],
   "source": [
    "# Question 2(c)\n",
    "\n",
    "# -----------------------------------------------------\n",
    "\n",
    "# If true value of point is in class 0:\n",
    "\n",
    "# i runs in for loop from 0 through 19\n",
    "# x = [1,class0_points[0][i],class0_points[1][i]]\n",
    "\n",
    "# theta[0] = theta[0] - 0.01*(prediction(theta,x))\n",
    "# theta[1] = theta[1] - 0.01*(prediction(theta,x))*x[1]\n",
    "# theta[2] = theta[2] - 0.01*(prediction(theta,x))*x[2]\n",
    "\n",
    "# -----------------------------------------------------\n",
    "\n",
    "# If true value of point is in class 1:\n",
    "\n",
    "# i runs in for loop from 0 through 19\n",
    "# x = [1,class1_points[1][i],class1_points[1][i]]\n",
    "\n",
    "# theta[0] = theta[0] - 0.01*(prediction(theta,x) - 1)\n",
    "# theta[1] = theta[1] - 0.01*(prediction(theta,x) - 1)*x[1]\n",
    "# theta[2] = theta[2] - 0.01*(prediction(theta,x) - 1)*x[2]\n",
    "\n",
    "# -----------------------------------------------------\n"
   ]
  },
  {
   "cell_type": "code",
   "execution_count": 12,
   "metadata": {},
   "outputs": [
    {
     "name": "stdout",
     "output_type": "stream",
     "text": [
      "Question 2(d)\n",
      "============= \n",
      "\n",
      "Theta at start:\n",
      "[-0.05, 0.03, 0.4] \n",
      "\n",
      "Theta after class 0 update:\n",
      "[-0.05529964051764572, 0.035286436933068197, 0.3973633688751857] \n",
      "\n",
      "Theta after class 1 update:\n",
      "[-0.0593303731023967, 0.028450671937220867, 0.4013565008660544]\n",
      "The results are more or less the same, this is due to rounding off error when using calculator\n"
     ]
    }
   ],
   "source": [
    "# Question 2(d) - PRINT\n",
    "quesPrint(\"2(d)\")\n",
    "\n",
    "# Confirming Calculations Done By Hand\n",
    "\n",
    "xStart0 = [1, -1.0, 0.5]\n",
    "\n",
    "xStart1 = [1, 1.7, -1.0]\n",
    "\n",
    "thetaStart = [-0.05, 0.03, 0.4]\n",
    "\n",
    "print(\"Theta at start:\")\n",
    "print(thetaStart,'\\n')\n",
    "\n",
    "thetaStart[0] = thetaStart[0] - 0.01*(prediction(thetaStart,xStart0))\n",
    "thetaStart[1] = thetaStart[1] - 0.01*(prediction(thetaStart,xStart0))*xStart0[1]\n",
    "thetaStart[2] = thetaStart[2] - 0.01*(prediction(thetaStart,xStart0))*xStart0[2]\n",
    "\n",
    "print(\"Theta after class 0 update:\")\n",
    "print(thetaStart,'\\n')\n",
    "\n",
    "\n",
    "thetaStart[0] = thetaStart[0] - 0.01*(prediction(thetaStart,xStart1))\n",
    "thetaStart[1] = thetaStart[1] - 0.01*(prediction(thetaStart,xStart1))*xStart1[1]\n",
    "thetaStart[2] = thetaStart[2] - 0.01*(prediction(thetaStart,xStart1))*xStart1[2]\n",
    "\n",
    "print(\"Theta after class 1 update:\")\n",
    "print(thetaStart)\n",
    "\n",
    "print(\"The results are more or less the same, this is due to rounding off error when using calculator\")"
   ]
  },
  {
   "cell_type": "code",
   "execution_count": 13,
   "metadata": {},
   "outputs": [],
   "source": [
    "# Question 2(e)\n",
    "\n",
    "def trainOnce(class0, class1, theta, aVal):\n",
    "    amountDataPoints = len(class0[0])\n",
    "\n",
    "    for i in range(amountDataPoints):\n",
    "        #Train Class 0\n",
    "        x = [1,class0[0][i],class0[1][i]]\n",
    "        theta[0] = theta[0] - aVal*(prediction(theta,x))\n",
    "        theta[1] = theta[1] - aVal*(prediction(theta,x))*x[1]\n",
    "        theta[2] = theta[2] - aVal*(prediction(theta,x))*x[2]\n",
    "        #Train Class 1\n",
    "        x = [1,class1[0][i],class1[1][i]]\n",
    "        theta[0] = theta[0] - aVal*(prediction(theta,x) - 1)\n",
    "        theta[1] = theta[1] - aVal*(prediction(theta,x) - 1)*x[1]\n",
    "        theta[2] = theta[2] - aVal*(prediction(theta,x) - 1 )*x[2]\n",
    "\n",
    "    return theta\n",
    "\n",
    "theta = trainOnce(class0_points, class1_points, theta, 0.01)"
   ]
  },
  {
   "cell_type": "code",
   "execution_count": 14,
   "metadata": {},
   "outputs": [
    {
     "name": "stdout",
     "output_type": "stream",
     "text": [
      "Question 2(e)\n",
      "============= \n",
      "\n"
     ]
    },
    {
     "data": {
      "image/png": "[encoded data removed]",
      "text/plain": [
       "<Figure size 432x288 with 1 Axes>"
      ]
     },
     "metadata": {
      "needs_background": "light"
     },
     "output_type": "display_data"
    },
    {
     "name": "stdout",
     "output_type": "stream",
     "text": [
      "\n",
      "Confusion Matrix\n",
      "====================\n",
      "Class\t0\t1\n",
      "0\t19\t1\n",
      "1\t5\t15\n",
      "\n",
      "Accuracy is 0.85\n",
      "====================\n",
      "\n",
      "\n",
      "Log Likelihood Error is 27.777251672007534\n"
     ]
    }
   ],
   "source": [
    "#Confusion Matrix & Log-Likelihood\n",
    "\n",
    "correct0, correc1, logLikelihood = getConfusionDataAndLogLikelihood(class0_points, class1_points, theta)\n",
    "\n",
    "#Graph Plot\n",
    "x = np.linspace(-6,6,100)\n",
    "y = -theta[1]/theta[2]*x - theta[0]/theta[2] #Initialising decision boundary\n",
    "\n",
    "\n",
    "# Question 2(e) - PRINT\n",
    "quesPrint(\"2(e)\")\n",
    "\n",
    "plt.plot(x, y)\n",
    "plotScatter(class0_points, class1_points)\n",
    "print(\"\")\n",
    "\n",
    "printConfusionMatrix(correct0, correct1, 20)\n",
    "print(\"\")\n",
    "\n",
    "printLogLikelihood(logLikelihood)"
   ]
  },
  {
   "cell_type": "code",
   "execution_count": 15,
   "metadata": {},
   "outputs": [
    {
     "name": "stdout",
     "output_type": "stream",
     "text": [
      "Iterations: 1\n"
     ]
    }
   ],
   "source": [
    "# Question 2(f)\n",
    "\n",
    "def norm2(new, old):\n",
    "    finish = [0,0,0]\n",
    "    \n",
    "    for i in range(3):\n",
    "        finish[i] = abs(new[i] - old[i])\n",
    "    \n",
    "    return np.linalg.norm(finish,2)\n",
    "\n",
    "def trainFully(class0, class1, theta, aVal, thresVal, maxIterations):\n",
    "    amountDataPoints = len(class0[0])\n",
    "    \n",
    "    count = 0\n",
    "    newtheta = [0,0,0]\n",
    "\n",
    "    while (count < maxIterations):\n",
    "        for i in range(amountDataPoints):\n",
    "            #Train for class 0\n",
    "            newtheta = [theta[0],theta[1],theta[2]] #Set up newTheta\n",
    "\n",
    "            x = [1,class0[0][i],class0[1][i]] #Get x values for i position for class 0\n",
    "\n",
    "            newtheta[0] = newtheta[0] - aVal*(prediction(newtheta,x) - 0) # Gradient Descent\n",
    "            newtheta[1] = newtheta[1] - aVal*(prediction(newtheta,x)- 0 )*x[1]\n",
    "            newtheta[2] = newtheta[2] - aVal*(prediction(newtheta,x) - 0)*x[2]\n",
    "\n",
    "\n",
    "            con = norm2(newtheta, theta) #Getting Norm2\n",
    "\n",
    "            theta = [newtheta[0],newtheta[1],newtheta[2]] #Updating old theta to new theta\n",
    "\n",
    "            count += 1 #Keeping track of iterations\n",
    "\n",
    "            if(con < thresVal):\n",
    "                print(\"Iterations:\",count)\n",
    "                return theta\n",
    "\n",
    "            #Train for class 1\n",
    "            x = [1,class1[0][i],class1[1][i]] #Get x values for i position for class 1\n",
    "\n",
    "            newtheta[0] = newtheta[0] - aVal*(prediction(newtheta,x) - 1) # Gradient Descent\n",
    "            newtheta[1] = newtheta[1] - aVal*(prediction(newtheta,x) - 1)*x[1]\n",
    "            newtheta[2] = newtheta[2] - aVal*(prediction(newtheta,x) - 1)*x[2]\n",
    "\n",
    "            con = norm2(newtheta, theta) #Getting Norm2\n",
    "\n",
    "            theta = [newtheta[0],newtheta[1],newtheta[2]] #Updating old theta to new theta\n",
    "\n",
    "            count += 1 #Keeping track of iterations\n",
    "\n",
    "            if(con < thresVal):\n",
    "                print(\"Iterations:\",count)\n",
    "                return theta\n",
    "\n",
    "\n",
    "    print(\"Iterations:\",count)\n",
    "    return theta\n",
    "\n",
    "\n",
    "theta = trainFully(class0_points, class1_points, theta, 0.01, 0.05, 1000)"
   ]
  },
  {
   "cell_type": "code",
   "execution_count": 16,
   "metadata": {
    "scrolled": true
   },
   "outputs": [
    {
     "name": "stdout",
     "output_type": "stream",
     "text": [
      "Question 2(f)\n",
      "============= \n",
      "\n"
     ]
    },
    {
     "data": {
      "image/png": "[encoded data removed]",
      "text/plain": [
       "<Figure size 432x288 with 1 Axes>"
      ]
     },
     "metadata": {
      "needs_background": "light"
     },
     "output_type": "display_data"
    },
    {
     "name": "stdout",
     "output_type": "stream",
     "text": [
      "\n",
      "Confusion Matrix\n",
      "====================\n",
      "Class\t0\t1\n",
      "0\t19\t1\n",
      "1\t4\t16\n",
      "\n",
      "Accuracy is 0.875\n",
      "====================\n",
      "\n",
      "\n",
      "Log Likelihood Error is 27.74496647330866\n"
     ]
    }
   ],
   "source": [
    "#Confusion Matrix & Log-Likelihood\n",
    "\n",
    "correct0, correct1, logLikelihood = getConfusionDataAndLogLikelihood(class0_points, class1_points, theta)\n",
    "\n",
    "#Graph Plot \n",
    "x = np.linspace(-6,6,100)\n",
    "y = -theta[1]/theta[2]*x - theta[0]/theta[2] #Initialising first iteration decision boundary\n",
    "\n",
    "# Question 2(f) - PRINT\n",
    "quesPrint(\"2(f)\")\n",
    "\n",
    "plt.plot(x, y)\n",
    "plotScatter(class0_points, class1_points)\n",
    "print(\"\")\n",
    "\n",
    "printConfusionMatrix(correct0, correct1, 20)\n",
    "print(\"\")\n",
    "\n",
    "printLogLikelihood(logLikelihood)"
   ]
  },
  {
   "cell_type": "code",
   "execution_count": 17,
   "metadata": {},
   "outputs": [
    {
     "name": "stdout",
     "output_type": "stream",
     "text": [
      "Question 2(g)\n",
      "============= \n",
      "\n",
      "Class 0\n",
      "=======\n",
      "Validation x1 values:\n",
      "\n",
      "[-0.31039001 -2.06156325 -2.22191841 -0.36436803 -2.04536308 -0.57048987\n",
      " -1.7743141  -1.29560609 -1.48394546 -0.9048666  -0.78106051 -0.2153512\n",
      " -1.04000481 -0.12558098 -0.45870943 -1.35847351 -0.58095842 -1.17679867\n",
      " -1.36752642 -0.60451018]\n",
      "\n",
      "Validation x2 values:\n",
      "\n",
      "[ 0.4216511   1.00497078  0.6765955  -0.00960554 -0.72319218  0.48161913\n",
      " -0.54672023  3.38445448  1.17161554  1.20502361  0.60741674 -0.60140752\n",
      "  1.63425859 -0.45469605  0.96256619  1.73788017  0.97905271  1.43868026\n",
      "  0.55147239 -1.31061839]\n",
      "\n",
      "Class 1\n",
      "=======\n",
      "Validation x1 values:\n",
      "\n",
      "[-0.42673105  1.43520311 -0.33788168  2.541873    1.39535542  0.62522827\n",
      "  1.46233196  1.09408706  0.71183987 -2.32273981  0.38399674  1.05755398\n",
      " -0.2463286   0.99229871  2.87536903  1.32782868  0.86931857  2.39458272\n",
      "  0.70387871  0.66764034]\n",
      "\n",
      "Validation x2 values:\n",
      "\n",
      "[-0.46086267 -0.23931778 -0.66813575 -0.74902874 -2.99351071 -2.61454825\n",
      " -3.28233069 -0.52852853  1.84318649 -0.90333247  0.57070499 -1.98477803\n",
      " -1.95142049 -1.34454927 -0.64743    -0.45242882 -1.68635499 -0.24004186\n",
      "  0.14467816 -1.470126  ]\n"
     ]
    }
   ],
   "source": [
    "# Question 2(g)\n",
    "\n",
    "valid0_points, valid1_points = generateData(1,20)\n",
    "\n",
    "# Question 2(g) - PRINT\n",
    "quesPrint(\"2(g)\")\n",
    "print2Class(valid0_points, valid1_points, \"Validation\")"
   ]
  },
  {
   "cell_type": "code",
   "execution_count": 18,
   "metadata": {},
   "outputs": [],
   "source": [
    "def trainFullyWIterations(class0, class1, theta, aVal, thresVal, maxIterations):\n",
    "    amountDataPoints = len(class0[0])\n",
    "    \n",
    "    count = 0\n",
    "    newtheta = [0,0,0]\n",
    "\n",
    "    while (count < maxIterations):\n",
    "        for i in range(amountDataPoints):\n",
    "            #Train for class 0\n",
    "            newtheta = [theta[0],theta[1],theta[2]] #Set up newTheta\n",
    "\n",
    "            x = [1,class0[0][i],class0[1][i]] #Get x values for i position for class 0\n",
    "\n",
    "            newtheta[0] = newtheta[0] - aVal*(prediction(newtheta,x) - 0) # Gradient Descent\n",
    "            newtheta[1] = newtheta[1] - aVal*(prediction(newtheta,x)- 0 )*x[1]\n",
    "            newtheta[2] = newtheta[2] - aVal*(prediction(newtheta,x) - 0)*x[2]\n",
    "\n",
    "\n",
    "            con = norm2(newtheta, theta) #Getting Norm2\n",
    "\n",
    "            theta = [newtheta[0],newtheta[1],newtheta[2]] #Updating old theta to new theta\n",
    "\n",
    "            count += 1 #Keeping track of iterations\n",
    "\n",
    "            if(con < thresVal):\n",
    "                print(\"Iterations:\",count)\n",
    "                return theta,count\n",
    "\n",
    "            #Train for class 1\n",
    "            x = [1,class1[0][i],class1[1][i]] #Get x values for i position for class 1\n",
    "\n",
    "            newtheta[0] = newtheta[0] - aVal*(prediction(newtheta,x) - 1) # Gradient Descent\n",
    "            newtheta[1] = newtheta[1] - aVal*(prediction(newtheta,x) - 1)*x[1]\n",
    "            newtheta[2] = newtheta[2] - aVal*(prediction(newtheta,x) - 1)*x[2]\n",
    "\n",
    "            con = norm2(newtheta, theta) #Getting Norm2\n",
    "\n",
    "            theta = [newtheta[0],newtheta[1],newtheta[2]] #Updating old theta to new theta\n",
    "\n",
    "            count += 1 #Keeping track of iterations\n",
    "\n",
    "            if(con < thresVal):\n",
    "                print(\"Iterations:\",count)\n",
    "                return theta, count\n",
    "\n",
    "\n",
    "    print(\"Iterations:\",count)\n",
    "    return theta,count"
   ]
  },
  {
   "cell_type": "code",
   "execution_count": 19,
   "metadata": {
    "scrolled": false
   },
   "outputs": [
    {
     "name": "stdout",
     "output_type": "stream",
     "text": [
      "Question 2(h)\n",
      "============= \n",
      "\n",
      "a is: 0.1\n",
      "thres is: 0.5\n",
      "Iterations: 1\n"
     ]
    },
    {
     "data": {
      "image/png": "[encoded data removed]",
      "text/plain": [
       "<Figure size 432x288 with 1 Axes>"
      ]
     },
     "metadata": {
      "needs_background": "light"
     },
     "output_type": "display_data"
    },
    {
     "name": "stdout",
     "output_type": "stream",
     "text": [
      "\n",
      "Confusion Matrix\n",
      "====================\n",
      "Class\t0\t1\n",
      "0\t20\t0\n",
      "1\t6\t14\n",
      "\n",
      "Accuracy is 0.85\n",
      "====================\n",
      "\n",
      "\n",
      "Log Likelihood Error is 25.333439724303\n",
      "\n",
      "==========================\n",
      "a is: 0.1\n",
      "thres is: 0.05\n",
      "Iterations: 3\n"
     ]
    },
    {
     "data": {
      "image/png": "[encoded data removed]",
      "text/plain": [
       "<Figure size 432x288 with 1 Axes>"
      ]
     },
     "metadata": {
      "needs_background": "light"
     },
     "output_type": "display_data"
    },
    {
     "name": "stdout",
     "output_type": "stream",
     "text": [
      "\n",
      "Confusion Matrix\n",
      "====================\n",
      "Class\t0\t1\n",
      "0\t20\t0\n",
      "1\t6\t14\n",
      "\n",
      "Accuracy is 0.85\n",
      "====================\n",
      "\n",
      "\n",
      "Log Likelihood Error is 25.859025418093406\n",
      "\n",
      "==========================\n",
      "a is: 0.1\n",
      "thres is: 0.005\n",
      "Iterations: 65\n"
     ]
    },
    {
     "data": {
      "image/png": "[encoded data removed]",
      "text/plain": [
       "<Figure size 432x288 with 1 Axes>"
      ]
     },
     "metadata": {
      "needs_background": "light"
     },
     "output_type": "display_data"
    },
    {
     "name": "stdout",
     "output_type": "stream",
     "text": [
      "\n",
      "Confusion Matrix\n",
      "====================\n",
      "Class\t0\t1\n",
      "0\t20\t0\n",
      "1\t5\t15\n",
      "\n",
      "Accuracy is 0.875\n",
      "====================\n",
      "\n",
      "\n",
      "Log Likelihood Error is 43.359705279096175\n",
      "\n",
      "==========================\n",
      "a is: 0.1\n",
      "thres is: 0.0005\n",
      "Iterations: 145\n"
     ]
    },
    {
     "data": {
      "image/png": "[encoded data removed]",
      "text/plain": [
       "<Figure size 432x288 with 1 Axes>"
      ]
     },
     "metadata": {
      "needs_background": "light"
     },
     "output_type": "display_data"
    },
    {
     "name": "stdout",
     "output_type": "stream",
     "text": [
      "\n",
      "Confusion Matrix\n",
      "====================\n",
      "Class\t0\t1\n",
      "0\t20\t0\n",
      "1\t5\t15\n",
      "\n",
      "Accuracy is 0.875\n",
      "====================\n",
      "\n",
      "\n",
      "Log Likelihood Error is 52.99963092181965\n",
      "\n",
      "==========================\n",
      "a is: 0.1\n",
      "thres is: 5e-05\n",
      "Iterations: 345\n"
     ]
    },
    {
     "data": {
      "image/png": "[encoded data removed]",
      "text/plain": [
       "<Figure size 432x288 with 1 Axes>"
      ]
     },
     "metadata": {
      "needs_background": "light"
     },
     "output_type": "display_data"
    },
    {
     "name": "stdout",
     "output_type": "stream",
     "text": [
      "\n",
      "Confusion Matrix\n",
      "====================\n",
      "Class\t0\t1\n",
      "0\t20\t0\n",
      "1\t5\t15\n",
      "\n",
      "Accuracy is 0.875\n",
      "====================\n",
      "\n",
      "\n",
      "Log Likelihood Error is 63.71402354711709\n",
      "\n",
      "==========================\n",
      "a is: 0.01\n",
      "thres is: 0.5\n",
      "Iterations: 1\n"
     ]
    },
    {
     "data": {
      "image/png": "[encoded data removed]",
      "text/plain": [
       "<Figure size 432x288 with 1 Axes>"
      ]
     },
     "metadata": {
      "needs_background": "light"
     },
     "output_type": "display_data"
    },
    {
     "name": "stdout",
     "output_type": "stream",
     "text": [
      "\n",
      "Confusion Matrix\n",
      "====================\n",
      "Class\t0\t1\n",
      "0\t20\t0\n",
      "1\t6\t14\n",
      "\n",
      "Accuracy is 0.85\n",
      "====================\n",
      "\n",
      "\n",
      "Log Likelihood Error is 25.82468602587308\n",
      "\n",
      "==========================\n",
      "a is: 0.01\n",
      "thres is: 0.05\n",
      "Iterations: 1\n"
     ]
    },
    {
     "data": {
      "image/png": "[encoded data removed]",
      "text/plain": [
       "<Figure size 432x288 with 1 Axes>"
      ]
     },
     "metadata": {
      "needs_background": "light"
     },
     "output_type": "display_data"
    },
    {
     "name": "stdout",
     "output_type": "stream",
     "text": [
      "\n",
      "Confusion Matrix\n",
      "====================\n",
      "Class\t0\t1\n",
      "0\t20\t0\n",
      "1\t6\t14\n",
      "\n",
      "Accuracy is 0.85\n",
      "====================\n",
      "\n",
      "\n",
      "Log Likelihood Error is 25.82468602587308\n",
      "\n",
      "==========================\n",
      "a is: 0.01\n",
      "thres is: 0.005\n",
      "Iterations: 3\n"
     ]
    },
    {
     "data": {
      "image/png": "[encoded data removed]",
      "text/plain": [
       "<Figure size 432x288 with 1 Axes>"
      ]
     },
     "metadata": {
      "needs_background": "light"
     },
     "output_type": "display_data"
    },
    {
     "name": "stdout",
     "output_type": "stream",
     "text": [
      "\n",
      "Confusion Matrix\n",
      "====================\n",
      "Class\t0\t1\n",
      "0\t20\t0\n",
      "1\t6\t14\n",
      "\n",
      "Accuracy is 0.85\n",
      "====================\n",
      "\n",
      "\n",
      "Log Likelihood Error is 25.875235178679556\n",
      "\n",
      "==========================\n",
      "a is: 0.01\n",
      "thres is: 0.0005\n",
      "Iterations: 345\n"
     ]
    },
    {
     "data": {
      "image/png": "[encoded data removed]",
      "text/plain": [
       "<Figure size 432x288 with 1 Axes>"
      ]
     },
     "metadata": {
      "needs_background": "light"
     },
     "output_type": "display_data"
    },
    {
     "name": "stdout",
     "output_type": "stream",
     "text": [
      "\n",
      "Confusion Matrix\n",
      "====================\n",
      "Class\t0\t1\n",
      "0\t20\t0\n",
      "1\t5\t15\n",
      "\n",
      "Accuracy is 0.875\n",
      "====================\n",
      "\n",
      "\n",
      "Log Likelihood Error is 37.05737585291612\n",
      "\n",
      "==========================\n",
      "a is: 0.01\n",
      "thres is: 5e-05\n",
      "Iterations: 1000\n"
     ]
    },
    {
     "data": {
      "image/png": "[encoded data removed]",
      "text/plain": [
       "<Figure size 432x288 with 1 Axes>"
      ]
     },
     "metadata": {
      "needs_background": "light"
     },
     "output_type": "display_data"
    },
    {
     "name": "stdout",
     "output_type": "stream",
     "text": [
      "\n",
      "Confusion Matrix\n",
      "====================\n",
      "Class\t0\t1\n",
      "0\t20\t0\n",
      "1\t5\t15\n",
      "\n",
      "Accuracy is 0.875\n",
      "====================\n",
      "\n",
      "\n",
      "Log Likelihood Error is 48.05905383508326\n",
      "\n",
      "==========================\n",
      "a is: 0.001\n",
      "thres is: 0.5\n",
      "Iterations: 1\n"
     ]
    },
    {
     "data": {
      "image/png": "[encoded data removed]",
      "text/plain": [
       "<Figure size 432x288 with 1 Axes>"
      ]
     },
     "metadata": {
      "needs_background": "light"
     },
     "output_type": "display_data"
    },
    {
     "name": "stdout",
     "output_type": "stream",
     "text": [
      "\n",
      "Confusion Matrix\n",
      "====================\n",
      "Class\t0\t1\n",
      "0\t20\t0\n",
      "1\t6\t14\n",
      "\n",
      "Accuracy is 0.85\n",
      "====================\n",
      "\n",
      "\n",
      "Log Likelihood Error is 25.876914156915603\n",
      "\n",
      "==========================\n",
      "a is: 0.001\n",
      "thres is: 0.05\n",
      "Iterations: 1\n"
     ]
    },
    {
     "data": {
      "image/png": "[encoded data removed]",
      "text/plain": [
       "<Figure size 432x288 with 1 Axes>"
      ]
     },
     "metadata": {
      "needs_background": "light"
     },
     "output_type": "display_data"
    },
    {
     "name": "stdout",
     "output_type": "stream",
     "text": [
      "\n",
      "Confusion Matrix\n",
      "====================\n",
      "Class\t0\t1\n",
      "0\t20\t0\n",
      "1\t6\t14\n",
      "\n",
      "Accuracy is 0.85\n",
      "====================\n",
      "\n",
      "\n",
      "Log Likelihood Error is 25.876914156915603\n",
      "\n",
      "==========================\n",
      "a is: 0.001\n",
      "thres is: 0.005\n",
      "Iterations: 1\n"
     ]
    },
    {
     "data": {
      "image/png": "[encoded data removed]",
      "text/plain": [
       "<Figure size 432x288 with 1 Axes>"
      ]
     },
     "metadata": {
      "needs_background": "light"
     },
     "output_type": "display_data"
    },
    {
     "name": "stdout",
     "output_type": "stream",
     "text": [
      "\n",
      "Confusion Matrix\n",
      "====================\n",
      "Class\t0\t1\n",
      "0\t20\t0\n",
      "1\t6\t14\n",
      "\n",
      "Accuracy is 0.85\n",
      "====================\n",
      "\n",
      "\n",
      "Log Likelihood Error is 25.876914156915603\n",
      "\n",
      "==========================\n",
      "a is: 0.001\n",
      "thres is: 0.0005\n",
      "Iterations: 3\n"
     ]
    },
    {
     "data": {
      "image/png": "[encoded data removed]",
      "text/plain": [
       "<Figure size 432x288 with 1 Axes>"
      ]
     },
     "metadata": {
      "needs_background": "light"
     },
     "output_type": "display_data"
    },
    {
     "name": "stdout",
     "output_type": "stream",
     "text": [
      "\n",
      "Confusion Matrix\n",
      "====================\n",
      "Class\t0\t1\n",
      "0\t20\t0\n",
      "1\t6\t14\n",
      "\n",
      "Accuracy is 0.85\n",
      "====================\n",
      "\n",
      "\n",
      "Log Likelihood Error is 25.881946603245872\n",
      "\n",
      "==========================\n",
      "a is: 0.001\n",
      "thres is: 5e-05\n",
      "Iterations: 1000\n"
     ]
    },
    {
     "data": {
      "image/png": "[encoded data removed]",
      "text/plain": [
       "<Figure size 432x288 with 1 Axes>"
      ]
     },
     "metadata": {
      "needs_background": "light"
     },
     "output_type": "display_data"
    },
    {
     "name": "stdout",
     "output_type": "stream",
     "text": [
      "\n",
      "Confusion Matrix\n",
      "====================\n",
      "Class\t0\t1\n",
      "0\t20\t0\n",
      "1\t5\t15\n",
      "\n",
      "Accuracy is 0.875\n",
      "====================\n",
      "\n",
      "\n",
      "Log Likelihood Error is 29.750897726607057\n",
      "\n",
      "==========================\n",
      "a is: 0.0001\n",
      "thres is: 0.5\n",
      "Iterations: 1\n"
     ]
    },
    {
     "data": {
      "image/png": "[encoded data removed]",
      "text/plain": [
       "<Figure size 432x288 with 1 Axes>"
      ]
     },
     "metadata": {
      "needs_background": "light"
     },
     "output_type": "display_data"
    },
    {
     "name": "stdout",
     "output_type": "stream",
     "text": [
      "\n",
      "Confusion Matrix\n",
      "====================\n",
      "Class\t0\t1\n",
      "0\t20\t0\n",
      "1\t6\t14\n",
      "\n",
      "Accuracy is 0.85\n",
      "====================\n",
      "\n",
      "\n",
      "Log Likelihood Error is 25.882169657250902\n",
      "\n",
      "==========================\n",
      "a is: 0.0001\n",
      "thres is: 0.05\n",
      "Iterations: 1\n"
     ]
    },
    {
     "data": {
      "image/png": "[encoded data removed]",
      "text/plain": [
       "<Figure size 432x288 with 1 Axes>"
      ]
     },
     "metadata": {
      "needs_background": "light"
     },
     "output_type": "display_data"
    },
    {
     "name": "stdout",
     "output_type": "stream",
     "text": [
      "\n",
      "Confusion Matrix\n",
      "====================\n",
      "Class\t0\t1\n",
      "0\t20\t0\n",
      "1\t6\t14\n",
      "\n",
      "Accuracy is 0.85\n",
      "====================\n",
      "\n",
      "\n",
      "Log Likelihood Error is 25.882169657250902\n",
      "\n",
      "==========================\n",
      "a is: 0.0001\n",
      "thres is: 0.005\n",
      "Iterations: 1\n"
     ]
    },
    {
     "data": {
      "image/png": "[encoded data removed]",
      "text/plain": [
       "<Figure size 432x288 with 1 Axes>"
      ]
     },
     "metadata": {
      "needs_background": "light"
     },
     "output_type": "display_data"
    },
    {
     "name": "stdout",
     "output_type": "stream",
     "text": [
      "\n",
      "Confusion Matrix\n",
      "====================\n",
      "Class\t0\t1\n",
      "0\t20\t0\n",
      "1\t6\t14\n",
      "\n",
      "Accuracy is 0.85\n",
      "====================\n",
      "\n",
      "\n",
      "Log Likelihood Error is 25.882169657250902\n",
      "\n",
      "==========================\n",
      "a is: 0.0001\n",
      "thres is: 0.0005\n",
      "Iterations: 1\n"
     ]
    },
    {
     "data": {
      "image/png": "[encoded data removed]",
      "text/plain": [
       "<Figure size 432x288 with 1 Axes>"
      ]
     },
     "metadata": {
      "needs_background": "light"
     },
     "output_type": "display_data"
    },
    {
     "name": "stdout",
     "output_type": "stream",
     "text": [
      "\n",
      "Confusion Matrix\n",
      "====================\n",
      "Class\t0\t1\n",
      "0\t20\t0\n",
      "1\t6\t14\n",
      "\n",
      "Accuracy is 0.85\n",
      "====================\n",
      "\n",
      "\n",
      "Log Likelihood Error is 25.882169657250902\n",
      "\n",
      "==========================\n",
      "a is: 0.0001\n",
      "thres is: 5e-05\n",
      "Iterations: 3\n"
     ]
    },
    {
     "data": {
      "image/png": "[encoded data removed]",
      "text/plain": [
       "<Figure size 432x288 with 1 Axes>"
      ]
     },
     "metadata": {
      "needs_background": "light"
     },
     "output_type": "display_data"
    },
    {
     "name": "stdout",
     "output_type": "stream",
     "text": [
      "\n",
      "Confusion Matrix\n",
      "====================\n",
      "Class\t0\t1\n",
      "0\t20\t0\n",
      "1\t6\t14\n",
      "\n",
      "Accuracy is 0.85\n",
      "====================\n",
      "\n",
      "\n",
      "Log Likelihood Error is 25.882672674769033\n",
      "\n",
      "==========================\n",
      "a is: 1e-05\n",
      "thres is: 0.5\n",
      "Iterations: 1\n"
     ]
    },
    {
     "data": {
      "image/png": "[encoded data removed]",
      "text/plain": [
       "<Figure size 432x288 with 1 Axes>"
      ]
     },
     "metadata": {
      "needs_background": "light"
     },
     "output_type": "display_data"
    },
    {
     "name": "stdout",
     "output_type": "stream",
     "text": [
      "\n",
      "Confusion Matrix\n",
      "====================\n",
      "Class\t0\t1\n",
      "0\t20\t0\n",
      "1\t6\t14\n",
      "\n",
      "Accuracy is 0.85\n",
      "====================\n",
      "\n",
      "\n",
      "Log Likelihood Error is 25.882695535843105\n",
      "\n",
      "==========================\n",
      "a is: 1e-05\n",
      "thres is: 0.05\n",
      "Iterations: 1\n"
     ]
    },
    {
     "data": {
      "image/png": "[encoded data removed]",
      "text/plain": [
       "<Figure size 432x288 with 1 Axes>"
      ]
     },
     "metadata": {
      "needs_background": "light"
     },
     "output_type": "display_data"
    },
    {
     "name": "stdout",
     "output_type": "stream",
     "text": [
      "\n",
      "Confusion Matrix\n",
      "====================\n",
      "Class\t0\t1\n",
      "0\t20\t0\n",
      "1\t6\t14\n",
      "\n",
      "Accuracy is 0.85\n",
      "====================\n",
      "\n",
      "\n",
      "Log Likelihood Error is 25.882695535843105\n",
      "\n",
      "==========================\n",
      "a is: 1e-05\n",
      "thres is: 0.005\n",
      "Iterations: 1\n"
     ]
    },
    {
     "data": {
      "image/png": "[encoded data removed]",
      "text/plain": [
       "<Figure size 432x288 with 1 Axes>"
      ]
     },
     "metadata": {
      "needs_background": "light"
     },
     "output_type": "display_data"
    },
    {
     "name": "stdout",
     "output_type": "stream",
     "text": [
      "\n",
      "Confusion Matrix\n",
      "====================\n",
      "Class\t0\t1\n",
      "0\t20\t0\n",
      "1\t6\t14\n",
      "\n",
      "Accuracy is 0.85\n",
      "====================\n",
      "\n",
      "\n",
      "Log Likelihood Error is 25.882695535843105\n",
      "\n",
      "==========================\n",
      "a is: 1e-05\n",
      "thres is: 0.0005\n",
      "Iterations: 1\n"
     ]
    },
    {
     "data": {
      "image/png": "[encoded data removed]",
      "text/plain": [
       "<Figure size 432x288 with 1 Axes>"
      ]
     },
     "metadata": {
      "needs_background": "light"
     },
     "output_type": "display_data"
    },
    {
     "name": "stdout",
     "output_type": "stream",
     "text": [
      "\n",
      "Confusion Matrix\n",
      "====================\n",
      "Class\t0\t1\n",
      "0\t20\t0\n",
      "1\t6\t14\n",
      "\n",
      "Accuracy is 0.85\n",
      "====================\n",
      "\n",
      "\n",
      "Log Likelihood Error is 25.882695535843105\n",
      "\n",
      "==========================\n",
      "a is: 1e-05\n",
      "thres is: 5e-05\n",
      "Iterations: 1\n"
     ]
    },
    {
     "data": {
      "image/png": "[encoded data removed]",
      "text/plain": [
       "<Figure size 432x288 with 1 Axes>"
      ]
     },
     "metadata": {
      "needs_background": "light"
     },
     "output_type": "display_data"
    },
    {
     "name": "stdout",
     "output_type": "stream",
     "text": [
      "\n",
      "Confusion Matrix\n",
      "====================\n",
      "Class\t0\t1\n",
      "0\t20\t0\n",
      "1\t6\t14\n",
      "\n",
      "Accuracy is 0.85\n",
      "====================\n",
      "\n",
      "\n",
      "Log Likelihood Error is 25.882695535843105\n",
      "\n",
      "==========================\n"
     ]
    }
   ],
   "source": [
    "# Question 2(h)\n",
    "aValues = [0.1,0.01,0.001,0.0001,0.00001]\n",
    "thresholdValues = [0.5,0.05,0.005,0.0005,0.00005]\n",
    "maxIterations = 1000\n",
    "\n",
    "\n",
    "def trainAndValidate(origTheta, class0, class1,valid0, valid1, aVal, threshVal, maxIterations):\n",
    "    \n",
    "    theta, iterations = trainFullyWIterations(class0, class1, origTheta, aVal, threshVal, maxIterations)\n",
    "    \n",
    "    #Graph Plot\n",
    "\n",
    "    x = np.linspace(-6,6,100)\n",
    "    y = -theta[1]/theta[2]*x - theta[0]/theta[2] #Initialising decision boundary\n",
    "    \n",
    "    plt.plot(x, y)\n",
    "    plotScatter(valid0,valid1)\n",
    "    print(\"\")\n",
    "    \n",
    "    #Validation Error\n",
    "    correct0, correct1, logLikelihood = getConfusionDataAndLogLikelihood(valid0, valid1, theta)\n",
    "\n",
    "    printConfusionMatrix(correct0, correct1, 20)\n",
    "    print(\"\")\n",
    "\n",
    "    printLogLikelihood(logLikelihood)\n",
    "    \n",
    "    print(\"\\n==========================\")    \n",
    "    \n",
    "    return (correct0 + correct1)/40, iterations\n",
    "    \n",
    "    \n",
    "maxAcc = 0\n",
    "optimalA = 0\n",
    "optimalThresh = 0\n",
    "currIterations = 0\n",
    "\n",
    "# Question 2(h) - PRINT\n",
    "quesPrint(\"2(h)\")\n",
    "for aVal in aValues:\n",
    "    for threshVal in thresholdValues:\n",
    "        print(\"a is:\",aVal)\n",
    "        print(\"thres is:\",threshVal)\n",
    "        currAcc, iterations = trainAndValidate(origTheta, class0_points, class1_points,valid0_points, valid1_points, aVal, threshVal, maxIterations)\n",
    "        \n",
    "        if (currAcc > maxAcc):\n",
    "            if (currAcc == maxAcc):\n",
    "                if (iterations != maxIterations):\n",
    "                    currIterations = iterations\n",
    "            else:\n",
    "                maxAcc = currAcc\n",
    "                optimalA = aVal\n",
    "                optimalThresh = threshVal\n",
    "                currIterations = iterations"
   ]
  },
  {
   "cell_type": "code",
   "execution_count": 20,
   "metadata": {},
   "outputs": [
    {
     "name": "stdout",
     "output_type": "stream",
     "text": [
      "Class 0\n",
      "=======\n",
      "Testing x1 values:\n",
      "\n",
      "[-0.21872013 -2.30097164  0.38282656 -1.21166648  0.45199757 -1.96138295\n",
      " -0.99640889 -2.41305366 -0.75942997 -0.51682651 -0.64943651 -0.31963013\n",
      " -4.2115614   1.01450289 -1.88004288 -2.13793177  0.09122069 -1.02003563\n",
      " -2.10177642 -2.51564437]\n",
      "\n",
      "Testing x2 values:\n",
      "\n",
      "[ 0.49552229  0.98996814  0.74156854  1.11804045 -0.16982478  2.19541497\n",
      "  0.55823858  1.15610204  0.04585387  1.9609763   1.82366012 -1.95051632\n",
      "  2.80901273  2.01157982  1.29128313  2.83335101  1.05029169 -0.37941788\n",
      "  1.03687109  1.09066909]\n",
      "\n",
      "Class 1\n",
      "=======\n",
      "Testing x1 values:\n",
      "\n",
      "[ 0.16180698  2.04471808  2.27878909  1.34316199  1.38878339  2.57163767\n",
      "  1.17841369  1.0661047  -0.21794524  1.83319371  0.55107764  2.40558822\n",
      "  1.70456225  0.40792964  0.02723498  1.77709272  0.62377221  1.74007035\n",
      " -0.41460852  0.90242318]\n",
      "\n",
      "Testing x2 values:\n",
      "\n",
      "[-1.15306829 -1.22213459 -0.3551992  -1.24873425 -1.68406274 -0.31706473\n",
      " -0.68277349 -0.48399843 -0.38139902 -0.22796001 -1.07967478 -0.08731564\n",
      " -0.55749141 -2.62817551 -0.70825873  0.30496322  0.34321604  0.70869775\n",
      " -2.429523   -2.37393913]\n"
     ]
    }
   ],
   "source": [
    "# Question 2(i)\n",
    "\n",
    "test0_points, test1_points = generateData(1,20)\n",
    "\n",
    "print2Class(test0_points, test1_points, \"Testing\")"
   ]
  },
  {
   "cell_type": "code",
   "execution_count": 21,
   "metadata": {},
   "outputs": [
    {
     "name": "stdout",
     "output_type": "stream",
     "text": [
      "Iterations: 65\n",
      "Question 2(i)\n",
      "============= \n",
      "\n",
      "Optimal A is 0.1\n",
      "Optimal Threshold is 0.005 \n",
      "\n"
     ]
    },
    {
     "data": {
      "image/png": "[encoded data removed]",
      "text/plain": [
       "<Figure size 432x288 with 1 Axes>"
      ]
     },
     "metadata": {
      "needs_background": "light"
     },
     "output_type": "display_data"
    },
    {
     "name": "stdout",
     "output_type": "stream",
     "text": [
      "\n",
      "Confusion Matrix\n",
      "====================\n",
      "Class\t0\t1\n",
      "0\t18\t2\n",
      "1\t1\t19\n",
      "\n",
      "Accuracy is 0.925\n",
      "====================\n",
      "\n",
      "\n",
      "Log Likelihood Error is 46.81442139164165\n"
     ]
    }
   ],
   "source": [
    "# Question 2(i)\n",
    "theta = trainFully(class0_points, class1_points, origTheta, optimalA, optimalThresh, maxIterations)\n",
    "\n",
    "#Confusion Matrix & Log-Likelihood\n",
    "\n",
    "correct0, correct1, logLikelihood = getConfusionDataAndLogLikelihood(test0_points, test1_points, theta)\n",
    "\n",
    "#Graph Plot \n",
    "x = np.linspace(-6,6,100)\n",
    "y = -theta[1]/theta[2]*x - theta[0]/theta[2] #Initialising first iteration decision boundary\n",
    "\n",
    "# Question 2(i) - PRINT\n",
    "quesPrint(\"2(i)\")\n",
    "\n",
    "print(\"Optimal A is\",optimalA)\n",
    "print(\"Optimal Threshold is\",optimalThresh,\"\\n\")\n",
    "\n",
    "plt.plot(x, y)\n",
    "plotScatter(test0_points, test1_points)\n",
    "print(\"\")\n",
    "\n",
    "printConfusionMatrix(correct0, correct1, 20)\n",
    "print(\"\")\n",
    "\n",
    "printLogLikelihood(logLikelihood)"
   ]
  },
  {
   "cell_type": "markdown",
   "metadata": {},
   "source": [
    "## Question 2(j)\n",
    "\n",
    "### It is important to have all 3 common data sets because,\n",
    "\n",
    "### Training Set\n",
    "=============\n",
    "\n",
    "We need an actual data set to let our algorithm learn from \n",
    "otherwise I algorithm would not be able to predict anything\n",
    "therefore, having no use to us (ML will be useless)\n",
    "\n",
    "### Validation Set\n",
    "===============\n",
    "\n",
    "As seen in this lab, different a (or alpha) values and threshold values\n",
    "(for our stopping condition) can and will majorly impact how good our \n",
    "algorithm will be at predicting values. We therefore use the validation\n",
    "data set to go through and find the most effective a (or alpha) and \n",
    "threshold values\n",
    "\n",
    "We use it for fine-tuning our hyperparameters!\n",
    "\n",
    "### Testing Set\n",
    "============\n",
    "\n",
    "We need to actually put our algorithm into action! We need to make sure\n",
    "we never overfit our data. We simulate what a real-life example would be\n",
    "by merely giving a data set the algorithm never interact with before.\n",
    "i.e. the testing data set. We can tell if we overfitted our data\n",
    "and also we can just see how our algorithm does in general without having\n",
    "to physically get/wait for real world data."
   ]
  },
  {
   "cell_type": "code",
   "execution_count": 22,
   "metadata": {},
   "outputs": [],
   "source": [
    "# Question 2(j)\n",
    "\n",
    "# It is important to have all 3 common data sets because,\n",
    "\n",
    "# Training Set\n",
    "#=============\n",
    "\n",
    "# We need an actual data set to let our algorithm learn from \n",
    "# otherwise I algorithm would not be able to predict anything\n",
    "# therefore, having no use to us (ML will be useless)\n",
    "\n",
    "# Validation Set\n",
    "#===============\n",
    "\n",
    "# As seen in this lab, different a (or alpha) values and threshold values\n",
    "# (for our stopping condition) can and will majorly impact how good our \n",
    "# algorithm will be at predicting values. We therefore use the validation\n",
    "# data set to go through and find the most effective a (or alpha) and \n",
    "# threshold values\n",
    "\n",
    "# We use it for fine-tuning our hyperparameters!\n",
    "\n",
    "# Testing Set\n",
    "#============\n",
    "\n",
    "# We need to actually put our algorithm into action! We need to make sure\n",
    "# we never overfit our data. We simulate what a real-life example would be\n",
    "# by merely giving a data set the algorithm never interact with before.\n",
    "# i.e. the testing data set. We can tell if we overfitted our data\n",
    "# and also we can just see how our algorithm does in general without having\n",
    "# to physically get/wait for real world data."
   ]
  }
 ],
 "metadata": {
  "kernelspec": {
   "display_name": "Python 3",
   "language": "python",
   "name": "python3"
  },
  "language_info": {
   "codemirror_mode": {
    "name": "ipython",
    "version": 3
   },
   "file_extension": ".py",
   "mimetype": "text/x-python",
   "name": "python",
   "nbconvert_exporter": "python",
   "pygments_lexer": "ipython3",
   "version": "3.8.5"
  }
 },
 "nbformat": 4,
 "nbformat_minor": 4
}
