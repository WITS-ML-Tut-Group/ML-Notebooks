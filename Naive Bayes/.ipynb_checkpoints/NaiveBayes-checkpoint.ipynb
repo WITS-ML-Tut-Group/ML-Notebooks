{
 "cells": [
  {
   "cell_type": "code",
   "execution_count": 9,
   "metadata": {},
   "outputs": [],
   "source": [
    "from __future__ import division\n",
    "import numpy as np\n",
    "import random\n",
    "from itertools import chain\n"
   ]
  },
  {
   "cell_type": "code",
   "execution_count": 10,
   "metadata": {},
   "outputs": [],
   "source": [
    "#Getting Data\n",
    "f = open('simple-food-reviews.txt', 'r')\n",
    "content = f.read().split('\\n')\n",
    "f.close()\n",
    "\n",
    "#Getting random data\n",
    "randContent = random.sample(content,12)\n",
    "score = []\n",
    "sentences = []\n",
    "\n",
    "for word in randContent:\n",
    "    score.append(word.split(\" \")[0])\n",
    "    sentences.append(word.split(\" \")[1:])\n",
    "    \n",
    "for sentence in sentences:\n",
    "    sentence = list(filter(lambda x: x != '', sentence))"
   ]
  },
  {
   "cell_type": "code",
   "execution_count": 11,
   "metadata": {},
   "outputs": [
    {
     "data": {
      "text/plain": [
       "['1', '-1', '1', '1', '-1', '1', '1', '-1', '-1', '-1', '-1', '-1']"
      ]
     },
     "execution_count": 11,
     "metadata": {},
     "output_type": "execute_result"
    }
   ],
   "source": [
    "score"
   ]
  },
  {
   "cell_type": "code",
   "execution_count": 12,
   "metadata": {},
   "outputs": [
    {
     "data": {
      "text/plain": [
       "[['this', 'is', 'a', 'great', 'restaurant'],\n",
       " ['avoid', 'the', 'food'],\n",
       " ['what', 'a', 'lovely', 'restaurant'],\n",
       " ['the', 'service', 'was', 'great'],\n",
       " ['the', 'service', 'and', 'the', 'food', 'was', 'terrible'],\n",
       " ['the', 'food', 'the', 'service', 'and', 'the', 'restaurant', 'was', 'great'],\n",
       " ['i', 'really', 'enjoyed', 'my', 'food'],\n",
       " ['this', 'is', 'a', 'bad', 'restaurant', '', ''],\n",
       " ['avoid', 'this', 'restaurant'],\n",
       " ['the', 'service', 'is', 'terrible'],\n",
       " ['the', 'food', 'was', 'really', 'bad'],\n",
       " ['the', 'meal', 'was', 'terrible']]"
      ]
     },
     "execution_count": 12,
     "metadata": {},
     "output_type": "execute_result"
    }
   ],
   "source": [
    "sentences"
   ]
  },
  {
   "cell_type": "code",
   "execution_count": 13,
   "metadata": {},
   "outputs": [
    {
     "name": "stdout",
     "output_type": "stream",
     "text": [
      "[['this', 'is', 'a', 'great', 'restaurant'], ['what', 'a', 'lovely', 'restaurant'], ['the', 'service', 'was', 'great'], ['the', 'food', 'the', 'service', 'and', 'the', 'restaurant', 'was', 'great'], ['i', 'really', 'enjoyed', 'my', 'food']]\n"
     ]
    }
   ],
   "source": [
    "positiveData = []\n",
    "positiveIdxList = []\n",
    "\n",
    "#Getting score index lst\n",
    "for i in range(len(score)):\n",
    "    if (score[i] == '1'):\n",
    "        positiveIdxList.append(i)\n",
    "\n",
    "#Getting positive\n",
    "for idx in positiveIdxList:\n",
    "    positiveData.append(sentences[idx])\n",
    "\n",
    "print(positiveData)"
   ]
  },
  {
   "cell_type": "code",
   "execution_count": 17,
   "metadata": {},
   "outputs": [
    {
     "name": "stdout",
     "output_type": "stream",
     "text": [
      "[['avoid', 'the', 'food'], ['the', 'service', 'and', 'the', 'food', 'was', 'terrible'], ['this', 'is', 'a', 'bad', 'restaurant', '', ''], ['avoid', 'this', 'restaurant'], ['the', 'service', 'is', 'terrible'], ['the', 'food', 'was', 'really', 'bad'], ['the', 'meal', 'was', 'terrible']]\n"
     ]
    }
   ],
   "source": [
    "negativeData = []\n",
    "negativeIdxList = []\n",
    "\n",
    "#Getting score index lst\n",
    "for i in range(len(score)):\n",
    "    if (score[i] == '-1'):\n",
    "        negativeIdxList.append(i)\n",
    "\n",
    "#Getting positive\n",
    "for idx in negativeIdxList:\n",
    "    negativeData.append(sentences[idx])\n",
    "    \n",
    "print(negativeData)"
   ]
  },
  {
   "cell_type": "code",
   "execution_count": 31,
   "metadata": {},
   "outputs": [
    {
     "name": "stdout",
     "output_type": "stream",
     "text": [
      "[['a', 'and', 'enjoyed', 'food', 'great', 'i', 'is', 'lovely', 'my', 'really', 'restaurant', 'service', 'the', 'this', 'was', 'what'], [0.4, 0.2, 0.2, 0.4, 0.6, 0.2, 0.2, 0.2, 0.2, 0.2, 0.6, 0.4, 0.8, 0.2, 0.4, 0.2]]\n"
     ]
    }
   ],
   "source": [
    "#Flatten\n",
    "flattenPositiveSentences = list(chain.from_iterable(positiveData))\n",
    "\n",
    "#Get Prob PositiveData total\n",
    "probPositiveTotal = np.unique(flattenPositiveSentences, return_counts=True)\n",
    "\n",
    "\n",
    "wordPositiveLst = []\n",
    "probPositiveLst = []\n",
    "for i in range(len(probPositiveTotal[1])):\n",
    "    if (probPositiveTotal[0][i] == \"\"):\n",
    "        continue\n",
    "    probPositiveLst.append((probPositiveTotal[1][i])/float(len(positiveData)))\n",
    "    \n",
    "for word in probPositiveTotal[0]:\n",
    "    if (word ==\"\"):\n",
    "        continue\n",
    "    wordPositiveLst.append(word)\n",
    "    \n",
    "positiveProb = [wordPositiveLst,probPositiveLst]\n",
    "\n",
    "print(positiveProb)"
   ]
  },
  {
   "cell_type": "code",
   "execution_count": 32,
   "metadata": {},
   "outputs": [
    {
     "name": "stdout",
     "output_type": "stream",
     "text": [
      "[['a', 'and', 'avoid', 'bad', 'food', 'is', 'meal', 'really', 'restaurant', 'service', 'terrible', 'the', 'this', 'was'], [0.14285714285714285, 0.14285714285714285, 0.2857142857142857, 0.2857142857142857, 0.42857142857142855, 0.2857142857142857, 0.14285714285714285, 0.14285714285714285, 0.2857142857142857, 0.2857142857142857, 0.42857142857142855, 0.8571428571428571, 0.2857142857142857, 0.42857142857142855]]\n"
     ]
    }
   ],
   "source": [
    "#Flatten\n",
    "flattenNegativeSentences = list(chain.from_iterable(negativeData))\n",
    "\n",
    "#Get Prob PositiveData total\n",
    "probNegativeTotal = np.unique(flattenNegativeSentences, return_counts=True)\n",
    "\n",
    "\n",
    "wordNegativeLst = []\n",
    "probNegativeLst = []\n",
    "for i in range(len(probNegativeTotal[1])):\n",
    "    if (probNegativeTotal[0][i] == \"\"):\n",
    "        continue\n",
    "    probNegativeLst.append((probNegativeTotal[1][i])/float(len(negativeData)))\n",
    "    \n",
    "for word in probNegativeTotal[0]:\n",
    "    if (word ==\"\"):\n",
    "        continue\n",
    "    wordNegativeLst.append(word)\n",
    "    \n",
    "negativeProb = [wordNegativeLst,probNegativeLst]\n",
    "\n",
    "print(negativeProb)"
   ]
  },
  {
   "cell_type": "code",
   "execution_count": 33,
   "metadata": {},
   "outputs": [
    {
     "name": "stdout",
     "output_type": "stream",
     "text": [
      "[['a', 'and', 'enjoyed', 'food', 'great', 'i', 'is', 'lovely', 'my', 'really', 'restaurant', 'service', 'the', 'this', 'was', 'what'], [0.4, 0.2, 0.2, 0.4, 0.6, 0.2, 0.2, 0.2, 0.2, 0.2, 0.6, 0.4, 0.8, 0.2, 0.4, 0.2]]\n"
     ]
    }
   ],
   "source": [
    "print(positiveProb)"
   ]
  },
  {
   "cell_type": "code",
   "execution_count": 34,
   "metadata": {},
   "outputs": [
    {
     "name": "stdout",
     "output_type": "stream",
     "text": [
      "[['a', 'and', 'avoid', 'bad', 'food', 'is', 'meal', 'really', 'restaurant', 'service', 'terrible', 'the', 'this', 'was'], [0.14285714285714285, 0.14285714285714285, 0.2857142857142857, 0.2857142857142857, 0.42857142857142855, 0.2857142857142857, 0.14285714285714285, 0.14285714285714285, 0.2857142857142857, 0.2857142857142857, 0.42857142857142855, 0.8571428571428571, 0.2857142857142857, 0.42857142857142855]]\n"
     ]
    }
   ],
   "source": [
    "print(negativeProb)"
   ]
  },
  {
   "cell_type": "code",
   "execution_count": null,
   "metadata": {},
   "outputs": [],
   "source": []
  }
 ],
 "metadata": {
  "kernelspec": {
   "display_name": "Python 3",
   "language": "python",
   "name": "python3"
  },
  "language_info": {
   "codemirror_mode": {
    "name": "ipython",
    "version": 3
   },
   "file_extension": ".py",
   "mimetype": "text/x-python",
   "name": "python",
   "nbconvert_exporter": "python",
   "pygments_lexer": "ipython3",
   "version": "3.8.8"
  }
 },
 "nbformat": 4,
 "nbformat_minor": 2
}
