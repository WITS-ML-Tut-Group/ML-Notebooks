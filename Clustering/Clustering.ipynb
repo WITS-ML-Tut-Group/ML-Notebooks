{
 "cells": [
  {
   "cell_type": "markdown",
   "metadata": {},
   "source": [
    "# Authors\n",
    "# ----------------------------------------\n",
    "\n",
    "## Kiara Gabriel             -    2161334\n",
    "\n",
    "## Phola Bavuma          -    1848739\n",
    "\n",
    "## Shravan Singh         -    2173638\n",
    "\n",
    "## Arneev Singh          -    2180393\n",
    "\n",
    "# ----------------------------------------"
   ]
  },
  {
   "cell_type": "markdown",
   "metadata": {},
   "source": [
    "# NOTE\n",
    "## ======\n",
    "\n",
    "The algorithm allows their to be a difference of `maxDiff` (5) data points between old and new cluster points to allow for a faster algorithm. I think this is a suitable trade off given the lengthy time it takes to run this algorithm\n",
    "\n",
    "There is also a major difference when you Manhatan rather than Eucilidean distance"
   ]
  },
  {
   "cell_type": "code",
   "execution_count": 31,
   "metadata": {},
   "outputs": [],
   "source": [
    "import numpy as np\n",
    "import math as math\n",
    "import matplotlib.pyplot as plt\n",
    "import copy as copy\n",
    "import random as random\n",
    "import multiprocessing as mp\n",
    "import time as time\n",
    "from multiprocessing import Pool\n",
    "from functools import partial\n",
    "import inspect"
   ]
  },
  {
   "cell_type": "code",
   "execution_count": 32,
   "metadata": {},
   "outputs": [],
   "source": [
    "#Constants\n",
    "tabSpace = 30\n",
    "maxIterations = 1000\n",
    "maxDiff = 5\n",
    "\n",
    "#NOTE: You can adjust this value to display the amount of floating points\n",
    "floatingDigits = 5"
   ]
  },
  {
   "cell_type": "code",
   "execution_count": 33,
   "metadata": {},
   "outputs": [],
   "source": [
    "#Helper Function - Prints Question\n",
    "def printQues(questionNumber):\n",
    "    ans = \"Question \" + questionNumber \n",
    "    \n",
    "    hashes = \"\"\n",
    "    for i in range(len(ans)):\n",
    "        hashes += '='\n",
    "    \n",
    "    print(ans)\n",
    "    print(hashes)"
   ]
  },
  {
   "cell_type": "code",
   "execution_count": 34,
   "metadata": {},
   "outputs": [
    {
     "name": "stdout",
     "output_type": "stream",
     "text": [
      "Question 3(a)\n",
      "=============\n"
     ]
    }
   ],
   "source": [
    "#Question 3(a)\n",
    "\n",
    "printQues(\"3(a)\")\n",
    "\n",
    "imageIn = plt.imread(\"peppers.bmp\")\n",
    "\n",
    "height = len(imageIn)\n",
    "width = len(imageIn[0])\n",
    "\n",
    "imageMat = []\n",
    "for x in imageIn:\n",
    "    for y in x:\n",
    "        imageMat.append(y)"
   ]
  },
  {
   "cell_type": "code",
   "execution_count": 35,
   "metadata": {},
   "outputs": [],
   "source": [
    "def getRandomRGB():\n",
    "    lst = []\n",
    "    for i in range(3):\n",
    "        lst.append(random.randint(0,255))\n",
    "        \n",
    "    return lst"
   ]
  },
  {
   "cell_type": "code",
   "execution_count": 36,
   "metadata": {},
   "outputs": [],
   "source": [
    "# def euci(p1,p2):\n",
    "#     return np.sqrt((p1[0] - p2[0])**2 + (p1[1] - p2[1])**2 + (p1[2] - p2[2])**2 )\n",
    "\n",
    "def euci(p1,p2): #Manhatan\n",
    "    return (abs((p1[0] - p2[0])) + abs((p1[1] - p2[1])) + abs((p1[2] - p2[2])))"
   ]
  },
  {
   "cell_type": "code",
   "execution_count": 37,
   "metadata": {},
   "outputs": [],
   "source": [
    "def clustersEqual(oldClusters, newClusters):\n",
    "    if (len(oldClusters) != len(newClusters)):\n",
    "        return False\n",
    "    \n",
    "    numbClusters = len(oldClusters)\n",
    "    \n",
    "    for idx in range(len(oldClusters)):\n",
    "        if (abs(len(oldClusters[idx]) - len(newClusters[idx])) > maxDiff):\n",
    "            return False\n",
    "    \n",
    "    return True"
   ]
  },
  {
   "cell_type": "code",
   "execution_count": 38,
   "metadata": {},
   "outputs": [],
   "source": [
    "#Question 3(b) & 3(c)\n",
    "\n",
    "def kMeans(k,oldInputData):\n",
    "    inputData = copy.deepcopy(oldInputData)\n",
    "    \n",
    "    centroids = []\n",
    "    tempCentroids = []\n",
    "    \n",
    "    oldClusters = []\n",
    "    clusters = []\n",
    "    \n",
    "    for i in range(k):\n",
    "        centroids.append(getRandomRGB())\n",
    "        tempCentroids.append([0,0,0])\n",
    "        clusters.append([])\n",
    "    \n",
    "    iteration = 0\n",
    "    firstIteration = True\n",
    "    while (not clustersEqual(oldClusters, clusters) or firstIteration):\n",
    "        iteration += 1\n",
    "        firstIteration = False\n",
    "        \n",
    "        oldClusters = clusters\n",
    "        \n",
    "        clusters = []\n",
    "        \n",
    "        tempCentroids = []\n",
    "        for i in range(k):\n",
    "            clusters.append([])\n",
    "            tempCentroids.append([0,0,0])\n",
    "        \n",
    "        for rgb in inputData:\n",
    "\n",
    "            minDistance = math.inf\n",
    "            minIndex = 0\n",
    "\n",
    "            #Finding the min centroid\n",
    "            for centroidIndex, centroid in enumerate(centroids):\n",
    "                distance = euci(centroid,rgb)\n",
    "\n",
    "                if (distance < minDistance):\n",
    "                    minDistance = distance\n",
    "                    minIndex = centroidIndex\n",
    "\n",
    "            #Assign to cluster\n",
    "            clusters[minIndex].append(rgb)\n",
    "            tempCentroids[minIndex][0] += rgb[0]\n",
    "            tempCentroids[minIndex][1] += rgb[1]\n",
    "            tempCentroids[minIndex][2] += rgb[2]\n",
    "            \n",
    "        \n",
    "        for idx in range(k):\n",
    "            lengthCluster = len(clusters[idx])\n",
    "            \n",
    "            if (lengthCluster == 0):\n",
    "                continue\n",
    "            \n",
    "            centroids[idx][0] = tempCentroids[idx][0]/lengthCluster\n",
    "            centroids[idx][1] = tempCentroids[idx][1]/lengthCluster\n",
    "            centroids[idx][2] = tempCentroids[idx][2]/lengthCluster\n",
    "        \n",
    "\n",
    "#         for clusterIndex, cluster in enumerate(clusters):\n",
    "#             lengthCluster = len(cluster)\n",
    "#             if (lengthCluster == 0):\n",
    "#                 continue\n",
    "                \n",
    "#             #Getting average rgb\n",
    "#             avgR = 0\n",
    "#             avgG = 0\n",
    "#             avgB = 0\n",
    "\n",
    "#             for rgb in cluster:\n",
    "#                 avgR += rgb[0]\n",
    "#                 avgG += rgb[1]\n",
    "#                 avgB += rgb[2]\n",
    "\n",
    "            \n",
    "#             avgR /= lengthCluster\n",
    "#             avgG /= lengthCluster\n",
    "#             avgB /= lengthCluster\n",
    "\n",
    "#             #Assigning centroid to the new average center\n",
    "#             centroids[clusterIndex][0] = avgR \n",
    "#             centroids[clusterIndex][1] = avgG\n",
    "#             centroids[clusterIndex][2] = avgB\n",
    "\n",
    "    \n",
    "    #===========================================================\n",
    "    #Getting output data\n",
    "    outputData = inputData\n",
    "    \n",
    "    for rgbIndex, rgb in enumerate(outputData):\n",
    "        \n",
    "        minDistance = math.inf\n",
    "        minIndex = 0\n",
    "        \n",
    "        #Finding the min centroid\n",
    "        for centroidIndex, centroid in enumerate(centroids):\n",
    "            distance = euci(centroid,rgb)\n",
    "            \n",
    "            if (distance < minDistance):\n",
    "                minDistance = distance\n",
    "                minIndex = centroidIndex\n",
    "        \n",
    "        minCentroid = centroids[minIndex]\n",
    "        \n",
    "        #Setting data to closest centroid\n",
    "        outputData[rgbIndex][0] = minCentroid[0]\n",
    "        outputData[rgbIndex][1] = minCentroid[1]\n",
    "        outputData[rgbIndex][2] = minCentroid[2]\n",
    "        \n",
    "    #Converting to x and y coords\n",
    "    newMat = []\n",
    "    lengthList = len(outputData)\n",
    "    \n",
    "    for i in range(lengthList // height):\n",
    "        newMat.append([])\n",
    "    \n",
    "    for rgbIndex, rgb in enumerate(outputData):\n",
    "        newMat[rgbIndex // height].append(outputData[rgbIndex])\n",
    "            \n",
    "    print(\"Iterations:\", iteration)      \n",
    "    return newMat"
   ]
  },
  {
   "cell_type": "code",
   "execution_count": 39,
   "metadata": {},
   "outputs": [
    {
     "name": "stdout",
     "output_type": "stream",
     "text": [
      "Question 3(b) & 3(c)\n",
      "====================\n",
      "Iterations: 9\n"
     ]
    },
    {
     "data": {
      "text/plain": [
       "<matplotlib.image.AxesImage at 0x2492a85e190>"
      ]
     },
     "execution_count": 39,
     "metadata": {},
     "output_type": "execute_result"
    },
    {
     "data": {
      "image/png": "[encoded data removed]",
      "text/plain": [
       "<Figure size 432x288 with 1 Axes>"
      ]
     },
     "metadata": {
      "needs_background": "light"
     },
     "output_type": "display_data"
    }
   ],
   "source": [
    "printQues(\"3(b) & 3(c)\")\n",
    "newData = kMeans(2,imageMat)\n",
    "\n",
    "plt.imshow(newData)"
   ]
  },
  {
   "cell_type": "code",
   "execution_count": 40,
   "metadata": {},
   "outputs": [
    {
     "name": "stdout",
     "output_type": "stream",
     "text": [
      "Question 3(d)\n",
      "=============\n",
      "============================\n",
      "k: 4\n",
      "============================\n",
      "\n",
      "Iterations: 8\n",
      "\n",
      "============================\n",
      "\n"
     ]
    },
    {
     "data": {
      "image/png": "[encoded data removed]",
      "text/plain": [
       "<Figure size 432x288 with 1 Axes>"
      ]
     },
     "metadata": {
      "needs_background": "light"
     },
     "output_type": "display_data"
    }
   ],
   "source": [
    "printQues(\"3(d)\")\n",
    "\n",
    "def ques3d(k, imageMat):\n",
    "    print(\"============================\")\n",
    "    print(\"k:\", k)\n",
    "    print(\"============================\\n\")\n",
    "    newData = kMeans(k,imageMat)\n",
    "\n",
    "    plt.imshow(newData)\n",
    "    \n",
    "    print(\"\\n============================\\n\")\n",
    "    \n",
    "ques3d(4, imageMat)"
   ]
  },
  {
   "cell_type": "code",
   "execution_count": null,
   "metadata": {},
   "outputs": [
    {
     "name": "stdout",
     "output_type": "stream",
     "text": [
      "============================\n",
      "k: 8\n",
      "============================\n",
      "\n"
     ]
    }
   ],
   "source": [
    "ques3d(8, imageMat)"
   ]
  },
  {
   "cell_type": "code",
   "execution_count": null,
   "metadata": {},
   "outputs": [],
   "source": [
    "ques3d(16, imageMat)"
   ]
  },
  {
   "cell_type": "code",
   "execution_count": null,
   "metadata": {},
   "outputs": [],
   "source": [
    "ques3d(32, imageMat)"
   ]
  },
  {
   "cell_type": "code",
   "execution_count": null,
   "metadata": {},
   "outputs": [],
   "source": [
    "ques3d(64, imageMat)"
   ]
  },
  {
   "cell_type": "markdown",
   "metadata": {},
   "source": [
    "# Flowers"
   ]
  },
  {
   "cell_type": "code",
   "execution_count": null,
   "metadata": {},
   "outputs": [],
   "source": [
    "imageInNew = plt.imread(\"flower.bmp\")\n",
    "\n",
    "height = len(imageInNew)\n",
    "width = len(imageInNew[0])\n",
    "\n",
    "imageMatNew = []\n",
    "for x in imageInNew:\n",
    "    for y in x:\n",
    "        imageMatNew.append(y)\n",
    "        "
   ]
  },
  {
   "cell_type": "code",
   "execution_count": null,
   "metadata": {},
   "outputs": [],
   "source": [
    "ques3d(2, imageMatNew)"
   ]
  },
  {
   "cell_type": "code",
   "execution_count": null,
   "metadata": {},
   "outputs": [],
   "source": [
    "ques3d(4, imageMatNew)"
   ]
  },
  {
   "cell_type": "code",
   "execution_count": null,
   "metadata": {},
   "outputs": [],
   "source": [
    "ques3d(8, imageMatNew)"
   ]
  },
  {
   "cell_type": "code",
   "execution_count": null,
   "metadata": {},
   "outputs": [],
   "source": [
    "ques3d(16, imageMatNew)"
   ]
  },
  {
   "cell_type": "code",
   "execution_count": null,
   "metadata": {},
   "outputs": [],
   "source": [
    "ques3d(32, imageMatNew)"
   ]
  },
  {
   "cell_type": "markdown",
   "metadata": {},
   "source": [
    "# Lena"
   ]
  },
  {
   "cell_type": "code",
   "execution_count": null,
   "metadata": {},
   "outputs": [],
   "source": [
    "imageInNew2 = plt.imread(\"lena.tif\")\n",
    "\n",
    "height = len(imageInNew2)\n",
    "width = len(imageInNew2[0])\n",
    "\n",
    "imageMatNew2 = []\n",
    "for x in imageInNew2:\n",
    "    for y in x:\n",
    "        imageMatNew2.append(y)"
   ]
  },
  {
   "cell_type": "code",
   "execution_count": null,
   "metadata": {},
   "outputs": [],
   "source": [
    "ques3d(2, imageMatNew2)"
   ]
  },
  {
   "cell_type": "code",
   "execution_count": null,
   "metadata": {},
   "outputs": [],
   "source": [
    "ques3d(4, imageMatNew2)"
   ]
  },
  {
   "cell_type": "code",
   "execution_count": null,
   "metadata": {},
   "outputs": [],
   "source": [
    "ques3d(8, imageMatNew2)"
   ]
  },
  {
   "cell_type": "code",
   "execution_count": null,
   "metadata": {},
   "outputs": [],
   "source": [
    "ques3d(16, imageMatNew2)"
   ]
  },
  {
   "cell_type": "code",
   "execution_count": null,
   "metadata": {},
   "outputs": [],
   "source": [
    "ques3d(32, imageMatNew2)"
   ]
  }
 ],
 "metadata": {
  "kernelspec": {
   "display_name": "Python 3",
   "language": "python",
   "name": "python3"
  },
  "language_info": {
   "codemirror_mode": {
    "name": "ipython",
    "version": 3
   },
   "file_extension": ".py",
   "mimetype": "text/x-python",
   "name": "python",
   "nbconvert_exporter": "python",
   "pygments_lexer": "ipython3",
   "version": "3.8.5"
  }
 },
 "nbformat": 4,
 "nbformat_minor": 4
}
