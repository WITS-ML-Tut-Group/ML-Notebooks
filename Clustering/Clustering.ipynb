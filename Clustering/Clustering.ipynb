{
 "cells": [
  {
   "cell_type": "markdown",
   "metadata": {},
   "source": [
    "# Authors\n",
    "# ----------------------------------------\n",
    "\n",
    "## Kiara Gabriel             -    2161334\n",
    "\n",
    "## Phola Bavuma          -    1848739\n",
    "\n",
    "## Shravan Singh         -    2173638\n",
    "\n",
    "## Arneev Singh          -    2180393\n",
    "\n",
    "# ----------------------------------------"
   ]
  },
  {
   "cell_type": "code",
   "execution_count": 4,
   "metadata": {},
   "outputs": [],
   "source": [
    "import numpy as np\n",
    "import math\n",
    "import matplotlib.pyplot as plt\n",
    "import copy as copy"
   ]
  },
  {
   "cell_type": "code",
   "execution_count": 5,
   "metadata": {},
   "outputs": [],
   "source": [
    "#Constants\n",
    "tabSpace = 30\n",
    "learningRate = 0.1\n",
    "\n",
    "\n",
    "#NOTE: You can adjust this value to display the amount of floating points\n",
    "floatingDigits = 5"
   ]
  },
  {
   "cell_type": "code",
   "execution_count": 6,
   "metadata": {},
   "outputs": [],
   "source": [
    "#Helper Function - Prints Question\n",
    "def printQues(questionNumber):\n",
    "    ans = \"Question (\" + questionNumber + \")\"\n",
    "    \n",
    "    hashes = \"\"\n",
    "    for i in range(len(ans)):\n",
    "        hashes += '='\n",
    "    \n",
    "    print(ans)\n",
    "    print(hashes)"
   ]
  },
  {
   "cell_type": "code",
   "execution_count": null,
   "metadata": {},
   "outputs": [],
   "source": []
  }
 ],
 "metadata": {
  "kernelspec": {
   "display_name": "Python 3",
   "language": "python",
   "name": "python3"
  },
  "language_info": {
   "codemirror_mode": {
    "name": "ipython",
    "version": 3
   },
   "file_extension": ".py",
   "mimetype": "text/x-python",
   "name": "python",
   "nbconvert_exporter": "python",
   "pygments_lexer": "ipython3",
   "version": "3.8.5"
  }
 },
 "nbformat": 4,
 "nbformat_minor": 4
}
