{
 "cells": [
  {
   "cell_type": "markdown",
   "metadata": {},
   "source": [
    "# Authors\n",
    "# ----------------------------------------\n",
    "\n",
    "## Kiara Gabriel             -    2161334\n",
    "\n",
    "## Phola Bavuma          -    1848739\n",
    "\n",
    "## Shravan Singh         -    2173638\n",
    "\n",
    "## Arneev Singh          -    2180393\n",
    "\n",
    "# ----------------------------------------"
   ]
  },
  {
   "cell_type": "code",
   "execution_count": 2,
   "metadata": {},
   "outputs": [],
   "source": [
    "import numpy as np\n",
    "import math\n",
    "import matplotlib.pyplot as plt"
   ]
  },
  {
   "cell_type": "code",
   "execution_count": 3,
   "metadata": {},
   "outputs": [],
   "source": [
    "#Constants\n",
    "tabSpace = 30"
   ]
  },
  {
   "cell_type": "code",
   "execution_count": 4,
   "metadata": {},
   "outputs": [],
   "source": [
    "#Helper Function - Prints Question\n",
    "def printQues(questionNumber):\n",
    "    ans = \"Question (\" + questionNumber + \")\"\n",
    "    \n",
    "    hashes = \"\"\n",
    "    for i in range(len(ans)):\n",
    "        hashes += '='\n",
    "    \n",
    "    print(ans)\n",
    "    print(hashes)"
   ]
  },
  {
   "cell_type": "code",
   "execution_count": 5,
   "metadata": {},
   "outputs": [],
   "source": [
    "#Sigmoid Function\n",
    "def sigmoid(x):\n",
    "    return 1/(1 + np.exp(-x))"
   ]
  },
  {
   "cell_type": "code",
   "execution_count": 6,
   "metadata": {},
   "outputs": [],
   "source": [
    "#Dot Product\n",
    "def myDot(inputVec,thetaMat):\n",
    "    ansLst = []\n",
    "    \n",
    "    for thetaLst in thetaMat:\n",
    "        isum = 0\n",
    "        \n",
    "        for i in range(len(thetaLst)):\n",
    "            isum += thetaLst[i] * inputVec[i]\n",
    "        \n",
    "        ansLst.append(isum)\n",
    "        \n",
    "    return ansLst\n",
    "    "
   ]
  },
  {
   "cell_type": "code",
   "execution_count": 7,
   "metadata": {},
   "outputs": [],
   "source": [
    "class Node:\n",
    "    def __init__(self):\n",
    "        self.value = 1\n",
    "        self.weights = []\n",
    "    \n",
    "    def setValue(self, value):\n",
    "        self.value = value\n",
    "    \n",
    "    def addWeight(self, weight):\n",
    "        self.weights.append(weight)\n",
    "        \n",
    "    def getWeight(self, index):\n",
    "        return self.weights[index]"
   ]
  },
  {
   "cell_type": "code",
   "execution_count": 8,
   "metadata": {},
   "outputs": [],
   "source": [
    "class Layer:\n",
    "    def __init__(self, size):\n",
    "        self.nodes = []\n",
    "        \n",
    "        for i in range(size):\n",
    "            self.nodes.append(Node())\n",
    "            \n",
    "    def __str__(self):\n",
    "        lst = []\n",
    "        \n",
    "        for i in range(self.getSize()):\n",
    "            lst.append(self.nodes[i].value)\n",
    "            \n",
    "        return str(lst)\n",
    "        \n",
    "    def getSize(self):\n",
    "        return len(self.nodes)\n",
    "        \n",
    "    def setNodeValue(self, index, value):\n",
    "        self.nodes[index].setValue(value)\n",
    "    \n",
    "    def addNodeWeight(self, index, weight):\n",
    "        self.nodes[index].addWeight(weight)\n",
    "    \n",
    "    def addNode(self, node):\n",
    "        self.nodes.append(node)\n",
    "        \n",
    "    def updateNode(self, index, value):\n",
    "        self.nodes[index].value = value\n",
    "    \n",
    "    def getNodeValue(self,index):\n",
    "        return self.nodes[index].value\n",
    "    \n",
    "    def getNodeWeights(self, index):\n",
    "        return self.nodes[index].weights\n",
    "    \n",
    "    def getNodesValue(self):\n",
    "        lst = []\n",
    "        for node in self.nodes:\n",
    "            lst.append(node.value)\n",
    "        \n",
    "        return lst\n",
    "    \n",
    "    def getNodesWeight(self, weightIndex):\n",
    "        lst = []\n",
    "        for node in self.nodes:\n",
    "            lst.append(node.weights[weightIndex])\n",
    "            \n",
    "        return lst\n",
    "    \n",
    "    def getAmountWeightPerNode(self):\n",
    "        return len(self.nodes[0].weights)"
   ]
  },
  {
   "cell_type": "code",
   "execution_count": 9,
   "metadata": {},
   "outputs": [],
   "source": [
    "class NeuralNetwork:\n",
    "    def __init__(self, nodeLst):\n",
    "        \n",
    "        self.nodeLst = nodeLst\n",
    "        self.layers = []\n",
    "        \n",
    "        for numberNodes in nodeLst:\n",
    "            self.layers.append(Layer(numberNodes))\n",
    "            \n",
    "        \n",
    "        self.amountLayers = len(nodeLst)\n",
    "    \n",
    "    def setInputLayer(self, inputValues):\n",
    "        \n",
    "        #Making sure they fit\n",
    "        if (len(inputValues) != self.layers[0].getSize() - 1):\n",
    "            print(\"Input Values cannot fit into Input Layer\")\n",
    "            print(\"Input Values is:\")\n",
    "            print(inputValues)\n",
    "            print(\"Input Layer is:\")\n",
    "            print(self.layers[0])\n",
    "            print(\"Remember there is no input value for the first(bias) node\")\n",
    "            return\n",
    "        \n",
    "        self.inputValues = inputValues\n",
    "        \n",
    "        #Setting Bias Node = 1\n",
    "        self.layers[0].setNodeValue(0,1)\n",
    "        \n",
    "        #Setting Other Nodes to Input Values\n",
    "        for i in range(len(inputValues)):\n",
    "            self.layers[0].setNodeValue(i+1,inputValues[i])\n",
    "            \n",
    "    \n",
    "    def printNetwork(self,showWeights=False):\n",
    "        \n",
    "        #get maxAmountNodes of layers\n",
    "        maxAmountNodes = 0  \n",
    "        for layer in self.layers:\n",
    "            size = layer.getSize()\n",
    "            if (size > maxAmountNodes):\n",
    "                maxAmountNodes = size\n",
    "        \n",
    "        #Add empty list for maxAmountNodes\n",
    "        valueLst = []\n",
    "        weightsLst = []\n",
    "        for i in range(maxAmountNodes):\n",
    "            valueLst.append([])\n",
    "            weightsLst.append([])\n",
    "        \n",
    "        #Adding all nodes to layerLst\n",
    "        for i in range(len(self.layers)):\n",
    "            for j in range(self.layers[i].getSize()):\n",
    "                valueLst[j].append(self.layers[i].getNodeValue(j))\n",
    "                weightsLst[j].append(self.layers[i].getNodeWeights(j))\n",
    "                \n",
    "                \n",
    "        #Printing out layerLst\n",
    "        for row in valueLst:\n",
    "            sLine = \"\"\n",
    "            for val in row:\n",
    "                sLine += str(val) + '\\t'\n",
    "            \n",
    "            print(sLine)\n",
    "            \n",
    "        if (showWeights):\n",
    "            print()\n",
    "            for row in weightsLst:\n",
    "                sLine = \"\"\n",
    "                for val in row:\n",
    "                    sLine += str(val) + '\\t'\n",
    "\n",
    "                print(sLine.expandtabs(tabSpace))\n",
    "            \n",
    "        \n",
    "            \n",
    "        \n",
    "    def setWeights(self, weights):\n",
    "        self.weights = weights\n",
    "        #For each layer in weight\n",
    "        for layerIndex in range(len(weights)):\n",
    "            thetaMat = weights[layerIndex]\n",
    "            \n",
    "            #For each thetaLst in thetaMat (this is for one layer)\n",
    "            for thetaLst in thetaMat:\n",
    "                for nodeIndex in range(len(thetaLst)):\n",
    "                    self.layers[layerIndex].addNodeWeight(nodeIndex, thetaLst[nodeIndex])\n",
    "        \n",
    "\n",
    "    def setActivationFunction(self, activationFunction):\n",
    "        self.activationFunction = activationFunction\n",
    "        \n",
    "    def forwardPropogation(self):\n",
    "        #For each layer\n",
    "        for layerIndex in range(len(self.layers)):\n",
    "            #If last layer then continue\n",
    "            if (layerIndex == len(self.layers) - 1):\n",
    "                continue\n",
    "                \n",
    "            layer = self.layers[layerIndex]\n",
    "            nextLayer = self.layers[layerIndex + 1]\n",
    "            \n",
    "            nodeVals = layer.getNodesValue()\n",
    "            nodeWeights = self.weights[layerIndex]\n",
    "\n",
    "            dotProduct = myDot(nodeVals,nodeWeights)\n",
    "            \n",
    "            if (type(dotProduct) == float):\n",
    "                nextLayer.setNodeValue(1,self.activationFunction(dotProduct))\n",
    "                return\n",
    "            \n",
    "            for i in range(len(dotProduct)):\n",
    "                if (layerIndex == len(self.layers) -2):\n",
    "                    nextLayer.setNodeValue(i,self.activationFunction(dotProduct[i]))\n",
    "                    return\n",
    "                \n",
    "                nextLayer.setNodeValue(i+1,self.activationFunction(dotProduct[i]))\n",
    "                \n",
    "    def getOutput(self):\n",
    "        return self.activationFunction(self.layers[len(self.layers)-1].getNodeValue(0))\n",
    "            \n",
    "    def resetNetwork(self):\n",
    "        for layer in self.layers:\n",
    "            for node in layer.nodes:\n",
    "                node.value = 1\n",
    "                node.weights = []"
   ]
  },
  {
   "cell_type": "code",
   "execution_count": 10,
   "metadata": {},
   "outputs": [],
   "source": [
    "#Helper Print Neural Network\n",
    "\n",
    "def printNeuralWithHelper(inputVec, neuralNetwork, questionNumber, func, theta):\n",
    "    neuralNetwork.setInputLayer(inputVec)\n",
    "    \n",
    "    printQues(questionNumber)\n",
    "\n",
    "    neuralNetwork.setWeights(theta)\n",
    "    neuralNetwork.setActivationFunction(func)\n",
    "\n",
    "    print(\"Before Forward Propogation\")\n",
    "    neuralNetwork.printNetwork(False)\n",
    "    print()\n",
    "\n",
    "    neuralNetwork.forwardPropogation()\n",
    "\n",
    "    print(\"Forward Propogation\")\n",
    "    neuralNetwork.printNetwork(False)\n",
    "    print()\n",
    "\n",
    "    print(\"Output\")\n",
    "    print(neuralNetwork.getOutput())\n",
    "\n"
   ]
  },
  {
   "cell_type": "code",
   "execution_count": 11,
   "metadata": {},
   "outputs": [],
   "source": [
    "#Question 1\n",
    "amountNodeLst = [4,3,1]\n",
    "q1NN = NeuralNetwork(amountNodeLst)\n",
    "\n",
    "thetaMat = [\n",
    "    [\n",
    "        [1,-1,0.5,1]\n",
    "        ,\n",
    "        [2,-2,1,-1]\n",
    "    ]\n",
    "    ,\n",
    "    [\n",
    "        [-1,2,1]\n",
    "    ]\n",
    "]"
   ]
  },
  {
   "cell_type": "code",
   "execution_count": 12,
   "metadata": {},
   "outputs": [
    {
     "name": "stdout",
     "output_type": "stream",
     "text": [
      "Question (1a)\n",
      "=============\n",
      "Before Forward Propogation\n",
      "1\t1\t1\t\n",
      "0\t1\t\n",
      "-3\t1\t\n",
      "1\t\n",
      "\n",
      "Forward Propogation\n",
      "1\t1\t0.5900377859962891\t\n",
      "0\t0.6224593312018546\t\n",
      "-3\t0.11920292202211755\t\n",
      "1\t\n",
      "\n",
      "Output\n",
      "0.6433738155095761\n"
     ]
    }
   ],
   "source": [
    "inputVal1 = [0,-3,1]\n",
    "\n",
    "printNeuralWithHelper(inputVal1, q1NN, \"1a\",sigmoid, thetaMat)"
   ]
  },
  {
   "cell_type": "code",
   "execution_count": 13,
   "metadata": {},
   "outputs": [
    {
     "name": "stdout",
     "output_type": "stream",
     "text": [
      "Question (1b)\n",
      "=============\n",
      "Before Forward Propogation\n",
      "1\t1\t0.5900377859962891\t\n",
      "1\t0.6224593312018546\t\n",
      "2\t0.11920292202211755\t\n",
      "1\t\n",
      "\n",
      "Forward Propogation\n",
      "1\t1\t0.8164760997195802\t\n",
      "1\t0.8807970779778823\t\n",
      "2\t0.7310585786300049\t\n",
      "1\t\n",
      "\n",
      "Output\n",
      "0.693487802310551\n"
     ]
    }
   ],
   "source": [
    "inputVal2 = [1,2,1]\n",
    "\n",
    "printNeuralWithHelper(inputVal2, q1NN, \"1b\",sigmoid, thetaMat)\n"
   ]
  },
  {
   "cell_type": "code",
   "execution_count": 14,
   "metadata": {},
   "outputs": [
    {
     "name": "stdout",
     "output_type": "stream",
     "text": [
      "Question (1c)\n",
      "=============\n",
      "Before Forward Propogation\n",
      "1\t1\t0.8164760997195802\t\n",
      "-1\t0.8807970779778823\t\n",
      "1\t0.7310585786300049\t\n",
      "2\t\n",
      "\n",
      "Forward Propogation\n",
      "1\t1\t0.8733158426540304\t\n",
      "-1\t0.9890130573694068\t\n",
      "1\t0.9525741268224334\t\n",
      "2\t\n",
      "\n",
      "Output\n",
      "0.705435187153017\n"
     ]
    }
   ],
   "source": [
    "inputVal3 = [-1,1,2]\n",
    "\n",
    "printNeuralWithHelper(inputVal3, q1NN, \"1c\",sigmoid, thetaMat)"
   ]
  },
  {
   "cell_type": "markdown",
   "metadata": {},
   "source": [
    "## Question 2(a)"
   ]
  },
  {
   "cell_type": "code",
   "execution_count": 15,
   "metadata": {},
   "outputs": [],
   "source": [
    "#Question 2(a)\n",
    "\n",
    "def f(x):\n",
    "    y = (x**2)*(math.sin(2*math.pi*x))+0.7\n",
    "    return y"
   ]
  },
  {
   "cell_type": "markdown",
   "metadata": {},
   "source": [
    "## Question 2(b) & 2(c)"
   ]
  },
  {
   "cell_type": "code",
   "execution_count": 16,
   "metadata": {},
   "outputs": [
    {
     "data": {
      "text/plain": [
       "<function matplotlib.pyplot.show(close=None, block=None)>"
      ]
     },
     "execution_count": 16,
     "metadata": {},
     "output_type": "execute_result"
    },
    {
     "data": {
      "image/png": "[encoded data removed]",
      "text/plain": [
       "<Figure size 432x288 with 1 Axes>"
      ]
     },
     "metadata": {
      "needs_background": "light"
     },
     "output_type": "display_data"
    }
   ],
   "source": [
    "#Question 2(b) and 2(c)\n",
    "\n",
    "dataset = np.random.uniform(0,1,size=(100,2))\n",
    "classes = np.zeros(100)\n",
    "class0_points_x = []\n",
    "class0_points_y = []\n",
    "class0 = [class0_points_x,class0_points_y]\n",
    "\n",
    "class1_points_x = []\n",
    "class1_points_y = []\n",
    "class1 = [class1_points_x,class1_points_y]\n",
    "\n",
    "for i in range(100):\n",
    "    if(f(dataset[i][0])>dataset[i][1]):\n",
    "        classes[i] = 0\n",
    "        class0_points_x.append(dataset[i][0])\n",
    "        class0_points_y.append(dataset[i][1])\n",
    "    else:\n",
    "        classes[i] = 1\n",
    "        class1_points_x.append(dataset[i][0])\n",
    "        class1_points_y.append(dataset[i][1])\n",
    "\n",
    "plt.scatter(class0_points_x,class0_points_y)\n",
    "plt.scatter(class1_points_x,class1_points_y)\n",
    "plt.axis('equal')\n",
    "plt.show\n",
    "\n"
   ]
  },
  {
   "cell_type": "code",
   "execution_count": null,
   "metadata": {},
   "outputs": [],
   "source": []
  },
  {
   "cell_type": "code",
   "execution_count": null,
   "metadata": {},
   "outputs": [],
   "source": []
  },
  {
   "cell_type": "code",
   "execution_count": null,
   "metadata": {},
   "outputs": [],
   "source": []
  }
 ],
 "metadata": {
  "kernelspec": {
   "display_name": "Python 3",
   "language": "python",
   "name": "python3"
  },
  "language_info": {
   "codemirror_mode": {
    "name": "ipython",
    "version": 3
   },
   "file_extension": ".py",
   "mimetype": "text/x-python",
   "name": "python",
   "nbconvert_exporter": "python",
   "pygments_lexer": "ipython3",
   "version": "3.8.5"
  }
 },
 "nbformat": 4,
 "nbformat_minor": 4
}
