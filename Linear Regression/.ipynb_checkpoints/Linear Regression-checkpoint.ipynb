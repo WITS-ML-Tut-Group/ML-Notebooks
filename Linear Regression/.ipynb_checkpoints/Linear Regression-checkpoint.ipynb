{
 "cells": [
  {
   "cell_type": "code",
   "execution_count": 1,
   "metadata": {},
   "outputs": [
    {
     "name": "stdout",
     "output_type": "stream",
     "text": [
      "Kiara Gabriel\t (2161334)\n",
      "Phola Bavuma\t (1848739)\n",
      "Shravan Singh\t (2173638)\n",
      "Arneev Singh\t (2180393)\n"
     ]
    }
   ],
   "source": [
    "#STUDENTS\n",
    "\n",
    "print(\"Kiara Gabriel\\t (2161334)\")\n",
    "print(\"Phola Bavuma\\t (1848739)\")\n",
    "print(\"Shravan Singh\\t (2173638)\")\n",
    "print(\"Arneev Singh\\t (2180393)\")"
   ]
  },
  {
   "cell_type": "code",
   "execution_count": 2,
   "metadata": {},
   "outputs": [],
   "source": [
    "import numpy as np\n",
    "import matplotlib.pyplot as pyplot\n",
    "import matplotlib.pyplot as plt"
   ]
  },
  {
   "cell_type": "code",
   "execution_count": 3,
   "metadata": {},
   "outputs": [],
   "source": [
    "#Helper function to mark questions\n",
    "def quesPrint(number):\n",
    "    print(\"Question\",number)\n",
    "    totLen = len(\"Question\") + 1 + len(str(number))\n",
    "    string = \"\"\n",
    "    \n",
    "    for i in range(totLen):\n",
    "        string += \"=\"\n",
    "    \n",
    "    print(string)\n",
    "    \n",
    "#Helper function for making polynomial design matrix\n",
    "def getPolyDesignMatrix(xLst, polyMax):\n",
    "    rowLength = len(xLst)\n",
    "    colLength = polyMax + 1\n",
    "    \n",
    "    mat = np.ones((rowLength, colLength))\n",
    "    \n",
    "    for col in range(colLength):\n",
    "        if (col == 0):\n",
    "            continue\n",
    "            \n",
    "        for row in range(rowLength):\n",
    "            mat[row][col] = (xLst[row])**(col)\n",
    "\n",
    "        \n",
    "    return mat"
   ]
  },
  {
   "cell_type": "code",
   "execution_count": 4,
   "metadata": {},
   "outputs": [],
   "source": [
    "#Norm2 Function\n",
    "def norm2(vec):\n",
    "    return np.sqrt(np.sum(np.power(vec, 2)))\n",
    "    \n",
    "    \n",
    "#Gradient Descent Function\n",
    "def gradientDescent(designMat, a_val, stoppingVal, y_set):\n",
    "    amountOfThetas = designMat.shape[1]\n",
    "    newTheta = np.repeat(0.5, amountOfThetas)\n",
    "    oldTheta = np.repeat(999999, amountOfThetas)\n",
    "    \n",
    "\n",
    "    if (len(designMat) != len(y_set)):\n",
    "        print(\"Oi, the x values and the y values have different data points\")\n",
    "        return []\n",
    "    \n",
    "    amountOfDatapoints = len(y_set)\n",
    "    \n",
    "#     while(norm2(newTheta - oldTheta) > stoppingVal):\n",
    "#         oldTheta = newTheta\n",
    "        \n",
    "#         for datapointIndex in range(amountOfDatapoints):\n",
    "#             calcVal = designMat[datapointIndex].dot(newTheta) - y_set[datapointIndex]\n",
    "#             for thetaIndex in range(amountOfThetas):\n",
    "#                 rightTerm = a_val*(calcVal)*designMat[datapointIndex][thetaIndex]\n",
    "#                 newTheta[thetaIndex] = newTheta[thetaIndex] - rightTerm\n",
    "#         print(newTheta)\n",
    "                \n",
    "#     return newTheta\n",
    "\n",
    "    while (np.linalg.norm(newTheta - oldTheta,2) > stoppingVal):\n",
    "        \n",
    "        \n",
    "        for i in range(amountOfDatapoints):\n",
    "            oldTheta = newTheta\n",
    "            inputs = designMat[i]\n",
    "            \n",
    "            y = newTheta[2]*inputs[2] + newTheta[1]*inputs[1] + newTheta[0]\n",
    "            \n",
    "            newTheta = newTheta - a * (y - y_set[i]) * inputs\n",
    "            \n",
    "            if (np.linalg.norm(newTheta - oldTheta,2) > stoppingVal):\n",
    "                break   \n",
    "    \n",
    "    return newTheta"
   ]
  },
  {
   "cell_type": "code",
   "execution_count": 5,
   "metadata": {},
   "outputs": [],
   "source": [
    "#Some constants\n",
    "a = 0.00001\n",
    "stoppingVal = 1"
   ]
  },
  {
   "cell_type": "code",
   "execution_count": 6,
   "metadata": {},
   "outputs": [],
   "source": [
    "#Question 4a(i) \n",
    "x_values = np.random.normal(0,10,150)\n",
    "float_formatter = \"{:.6f}\".format\n",
    "np.set_printoptions(formatter={'float_kind':float_formatter})\n"
   ]
  },
  {
   "cell_type": "code",
   "execution_count": 7,
   "metadata": {},
   "outputs": [
    {
     "name": "stdout",
     "output_type": "stream",
     "text": [
      "Question 4a(i)\n",
      "==============\n",
      "[-4.816223 -8.150172 -11.973435 -4.221587 -10.026178 2.756334 12.823470\n",
      " -4.160830 -16.429161 4.109148 8.071836 -8.532861 -7.103980 -3.831073\n",
      " -7.174279 -10.572117 -7.838387 4.009500 0.947934 4.162506 9.785802\n",
      " -1.486365 15.658525 0.685464 -9.842370 5.222275 -0.324444 -15.288257\n",
      " -2.501442 -13.487123 -5.198426 -12.985815 -42.248349 -10.390914 1.587563\n",
      " 12.520220 10.934719 7.329538 12.811103 -4.543549 1.528223 -5.601351\n",
      " -1.891335 -4.835263 -1.823940 0.582679 7.005171 -5.291723 8.847097\n",
      " -9.768271 -4.370651 -1.565417 10.255899 -11.472990 -12.329395 7.513708\n",
      " -16.016339 -19.596489 -4.839396 -18.760451 6.534046 17.420243 -11.666438\n",
      " 12.924566 -0.546102 -3.113062 9.889011 1.296997 -3.360336 -6.431409\n",
      " 13.908110 -8.407580 4.160865 2.160270 -13.300651 -7.068172 -9.529022\n",
      " -9.828136 -14.659545 -17.885000 15.311916 -1.869631 -4.738560 -0.109121\n",
      " 14.053966 10.260516 15.268594 -5.871894 8.637932 0.604789 7.128016\n",
      " -2.533318 25.594395 9.636482 -1.259828 -18.466851 6.546089 1.077510\n",
      " 7.649784 1.560735 7.956598 6.783706 2.244091 12.604113 -22.635681\n",
      " -8.113304 2.174057 5.120713 3.256852 -3.089265 0.908942 5.978988\n",
      " -1.889789 5.486341 5.217843 -13.798902 -13.383808 -12.019621 -7.758540\n",
      " -4.771509 -2.712504 2.253307 12.773375 11.763234 0.420531 16.227095\n",
      " 10.551915 -17.206977 0.733619 -6.875149 0.500195 16.562931 8.648050\n",
      " -3.094294 -4.378865 7.051919 14.710950 24.701186 -0.064279 17.632807\n",
      " 5.213859 12.793051 11.554678 -16.670165 0.173429 -3.379646 -21.696459\n",
      " -7.914813 -15.150941 16.001830]\n",
      "\n",
      "Number of x values is:  150\n"
     ]
    }
   ],
   "source": [
    "#Printing Question 4a(i)\n",
    "quesPrint(\"4a(i)\")\n",
    "print(x_values)\n",
    "print(\"\\nNumber of x values is: \", len(x_values))"
   ]
  },
  {
   "cell_type": "code",
   "execution_count": 8,
   "metadata": {},
   "outputs": [],
   "source": [
    "#Question 4a(ii)\n",
    "\n",
    "#Intializing Design Matrix\n",
    "s = (150,3)\n",
    "designMatrix = getPolyDesignMatrix(x_values,2)"
   ]
  },
  {
   "cell_type": "code",
   "execution_count": 9,
   "metadata": {},
   "outputs": [
    {
     "name": "stdout",
     "output_type": "stream",
     "text": [
      "Question 4a(ii)\n",
      "===============\n",
      "[[1.000000 -4.816223 23.196007]\n",
      " [1.000000 -8.150172 66.425296]\n",
      " [1.000000 -11.973435 143.363142]\n",
      " [1.000000 -4.221587 17.821799]\n",
      " [1.000000 -10.026178 100.524245]\n",
      " [1.000000 2.756334 7.597376]\n",
      " [1.000000 12.823470 164.441372]\n",
      " [1.000000 -4.160830 17.312506]\n",
      " [1.000000 -16.429161 269.917324]\n",
      " [1.000000 4.109148 16.885099]\n",
      " [1.000000 8.071836 65.154530]\n",
      " [1.000000 -8.532861 72.809718]\n",
      " [1.000000 -7.103980 50.466527]\n",
      " [1.000000 -3.831073 14.677118]\n",
      " [1.000000 -7.174279 51.470274]\n",
      " [1.000000 -10.572117 111.769657]\n",
      " [1.000000 -7.838387 61.440314]\n",
      " [1.000000 4.009500 16.076089]\n",
      " [1.000000 0.947934 0.898580]\n",
      " [1.000000 4.162506 17.326458]\n",
      " [1.000000 9.785802 95.761930]\n",
      " [1.000000 -1.486365 2.209282]\n",
      " [1.000000 15.658525 245.189411]\n",
      " [1.000000 0.685464 0.469861]\n",
      " [1.000000 -9.842370 96.872247]\n",
      " [1.000000 5.222275 27.272154]\n",
      " [1.000000 -0.324444 0.105264]\n",
      " [1.000000 -15.288257 233.730811]\n",
      " [1.000000 -2.501442 6.257211]\n",
      " [1.000000 -13.487123 181.902474]\n",
      " [1.000000 -5.198426 27.023628]\n",
      " [1.000000 -12.985815 168.631385]\n",
      " [1.000000 -42.248349 1784.923028]\n",
      " [1.000000 -10.390914 107.971103]\n",
      " [1.000000 1.587563 2.520355]\n",
      " [1.000000 12.520220 156.755908]\n",
      " [1.000000 10.934719 119.568077]\n",
      " [1.000000 7.329538 53.722126]\n",
      " [1.000000 12.811103 164.124353]\n",
      " [1.000000 -4.543549 20.643841]\n",
      " [1.000000 1.528223 2.335465]\n",
      " [1.000000 -5.601351 31.375132]\n",
      " [1.000000 -1.891335 3.577147]\n",
      " [1.000000 -4.835263 23.379773]\n",
      " [1.000000 -1.823940 3.326756]\n",
      " [1.000000 0.582679 0.339515]\n",
      " [1.000000 7.005171 49.072427]\n",
      " [1.000000 -5.291723 28.002335]\n",
      " [1.000000 8.847097 78.271132]\n",
      " [1.000000 -9.768271 95.419110]\n",
      " [1.000000 -4.370651 19.102587]\n",
      " [1.000000 -1.565417 2.450529]\n",
      " [1.000000 10.255899 105.183462]\n",
      " [1.000000 -11.472990 131.629505]\n",
      " [1.000000 -12.329395 152.013987]\n",
      " [1.000000 7.513708 56.455802]\n",
      " [1.000000 -16.016339 256.523102]\n",
      " [1.000000 -19.596489 384.022369]\n",
      " [1.000000 -4.839396 23.419754]\n",
      " [1.000000 -18.760451 351.954509]\n",
      " [1.000000 6.534046 42.693751]\n",
      " [1.000000 17.420243 303.464851]\n",
      " [1.000000 -11.666438 136.105768]\n",
      " [1.000000 12.924566 167.044416]\n",
      " [1.000000 -0.546102 0.298227]\n",
      " [1.000000 -3.113062 9.691158]\n",
      " [1.000000 9.889011 97.792545]\n",
      " [1.000000 1.296997 1.682202]\n",
      " [1.000000 -3.360336 11.291857]\n",
      " [1.000000 -6.431409 41.363022]\n",
      " [1.000000 13.908110 193.435528]\n",
      " [1.000000 -8.407580 70.687407]\n",
      " [1.000000 4.160865 17.312799]\n",
      " [1.000000 2.160270 4.666765]\n",
      " [1.000000 -13.300651 176.907313]\n",
      " [1.000000 -7.068172 49.959051]\n",
      " [1.000000 -9.529022 90.802257]\n",
      " [1.000000 -9.828136 96.592265]\n",
      " [1.000000 -14.659545 214.902267]\n",
      " [1.000000 -17.885000 319.873219]\n",
      " [1.000000 15.311916 234.454785]\n",
      " [1.000000 -1.869631 3.495521]\n",
      " [1.000000 -4.738560 22.453949]\n",
      " [1.000000 -0.109121 0.011907]\n",
      " [1.000000 14.053966 197.513971]\n",
      " [1.000000 10.260516 105.278179]\n",
      " [1.000000 15.268594 233.129956]\n",
      " [1.000000 -5.871894 34.479134]\n",
      " [1.000000 8.637932 74.613864]\n",
      " [1.000000 0.604789 0.365770]\n",
      " [1.000000 7.128016 50.808609]\n",
      " [1.000000 -2.533318 6.417699]\n",
      " [1.000000 25.594395 655.073047]\n",
      " [1.000000 9.636482 92.861782]\n",
      " [1.000000 -1.259828 1.587168]\n",
      " [1.000000 -18.466851 341.024599]\n",
      " [1.000000 6.546089 42.851277]\n",
      " [1.000000 1.077510 1.161028]\n",
      " [1.000000 7.649784 58.519191]\n",
      " [1.000000 1.560735 2.435893]\n",
      " [1.000000 7.956598 63.307451]\n",
      " [1.000000 6.783706 46.018668]\n",
      " [1.000000 2.244091 5.035944]\n",
      " [1.000000 12.604113 158.863671]\n",
      " [1.000000 -22.635681 512.374038]\n",
      " [1.000000 -8.113304 65.825704]\n",
      " [1.000000 2.174057 4.726522]\n",
      " [1.000000 5.120713 26.221704]\n",
      " [1.000000 3.256852 10.607086]\n",
      " [1.000000 -3.089265 9.543557]\n",
      " [1.000000 0.908942 0.826176]\n",
      " [1.000000 5.978988 35.748302]\n",
      " [1.000000 -1.889789 3.571301]\n",
      " [1.000000 5.486341 30.099940]\n",
      " [1.000000 5.217843 27.225881]\n",
      " [1.000000 -13.798902 190.409696]\n",
      " [1.000000 -13.383808 179.126313]\n",
      " [1.000000 -12.019621 144.471301]\n",
      " [1.000000 -7.758540 60.194945]\n",
      " [1.000000 -4.771509 22.767296]\n",
      " [1.000000 -2.712504 7.357678]\n",
      " [1.000000 2.253307 5.077393]\n",
      " [1.000000 12.773375 163.159115]\n",
      " [1.000000 11.763234 138.373669]\n",
      " [1.000000 0.420531 0.176846]\n",
      " [1.000000 16.227095 263.318600]\n",
      " [1.000000 10.551915 111.342913]\n",
      " [1.000000 -17.206977 296.080054]\n",
      " [1.000000 0.733619 0.538196]\n",
      " [1.000000 -6.875149 47.267669]\n",
      " [1.000000 0.500195 0.250195]\n",
      " [1.000000 16.562931 274.330675]\n",
      " [1.000000 8.648050 74.788762]\n",
      " [1.000000 -3.094294 9.574658]\n",
      " [1.000000 -4.378865 19.174461]\n",
      " [1.000000 7.051919 49.729556]\n",
      " [1.000000 14.710950 216.412044]\n",
      " [1.000000 24.701186 610.148584]\n",
      " [1.000000 -0.064279 0.004132]\n",
      " [1.000000 17.632807 310.915887]\n",
      " [1.000000 5.213859 27.184331]\n",
      " [1.000000 12.793051 163.662145]\n",
      " [1.000000 11.554678 133.510588]\n",
      " [1.000000 -16.670165 277.894404]\n",
      " [1.000000 0.173429 0.030077]\n",
      " [1.000000 -3.379646 11.422009]\n",
      " [1.000000 -21.696459 470.736322]\n",
      " [1.000000 -7.914813 62.644266]\n",
      " [1.000000 -15.150941 229.551003]\n",
      " [1.000000 16.001830 256.058554]]\n"
     ]
    }
   ],
   "source": [
    "#Printing Question 4a(ii)\n",
    "quesPrint(\"4a(ii)\")\n",
    "print(designMatrix)"
   ]
  },
  {
   "cell_type": "code",
   "execution_count": 10,
   "metadata": {},
   "outputs": [],
   "source": [
    "#Question 4a(iii)\n",
    "theta_0 = np.random.uniform(0,1,1) #True values of theta\n",
    "theta_1 = np.random.uniform(0,1,1)\n",
    "theta_2 = np.random.uniform(0,1,1)\n",
    "theta_3 = np.random.uniform(0,1,1)\n",
    "\n",
    "actual_theta = [theta_0,theta_1,theta_2,theta_3]"
   ]
  },
  {
   "cell_type": "code",
   "execution_count": 11,
   "metadata": {},
   "outputs": [
    {
     "name": "stdout",
     "output_type": "stream",
     "text": [
      "Question 4a(iii)\n",
      "================\n",
      "Theta 0: [0.980827]\n",
      "Theta 1: [0.488472]\n",
      "Theta 2: [0.446091]\n"
     ]
    }
   ],
   "source": [
    "#Printing Question 4a(iii)\n",
    "quesPrint(\"4a(iii)\")\n",
    "print(\"Theta 0:\",theta_0)\n",
    "print(\"Theta 1:\",theta_1)\n",
    "print(\"Theta 2:\",theta_2)"
   ]
  },
  {
   "cell_type": "code",
   "execution_count": 12,
   "metadata": {},
   "outputs": [],
   "source": [
    "#Question 4a(iv)\n",
    "\n",
    "# Making some noise data for y-values\n",
    "random_noise = np.random.normal(0,8,150)\n",
    "\n",
    "#Getting y values based off theta and design matrix (x-values) \n",
    "#and adding noise to it\n",
    "y_values = np.zeros(150,dtype = float)\n",
    "for i in range(150):\n",
    "    y = (theta_0) + (theta_1*designMatrix[i][1]) + (theta_2*designMatrix[i][2])\n",
    "    y_values[i] = y + random_noise[i]"
   ]
  },
  {
   "cell_type": "code",
   "execution_count": 13,
   "metadata": {},
   "outputs": [
    {
     "name": "stdout",
     "output_type": "stream",
     "text": [
      "Question 4a(iv)\n",
      "===============\n",
      "[-2.839969 26.192395 62.082406 15.474207 39.163618 -7.527768 83.699856\n",
      " 6.191706 106.286690 -6.027998 16.411367 28.733378 20.862491 11.791100\n",
      " 23.592113 48.959655 22.090800 9.813006 22.909137 13.468739 47.862921\n",
      " -5.795945 114.419096 -15.517979 33.901654 23.443872 -6.815523 99.991533\n",
      " 14.420506 72.966493 16.224563 75.508446 770.699618 44.860658 -2.180480\n",
      " 88.054623 54.418243 37.310401 71.410055 16.643358 -10.520561 0.621629\n",
      " -4.200095 -1.293338 12.656074 -10.928014 26.341191 11.693995 41.725065\n",
      " 43.979791 5.363448 2.411281 51.160508 59.770258 74.316461 24.263888\n",
      " 108.259125 169.570842 15.402324 149.297151 22.886389 150.818229 53.425370\n",
      " 68.386594 15.015889 2.610849 52.977585 19.405196 -9.159533 28.812897\n",
      " 95.511828 32.151092 8.655608 13.177043 81.868208 18.481750 47.968003\n",
      " 32.008148 87.315478 129.013046 114.339817 -0.415187 -1.790654 3.433736\n",
      " 107.022339 45.065500 117.823765 3.306082 29.547919 1.712139 24.853220\n",
      " 1.621478 320.717097 53.165437 2.933605 133.030671 10.508830 -1.525486\n",
      " 34.277201 4.036592 37.777160 16.715726 11.994232 74.939953 196.245247\n",
      " 32.558110 8.776895 12.046501 12.504654 15.915278 11.379831 22.155106\n",
      " 10.027087 12.789899 13.466411 69.781148 75.416760 71.526059 29.395864\n",
      " 26.933044 5.437938 15.904940 80.695479 63.587404 -0.682948 119.528889\n",
      " 44.308789 119.786906 -0.166062 8.172944 0.947640 133.148643 37.318787\n",
      " 10.587073 5.545425 28.729932 102.808326 270.582859 0.833748 150.442350\n",
      " 4.008450 88.073065 68.113975 119.971768 -8.592322 2.078714 197.209226\n",
      " 12.226045 99.496472 114.824842]\n"
     ]
    }
   ],
   "source": [
    "#Printing Question 4a(iv)\n",
    "quesPrint(\"4a(iv)\")\n",
    "print(y_values)"
   ]
  },
  {
   "cell_type": "code",
   "execution_count": 14,
   "metadata": {},
   "outputs": [
    {
     "name": "stdout",
     "output_type": "stream",
     "text": [
      "Question 4a(v)\n",
      "==============\n"
     ]
    },
    {
     "data": {
      "text/plain": [
       "<matplotlib.collections.PathCollection at 0xea80508>"
      ]
     },
     "execution_count": 14,
     "metadata": {},
     "output_type": "execute_result"
    },
    {
     "data": {
      "image/png": "[encoded data removed]",
      "text/plain": [
       "<Figure size 432x288 with 1 Axes>"
      ]
     },
     "metadata": {
      "needs_background": "light"
     },
     "output_type": "display_data"
    }
   ],
   "source": [
    "#Showing graph for Question 4a(v)\n",
    "quesPrint(\"4a(v)\")\n",
    "pyplot.scatter(x_values,y_values)"
   ]
  },
  {
   "cell_type": "code",
   "execution_count": 15,
   "metadata": {},
   "outputs": [],
   "source": [
    "#Question 4a(vi)\n",
    "\n",
    "#Splitting data into training, validation and testing data sets\n",
    "x_train = np.zeros(112,dtype = float)\n",
    "y_train = np.zeros(112,dtype = float)\n",
    "x_validate = np.zeros(19,dtype = float)\n",
    "y_validate = np.zeros(19,dtype = float)\n",
    "x_test = np.zeros(19,dtype = float)\n",
    "y_test = np.zeros(19,dtype = float)\n",
    "\n",
    "for i in range(112):\n",
    "    x_train[i] = x_values[i]\n",
    "    y_train[i] = y_values[i]\n",
    "for i in range(112,131):\n",
    "    x_validate[i-112] = x_values[i]\n",
    "    y_validate[i-112] = y_values[i]\n",
    "for i in range(131,150):\n",
    "    x_test[131-i] = x_values[i]\n",
    "    y_test[131-i] = y_values[i]"
   ]
  },
  {
   "cell_type": "code",
   "execution_count": 16,
   "metadata": {},
   "outputs": [
    {
     "name": "stdout",
     "output_type": "stream",
     "text": [
      "Question 4a(vi)\n",
      "===============\n",
      "Training Data\n",
      "==============\n",
      "x dataset is: \n",
      "[-4.816223 -8.150172 -11.973435 -4.221587 -10.026178 2.756334 12.823470\n",
      " -4.160830 -16.429161 4.109148 8.071836 -8.532861 -7.103980 -3.831073\n",
      " -7.174279 -10.572117 -7.838387 4.009500 0.947934 4.162506 9.785802\n",
      " -1.486365 15.658525 0.685464 -9.842370 5.222275 -0.324444 -15.288257\n",
      " -2.501442 -13.487123 -5.198426 -12.985815 -42.248349 -10.390914 1.587563\n",
      " 12.520220 10.934719 7.329538 12.811103 -4.543549 1.528223 -5.601351\n",
      " -1.891335 -4.835263 -1.823940 0.582679 7.005171 -5.291723 8.847097\n",
      " -9.768271 -4.370651 -1.565417 10.255899 -11.472990 -12.329395 7.513708\n",
      " -16.016339 -19.596489 -4.839396 -18.760451 6.534046 17.420243 -11.666438\n",
      " 12.924566 -0.546102 -3.113062 9.889011 1.296997 -3.360336 -6.431409\n",
      " 13.908110 -8.407580 4.160865 2.160270 -13.300651 -7.068172 -9.529022\n",
      " -9.828136 -14.659545 -17.885000 15.311916 -1.869631 -4.738560 -0.109121\n",
      " 14.053966 10.260516 15.268594 -5.871894 8.637932 0.604789 7.128016\n",
      " -2.533318 25.594395 9.636482 -1.259828 -18.466851 6.546089 1.077510\n",
      " 7.649784 1.560735 7.956598 6.783706 2.244091 12.604113 -22.635681\n",
      " -8.113304 2.174057 5.120713 3.256852 -3.089265 0.908942 5.978988]\n",
      "\n",
      "\n",
      "y dataset is: \n",
      "[-2.839969 26.192395 62.082406 15.474207 39.163618 -7.527768 83.699856\n",
      " 6.191706 106.286690 -6.027998 16.411367 28.733378 20.862491 11.791100\n",
      " 23.592113 48.959655 22.090800 9.813006 22.909137 13.468739 47.862921\n",
      " -5.795945 114.419096 -15.517979 33.901654 23.443872 -6.815523 99.991533\n",
      " 14.420506 72.966493 16.224563 75.508446 770.699618 44.860658 -2.180480\n",
      " 88.054623 54.418243 37.310401 71.410055 16.643358 -10.520561 0.621629\n",
      " -4.200095 -1.293338 12.656074 -10.928014 26.341191 11.693995 41.725065\n",
      " 43.979791 5.363448 2.411281 51.160508 59.770258 74.316461 24.263888\n",
      " 108.259125 169.570842 15.402324 149.297151 22.886389 150.818229 53.425370\n",
      " 68.386594 15.015889 2.610849 52.977585 19.405196 -9.159533 28.812897\n",
      " 95.511828 32.151092 8.655608 13.177043 81.868208 18.481750 47.968003\n",
      " 32.008148 87.315478 129.013046 114.339817 -0.415187 -1.790654 3.433736\n",
      " 107.022339 45.065500 117.823765 3.306082 29.547919 1.712139 24.853220\n",
      " 1.621478 320.717097 53.165437 2.933605 133.030671 10.508830 -1.525486\n",
      " 34.277201 4.036592 37.777160 16.715726 11.994232 74.939953 196.245247\n",
      " 32.558110 8.776895 12.046501 12.504654 15.915278 11.379831 22.155106]\n",
      "\n",
      "\n",
      "Validation Data\n",
      "==============\n",
      "x dataset is: \n",
      "[-1.889789 5.486341 5.217843 -13.798902 -13.383808 -12.019621 -7.758540\n",
      " -4.771509 -2.712504 2.253307 12.773375 11.763234 0.420531 16.227095\n",
      " 10.551915 -17.206977 0.733619 -6.875149 0.500195]\n",
      "\n",
      "\n",
      "y dataset is: \n",
      "[10.027087 12.789899 13.466411 69.781148 75.416760 71.526059 29.395864\n",
      " 26.933044 5.437938 15.904940 80.695479 63.587404 -0.682948 119.528889\n",
      " 44.308789 119.786906 -0.166062 8.172944 0.947640]\n",
      "\n",
      "\n",
      "Testing Data\n",
      "==============\n",
      "x dataset is: \n",
      "[16.562931 16.001830 -15.150941 -7.914813 -21.696459 -3.379646 0.173429\n",
      " -16.670165 11.554678 12.793051 5.213859 17.632807 -0.064279 24.701186\n",
      " 14.710950 7.051919 -4.378865 -3.094294 8.648050]\n",
      "\n",
      "\n",
      "y dataset is: \n",
      "[133.148643 114.824842 99.496472 12.226045 197.209226 2.078714 -8.592322\n",
      " 119.971768 68.113975 88.073065 4.008450 150.442350 0.833748 270.582859\n",
      " 102.808326 28.729932 5.545425 10.587073 37.318787]\n",
      "\n",
      "\n"
     ]
    }
   ],
   "source": [
    "#Printing out Question 4a(vi)\n",
    "quesPrint(\"4a(vi)\")\n",
    "print(\"Training Data\")\n",
    "print(\"==============\")\n",
    "print(\"x dataset is: \")\n",
    "print(x_train)\n",
    "print(\"\\n\")\n",
    "print(\"y dataset is: \")\n",
    "print(y_train)\n",
    "print(\"\\n\")\n",
    "\n",
    "print(\"Validation Data\")\n",
    "print(\"==============\")\n",
    "print(\"x dataset is: \")\n",
    "print(x_validate)\n",
    "print(\"\\n\")\n",
    "print(\"y dataset is: \")\n",
    "print(y_validate)\n",
    "print(\"\\n\")\n",
    "\n",
    "print(\"Testing Data\")\n",
    "print(\"==============\")\n",
    "print(\"x dataset is: \")\n",
    "print(x_test)\n",
    "print(\"\\n\")\n",
    "print(\"y dataset is: \")\n",
    "print(y_test)\n",
    "print(\"\\n\")\n"
   ]
  },
  {
   "cell_type": "code",
   "execution_count": 17,
   "metadata": {},
   "outputs": [],
   "source": [
    "#Question 4b\n",
    "\n",
    "# Create design matrix for x values of training data \n",
    "s = (112,3)\n",
    "designTraining = getPolyDesignMatrix(x_train,2)\n",
    "designValidating = getPolyDesignMatrix(x_validate,2)"
   ]
  },
  {
   "cell_type": "code",
   "execution_count": 18,
   "metadata": {},
   "outputs": [],
   "source": [
    "# Question 4bi\n",
    "\n",
    "#Moore-Penrose pseudo-inverse\n",
    "transMatrix = designTraining.transpose() #X^T\n",
    "calcInverse = np.linalg.inv((transMatrix.dot(designTraining))) #(X^T X)^(-1)\n",
    "calcXtY = (transMatrix.dot(y_train)) #X^T y\n",
    "theta = calcInverse.dot(calcXtY) # theta = (X^T X)^(-1) X^T y\n",
    "theta[0] = theta[0]\n",
    "theta[1] = theta[1]\n",
    "theta[2] = theta[2]"
   ]
  },
  {
   "cell_type": "code",
   "execution_count": 19,
   "metadata": {},
   "outputs": [
    {
     "name": "stdout",
     "output_type": "stream",
     "text": [
      "Question 4b(i)\n",
      "==============\n",
      "\n",
      "Calculated theta values:\n",
      "[1.118099 0.545097 0.444739]\n"
     ]
    }
   ],
   "source": [
    "#Printing out Question 4b(i)\n",
    "quesPrint(\"4b(i)\")\n",
    "print(\"\\nCalculated theta values:\")\n",
    "print(theta)"
   ]
  },
  {
   "cell_type": "code",
   "execution_count": 20,
   "metadata": {},
   "outputs": [],
   "source": [
    "#Question 4b(ii)\n",
    "actual_theta_three_values = actual_theta[:-1]\n",
    "\n",
    "tempLst = []\n",
    "for arr in actual_theta_three_values:\n",
    "    tempLst.append(arr[0])\n",
    "actual_theta_three_values = tempLst\n",
    "\n",
    "difference = actual_theta_three_values - theta\n",
    "\n",
    "floatPercentageVector = (actual_theta_three_values/theta)\n",
    "percentageVector = []\n",
    "for perc in floatPercentageVector:\n",
    "    percentageVector.append(str(perc * 100) + \"%\")"
   ]
  },
  {
   "cell_type": "code",
   "execution_count": 21,
   "metadata": {},
   "outputs": [
    {
     "name": "stdout",
     "output_type": "stream",
     "text": [
      "Question 4b(ii)\n",
      "===============\n",
      "Calculated theta is: \n",
      "[1.118099 0.545097 0.444739]\n",
      "\n",
      "Actual Theta is: \n",
      "[0.9808267495097513, 0.48847202909753495, 0.44609140473098907]\n",
      "\n",
      "Difference between the 2 is: \n",
      "[-0.137272 -0.056625 0.001353]\n",
      "\n",
      "Amount of percentage of Calculated Values needs in order to get to Actual Theta Values: \n",
      "['87.72272326983614%', '89.61201374362403%', '100.30417958658349%']\n"
     ]
    }
   ],
   "source": [
    "#Printing Question 4b(ii)\n",
    "\n",
    "quesPrint(\"4b(ii)\")\n",
    "print(\"Calculated theta is: \")\n",
    "print(theta)\n",
    "\n",
    "print(\"\\nActual Theta is: \")\n",
    "print(actual_theta_three_values)\n",
    "\n",
    "print(\"\\nDifference between the 2 is: \")\n",
    "print(difference)\n",
    "\n",
    "print(\"\\nAmount of percentage of Calculated Values needs in order to get to Actual Theta Values: \")\n",
    "print(percentageVector)"
   ]
  },
  {
   "cell_type": "code",
   "execution_count": 22,
   "metadata": {},
   "outputs": [],
   "source": [
    "# Question 4b(iii)\n",
    "# Error of training data\n",
    "\n",
    "transTheta = theta.transpose() # theta^T\n",
    "thirdTerm = np.dot(np.dot(transTheta, transMatrix), np.dot(designTraining, theta)) #theta^T X^T X theta\n",
    "secondTerm = np.dot(np.dot(-2, transTheta), np.dot(transMatrix, y_train)) #2 theta^T X^T y\n",
    "firstTerm = np.dot(y_train.transpose(), y_train) #y^T y\n",
    "\n",
    "trainingError = 1/2 * (firstTerm + secondTerm + thirdTerm)\n",
    "\n",
    "# OR\n",
    "# trainingError = 1/2 * sum(pow((y_validate - designTraining.dot(theta)), 2))"
   ]
  },
  {
   "cell_type": "code",
   "execution_count": 23,
   "metadata": {},
   "outputs": [],
   "source": [
    "#Error of validation data\n",
    "\n",
    "transMatrix = designValidating.transpose() #X^T\n",
    "calcInverse = np.linalg.inv((transMatrix.dot(designValidating))) #(X^T X)^(-1)\n",
    "calcXtY = (transMatrix.dot(y_validate)) #X^T y\n",
    "validateTheta = calcInverse.dot(calcXtY) # theta = (X^T X)^(-1) X^T y\n",
    "validateTheta[0] = round(theta[0], 3)\n",
    "validateTheta[1] = round(theta[1], 3)\n",
    "validateTheta[2] = round(theta[2], 3)\n",
    "\n",
    "#Not sure about this one below\n",
    "# theta = validateTheta\n",
    "\n",
    "validationError = 1/2 * sum(pow((y_validate - designValidating.dot(validateTheta)), 2))"
   ]
  },
  {
   "cell_type": "code",
   "execution_count": 24,
   "metadata": {},
   "outputs": [
    {
     "name": "stdout",
     "output_type": "stream",
     "text": [
      "Question 4b(iii)\n",
      "================\n",
      "Training error is: 3636.8215631052153\n",
      "Validation error is: 599.3975141645838\n",
      "\n",
      "\n",
      "This makes sense considering that there are more data points in the training data set\n"
     ]
    }
   ],
   "source": [
    "#Printing out Question 4b(iii)\n",
    "\n",
    "quesPrint(\"4b(iii)\")\n",
    "print(\"Training error is:\", trainingError)\n",
    "print(\"Validation error is:\", validationError)\n",
    "\n",
    "print(\"\\n\\nThis makes sense considering that there are more data points in the training data set\")"
   ]
  },
  {
   "cell_type": "code",
   "execution_count": 25,
   "metadata": {},
   "outputs": [
    {
     "name": "stdout",
     "output_type": "stream",
     "text": [
      "Question 4b(iv)\n",
      "===============\n"
     ]
    },
    {
     "data": {
      "image/png": "[encoded data removed]",
      "text/plain": [
       "<Figure size 432x288 with 1 Axes>"
      ]
     },
     "metadata": {
      "needs_background": "light"
     },
     "output_type": "display_data"
    }
   ],
   "source": [
    "#Showing Question 4b(iv) graph\n",
    "\n",
    "quesPrint(\"4b(iv)\")\n",
    "\n",
    "plotTraining = designTraining[designTraining[:,1].argsort()]\n",
    "\n",
    "yPlot = theta[2]*plotTraining[:,1]**2 + theta[1]*plotTraining[:,1] + theta[0]\n",
    "plt.plot(plotTraining[:,1], yPlot, \"r\")\n",
    "\n",
    "plt.scatter(x_train, y_train)\n",
    "\n",
    "plt.xlabel(\"x-values\")\n",
    "plt.ylabel(\"y-values\")\n",
    "\n",
    "plt.ylim(-100, 200)\n",
    "plt.show()"
   ]
  },
  {
   "cell_type": "code",
   "execution_count": 26,
   "metadata": {},
   "outputs": [
    {
     "name": "stdout",
     "output_type": "stream",
     "text": [
      "[0.502823 0.524685 0.411309]\n"
     ]
    }
   ],
   "source": [
    "# Question 4b(v)\n",
    "\n",
    "# Gradient descent\n",
    "gradientTheta = gradientDescent(designTraining, a, stoppingVal, y_train)\n",
    "\n",
    "print(gradientTheta)"
   ]
  },
  {
   "cell_type": "code",
   "execution_count": 27,
   "metadata": {},
   "outputs": [],
   "source": [
    "# Calculate error\n",
    "error = 1/2 * sum(pow((y_train - designTraining.dot(gradientTheta)), 2))"
   ]
  },
  {
   "cell_type": "code",
   "execution_count": 28,
   "metadata": {},
   "outputs": [
    {
     "name": "stdout",
     "output_type": "stream",
     "text": [
      "Question 4b(v)\n",
      "==============\n",
      "Parameter values is: \n",
      "[0.502823 0.524685 0.411309]\n",
      "\n",
      "The training error is: \n",
      "6891.274913153058\n"
     ]
    },
    {
     "data": {
      "image/png": "[encoded data removed]",
      "text/plain": [
       "<Figure size 432x288 with 1 Axes>"
      ]
     },
     "metadata": {
      "needs_background": "light"
     },
     "output_type": "display_data"
    }
   ],
   "source": [
    "#Printing out Question 4b(v) and showing graph\n",
    "\n",
    "quesPrint(\"4b(v)\")\n",
    "# parameter values\n",
    "print(\"Parameter values is: \")\n",
    "print(gradientTheta)\n",
    "\n",
    "# error\n",
    "print(\"\\nThe training error is: \")\n",
    "print(error)\n",
    "\n",
    "# Draw graph\n",
    "plotTraining = designTraining[designTraining[:,1].argsort()]\n",
    "\n",
    "y = gradientTheta[2]*plotTraining[:,1]**2 + gradientTheta[1]*plotTraining[:,1] + gradientTheta[0]\n",
    "plt.plot(plotTraining[:,1], y, \"r\")\n",
    "\n",
    "plt.scatter(x_train, y_train)\n",
    "\n",
    "plt.xlabel(\"x-values\")\n",
    "plt.ylabel(\"y-values\")\n",
    "\n",
    "plt.ylim(-100, 200)\n",
    "plt.show()"
   ]
  },
  {
   "cell_type": "code",
   "execution_count": 29,
   "metadata": {},
   "outputs": [],
   "source": [
    "#=======================================4C================================="
   ]
  },
  {
   "cell_type": "code",
   "execution_count": 30,
   "metadata": {},
   "outputs": [],
   "source": [
    "#Question 4c(i)\n",
    "\n",
    "# design Matrix\n",
    "designTraining4 = getPolyDesignMatrix(x_train,3)"
   ]
  },
  {
   "cell_type": "code",
   "execution_count": 31,
   "metadata": {},
   "outputs": [
    {
     "name": "stdout",
     "output_type": "stream",
     "text": [
      "Question 4c(i)\n",
      "==============\n",
      "[[1.000000 -4.816223 23.196007 -111.717150]\n",
      " [1.000000 -8.150172 66.425296 -541.377551]\n",
      " [1.000000 -11.973435 143.363142 -1716.549242]\n",
      " [1.000000 -4.221587 17.821799 -75.236277]\n",
      " [1.000000 -10.026178 100.524245 -1007.873967]\n",
      " [1.000000 2.756334 7.597376 20.940902]\n",
      " [1.000000 12.823470 164.441372 2108.708936]\n",
      " [1.000000 -4.160830 17.312506 -72.034391]\n",
      " [1.000000 -16.429161 269.917324 -4434.515124]\n",
      " [1.000000 4.109148 16.885099 69.383372]\n",
      " [1.000000 8.071836 65.154530 525.916649]\n",
      " [1.000000 -8.532861 72.809718 -621.275206]\n",
      " [1.000000 -7.103980 50.466527 -358.513185]\n",
      " [1.000000 -3.831073 14.677118 -56.229106]\n",
      " [1.000000 -7.174279 51.470274 -369.262083]\n",
      " [1.000000 -10.572117 111.769657 -1181.641887]\n",
      " [1.000000 -7.838387 61.440314 -481.592973]\n",
      " [1.000000 4.009500 16.076089 64.457078]\n",
      " [1.000000 0.947934 0.898580 0.851795]\n",
      " [1.000000 4.162506 17.326458 72.121488]\n",
      " [1.000000 9.785802 95.761930 937.107328]\n",
      " [1.000000 -1.486365 2.209282 -3.283801]\n",
      " [1.000000 15.658525 245.189411 3839.304567]\n",
      " [1.000000 0.685464 0.469861 0.322073]\n",
      " [1.000000 -9.842370 96.872247 -953.452498]\n",
      " [1.000000 5.222275 27.272154 142.422682]\n",
      " [1.000000 -0.324444 0.105264 -0.034152]\n",
      " [1.000000 -15.288257 233.730811 -3573.336770]\n",
      " [1.000000 -2.501442 6.257211 -15.652048]\n",
      " [1.000000 -13.487123 181.902474 -2453.340953]\n",
      " [1.000000 -5.198426 27.023628 -140.480320]\n",
      " [1.000000 -12.985815 168.631385 -2189.815938]\n",
      " [1.000000 -42.248349 1784.923028 -75410.051774]\n",
      " [1.000000 -10.390914 107.971103 -1121.918496]\n",
      " [1.000000 1.587563 2.520355 4.001222]\n",
      " [1.000000 12.520220 156.755908 1962.618458]\n",
      " [1.000000 10.934719 119.568077 1307.443307]\n",
      " [1.000000 7.329538 53.722126 393.758363]\n",
      " [1.000000 12.811103 164.124353 2102.613940]\n",
      " [1.000000 -4.543549 20.643841 -93.796309]\n",
      " [1.000000 1.528223 2.335465 3.569110]\n",
      " [1.000000 -5.601351 31.375132 -175.743125]\n",
      " [1.000000 -1.891335 3.577147 -6.765583]\n",
      " [1.000000 -4.835263 23.379773 -113.047362]\n",
      " [1.000000 -1.823940 3.326756 -6.067804]\n",
      " [1.000000 0.582679 0.339515 0.197828]\n",
      " [1.000000 7.005171 49.072427 343.760770]\n",
      " [1.000000 -5.291723 28.002335 -148.180605]\n",
      " [1.000000 8.847097 78.271132 692.472325]\n",
      " [1.000000 -9.768271 95.419110 -932.079690]\n",
      " [1.000000 -4.370651 19.102587 -83.490736]\n",
      " [1.000000 -1.565417 2.450529 -3.836098]\n",
      " [1.000000 10.255899 105.183462 1078.750958]\n",
      " [1.000000 -11.472990 131.629505 -1510.184028]\n",
      " [1.000000 -12.329395 152.013987 -1874.240526]\n",
      " [1.000000 7.513708 56.455802 424.192386]\n",
      " [1.000000 -16.016339 256.523102 -4108.560871]\n",
      " [1.000000 -19.596489 384.022369 -7525.490001]\n",
      " [1.000000 -4.839396 23.419754 -113.337468]\n",
      " [1.000000 -18.760451 351.954509 -6602.825213]\n",
      " [1.000000 6.534046 42.693751 278.962916]\n",
      " [1.000000 17.420243 303.464851 5286.431325]\n",
      " [1.000000 -11.666438 136.105768 -1587.869453]\n",
      " [1.000000 12.924566 167.044416 2158.976651]\n",
      " [1.000000 -0.546102 0.298227 -0.162862]\n",
      " [1.000000 -3.113062 9.691158 -30.169179]\n",
      " [1.000000 9.889011 97.792545 967.071591]\n",
      " [1.000000 1.296997 1.682202 2.181811]\n",
      " [1.000000 -3.360336 11.291857 -37.944432]\n",
      " [1.000000 -6.431409 41.363022 -266.022508]\n",
      " [1.000000 13.908110 193.435528 2690.322638]\n",
      " [1.000000 -8.407580 70.687407 -594.310050]\n",
      " [1.000000 4.160865 17.312799 72.036220]\n",
      " [1.000000 2.160270 4.666765 10.081471]\n",
      " [1.000000 -13.300651 176.907313 -2352.982397]\n",
      " [1.000000 -7.068172 49.959051 -353.119145]\n",
      " [1.000000 -9.529022 90.802257 -865.256691]\n",
      " [1.000000 -9.828136 96.592265 -949.321960]\n",
      " [1.000000 -14.659545 214.902267 -3150.369503]\n",
      " [1.000000 -17.885000 319.873219 -5720.932463]\n",
      " [1.000000 15.311916 234.454785 3589.952087]\n",
      " [1.000000 -1.869631 3.495521 -6.535336]\n",
      " [1.000000 -4.738560 22.453949 -106.399382]\n",
      " [1.000000 -0.109121 0.011907 -0.001299]\n",
      " [1.000000 14.053966 197.513971 2775.854716]\n",
      " [1.000000 10.260516 105.278179 1080.208397]\n",
      " [1.000000 15.268594 233.129956 3559.566602]\n",
      " [1.000000 -5.871894 34.479134 -202.457808]\n",
      " [1.000000 8.637932 74.613864 644.509463]\n",
      " [1.000000 0.604789 0.365770 0.221213]\n",
      " [1.000000 7.128016 50.808609 362.164571]\n",
      " [1.000000 -2.533318 6.417699 -16.258071]\n",
      " [1.000000 25.594395 655.073047 16766.198194]\n",
      " [1.000000 9.636482 92.861782 894.860872]\n",
      " [1.000000 -1.259828 1.587168 -1.999559]\n",
      " [1.000000 -18.466851 341.024599 -6297.650572]\n",
      " [1.000000 6.546089 42.851277 280.508263]\n",
      " [1.000000 1.077510 1.161028 1.251019]\n",
      " [1.000000 7.649784 58.519191 447.659156]\n",
      " [1.000000 1.560735 2.435893 3.801783]\n",
      " [1.000000 7.956598 63.307451 503.711937]\n",
      " [1.000000 6.783706 46.018668 312.177113]\n",
      " [1.000000 2.244091 5.035944 11.301117]\n",
      " [1.000000 12.604113 158.863671 2002.335707]\n",
      " [1.000000 -22.635681 512.374038 -11597.935093]\n",
      " [1.000000 -8.113304 65.825704 -534.063958]\n",
      " [1.000000 2.174057 4.726522 10.275726]\n",
      " [1.000000 5.120713 26.221704 134.273825]\n",
      " [1.000000 3.256852 10.607086 34.545709]\n",
      " [1.000000 -3.089265 9.543557 -29.482572]\n",
      " [1.000000 0.908942 0.826176 0.750947]\n",
      " [1.000000 5.978988 35.748302 213.738681]]\n"
     ]
    }
   ],
   "source": [
    "#Printing out Question 4c(i)\n",
    "quesPrint(\"4c(i)\")\n",
    "print(designTraining4)"
   ]
  },
  {
   "cell_type": "code",
   "execution_count": null,
   "metadata": {},
   "outputs": [],
   "source": [
    "# Question 4c(ii)\n",
    "\n",
    "gradientTheta = gradientDescent(designTraining4, a, stoppingVal, y_train)\n",
    "\n",
    "print(gradientTheta)"
   ]
  },
  {
   "cell_type": "code",
   "execution_count": null,
   "metadata": {},
   "outputs": [],
   "source": [
    "actual_theta"
   ]
  },
  {
   "cell_type": "code",
   "execution_count": null,
   "metadata": {},
   "outputs": [],
   "source": [
    "# Question 4c(iii)\n",
    "#FIX THIS \n",
    "\n",
    "rgTheta = np.ones(designTraining4.shape[1])\n",
    "roTheta = np.zeros(designTraining4.shape[1])\n",
    "\n",
    "thetacount = 0\n",
    "lam = 0.1\n",
    "\n",
    "while ((np.sqrt(np.sum(np.power(rgTheta - roTheta, 2)))) > 0.0000001):\n",
    "    \n",
    "    roTheta = rgTheta\n",
    "    for i in range(len(y_train)):\n",
    "        inputs = designTraining4[i]\n",
    "        y = rgTheta[3]*inputs[3] + rgTheta[2]*inputs[2] + rgTheta[1]*inputs[1] + rgTheta[0]\n",
    "        \n",
    "        if(thetacount == 0):\n",
    "            rgTheta = rgTheta - 0.00001 * (y - y_train[i])\n",
    "            thetacount = thetacount +1\n",
    "        else:\n",
    "            rgTheta = rgTheta - 0.00001 * (y - y_train[i]) * inputs + lam*(rgTheta)\n",
    "        \n",
    "       \n",
    "    \n",
    "print(theta_0)\n",
    "print(theta_1)\n",
    "print(theta_2)\n",
    "print(theta_3)\n",
    "print(rgTheta)"
   ]
  },
  {
   "cell_type": "code",
   "execution_count": null,
   "metadata": {},
   "outputs": [],
   "source": [
    "# Question 4c(iv)\n",
    "\n",
    "\n",
    "##third-order polynomial\n",
    "\n",
    "error = 1/2 * sum(pow((y_train - designTraining4.dot(roTheta)), 2))\n",
    "print(error)\n",
    "\n",
    "##Gradient descent with regularixation\n",
    "\n",
    "error = 1/2 *sum(pow((y_train - designTraining4.dot(roTheta)),2)) + lam*(sum(pow(rgTheta),2))\n",
    "print(error)"
   ]
  },
  {
   "cell_type": "code",
   "execution_count": null,
   "metadata": {},
   "outputs": [],
   "source": []
  }
 ],
 "metadata": {
  "kernelspec": {
   "display_name": "Python 3",
   "language": "python",
   "name": "python3"
  },
  "language_info": {
   "codemirror_mode": {
    "name": "ipython",
    "version": 3
   },
   "file_extension": ".py",
   "mimetype": "text/x-python",
   "name": "python",
   "nbconvert_exporter": "python",
   "pygments_lexer": "ipython3",
   "version": "3.8.5"
  }
 },
 "nbformat": 4,
 "nbformat_minor": 5
}
