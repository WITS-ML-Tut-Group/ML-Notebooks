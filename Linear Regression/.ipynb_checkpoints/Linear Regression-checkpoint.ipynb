{
 "cells": [
  {
   "cell_type": "code",
   "execution_count": 37,
   "id": "0bed1961",
   "metadata": {},
   "outputs": [
    {
     "name": "stdout",
     "output_type": "stream",
     "text": [
      "Kiara Gabriel\t (2161334)\n",
      "Phola Bavuma\t (1848739)\n",
      "Shravan Singh\t (2173638)\n",
      "Arneev Singh\t (2180393)\n"
     ]
    }
   ],
   "source": [
    "#STUDENTS\n",
    "\n",
    "print(\"Kiara Gabriel\\t (2161334)\")\n",
    "print(\"Phola Bavuma\\t (1848739)\")\n",
    "print(\"Shravan Singh\\t (2173638)\")\n",
    "print(\"Arneev Singh\\t (2180393)\")"
   ]
  },
  {
   "cell_type": "code",
   "execution_count": 1,
   "id": "9836f167",
   "metadata": {},
   "outputs": [],
   "source": [
    "import numpy as np\n",
    "import matplotlib.pyplot as pyplot\n",
    "import matplotlib.pyplot as plt"
   ]
  },
  {
   "cell_type": "code",
   "execution_count": 2,
   "id": "b63f9dc3",
   "metadata": {},
   "outputs": [],
   "source": [
    "#Helper function to mark questions\n",
    "def quesPrint(number):\n",
    "    print(\"Question\",number)\n",
    "    totLen = len(\"Question\") + 1 + len(str(number))\n",
    "    string = \"\"\n",
    "    \n",
    "    for i in range(totLen):\n",
    "        string += \"=\"\n",
    "    \n",
    "    print(string)\n",
    "    \n",
    "#Helper function for making polynomial design matrix\n",
    "def getPolyDesignMatrix(xLst, polyMax):\n",
    "    rowLength = len(xLst)\n",
    "    colLength = polyMax + 1\n",
    "    \n",
    "    mat = np.ones((rowLength, colLength))\n",
    "    \n",
    "    for col in range(colLength):\n",
    "        if (col == 0):\n",
    "            continue\n",
    "            \n",
    "        for row in range(rowLength):\n",
    "            mat[row][col] = (xLst[row])**(col)\n",
    "\n",
    "        \n",
    "    return mat"
   ]
  },
  {
   "cell_type": "code",
   "execution_count": 3,
   "id": "60489c3c",
   "metadata": {},
   "outputs": [],
   "source": [
    "#Norm2 Function\n",
    "def norm2(vec):\n",
    "    return np.sqrt(np.sum(np.power(vec, 2)))\n",
    "    \n",
    "    \n",
    "#Gradient Descent Function\n",
    "def gradientDescent(designMat, a_val, stoppingVal, y_set):\n",
    "    amountOfThetas = designMat.shape[1]\n",
    "    newTheta = np.repeat(0.5, amountOfThetas)\n",
    "    oldTheta = np.repeat(999999, amountOfThetas)\n",
    "    \n",
    "\n",
    "    if (len(designMat) != len(y_set)):\n",
    "        print(\"Oi, the x values and the y values have different data points\")\n",
    "        return []\n",
    "    \n",
    "    amountOfDatapoints = len(y_set)\n",
    "    \n",
    "#     while(norm2(newTheta - oldTheta) > stoppingVal):\n",
    "#         oldTheta = newTheta\n",
    "        \n",
    "#         for datapointIndex in range(amountOfDatapoints):\n",
    "#             calcVal = designMat[datapointIndex].dot(newTheta) - y_set[datapointIndex]\n",
    "#             for thetaIndex in range(amountOfThetas):\n",
    "#                 rightTerm = a_val*(calcVal)*designMat[datapointIndex][thetaIndex]\n",
    "#                 newTheta[thetaIndex] = newTheta[thetaIndex] - rightTerm\n",
    "#         print(newTheta)\n",
    "                \n",
    "#     return newTheta\n",
    "\n",
    "    while (np.linalg.norm(newTheta - oldTheta,2) > stoppingVal):\n",
    "        \n",
    "        \n",
    "        for i in range(amountOfDatapoints):\n",
    "            oldTheta = newTheta\n",
    "            inputs = designMat[i]\n",
    "            \n",
    "            y = newTheta[2]*inputs[2] + newTheta[1]*inputs[1] + newTheta[0]\n",
    "            \n",
    "            newTheta = newTheta - a * (y - y_set[i]) * inputs\n",
    "            \n",
    "            if (np.linalg.norm(newTheta - oldTheta,2) > stoppingVal):\n",
    "                break   \n",
    "    \n",
    "    return newTheta"
   ]
  },
  {
   "cell_type": "code",
   "execution_count": 4,
   "id": "16e95e47",
   "metadata": {},
   "outputs": [],
   "source": [
    "#Some constants\n",
    "a = 0.00001\n",
    "stoppingVal = 1"
   ]
  },
  {
   "cell_type": "code",
   "execution_count": 5,
   "id": "6ad22ab2",
   "metadata": {},
   "outputs": [],
   "source": [
    "#Question 4a(i) \n",
    "x_values = np.random.normal(0,10,150)\n",
    "float_formatter = \"{:.6f}\".format\n",
    "np.set_printoptions(formatter={'float_kind':float_formatter})\n"
   ]
  },
  {
   "cell_type": "code",
   "execution_count": 6,
   "id": "635c6156",
   "metadata": {},
   "outputs": [
    {
     "name": "stdout",
     "output_type": "stream",
     "text": [
      "Question 4a(i)\n",
      "==============\n",
      "[-15.120672 2.469984 -17.221583 5.534094 -8.751370 4.018801 -3.067842\n",
      " 2.765868 13.983727 -2.273578 -14.375924 7.234062 -5.081328 6.950516\n",
      " 7.697492 0.928966 11.810881 -8.368691 3.023523 -3.950715 7.631502\n",
      " -4.775029 -6.455101 3.136931 2.270813 3.902508 -0.413189 0.236902\n",
      " -4.320062 3.007533 -16.288981 4.320868 -7.412399 -3.033395 6.093351\n",
      " 7.301846 9.914315 -1.141748 -18.535351 -3.935692 5.546563 -18.383334\n",
      " 2.413489 6.218347 8.528447 -10.358506 -10.938836 -18.408000 -15.414531\n",
      " 18.285823 1.551459 -12.679606 3.252309 6.193907 -15.687229 -3.466674\n",
      " 5.341164 -5.103716 6.012532 14.690512 5.668508 -4.343405 -1.805306\n",
      " -10.879715 17.840245 -4.407641 -4.055782 -9.774897 -7.154814 -1.203910\n",
      " 7.607414 13.135128 2.589102 4.084104 -0.931615 -12.529519 -10.995065\n",
      " -15.121440 13.364852 -3.479037 -3.791320 -8.888621 -3.720891 6.859183\n",
      " -1.782008 -9.447316 7.268511 1.931979 4.917510 6.891922 2.606910\n",
      " -8.944499 -4.998590 -0.939859 5.103000 0.331444 6.710623 -3.514956\n",
      " 2.643055 12.598800 -2.515383 14.229039 -11.574818 -5.516003 0.551943\n",
      " -3.879150 8.571168 2.744368 -1.534752 -6.271334 1.697403 9.186833\n",
      " 12.277525 -16.525511 -8.185211 -15.909111 -10.570078 9.082932 2.841147\n",
      " 0.143158 -3.000478 -33.965197 -3.949809 -5.369114 -15.955549 4.606176\n",
      " 21.446747 -2.059578 -23.940015 4.167416 0.174161 8.696410 8.924293\n",
      " 13.923457 6.069786 -19.228546 -1.427924 -15.662646 9.733836 -6.356315\n",
      " -2.309098 -10.393472 -6.063777 -2.899179 3.544624 9.662131 -14.414627\n",
      " -14.133616 -0.431450 8.864858]\n",
      "\n",
      "Number of x values is:  150\n"
     ]
    }
   ],
   "source": [
    "#Printing Question 4a(i)\n",
    "quesPrint(\"4a(i)\")\n",
    "print(x_values)\n",
    "print(\"\\nNumber of x values is: \", len(x_values))"
   ]
  },
  {
   "cell_type": "code",
   "execution_count": 7,
   "id": "123e3a77",
   "metadata": {},
   "outputs": [],
   "source": [
    "#Question 4a(ii)\n",
    "\n",
    "#Intializing Design Matrix\n",
    "s = (150,3)\n",
    "designMatrix = getPolyDesignMatrix(x_values,2)"
   ]
  },
  {
   "cell_type": "code",
   "execution_count": 8,
   "id": "0d60a453",
   "metadata": {},
   "outputs": [
    {
     "name": "stdout",
     "output_type": "stream",
     "text": [
      "Question 4a(ii)\n",
      "===============\n",
      "[[1.000000 -15.120672 228.634730]\n",
      " [1.000000 2.469984 6.100820]\n",
      " [1.000000 -17.221583 296.582938]\n",
      " [1.000000 5.534094 30.626202]\n",
      " [1.000000 -8.751370 76.586476]\n",
      " [1.000000 4.018801 16.150758]\n",
      " [1.000000 -3.067842 9.411654]\n",
      " [1.000000 2.765868 7.650025]\n",
      " [1.000000 13.983727 195.544618]\n",
      " [1.000000 -2.273578 5.169158]\n",
      " [1.000000 -14.375924 206.667205]\n",
      " [1.000000 7.234062 52.331651]\n",
      " [1.000000 -5.081328 25.819894]\n",
      " [1.000000 6.950516 48.309673]\n",
      " [1.000000 7.697492 59.251384]\n",
      " [1.000000 0.928966 0.862977]\n",
      " [1.000000 11.810881 139.496914]\n",
      " [1.000000 -8.368691 70.034990]\n",
      " [1.000000 3.023523 9.141690]\n",
      " [1.000000 -3.950715 15.608146]\n",
      " [1.000000 7.631502 58.239823]\n",
      " [1.000000 -4.775029 22.800905]\n",
      " [1.000000 -6.455101 41.668331]\n",
      " [1.000000 3.136931 9.840337]\n",
      " [1.000000 2.270813 5.156590]\n",
      " [1.000000 3.902508 15.229569]\n",
      " [1.000000 -0.413189 0.170725]\n",
      " [1.000000 0.236902 0.056122]\n",
      " [1.000000 -4.320062 18.662938]\n",
      " [1.000000 3.007533 9.045255]\n",
      " [1.000000 -16.288981 265.330915]\n",
      " [1.000000 4.320868 18.669904]\n",
      " [1.000000 -7.412399 54.943653]\n",
      " [1.000000 -3.033395 9.201482]\n",
      " [1.000000 6.093351 37.128922]\n",
      " [1.000000 7.301846 53.316955]\n",
      " [1.000000 9.914315 98.293647]\n",
      " [1.000000 -1.141748 1.303587]\n",
      " [1.000000 -18.535351 343.559221]\n",
      " [1.000000 -3.935692 15.489674]\n",
      " [1.000000 5.546563 30.764366]\n",
      " [1.000000 -18.383334 337.946963]\n",
      " [1.000000 2.413489 5.824928]\n",
      " [1.000000 6.218347 38.667838]\n",
      " [1.000000 8.528447 72.734402]\n",
      " [1.000000 -10.358506 107.298645]\n",
      " [1.000000 -10.938836 119.658123]\n",
      " [1.000000 -18.408000 338.854448]\n",
      " [1.000000 -15.414531 237.607755]\n",
      " [1.000000 18.285823 334.371326]\n",
      " [1.000000 1.551459 2.407024]\n",
      " [1.000000 -12.679606 160.772398]\n",
      " [1.000000 3.252309 10.577514]\n",
      " [1.000000 6.193907 38.364490]\n",
      " [1.000000 -15.687229 246.089159]\n",
      " [1.000000 -3.466674 12.017830]\n",
      " [1.000000 5.341164 28.528029]\n",
      " [1.000000 -5.103716 26.047922]\n",
      " [1.000000 6.012532 36.150544]\n",
      " [1.000000 14.690512 215.811134]\n",
      " [1.000000 5.668508 32.131980]\n",
      " [1.000000 -4.343405 18.865168]\n",
      " [1.000000 -1.805306 3.259129]\n",
      " [1.000000 -10.879715 118.368194]\n",
      " [1.000000 17.840245 318.274355]\n",
      " [1.000000 -4.407641 19.427297]\n",
      " [1.000000 -4.055782 16.449364]\n",
      " [1.000000 -9.774897 95.548614]\n",
      " [1.000000 -7.154814 51.191359]\n",
      " [1.000000 -1.203910 1.449399]\n",
      " [1.000000 7.607414 57.872749]\n",
      " [1.000000 13.135128 172.531581]\n",
      " [1.000000 2.589102 6.703452]\n",
      " [1.000000 4.084104 16.679904]\n",
      " [1.000000 -0.931615 0.867906]\n",
      " [1.000000 -12.529519 156.988854]\n",
      " [1.000000 -10.995065 120.891449]\n",
      " [1.000000 -15.121440 228.657949]\n",
      " [1.000000 13.364852 178.619267]\n",
      " [1.000000 -3.479037 12.103695]\n",
      " [1.000000 -3.791320 14.374109]\n",
      " [1.000000 -8.888621 79.007584]\n",
      " [1.000000 -3.720891 13.845029]\n",
      " [1.000000 6.859183 47.048388]\n",
      " [1.000000 -1.782008 3.175552]\n",
      " [1.000000 -9.447316 89.251780]\n",
      " [1.000000 7.268511 52.831250]\n",
      " [1.000000 1.931979 3.732541]\n",
      " [1.000000 4.917510 24.181904]\n",
      " [1.000000 6.891922 47.498590]\n",
      " [1.000000 2.606910 6.795980]\n",
      " [1.000000 -8.944499 80.004061]\n",
      " [1.000000 -4.998590 24.985903]\n",
      " [1.000000 -0.939859 0.883335]\n",
      " [1.000000 5.103000 26.040608]\n",
      " [1.000000 0.331444 0.109855]\n",
      " [1.000000 6.710623 45.032462]\n",
      " [1.000000 -3.514956 12.354915]\n",
      " [1.000000 2.643055 6.985738]\n",
      " [1.000000 12.598800 158.729771]\n",
      " [1.000000 -2.515383 6.327151]\n",
      " [1.000000 14.229039 202.465554]\n",
      " [1.000000 -11.574818 133.976417]\n",
      " [1.000000 -5.516003 30.426287]\n",
      " [1.000000 0.551943 0.304641]\n",
      " [1.000000 -3.879150 15.047808]\n",
      " [1.000000 8.571168 73.464921]\n",
      " [1.000000 2.744368 7.531557]\n",
      " [1.000000 -1.534752 2.355463]\n",
      " [1.000000 -6.271334 39.329625]\n",
      " [1.000000 1.697403 2.881176]\n",
      " [1.000000 9.186833 84.397898]\n",
      " [1.000000 12.277525 150.737630]\n",
      " [1.000000 -16.525511 273.092516]\n",
      " [1.000000 -8.185211 66.997675]\n",
      " [1.000000 -15.909111 253.099802]\n",
      " [1.000000 -10.570078 111.726543]\n",
      " [1.000000 9.082932 82.499652]\n",
      " [1.000000 2.841147 8.072116]\n",
      " [1.000000 0.143158 0.020494]\n",
      " [1.000000 -3.000478 9.002866]\n",
      " [1.000000 -33.965197 1153.634638]\n",
      " [1.000000 -3.949809 15.600989]\n",
      " [1.000000 -5.369114 28.827390]\n",
      " [1.000000 -15.955549 254.579538]\n",
      " [1.000000 4.606176 21.216855]\n",
      " [1.000000 21.446747 459.962972]\n",
      " [1.000000 -2.059578 4.241862]\n",
      " [1.000000 -23.940015 573.124327]\n",
      " [1.000000 4.167416 17.367355]\n",
      " [1.000000 0.174161 0.030332]\n",
      " [1.000000 8.696410 75.627549]\n",
      " [1.000000 8.924293 79.643014]\n",
      " [1.000000 13.923457 193.862649]\n",
      " [1.000000 6.069786 36.842304]\n",
      " [1.000000 -19.228546 369.736983]\n",
      " [1.000000 -1.427924 2.038968]\n",
      " [1.000000 -15.662646 245.318465]\n",
      " [1.000000 9.733836 94.747570]\n",
      " [1.000000 -6.356315 40.402743]\n",
      " [1.000000 -2.309098 5.331933]\n",
      " [1.000000 -10.393472 108.024254]\n",
      " [1.000000 -6.063777 36.769395]\n",
      " [1.000000 -2.899179 8.405237]\n",
      " [1.000000 3.544624 12.564358]\n",
      " [1.000000 9.662131 93.356771]\n",
      " [1.000000 -14.414627 207.781464]\n",
      " [1.000000 -14.133616 199.759105]\n",
      " [1.000000 -0.431450 0.186149]\n",
      " [1.000000 8.864858 78.585713]]\n"
     ]
    }
   ],
   "source": [
    "#Printing Question 4a(ii)\n",
    "quesPrint(\"4a(ii)\")\n",
    "print(designMatrix)"
   ]
  },
  {
   "cell_type": "code",
   "execution_count": 9,
   "id": "4dad5ad7",
   "metadata": {},
   "outputs": [],
   "source": [
    "#Question 4a(iii)\n",
    "theta_0 = np.random.uniform(0,1,1) #True values of theta\n",
    "theta_1 = np.random.uniform(0,1,1)\n",
    "theta_2 = np.random.uniform(0,1,1)\n",
    "theta_3 = np.random.uniform(0,1,1)\n",
    "\n",
    "actual_theta = [theta_0,theta_1,theta_2,theta_3]"
   ]
  },
  {
   "cell_type": "code",
   "execution_count": 10,
   "id": "912b5537",
   "metadata": {},
   "outputs": [
    {
     "name": "stdout",
     "output_type": "stream",
     "text": [
      "Question 4a(iii)\n",
      "================\n",
      "Theta 0: [0.912349]\n",
      "Theta 1: [0.726865]\n",
      "Theta 2: [0.039618]\n"
     ]
    }
   ],
   "source": [
    "#Printing Question 4a(iii)\n",
    "quesPrint(\"4a(iii)\")\n",
    "print(\"Theta 0:\",theta_0)\n",
    "print(\"Theta 1:\",theta_1)\n",
    "print(\"Theta 2:\",theta_2)"
   ]
  },
  {
   "cell_type": "code",
   "execution_count": 11,
   "id": "e372152f",
   "metadata": {},
   "outputs": [],
   "source": [
    "#Question 4a(iv)\n",
    "\n",
    "# Making some noise data for y-values\n",
    "random_noise = np.random.normal(0,8,150)\n",
    "\n",
    "#Getting y values based off theta and design matrix (x-values) \n",
    "#and adding noise to it\n",
    "y_values = np.zeros(150,dtype = float)\n",
    "for i in range(150):\n",
    "    y = (theta_0) + (theta_1*designMatrix[i][1]) + (theta_2*designMatrix[i][2])\n",
    "    y_values[i] = y + random_noise[i]"
   ]
  },
  {
   "cell_type": "code",
   "execution_count": 12,
   "id": "6a606334",
   "metadata": {},
   "outputs": [
    {
     "name": "stdout",
     "output_type": "stream",
     "text": [
      "Question 4a(iv)\n",
      "===============\n",
      "[-0.796820 -0.260177 -8.125185 -10.028310 3.733133 5.814409 4.810775\n",
      " 20.150164 16.636026 -2.450656 1.155666 10.683938 -4.840189 -0.601604\n",
      " 8.511293 6.325885 13.027156 -8.927048 6.253925 -1.736053 1.339669\n",
      " 5.657904 -6.582700 -2.588873 5.639697 -2.852279 9.223126 -3.740500\n",
      " -0.636495 -2.291009 17.422567 2.972873 3.660437 -6.083753 21.877607\n",
      " -0.543284 15.600915 -8.614424 3.459964 1.641102 8.630955 11.603207\n",
      " 8.385307 10.752564 23.921392 -10.532281 0.171503 15.555874 -9.334477\n",
      " 35.565170 7.714742 10.859306 8.766729 -11.498607 9.974620 -3.674843\n",
      " 14.193953 -2.256644 0.106418 31.269729 8.896765 0.760527 1.615892\n",
      " -0.781599 45.042437 3.232232 6.933336 -2.251253 4.744433 -2.500000\n",
      " 6.091549 15.609489 8.275368 -5.435431 -10.946312 -6.818248 -7.377118\n",
      " 18.193988 8.019612 -2.690022 1.187686 6.449462 -10.033658 4.080236\n",
      " -3.303092 18.179073 -0.020872 -10.972210 14.633227 7.774152 -0.450094\n",
      " 3.150880 -11.196349 9.784032 0.835790 -8.007433 4.307769 4.822983\n",
      " 4.296319 18.252652 -11.178473 13.093499 -3.298028 -10.794370 -5.891124\n",
      " -14.438470 8.933893 -8.550402 -6.276830 3.250939 7.290274 -6.587848\n",
      " 22.205474 -2.651098 -6.003109 -1.697071 10.619101 8.170906 -7.665704\n",
      " -1.995903 8.738291 26.902510 0.051631 7.136612 1.513431 13.947377\n",
      " 51.334571 -5.992380 -1.809739 11.107104 -1.568925 -9.185307 10.304785\n",
      " 21.774294 -8.415737 -13.617420 -9.469499 -6.076475 38.361028 -3.605084\n",
      " 9.471636 1.053169 4.205771 -23.018485 2.236630 0.989810 -2.592989\n",
      " 1.568201 -2.790473 21.547480]\n"
     ]
    }
   ],
   "source": [
    "#Printing Question 4a(iv)\n",
    "quesPrint(\"4a(iv)\")\n",
    "print(y_values)"
   ]
  },
  {
   "cell_type": "code",
   "execution_count": 13,
   "id": "7a4fa19d",
   "metadata": {},
   "outputs": [
    {
     "name": "stdout",
     "output_type": "stream",
     "text": [
      "Question 4a(v)\n",
      "==============\n"
     ]
    },
    {
     "data": {
      "text/plain": [
       "<matplotlib.collections.PathCollection at 0x295ac761850>"
      ]
     },
     "execution_count": 13,
     "metadata": {},
     "output_type": "execute_result"
    },
    {
     "data": {
      "image/png": "[encoded data removed]",
      "text/plain": [
       "<Figure size 432x288 with 1 Axes>"
      ]
     },
     "metadata": {
      "needs_background": "light"
     },
     "output_type": "display_data"
    }
   ],
   "source": [
    "#Showing graph for Question 4a(v)\n",
    "quesPrint(\"4a(v)\")\n",
    "pyplot.scatter(x_values,y_values)"
   ]
  },
  {
   "cell_type": "code",
   "execution_count": 14,
   "id": "c3bcb76f",
   "metadata": {},
   "outputs": [],
   "source": [
    "#Question 4a(vi)\n",
    "\n",
    "#Splitting data into training, validation and testing data sets\n",
    "x_train = np.zeros(112,dtype = float)\n",
    "y_train = np.zeros(112,dtype = float)\n",
    "x_validate = np.zeros(19,dtype = float)\n",
    "y_validate = np.zeros(19,dtype = float)\n",
    "x_test = np.zeros(19,dtype = float)\n",
    "y_test = np.zeros(19,dtype = float)\n",
    "\n",
    "for i in range(112):\n",
    "    x_train[i] = x_values[i]\n",
    "    y_train[i] = y_values[i]\n",
    "for i in range(112,131):\n",
    "    x_validate[i-112] = x_values[i]\n",
    "    y_validate[i-112] = y_values[i]\n",
    "for i in range(131,150):\n",
    "    x_test[131-i] = x_values[i]\n",
    "    y_test[131-i] = y_values[i]"
   ]
  },
  {
   "cell_type": "code",
   "execution_count": 15,
   "id": "8f84f331",
   "metadata": {},
   "outputs": [
    {
     "name": "stdout",
     "output_type": "stream",
     "text": [
      "Question 4a(vi)\n",
      "===============\n",
      "Training Data\n",
      "==============\n",
      "x dataset is: \n",
      "[-15.120672 2.469984 -17.221583 5.534094 -8.751370 4.018801 -3.067842\n",
      " 2.765868 13.983727 -2.273578 -14.375924 7.234062 -5.081328 6.950516\n",
      " 7.697492 0.928966 11.810881 -8.368691 3.023523 -3.950715 7.631502\n",
      " -4.775029 -6.455101 3.136931 2.270813 3.902508 -0.413189 0.236902\n",
      " -4.320062 3.007533 -16.288981 4.320868 -7.412399 -3.033395 6.093351\n",
      " 7.301846 9.914315 -1.141748 -18.535351 -3.935692 5.546563 -18.383334\n",
      " 2.413489 6.218347 8.528447 -10.358506 -10.938836 -18.408000 -15.414531\n",
      " 18.285823 1.551459 -12.679606 3.252309 6.193907 -15.687229 -3.466674\n",
      " 5.341164 -5.103716 6.012532 14.690512 5.668508 -4.343405 -1.805306\n",
      " -10.879715 17.840245 -4.407641 -4.055782 -9.774897 -7.154814 -1.203910\n",
      " 7.607414 13.135128 2.589102 4.084104 -0.931615 -12.529519 -10.995065\n",
      " -15.121440 13.364852 -3.479037 -3.791320 -8.888621 -3.720891 6.859183\n",
      " -1.782008 -9.447316 7.268511 1.931979 4.917510 6.891922 2.606910\n",
      " -8.944499 -4.998590 -0.939859 5.103000 0.331444 6.710623 -3.514956\n",
      " 2.643055 12.598800 -2.515383 14.229039 -11.574818 -5.516003 0.551943\n",
      " -3.879150 8.571168 2.744368 -1.534752 -6.271334 1.697403 9.186833]\n",
      "\n",
      "\n",
      "y dataset is: \n",
      "[-0.796820 -0.260177 -8.125185 -10.028310 3.733133 5.814409 4.810775\n",
      " 20.150164 16.636026 -2.450656 1.155666 10.683938 -4.840189 -0.601604\n",
      " 8.511293 6.325885 13.027156 -8.927048 6.253925 -1.736053 1.339669\n",
      " 5.657904 -6.582700 -2.588873 5.639697 -2.852279 9.223126 -3.740500\n",
      " -0.636495 -2.291009 17.422567 2.972873 3.660437 -6.083753 21.877607\n",
      " -0.543284 15.600915 -8.614424 3.459964 1.641102 8.630955 11.603207\n",
      " 8.385307 10.752564 23.921392 -10.532281 0.171503 15.555874 -9.334477\n",
      " 35.565170 7.714742 10.859306 8.766729 -11.498607 9.974620 -3.674843\n",
      " 14.193953 -2.256644 0.106418 31.269729 8.896765 0.760527 1.615892\n",
      " -0.781599 45.042437 3.232232 6.933336 -2.251253 4.744433 -2.500000\n",
      " 6.091549 15.609489 8.275368 -5.435431 -10.946312 -6.818248 -7.377118\n",
      " 18.193988 8.019612 -2.690022 1.187686 6.449462 -10.033658 4.080236\n",
      " -3.303092 18.179073 -0.020872 -10.972210 14.633227 7.774152 -0.450094\n",
      " 3.150880 -11.196349 9.784032 0.835790 -8.007433 4.307769 4.822983\n",
      " 4.296319 18.252652 -11.178473 13.093499 -3.298028 -10.794370 -5.891124\n",
      " -14.438470 8.933893 -8.550402 -6.276830 3.250939 7.290274 -6.587848]\n",
      "\n",
      "\n",
      "Validation Data\n",
      "==============\n",
      "x dataset is: \n",
      "[12.277525 -16.525511 -8.185211 -15.909111 -10.570078 9.082932 2.841147\n",
      " 0.143158 -3.000478 -33.965197 -3.949809 -5.369114 -15.955549 4.606176\n",
      " 21.446747 -2.059578 -23.940015 4.167416 0.174161]\n",
      "\n",
      "\n",
      "y dataset is: \n",
      "[22.205474 -2.651098 -6.003109 -1.697071 10.619101 8.170906 -7.665704\n",
      " -1.995903 8.738291 26.902510 0.051631 7.136612 1.513431 13.947377\n",
      " 51.334571 -5.992380 -1.809739 11.107104 -1.568925]\n",
      "\n",
      "\n",
      "Testing Data\n",
      "==============\n",
      "x dataset is: \n",
      "[8.696410 8.864858 -0.431450 -14.133616 -14.414627 9.662131 3.544624\n",
      " -2.899179 -6.063777 -10.393472 -2.309098 -6.356315 9.733836 -15.662646\n",
      " -1.427924 -19.228546 6.069786 13.923457 8.924293]\n",
      "\n",
      "\n",
      "y dataset is: \n",
      "[-9.185307 21.547480 -2.790473 1.568201 -2.592989 0.989810 2.236630\n",
      " -23.018485 4.205771 1.053169 9.471636 -3.605084 38.361028 -6.076475\n",
      " -9.469499 -13.617420 -8.415737 21.774294 10.304785]\n",
      "\n",
      "\n"
     ]
    }
   ],
   "source": [
    "#Printing out Question 4a(vi)\n",
    "quesPrint(\"4a(vi)\")\n",
    "print(\"Training Data\")\n",
    "print(\"==============\")\n",
    "print(\"x dataset is: \")\n",
    "print(x_train)\n",
    "print(\"\\n\")\n",
    "print(\"y dataset is: \")\n",
    "print(y_train)\n",
    "print(\"\\n\")\n",
    "\n",
    "print(\"Validation Data\")\n",
    "print(\"==============\")\n",
    "print(\"x dataset is: \")\n",
    "print(x_validate)\n",
    "print(\"\\n\")\n",
    "print(\"y dataset is: \")\n",
    "print(y_validate)\n",
    "print(\"\\n\")\n",
    "\n",
    "print(\"Testing Data\")\n",
    "print(\"==============\")\n",
    "print(\"x dataset is: \")\n",
    "print(x_test)\n",
    "print(\"\\n\")\n",
    "print(\"y dataset is: \")\n",
    "print(y_test)\n",
    "print(\"\\n\")\n"
   ]
  },
  {
   "cell_type": "code",
   "execution_count": 16,
   "id": "aae344a4",
   "metadata": {},
   "outputs": [],
   "source": [
    "#Question 4b\n",
    "\n",
    "# Create design matrix for x values of training data \n",
    "s = (112,3)\n",
    "designTraining = getPolyDesignMatrix(x_train,2)\n",
    "designValidating = getPolyDesignMatrix(x_validate,2)"
   ]
  },
  {
   "cell_type": "code",
   "execution_count": 17,
   "id": "40fc4e70",
   "metadata": {},
   "outputs": [],
   "source": [
    "# Question 4bi\n",
    "\n",
    "#Moore-Penrose pseudo-inverse\n",
    "transMatrix = designTraining.transpose() #X^T\n",
    "calcInverse = np.linalg.inv((transMatrix.dot(designTraining))) #(X^T X)^(-1)\n",
    "calcXtY = (transMatrix.dot(y_train)) #X^T y\n",
    "theta = calcInverse.dot(calcXtY) # theta = (X^T X)^(-1) X^T y\n",
    "theta[0] = theta[0]\n",
    "theta[1] = theta[1]\n",
    "theta[2] = theta[2]"
   ]
  },
  {
   "cell_type": "code",
   "execution_count": 18,
   "id": "4e1a0a8a",
   "metadata": {},
   "outputs": [
    {
     "name": "stdout",
     "output_type": "stream",
     "text": [
      "Question 4b(i)\n",
      "==============\n",
      "\n",
      "Calculated theta values:\n",
      "[-0.756305 0.620552 0.064054]\n"
     ]
    }
   ],
   "source": [
    "#Printing out Question 4b(i)\n",
    "quesPrint(\"4b(i)\")\n",
    "print(\"\\nCalculated theta values:\")\n",
    "print(theta)"
   ]
  },
  {
   "cell_type": "code",
   "execution_count": 19,
   "id": "018afe07",
   "metadata": {},
   "outputs": [],
   "source": [
    "#Question 4b(ii)\n",
    "actual_theta_three_values = actual_theta[:-1]\n",
    "\n",
    "tempLst = []\n",
    "for arr in actual_theta_three_values:\n",
    "    tempLst.append(arr[0])\n",
    "actual_theta_three_values = tempLst\n",
    "\n",
    "difference = actual_theta_three_values - theta\n",
    "\n",
    "floatPercentageVector = (actual_theta_three_values/theta)\n",
    "percentageVector = []\n",
    "for perc in floatPercentageVector:\n",
    "    percentageVector.append(str(perc * 100) + \"%\")"
   ]
  },
  {
   "cell_type": "code",
   "execution_count": 20,
   "id": "ca824827",
   "metadata": {},
   "outputs": [
    {
     "name": "stdout",
     "output_type": "stream",
     "text": [
      "Question 4b(ii)\n",
      "===============\n",
      "Calculated theta is: \n",
      "[-0.756305 0.620552 0.064054]\n",
      "\n",
      "Actual Theta is: \n",
      "[0.9123494852833484, 0.7268649986376581, 0.03961764804635537]\n",
      "\n",
      "Difference between the 2 is: \n",
      "[1.668654 0.106313 -0.024437]\n",
      "\n",
      "Amount of percentage of Calculated Values needs in order to get to Actual Theta Values: \n",
      "['-120.6325066676903%', '117.13207077999151%', '61.85013027405417%']\n"
     ]
    }
   ],
   "source": [
    "#Printing Question 4b(ii)\n",
    "\n",
    "quesPrint(\"4b(ii)\")\n",
    "print(\"Calculated theta is: \")\n",
    "print(theta)\n",
    "\n",
    "print(\"\\nActual Theta is: \")\n",
    "print(actual_theta_three_values)\n",
    "\n",
    "print(\"\\nDifference between the 2 is: \")\n",
    "print(difference)\n",
    "\n",
    "print(\"\\nAmount of percentage of Calculated Values needs in order to get to Actual Theta Values: \")\n",
    "print(percentageVector)"
   ]
  },
  {
   "cell_type": "code",
   "execution_count": 21,
   "id": "0c9c858f",
   "metadata": {},
   "outputs": [],
   "source": [
    "# Question 4b(iii)\n",
    "# Error of training data\n",
    "\n",
    "transTheta = theta.transpose() # theta^T\n",
    "thirdTerm = np.dot(np.dot(transTheta, transMatrix), np.dot(designTraining, theta)) #theta^T X^T X theta\n",
    "secondTerm = np.dot(np.dot(-2, transTheta), np.dot(transMatrix, y_train)) #2 theta^T X^T y\n",
    "firstTerm = np.dot(y_train.transpose(), y_train) #y^T y\n",
    "\n",
    "trainingError = 1/2 * (firstTerm + secondTerm + thirdTerm)\n",
    "\n",
    "# OR\n",
    "# trainingError = 1/2 * sum(pow((y_validate - designTraining.dot(theta)), 2))"
   ]
  },
  {
   "cell_type": "code",
   "execution_count": 22,
   "id": "7dab67aa",
   "metadata": {},
   "outputs": [],
   "source": [
    "#Error of validation data\n",
    "\n",
    "transMatrix = designValidating.transpose() #X^T\n",
    "calcInverse = np.linalg.inv((transMatrix.dot(designValidating))) #(X^T X)^(-1)\n",
    "calcXtY = (transMatrix.dot(y_validate)) #X^T y\n",
    "validateTheta = calcInverse.dot(calcXtY) # theta = (X^T X)^(-1) X^T y\n",
    "validateTheta[0] = round(theta[0], 3)\n",
    "validateTheta[1] = round(theta[1], 3)\n",
    "validateTheta[2] = round(theta[2], 3)\n",
    "\n",
    "#Not sure about this one below\n",
    "# theta = validateTheta\n",
    "\n",
    "validationError = 1/2 * sum(pow((y_validate - designValidating.dot(validateTheta)), 2))"
   ]
  },
  {
   "cell_type": "code",
   "execution_count": 23,
   "id": "ded4b3c8",
   "metadata": {},
   "outputs": [
    {
     "name": "stdout",
     "output_type": "stream",
     "text": [
      "Question 4b(iii)\n",
      "================\n",
      "Training error is: 3299.014222503519\n",
      "Validation error is: 1027.630943743565\n",
      "\n",
      "\n",
      "This makes sense considering that there are more data points in the training data set\n"
     ]
    }
   ],
   "source": [
    "#Printing out Question 4b(iii)\n",
    "\n",
    "quesPrint(\"4b(iii)\")\n",
    "print(\"Training error is:\", trainingError)\n",
    "print(\"Validation error is:\", validationError)\n",
    "\n",
    "print(\"\\n\\nThis makes sense considering that there are more data points in the training data set\")"
   ]
  },
  {
   "cell_type": "code",
   "execution_count": 24,
   "id": "4286de0c",
   "metadata": {},
   "outputs": [
    {
     "name": "stdout",
     "output_type": "stream",
     "text": [
      "Question 4b(iv)\n",
      "===============\n"
     ]
    },
    {
     "data": {
      "image/png": "[encoded data removed]",
      "text/plain": [
       "<Figure size 432x288 with 1 Axes>"
      ]
     },
     "metadata": {
      "needs_background": "light"
     },
     "output_type": "display_data"
    }
   ],
   "source": [
    "#Showing Question 4b(iv) graph\n",
    "\n",
    "quesPrint(\"4b(iv)\")\n",
    "\n",
    "plotTraining = designTraining[designTraining[:,1].argsort()]\n",
    "\n",
    "yPlot = theta[2]*plotTraining[:,1]**2 + theta[1]*plotTraining[:,1] + theta[0]\n",
    "plt.plot(plotTraining[:,1], yPlot, \"r\")\n",
    "\n",
    "plt.scatter(x_train, y_train)\n",
    "\n",
    "plt.xlabel(\"x-values\")\n",
    "plt.ylabel(\"y-values\")\n",
    "\n",
    "plt.ylim(-100, 200)\n",
    "plt.show()"
   ]
  },
  {
   "cell_type": "code",
   "execution_count": 25,
   "id": "36dc9254",
   "metadata": {},
   "outputs": [
    {
     "name": "stdout",
     "output_type": "stream",
     "text": [
      "[0.497102 0.531411 0.028452]\n"
     ]
    }
   ],
   "source": [
    "# Question 4b(v)\n",
    "\n",
    "# Gradient descent\n",
    "gradientTheta = gradientDescent(designTraining, a, stoppingVal, y_train)\n",
    "\n",
    "print(gradientTheta)"
   ]
  },
  {
   "cell_type": "code",
   "execution_count": 26,
   "id": "b71adabf",
   "metadata": {},
   "outputs": [],
   "source": [
    "# Calculate error\n",
    "error = 1/2 * sum(pow((y_train - designTraining.dot(gradientTheta)), 2))"
   ]
  },
  {
   "cell_type": "code",
   "execution_count": 27,
   "id": "d292a6f2",
   "metadata": {},
   "outputs": [
    {
     "name": "stdout",
     "output_type": "stream",
     "text": [
      "Question 4b(v)\n",
      "==============\n",
      "Parameter values is: \n",
      "[0.497102 0.531411 0.028452]\n",
      "\n",
      "The training error is: \n",
      "3917.1245310055647\n"
     ]
    },
    {
     "data": {
      "image/png": "[encoded data removed]",
      "text/plain": [
       "<Figure size 432x288 with 1 Axes>"
      ]
     },
     "metadata": {
      "needs_background": "light"
     },
     "output_type": "display_data"
    }
   ],
   "source": [
    "#Printing out Question 4b(v) and showing graph\n",
    "\n",
    "quesPrint(\"4b(v)\")\n",
    "# parameter values\n",
    "print(\"Parameter values is: \")\n",
    "print(gradientTheta)\n",
    "\n",
    "# error\n",
    "print(\"\\nThe training error is: \")\n",
    "print(error)\n",
    "\n",
    "# Draw graph\n",
    "plotTraining = designTraining[designTraining[:,1].argsort()]\n",
    "\n",
    "y = gradientTheta[2]*plotTraining[:,1]**2 + gradientTheta[1]*plotTraining[:,1] + gradientTheta[0]\n",
    "plt.plot(plotTraining[:,1], y, \"r\")\n",
    "\n",
    "plt.scatter(x_train, y_train)\n",
    "\n",
    "plt.xlabel(\"x-values\")\n",
    "plt.ylabel(\"y-values\")\n",
    "\n",
    "plt.ylim(-100, 200)\n",
    "plt.show()"
   ]
  },
  {
   "cell_type": "code",
   "execution_count": 28,
   "id": "b71a62a3",
   "metadata": {},
   "outputs": [],
   "source": [
    "#=======================================4C================================="
   ]
  },
  {
   "cell_type": "code",
   "execution_count": 29,
   "id": "43d1ad51",
   "metadata": {},
   "outputs": [],
   "source": [
    "#Question 4c(i)\n",
    "\n",
    "# design Matrix\n",
    "designTraining4 = getPolyDesignMatrix(x_train,3)"
   ]
  },
  {
   "cell_type": "code",
   "execution_count": 30,
   "id": "a629989e",
   "metadata": {},
   "outputs": [
    {
     "name": "stdout",
     "output_type": "stream",
     "text": [
      "Question 4c(i)\n",
      "==============\n",
      "[[1.000000 -15.120672 228.634730 -3457.110831]\n",
      " [1.000000 2.469984 6.100820 15.068927]\n",
      " [1.000000 -17.221583 296.582938 -5107.627831]\n",
      " [1.000000 5.534094 30.626202 169.488292]\n",
      " [1.000000 -8.751370 76.586476 -670.236589]\n",
      " [1.000000 4.018801 16.150758 64.906677]\n",
      " [1.000000 -3.067842 9.411654 -28.873465]\n",
      " [1.000000 2.765868 7.650025 21.158960]\n",
      " [1.000000 13.983727 195.544618 2734.442531]\n",
      " [1.000000 -2.273578 5.169158 -11.752486]\n",
      " [1.000000 -14.375924 206.667205 -2971.032137]\n",
      " [1.000000 7.234062 52.331651 378.570400]\n",
      " [1.000000 -5.081328 25.819894 -131.199348]\n",
      " [1.000000 6.950516 48.309673 335.777154]\n",
      " [1.000000 7.697492 59.251384 456.087058]\n",
      " [1.000000 0.928966 0.862977 0.801676]\n",
      " [1.000000 11.810881 139.496914 1647.581473]\n",
      " [1.000000 -8.368691 70.034990 -586.101190]\n",
      " [1.000000 3.023523 9.141690 27.640107]\n",
      " [1.000000 -3.950715 15.608146 -61.663330]\n",
      " [1.000000 7.631502 58.239823 444.457327]\n",
      " [1.000000 -4.775029 22.800905 -108.874992]\n",
      " [1.000000 -6.455101 41.668331 -268.973293]\n",
      " [1.000000 3.136931 9.840337 30.868461]\n",
      " [1.000000 2.270813 5.156590 11.709651]\n",
      " [1.000000 3.902508 15.229569 59.433515]\n",
      " [1.000000 -0.413189 0.170725 -0.070542]\n",
      " [1.000000 0.236902 0.056122 0.013295]\n",
      " [1.000000 -4.320062 18.662938 -80.625051]\n",
      " [1.000000 3.007533 9.045255 27.203904]\n",
      " [1.000000 -16.288981 265.330915 -4321.970327]\n",
      " [1.000000 4.320868 18.669904 80.670198]\n",
      " [1.000000 -7.412399 54.943653 -407.264253]\n",
      " [1.000000 -3.033395 9.201482 -27.911726]\n",
      " [1.000000 6.093351 37.128922 226.239538]\n",
      " [1.000000 7.301846 53.316955 389.312199]\n",
      " [1.000000 9.914315 98.293647 974.514206]\n",
      " [1.000000 -1.141748 1.303587 -1.488368]\n",
      " [1.000000 -18.535351 343.559221 -6367.990600]\n",
      " [1.000000 -3.935692 15.489674 -60.962590]\n",
      " [1.000000 5.546563 30.764366 170.636504]\n",
      " [1.000000 -18.383334 337.946963 -6212.591848]\n",
      " [1.000000 2.413489 5.824928 14.058400]\n",
      " [1.000000 6.218347 38.667838 240.450031]\n",
      " [1.000000 8.528447 72.734402 620.311460]\n",
      " [1.000000 -10.358506 107.298645 -1111.453650]\n",
      " [1.000000 -10.938836 119.658123 -1308.920522]\n",
      " [1.000000 -18.408000 338.854448 -6237.632524]\n",
      " [1.000000 -15.414531 237.607755 -3662.612032]\n",
      " [1.000000 18.285823 334.371326 6114.254904]\n",
      " [1.000000 1.551459 2.407024 3.734399]\n",
      " [1.000000 -12.679606 160.772398 -2038.530604]\n",
      " [1.000000 3.252309 10.577514 34.401346]\n",
      " [1.000000 6.193907 38.364490 237.626100]\n",
      " [1.000000 -15.687229 246.089159 -3860.457044]\n",
      " [1.000000 -3.466674 12.017830 -41.661902]\n",
      " [1.000000 5.341164 28.528029 152.372868]\n",
      " [1.000000 -5.103716 26.047922 -132.941206]\n",
      " [1.000000 6.012532 36.150544 217.356309]\n",
      " [1.000000 14.690512 215.811134 3170.375993]\n",
      " [1.000000 5.668508 32.131980 182.140374]\n",
      " [1.000000 -4.343405 18.865168 -81.939068]\n",
      " [1.000000 -1.805306 3.259129 -5.883724]\n",
      " [1.000000 -10.879715 118.368194 -1287.812190]\n",
      " [1.000000 17.840245 318.274355 5678.092598]\n",
      " [1.000000 -4.407641 19.427297 -85.628548]\n",
      " [1.000000 -4.055782 16.449364 -66.715027]\n",
      " [1.000000 -9.774897 95.548614 -933.977871]\n",
      " [1.000000 -7.154814 51.191359 -366.264634]\n",
      " [1.000000 -1.203910 1.449399 -1.744946]\n",
      " [1.000000 7.607414 57.872749 440.261962]\n",
      " [1.000000 13.135128 172.531581 2266.224360]\n",
      " [1.000000 2.589102 6.703452 17.355924]\n",
      " [1.000000 4.084104 16.679904 68.122461]\n",
      " [1.000000 -0.931615 0.867906 -0.808554]\n",
      " [1.000000 -12.529519 156.988854 -1966.994882]\n",
      " [1.000000 -10.995065 120.891449 -1329.209313]\n",
      " [1.000000 -15.121440 228.657949 -3457.637471]\n",
      " [1.000000 13.364852 178.619267 2387.220052]\n",
      " [1.000000 -3.479037 12.103695 -42.109197]\n",
      " [1.000000 -3.791320 14.374109 -54.496848]\n",
      " [1.000000 -8.888621 79.007584 -702.268473]\n",
      " [1.000000 -3.720891 13.845029 -51.515840]\n",
      " [1.000000 6.859183 47.048388 322.713495]\n",
      " [1.000000 -1.782008 3.175552 -5.658858]\n",
      " [1.000000 -9.447316 89.251780 -843.189769]\n",
      " [1.000000 7.268511 52.831250 384.004515]\n",
      " [1.000000 1.931979 3.732541 7.211189]\n",
      " [1.000000 4.917510 24.181904 118.914753]\n",
      " [1.000000 6.891922 47.498590 327.356578]\n",
      " [1.000000 2.606910 6.795980 17.716510]\n",
      " [1.000000 -8.944499 80.004061 -715.596242]\n",
      " [1.000000 -4.998590 24.985903 -124.894286]\n",
      " [1.000000 -0.939859 0.883335 -0.830210]\n",
      " [1.000000 5.103000 26.040608 132.885216]\n",
      " [1.000000 0.331444 0.109855 0.036411]\n",
      " [1.000000 6.710623 45.032462 302.195877]\n",
      " [1.000000 -3.514956 12.354915 -43.426980]\n",
      " [1.000000 2.643055 6.985738 18.463688]\n",
      " [1.000000 12.598800 158.729771 1999.804706]\n",
      " [1.000000 -2.515383 6.327151 -15.915206]\n",
      " [1.000000 14.229039 202.465554 2880.890292]\n",
      " [1.000000 -11.574818 133.976417 -1550.752669]\n",
      " [1.000000 -5.516003 30.426287 -167.831489]\n",
      " [1.000000 0.551943 0.304641 0.168145]\n",
      " [1.000000 -3.879150 15.047808 -58.372711]\n",
      " [1.000000 8.571168 73.464921 629.680181]\n",
      " [1.000000 2.744368 7.531557 20.669367]\n",
      " [1.000000 -1.534752 2.355463 -3.615052]\n",
      " [1.000000 -6.271334 39.329625 -246.649201]\n",
      " [1.000000 1.697403 2.881176 4.890516]\n",
      " [1.000000 9.186833 84.397898 775.349388]]\n"
     ]
    }
   ],
   "source": [
    "#Printing out Question 4c(i)\n",
    "quesPrint(\"4c(i)\")\n",
    "print(designTraining4)"
   ]
  },
  {
   "cell_type": "code",
   "execution_count": 31,
   "id": "6b4365a7",
   "metadata": {},
   "outputs": [
    {
     "name": "stdout",
     "output_type": "stream",
     "text": [
      "[0.497023 0.534056 0.028393 8.957798]\n"
     ]
    }
   ],
   "source": [
    "# Question 4c(ii)\n",
    "\n",
    "gradientTheta = gradientDescent(designTraining4, a, stoppingVal, y_train)\n",
    "\n",
    "print(gradientTheta)"
   ]
  },
  {
   "cell_type": "code",
   "execution_count": 32,
   "id": "dfd6c5f9",
   "metadata": {},
   "outputs": [
    {
     "data": {
      "text/plain": [
       "[array([0.912349]), array([0.726865]), array([0.039618]), array([0.246870])]"
      ]
     },
     "execution_count": 32,
     "metadata": {},
     "output_type": "execute_result"
    }
   ],
   "source": [
    "actual_theta"
   ]
  },
  {
   "cell_type": "code",
   "execution_count": 33,
   "id": "5d6c2011",
   "metadata": {},
   "outputs": [
    {
     "name": "stdout",
     "output_type": "stream",
     "text": [
      "[0.912349]\n",
      "[0.726865]\n",
      "[0.039618]\n",
      "[0.246870]\n",
      "[nan nan nan nan]\n"
     ]
    },
    {
     "name": "stderr",
     "output_type": "stream",
     "text": [
      "<ipython-input-33-16d0b49a3d63>:10: RuntimeWarning: overflow encountered in power\n",
      "  while ((np.sqrt(np.sum(np.power(rgTheta - roTheta, 2)))) > 0.0000001):\n",
      "<ipython-input-33-16d0b49a3d63>:15: RuntimeWarning: overflow encountered in double_scalars\n",
      "  y = rgTheta[3]*inputs[3] + rgTheta[2]*inputs[2] + rgTheta[1]*inputs[1] + rgTheta[0]\n",
      "<ipython-input-33-16d0b49a3d63>:15: RuntimeWarning: invalid value encountered in double_scalars\n",
      "  y = rgTheta[3]*inputs[3] + rgTheta[2]*inputs[2] + rgTheta[1]*inputs[1] + rgTheta[0]\n"
     ]
    }
   ],
   "source": [
    "# Question 4c(iii)\n",
    "#FIX THIS \n",
    "\n",
    "rgTheta = np.ones(designTraining4.shape[1])\n",
    "roTheta = np.zeros(designTraining4.shape[1])\n",
    "\n",
    "thetacount = 0\n",
    "lam = 0.1\n",
    "\n",
    "while ((np.sqrt(np.sum(np.power(rgTheta - roTheta, 2)))) > 0.0000001):\n",
    "    \n",
    "    roTheta = rgTheta\n",
    "    for i in range(len(y_train)):\n",
    "        inputs = designTraining4[i]\n",
    "        y = rgTheta[3]*inputs[3] + rgTheta[2]*inputs[2] + rgTheta[1]*inputs[1] + rgTheta[0]\n",
    "        \n",
    "        if(thetacount == 0):\n",
    "            rgTheta = rgTheta - 0.00001 * (y - y_train[i])\n",
    "            thetacount = thetacount +1\n",
    "        else:\n",
    "            rgTheta = rgTheta - 0.00001 * (y - y_train[i]) * inputs + lam*(rgTheta)\n",
    "        \n",
    "       \n",
    "    \n",
    "print(theta_0)\n",
    "print(theta_1)\n",
    "print(theta_2)\n",
    "print(theta_3)\n",
    "print(rgTheta)"
   ]
  },
  {
   "cell_type": "code",
   "execution_count": 36,
   "id": "4358e0c3",
   "metadata": {},
   "outputs": [
    {
     "name": "stdout",
     "output_type": "stream",
     "text": [
      "inf\n"
     ]
    },
    {
     "name": "stderr",
     "output_type": "stream",
     "text": [
      "<ipython-input-36-7245afc520b6>:6: RuntimeWarning: overflow encountered in square\n",
      "  error = 1/2 * sum(pow((y_train - designTraining4.dot(roTheta)), 2))\n",
      "<ipython-input-36-7245afc520b6>:11: RuntimeWarning: overflow encountered in square\n",
      "  error = 1/2 *sum(pow((y_train - designTraining4.dot(roTheta)),2)) + lam*(sum(pow(rgTheta),2))\n"
     ]
    },
    {
     "ename": "TypeError",
     "evalue": "pow() missing required argument 'exp' (pos 2)",
     "output_type": "error",
     "traceback": [
      "\u001b[1;31m---------------------------------------------------------------------------\u001b[0m",
      "\u001b[1;31mTypeError\u001b[0m                                 Traceback (most recent call last)",
      "\u001b[1;32m<ipython-input-36-7245afc520b6>\u001b[0m in \u001b[0;36m<module>\u001b[1;34m\u001b[0m\n\u001b[0;32m      9\u001b[0m \u001b[1;31m##Gradient descent with regularixation\u001b[0m\u001b[1;33m\u001b[0m\u001b[1;33m\u001b[0m\u001b[1;33m\u001b[0m\u001b[0m\n\u001b[0;32m     10\u001b[0m \u001b[1;33m\u001b[0m\u001b[0m\n\u001b[1;32m---> 11\u001b[1;33m \u001b[0merror\u001b[0m \u001b[1;33m=\u001b[0m \u001b[1;36m1\u001b[0m\u001b[1;33m/\u001b[0m\u001b[1;36m2\u001b[0m \u001b[1;33m*\u001b[0m\u001b[0msum\u001b[0m\u001b[1;33m(\u001b[0m\u001b[0mpow\u001b[0m\u001b[1;33m(\u001b[0m\u001b[1;33m(\u001b[0m\u001b[0my_train\u001b[0m \u001b[1;33m-\u001b[0m \u001b[0mdesignTraining4\u001b[0m\u001b[1;33m.\u001b[0m\u001b[0mdot\u001b[0m\u001b[1;33m(\u001b[0m\u001b[0mroTheta\u001b[0m\u001b[1;33m)\u001b[0m\u001b[1;33m)\u001b[0m\u001b[1;33m,\u001b[0m\u001b[1;36m2\u001b[0m\u001b[1;33m)\u001b[0m\u001b[1;33m)\u001b[0m \u001b[1;33m+\u001b[0m \u001b[0mlam\u001b[0m\u001b[1;33m*\u001b[0m\u001b[1;33m(\u001b[0m\u001b[0msum\u001b[0m\u001b[1;33m(\u001b[0m\u001b[0mpow\u001b[0m\u001b[1;33m(\u001b[0m\u001b[0mrgTheta\u001b[0m\u001b[1;33m)\u001b[0m\u001b[1;33m,\u001b[0m\u001b[1;36m2\u001b[0m\u001b[1;33m)\u001b[0m\u001b[1;33m)\u001b[0m\u001b[1;33m\u001b[0m\u001b[1;33m\u001b[0m\u001b[0m\n\u001b[0m\u001b[0;32m     12\u001b[0m \u001b[0mprint\u001b[0m\u001b[1;33m(\u001b[0m\u001b[0merror\u001b[0m\u001b[1;33m)\u001b[0m\u001b[1;33m\u001b[0m\u001b[1;33m\u001b[0m\u001b[0m\n",
      "\u001b[1;31mTypeError\u001b[0m: pow() missing required argument 'exp' (pos 2)"
     ]
    }
   ],
   "source": [
    "# Question 4c(iv)\n",
    "\n",
    "\n",
    "##third-order polynomial\n",
    "\n",
    "error = 1/2 * sum(pow((y_train - designTraining4.dot(roTheta)), 2))\n",
    "print(error)\n",
    "\n",
    "##Gradient descent with regularixation\n",
    "\n",
    "error = 1/2 *sum(pow((y_train - designTraining4.dot(roTheta)),2)) + lam*(sum(pow(rgTheta),2))\n",
    "print(error)"
   ]
  },
  {
   "cell_type": "code",
   "execution_count": null,
   "id": "91beb422",
   "metadata": {},
   "outputs": [],
   "source": []
  }
 ],
 "metadata": {
  "kernelspec": {
   "display_name": "Python 3",
   "language": "python",
   "name": "python3"
  },
  "language_info": {
   "codemirror_mode": {
    "name": "ipython",
    "version": 3
   },
   "file_extension": ".py",
   "mimetype": "text/x-python",
   "name": "python",
   "nbconvert_exporter": "python",
   "pygments_lexer": "ipython3",
   "version": "3.8.8"
  }
 },
 "nbformat": 4,
 "nbformat_minor": 5
}
