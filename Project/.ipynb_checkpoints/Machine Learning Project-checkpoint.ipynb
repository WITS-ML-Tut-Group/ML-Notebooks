{
 "cells": [
  {
   "cell_type": "markdown",
   "id": "9e03df92",
   "metadata": {},
   "source": [
    "# Authors\n",
    "# ----------------------------------------\n",
    "\n",
    "## Kiara Gabriel             -    2161334\n",
    "\n",
    "## Phola Bavuma          -    1848739\n",
    "\n",
    "## Shravan Singh         -    2173638\n",
    "\n",
    "## Arneev Singh          -    2180393\n",
    "\n",
    "# ----------------------------------------"
   ]
  },
  {
   "cell_type": "markdown",
   "id": "59603704",
   "metadata": {},
   "source": [
    "# Questions\n",
    "\n",
    "Answering the questions from the PDF."
   ]
  },
  {
   "cell_type": "markdown",
   "id": "a7ede6bf",
   "metadata": {},
   "source": [
    "## Question 1\n",
    "\n",
    "We are using a **phishing** dataset.\n",
    "Basically, it has a list of features of the website and the URL of the wesbite, and it will predict whether or not the website is a phishing(dangerous) website or not.\n",
    "\n",
    "We chose this important and interesting dataset because an algorithm to determine if a website is phishing or legitimate is particularly helpful for anyone using the internet (most people). There are many cases where people have given personal and confidential information to websites, thinking that they are legitimate. This will help people predict whether or not a website is phishing or not and will save them their information, time and possibly money.\n",
    "\n",
    "We found it on **kaggle**, here is the link: https://www.kaggle.com/manishkc06/web-page-phishing-detection\n",
    "\n",
    "The target of this dataset is contained in the `status` column which tells us whether or not the website is `Phishing (represented as 1)` or `Legitimate (represented as 0)`\n",
    "\n",
    "We have **11481 records** (data points) with **89 columns** HOWEVER, we deleted a few columns and we currently have **57 features** (excluding the URL string - not a feature but some of the features are based off the URL).  (*Explained in Question 2*)\n",
    "\n",
    "Please see below covariance vector (All the features with their covariance relative to the `status`.\n"
   ]
  },
  {
   "cell_type": "code",
   "execution_count": 19,
   "id": "e3d4c479",
   "metadata": {},
   "outputs": [
    {
     "data": {
      "text/html": [
       "<div>\n",
       "<style scoped>\n",
       "    .dataframe tbody tr th:only-of-type {\n",
       "        vertical-align: middle;\n",
       "    }\n",
       "\n",
       "    .dataframe tbody tr th {\n",
       "        vertical-align: top;\n",
       "    }\n",
       "\n",
       "    .dataframe thead th {\n",
       "        text-align: right;\n",
       "    }\n",
       "</style>\n",
       "<table border=\"1\" class=\"dataframe\">\n",
       "  <thead>\n",
       "    <tr style=\"text-align: right;\">\n",
       "      <th></th>\n",
       "      <th>status</th>\n",
       "    </tr>\n",
       "  </thead>\n",
       "  <tbody>\n",
       "    <tr>\n",
       "      <th>length_url</th>\n",
       "      <td>0.122758</td>\n",
       "    </tr>\n",
       "    <tr>\n",
       "      <th>length_hostname</th>\n",
       "      <td>0.124186</td>\n",
       "    </tr>\n",
       "    <tr>\n",
       "      <th>ip</th>\n",
       "      <td>0.159140</td>\n",
       "    </tr>\n",
       "    <tr>\n",
       "      <th>nb_dots</th>\n",
       "      <td>0.100476</td>\n",
       "    </tr>\n",
       "    <tr>\n",
       "      <th>nb_hyphens</th>\n",
       "      <td>-0.048708</td>\n",
       "    </tr>\n",
       "    <tr>\n",
       "      <th>nb_qm</th>\n",
       "      <td>0.146679</td>\n",
       "    </tr>\n",
       "    <tr>\n",
       "      <th>nb_and</th>\n",
       "      <td>0.086875</td>\n",
       "    </tr>\n",
       "    <tr>\n",
       "      <th>nb_eq</th>\n",
       "      <td>0.117088</td>\n",
       "    </tr>\n",
       "    <tr>\n",
       "      <th>nb_underscore</th>\n",
       "      <td>0.020014</td>\n",
       "    </tr>\n",
       "    <tr>\n",
       "      <th>nb_slash</th>\n",
       "      <td>0.119932</td>\n",
       "    </tr>\n",
       "    <tr>\n",
       "      <th>nb_colon</th>\n",
       "      <td>0.047183</td>\n",
       "    </tr>\n",
       "    <tr>\n",
       "      <th>nb_www</th>\n",
       "      <td>-0.221905</td>\n",
       "    </tr>\n",
       "    <tr>\n",
       "      <th>nb_com</th>\n",
       "      <td>0.079576</td>\n",
       "    </tr>\n",
       "    <tr>\n",
       "      <th>https_token</th>\n",
       "      <td>0.055458</td>\n",
       "    </tr>\n",
       "    <tr>\n",
       "      <th>ratio_digits_url</th>\n",
       "      <td>0.178212</td>\n",
       "    </tr>\n",
       "    <tr>\n",
       "      <th>ratio_digits_host</th>\n",
       "      <td>0.112384</td>\n",
       "    </tr>\n",
       "    <tr>\n",
       "      <th>tld_in_path</th>\n",
       "      <td>0.046814</td>\n",
       "    </tr>\n",
       "    <tr>\n",
       "      <th>tld_in_subdomain</th>\n",
       "      <td>0.104759</td>\n",
       "    </tr>\n",
       "    <tr>\n",
       "      <th>nb_subdomains</th>\n",
       "      <td>0.054965</td>\n",
       "    </tr>\n",
       "    <tr>\n",
       "      <th>prefix_suffix</th>\n",
       "      <td>0.100879</td>\n",
       "    </tr>\n",
       "    <tr>\n",
       "      <th>random_domain</th>\n",
       "      <td>0.007922</td>\n",
       "    </tr>\n",
       "    <tr>\n",
       "      <th>shortening_service</th>\n",
       "      <td>0.047693</td>\n",
       "    </tr>\n",
       "    <tr>\n",
       "      <th>nb_redirection</th>\n",
       "      <td>-0.011302</td>\n",
       "    </tr>\n",
       "    <tr>\n",
       "      <th>length_words_raw</th>\n",
       "      <td>0.096434</td>\n",
       "    </tr>\n",
       "    <tr>\n",
       "      <th>char_repeat</th>\n",
       "      <td>0.008630</td>\n",
       "    </tr>\n",
       "    <tr>\n",
       "      <th>shortest_words_raw</th>\n",
       "      <td>-0.019300</td>\n",
       "    </tr>\n",
       "    <tr>\n",
       "      <th>shortest_word_host</th>\n",
       "      <td>0.112902</td>\n",
       "    </tr>\n",
       "    <tr>\n",
       "      <th>shortest_word_path</th>\n",
       "      <td>0.038037</td>\n",
       "    </tr>\n",
       "    <tr>\n",
       "      <th>longest_words_raw</th>\n",
       "      <td>0.103503</td>\n",
       "    </tr>\n",
       "    <tr>\n",
       "      <th>longest_word_host</th>\n",
       "      <td>0.068084</td>\n",
       "    </tr>\n",
       "    <tr>\n",
       "      <th>longest_word_path</th>\n",
       "      <td>0.108812</td>\n",
       "    </tr>\n",
       "    <tr>\n",
       "      <th>avg_words_raw</th>\n",
       "      <td>0.086236</td>\n",
       "    </tr>\n",
       "    <tr>\n",
       "      <th>avg_word_host</th>\n",
       "      <td>0.101016</td>\n",
       "    </tr>\n",
       "    <tr>\n",
       "      <th>avg_word_path</th>\n",
       "      <td>0.100473</td>\n",
       "    </tr>\n",
       "    <tr>\n",
       "      <th>phish_hints</th>\n",
       "      <td>0.169795</td>\n",
       "    </tr>\n",
       "    <tr>\n",
       "      <th>domain_in_brand</th>\n",
       "      <td>-0.048345</td>\n",
       "    </tr>\n",
       "    <tr>\n",
       "      <th>nb_hyperlinks</th>\n",
       "      <td>-0.172048</td>\n",
       "    </tr>\n",
       "    <tr>\n",
       "      <th>ratio_intHyperlinks</th>\n",
       "      <td>-0.121281</td>\n",
       "    </tr>\n",
       "    <tr>\n",
       "      <th>ratio_extHyperlinks</th>\n",
       "      <td>0.041879</td>\n",
       "    </tr>\n",
       "    <tr>\n",
       "      <th>nb_extCSS</th>\n",
       "      <td>-0.042901</td>\n",
       "    </tr>\n",
       "    <tr>\n",
       "      <th>ratio_extRedirection</th>\n",
       "      <td>-0.075055</td>\n",
       "    </tr>\n",
       "    <tr>\n",
       "      <th>ratio_extErrors</th>\n",
       "      <td>-0.015022</td>\n",
       "    </tr>\n",
       "    <tr>\n",
       "      <th>login_form</th>\n",
       "      <td>-0.008924</td>\n",
       "    </tr>\n",
       "    <tr>\n",
       "      <th>external_favicon</th>\n",
       "      <td>-0.075267</td>\n",
       "    </tr>\n",
       "    <tr>\n",
       "      <th>links_in_tags</th>\n",
       "      <td>-0.091885</td>\n",
       "    </tr>\n",
       "    <tr>\n",
       "      <th>ratio_intMedia</th>\n",
       "      <td>-0.100741</td>\n",
       "    </tr>\n",
       "    <tr>\n",
       "      <th>ratio_extMedia</th>\n",
       "      <td>-0.071267</td>\n",
       "    </tr>\n",
       "    <tr>\n",
       "      <th>safe_anchor</th>\n",
       "      <td>-0.084065</td>\n",
       "    </tr>\n",
       "    <tr>\n",
       "      <th>empty_title</th>\n",
       "      <td>0.098607</td>\n",
       "    </tr>\n",
       "    <tr>\n",
       "      <th>domain_in_title</th>\n",
       "      <td>0.164895</td>\n",
       "    </tr>\n",
       "    <tr>\n",
       "      <th>domain_with_copyright</th>\n",
       "      <td>-0.090199</td>\n",
       "    </tr>\n",
       "    <tr>\n",
       "      <th>domain_registration_length</th>\n",
       "      <td>-0.075727</td>\n",
       "    </tr>\n",
       "    <tr>\n",
       "      <th>domain_age</th>\n",
       "      <td>-0.167512</td>\n",
       "    </tr>\n",
       "    <tr>\n",
       "      <th>web_traffic</th>\n",
       "      <td>0.030704</td>\n",
       "    </tr>\n",
       "    <tr>\n",
       "      <th>google_index</th>\n",
       "      <td>0.363049</td>\n",
       "    </tr>\n",
       "    <tr>\n",
       "      <th>page_rank</th>\n",
       "      <td>-0.255251</td>\n",
       "    </tr>\n",
       "  </tbody>\n",
       "</table>\n",
       "</div>"
      ],
      "text/plain": [
       "                              status\n",
       "length_url                  0.122758\n",
       "length_hostname             0.124186\n",
       "ip                          0.159140\n",
       "nb_dots                     0.100476\n",
       "nb_hyphens                 -0.048708\n",
       "nb_qm                       0.146679\n",
       "nb_and                      0.086875\n",
       "nb_eq                       0.117088\n",
       "nb_underscore               0.020014\n",
       "nb_slash                    0.119932\n",
       "nb_colon                    0.047183\n",
       "nb_www                     -0.221905\n",
       "nb_com                      0.079576\n",
       "https_token                 0.055458\n",
       "ratio_digits_url            0.178212\n",
       "ratio_digits_host           0.112384\n",
       "tld_in_path                 0.046814\n",
       "tld_in_subdomain            0.104759\n",
       "nb_subdomains               0.054965\n",
       "prefix_suffix               0.100879\n",
       "random_domain               0.007922\n",
       "shortening_service          0.047693\n",
       "nb_redirection             -0.011302\n",
       "length_words_raw            0.096434\n",
       "char_repeat                 0.008630\n",
       "shortest_words_raw         -0.019300\n",
       "shortest_word_host          0.112902\n",
       "shortest_word_path          0.038037\n",
       "longest_words_raw           0.103503\n",
       "longest_word_host           0.068084\n",
       "longest_word_path           0.108812\n",
       "avg_words_raw               0.086236\n",
       "avg_word_host               0.101016\n",
       "avg_word_path               0.100473\n",
       "phish_hints                 0.169795\n",
       "domain_in_brand            -0.048345\n",
       "nb_hyperlinks              -0.172048\n",
       "ratio_intHyperlinks        -0.121281\n",
       "ratio_extHyperlinks         0.041879\n",
       "nb_extCSS                  -0.042901\n",
       "ratio_extRedirection       -0.075055\n",
       "ratio_extErrors            -0.015022\n",
       "login_form                 -0.008924\n",
       "external_favicon           -0.075267\n",
       "links_in_tags              -0.091885\n",
       "ratio_intMedia             -0.100741\n",
       "ratio_extMedia             -0.071267\n",
       "safe_anchor                -0.084065\n",
       "empty_title                 0.098607\n",
       "domain_in_title             0.164895\n",
       "domain_with_copyright      -0.090199\n",
       "domain_registration_length -0.075727\n",
       "domain_age                 -0.167512\n",
       "web_traffic                 0.030704\n",
       "google_index                0.363049\n",
       "page_rank                  -0.255251"
      ]
     },
     "execution_count": 19,
     "metadata": {},
     "output_type": "execute_result"
    }
   ],
   "source": [
    "covVec.head(100)"
   ]
  },
  {
   "cell_type": "code",
   "execution_count": 42,
   "id": "8e3123ab",
   "metadata": {},
   "outputs": [
    {
     "data": {
      "image/png": "[encoded data removed]",
      "text/plain": [
       "<Figure size 1152x432 with 1 Axes>"
      ]
     },
     "metadata": {
      "needs_background": "light"
     },
     "output_type": "display_data"
    }
   ],
   "source": [
    "printCovPlot()"
   ]
  },
  {
   "cell_type": "markdown",
   "id": "814cb2d3",
   "metadata": {},
   "source": [
    "As we can see, there are a decent amount of covariance difference between the features. Some matter more than others.\n",
    "\n",
    "The classes are not balanced as expected, there are going to be more 'weighted' indicators to tell whether a website is phishing or not, such as whether it shows up in the first few sites to click on, on google (google_index) compared to how many characters repeat in the URL (char_repeat)."
   ]
  },
  {
   "cell_type": "markdown",
   "id": "8477267d",
   "metadata": {},
   "source": [
    "Website phishing detection is important as in this day and age, where we so technologically reliant on the web, we need to know whether the sites we use are harmful or not. This is why it is important to distinguish between safe and dangerous websites."
   ]
  },
  {
   "cell_type": "markdown",
   "id": "23831813",
   "metadata": {},
   "source": [
    "There are 89 features that needs explaining, please refer to the PDF document link below OR find it in the folder."
   ]
  },
  {
   "cell_type": "code",
   "execution_count": 39,
   "id": "b444933c",
   "metadata": {},
   "outputs": [
    {
     "data": {
      "text/markdown": [
       "[Features](Features.pdf)"
      ],
      "text/plain": [
       "<IPython.core.display.Markdown object>"
      ]
     },
     "execution_count": 39,
     "metadata": {},
     "output_type": "execute_result"
    }
   ],
   "source": [
    "featuresLink"
   ]
  },
  {
   "cell_type": "markdown",
   "id": "11a7c3f6",
   "metadata": {},
   "source": [
    "## Question 2\n",
    "\n",
    "We loaded the CSV data into a `pandas.DataFrame`.\n",
    "\n",
    "All of our features were supposed to be numerical (excluding `URL` and `status`)\n",
    "\n",
    "Some of them however had 'zero' and 'one' representing 0 and 1 respectively. So we looped through each row and changed those to their numerical form and then we changed the data type of the column to either `int64` or `float64`.\n",
    "\n",
    "We stored the `URL` and the `status` column in their own variables and then deleted them from the `pandas.DataFrame`, this is so why we have all our features containing numerical values.\n",
    "\n",
    "We now normalized the data for each taking each point, subtracting the mean for the feature and dividing that by the standard deviation for that \n",
    "\n",
    "`x = Data Point`   \n",
    "`mean = Mean of Feature`    \n",
    "`std = Standard Deviation of Feature`\n",
    "\n",
    "`FORMULA: normalizedValue = (x - mean)/(std)`\n",
    "\n",
    "We did not have any missing data values **fortunately :)** \n",
    "\n",
    "With regards to deleting columns,\n",
    "\n",
    "We started off with **89 features** but ended with **57 features** after the cleaning process.\n",
    "\n",
    "We only manually deleted one feature and the rest were deleted. \n",
    "We deleted the `whois_registered_domain`, as we do not know what it represents AND that the correlation between it and the `status` is low.\n",
    "\n",
    "If there were only 2 unique values for the feature, if either one of the unique values occurances were below the threshold (`500`), it would get deleted.\n",
    "\n",
    "We would test out multiple threshold values HOWEVER, most of our algorithms take a long time to run so we left it out.\n",
    "\n"
   ]
  },
  {
   "cell_type": "markdown",
   "id": "82857f0a",
   "metadata": {},
   "source": [
    "Each of us split the data differently, \n",
    "\n",
    "### Decision Trees\n",
    "\n",
    "\n",
    "\n",
    "### Linear Regression\n",
    "\n",
    "We split the data using the `sklearn.model_selection.train_test_split` function from the `sklearn` package.\n",
    "\n",
    "It got split into **60% for training**, **20% for validation** and **20% for testing**\n",
    "\n",
    "### Logistic Regression\n",
    "\n",
    "\n",
    "\n",
    "### K-Nearest Neighbour\n",
    "\n",
    "We split the data using `numpy` and `pandas`. \n",
    "It got split into **60% for training**, **20% for validation** and **20% for testing**"
   ]
  },
  {
   "cell_type": "markdown",
   "id": "a0a34639",
   "metadata": {},
   "source": [
    "## Question 3 & 4\n",
    "\n",
    "We broke this question down into 4 sections, each section for each algorithm.\n",
    "\n",
    "`  \n",
    "(1) Decision Trees\n",
    "(2) Linear Regression\n",
    "(3) Logisitic Regression\n",
    "(4) K-Nearest Neighbour\n",
    "`"
   ]
  },
  {
   "cell_type": "markdown",
   "id": "be820950",
   "metadata": {},
   "source": [
    "### Decision Trees"
   ]
  },
  {
   "cell_type": "code",
   "execution_count": null,
   "id": "52cb9065",
   "metadata": {},
   "outputs": [],
   "source": []
  },
  {
   "cell_type": "markdown",
   "id": "8c72efa1",
   "metadata": {},
   "source": [
    "### Linear Regression"
   ]
  },
  {
   "cell_type": "code",
   "execution_count": null,
   "id": "b61bfcad",
   "metadata": {},
   "outputs": [],
   "source": []
  },
  {
   "cell_type": "markdown",
   "id": "2b719f08",
   "metadata": {},
   "source": [
    "### Logistic Regression"
   ]
  },
  {
   "cell_type": "code",
   "execution_count": null,
   "id": "af8ba8c8",
   "metadata": {},
   "outputs": [],
   "source": []
  },
  {
   "cell_type": "markdown",
   "id": "e9ee9676",
   "metadata": {},
   "source": [
    "### K-Nearest Neighbour\n",
    "\n",
    "We wanted to see how a clustering algorithm would perform on this data set. The regressions are well, regressions and Decision Trees are it's own unique algorithm.\n",
    "\n",
    "Clustering was meant to be it's own unique algorithm (relative to the algorithm we doing) in this project. We were curious about it's results.\n",
    "\n",
    "There is no regularisation for this algorithm.\n",
    "We used all the features avaliable after cleaning.\n",
    "\n",
    "We only had one hyperparameter which was the value for `k`.\n",
    "\n",
    "**Explanation of Algorithm**\n",
    "\n",
    "So basically this algorithm will have a graph of all your training data points.\n",
    "\n",
    "And once you put in a new point to predict, it will find the closets `k` training data points. \n",
    "\n",
    "The training data points have the target class stored within them, so from the `k` training data points, you get their target values (`1 for phishing, 0 for legititmate`)\n",
    "\n",
    "The one with the most occurances would be what the inputed data point will be predicted as.\n",
    "\n",
    "**End of Explanation**\n",
    "\n",
    "So this is what the `k` value represents in K-Nearest Neighbour.\n",
    "\n",
    "The higher the `k` value, the more points the inputed data point will have to determine if it's a `1 (phishing)` or `0 (legititmate)`\n",
    "\n",
    "We tested a wide range of possible k values (Also note k **should** be odd)\n",
    "\n",
    "These are the k values we tried out [3,5,7,9,15,27,51,67,99,217,515,999]\n",
    "\n",
    "The optimal k value we found was for when `k = 5`\n",
    "\n",
    "`k` was picked for the model that had the highest accuracy"
   ]
  },
  {
   "cell_type": "code",
   "execution_count": 18,
   "id": "9df32fb3",
   "metadata": {},
   "outputs": [
    {
     "data": {
      "image/png": "[encoded data removed]",
      "text/plain": [
       "<IPython.core.display.Image object>"
      ]
     },
     "execution_count": 18,
     "metadata": {},
     "output_type": "execute_result"
    }
   ],
   "source": [
    "# Refer to KNN.ipynb for model\n",
    "showImage(\"kNN.png\")"
   ]
  },
  {
   "cell_type": "markdown",
   "id": "cd62e46c",
   "metadata": {},
   "source": [
    "This is quite a nice accuracy however, it can be improved. \n",
    "\n",
    "One reasoning for how the accuracy could imporve is that the cleaning process be more rigiorous and try to eliminate all outliers as much as possible. \n",
    "\n",
    "We could drop the threshold for the data set even more to generalize it but we not sure how the accruacy would be affected by it. (It is unpredictable)\n",
    "\n",
    "For the **average** human being who wouldn't be able to tell if a URL leads to a phishing website or not, getting scammed is not easy but it is also not hard either. \n",
    "\n",
    "We don't know the probability of the average person falling victim to phishing websites.\n",
    "\n",
    "Personally though, there are a few signs that tell us if a website is dodgey or not.\n",
    "\n",
    "For example, if the protocol is using either `https` or `http`.                                 \n",
    "If the URL length is too long.      \n",
    "If the domain is something unfamilar (**not** `com`, `org` `co.za` .etc)   \n",
    "\n",
    "Nevertheless, the algorithm would defiently be **way** more accurate than any of us would. As the dataset itself contains more features than I would think of for checking if the URL leads to a phishing website or not.\n",
    "\n"
   ]
  },
  {
   "cell_type": "code",
   "execution_count": null,
   "id": "eb427093",
   "metadata": {},
   "outputs": [],
   "source": []
  },
  {
   "cell_type": "code",
   "execution_count": null,
   "id": "6c85c0b6",
   "metadata": {},
   "outputs": [],
   "source": []
  },
  {
   "cell_type": "code",
   "execution_count": null,
   "id": "6cf1af5f",
   "metadata": {},
   "outputs": [],
   "source": []
  },
  {
   "cell_type": "code",
   "execution_count": null,
   "id": "6aae0572",
   "metadata": {},
   "outputs": [],
   "source": []
  },
  {
   "cell_type": "code",
   "execution_count": null,
   "id": "0061b044",
   "metadata": {},
   "outputs": [],
   "source": []
  },
  {
   "cell_type": "code",
   "execution_count": null,
   "id": "7699c800",
   "metadata": {},
   "outputs": [],
   "source": []
  },
  {
   "cell_type": "code",
   "execution_count": null,
   "id": "83f0e96c",
   "metadata": {},
   "outputs": [],
   "source": []
  },
  {
   "cell_type": "code",
   "execution_count": null,
   "id": "5dd08f18",
   "metadata": {},
   "outputs": [],
   "source": []
  },
  {
   "cell_type": "code",
   "execution_count": null,
   "id": "97bb36b5",
   "metadata": {},
   "outputs": [],
   "source": []
  },
  {
   "cell_type": "code",
   "execution_count": null,
   "id": "9fd3003b",
   "metadata": {},
   "outputs": [],
   "source": []
  },
  {
   "cell_type": "code",
   "execution_count": null,
   "id": "5738591f",
   "metadata": {},
   "outputs": [],
   "source": []
  },
  {
   "cell_type": "code",
   "execution_count": null,
   "id": "005aa104",
   "metadata": {},
   "outputs": [],
   "source": []
  },
  {
   "cell_type": "code",
   "execution_count": null,
   "id": "17fbd8d5",
   "metadata": {},
   "outputs": [],
   "source": []
  },
  {
   "cell_type": "code",
   "execution_count": null,
   "id": "e9454b97",
   "metadata": {},
   "outputs": [],
   "source": []
  },
  {
   "cell_type": "code",
   "execution_count": null,
   "id": "4d47c103",
   "metadata": {},
   "outputs": [],
   "source": []
  },
  {
   "cell_type": "code",
   "execution_count": null,
   "id": "f0bb0d42",
   "metadata": {},
   "outputs": [],
   "source": []
  },
  {
   "cell_type": "code",
   "execution_count": null,
   "id": "fac08b29",
   "metadata": {},
   "outputs": [],
   "source": []
  },
  {
   "cell_type": "code",
   "execution_count": null,
   "id": "7d5580b1",
   "metadata": {},
   "outputs": [],
   "source": []
  },
  {
   "cell_type": "code",
   "execution_count": null,
   "id": "a502eb8b",
   "metadata": {},
   "outputs": [],
   "source": []
  },
  {
   "cell_type": "code",
   "execution_count": null,
   "id": "856ac19a",
   "metadata": {},
   "outputs": [],
   "source": []
  },
  {
   "cell_type": "code",
   "execution_count": null,
   "id": "71cabe5b",
   "metadata": {},
   "outputs": [],
   "source": []
  },
  {
   "cell_type": "code",
   "execution_count": null,
   "id": "dc71578a",
   "metadata": {},
   "outputs": [],
   "source": []
  },
  {
   "cell_type": "markdown",
   "id": "45d2a465",
   "metadata": {},
   "source": [
    "# HELPER CODE"
   ]
  },
  {
   "cell_type": "code",
   "execution_count": 1,
   "id": "4feb7360",
   "metadata": {},
   "outputs": [],
   "source": [
    "%%capture\n",
    "import numpy as np\n",
    "import pandas as pd\n",
    "import matplotlib.pyplot as plt\n",
    "from ipynb.fs.full.CleaningData import getDataset\n",
    "from IPython.display import FileLink, FileLinks\n",
    "from IPython.display import display, Markdown\n",
    "from ipynb.fs.full.CleaningData import getCovarianceVector\n",
    "\n",
    "import warnings\n",
    "warnings.filterwarnings('ignore')\n",
    "\n",
    "pd.set_option(\"display.max_rows\", 100)\n",
    "pd.set_option(\"display.max_columns\", None)"
   ]
  },
  {
   "cell_type": "code",
   "execution_count": 2,
   "id": "ed246bb7",
   "metadata": {},
   "outputs": [],
   "source": [
    "featuresLink = Markdown(\"[Features](Features.pdf)\")"
   ]
  },
  {
   "cell_type": "code",
   "execution_count": 8,
   "id": "15497c95",
   "metadata": {},
   "outputs": [],
   "source": [
    "%%capture\n",
    "df = getDataset(500)"
   ]
  },
  {
   "cell_type": "code",
   "execution_count": 4,
   "id": "da9f0ab1",
   "metadata": {},
   "outputs": [],
   "source": [
    "covVec = getCovarianceVector(df)\n",
    "covPlotData = covVec\n",
    "\n",
    "covVec = pd.DataFrame(index=covVec.index, columns=['status'], data=covVec)\n",
    "\n",
    "def printCovPlot():\n",
    "    fig = plt.figure(figsize=(16, 6)) # the figsize changes the width and height respectively\n",
    "    ax = fig.add_axes([0,0,1,1])\n",
    "    ax.bar(covPlotData.index, covPlotData, align='edge', width=0.7) #width determines width of bars\n",
    "    plt.xticks(rotation=90) \n",
    "    plt.show()"
   ]
  },
  {
   "cell_type": "code",
   "execution_count": 5,
   "id": "406943a8",
   "metadata": {},
   "outputs": [],
   "source": [
    "#Deleting URL as the features have been extracted from the URL\n",
    "del df['url']"
   ]
  },
  {
   "cell_type": "code",
   "execution_count": 17,
   "id": "c6cbbd63",
   "metadata": {},
   "outputs": [],
   "source": [
    "from IPython.display import Image\n",
    "\n",
    "def showImage(fileName):\n",
    "    fileLoc = \"Images/\" + fileName\n",
    "    return Image(filename=fileLoc)"
   ]
  },
  {
   "cell_type": "code",
   "execution_count": null,
   "id": "4ce895f2",
   "metadata": {},
   "outputs": [],
   "source": []
  }
 ],
 "metadata": {
  "kernelspec": {
   "display_name": "Python 3",
   "language": "python",
   "name": "python3"
  },
  "language_info": {
   "codemirror_mode": {
    "name": "ipython",
    "version": 3
   },
   "file_extension": ".py",
   "mimetype": "text/x-python",
   "name": "python",
   "nbconvert_exporter": "python",
   "pygments_lexer": "ipython3",
   "version": "3.8.8"
  }
 },
 "nbformat": 4,
 "nbformat_minor": 5
}
