{
 "cells": [
  {
   "cell_type": "code",
   "execution_count": null,
   "id": "universal-solomon",
   "metadata": {},
   "outputs": [],
   "source": [
    "import sys\n",
    "!{sys.executable} -m pip install ipynb"
   ]
  },
  {
   "cell_type": "code",
   "execution_count": 2,
   "id": "eight-analyst",
   "metadata": {},
   "outputs": [],
   "source": [
    "%%capture\n",
    "import numpy as np\n",
    "import pandas as pd\n",
    "import matplotlib.pyplot as plt\n",
    "from ipynb.fs.full.CleaningData import getDataset\n",
    "from ipynb.fs.full.CleaningData import getCovarianceVector\n",
    "\n",
    "import warnings\n",
    "warnings.filterwarnings('ignore')\n",
    "\n",
    "pd.set_option(\"display.max_rows\", 100)\n",
    "pd.set_option(\"display.max_columns\", None)"
   ]
  },
  {
   "cell_type": "code",
   "execution_count": null,
   "id": "outdoor-algeria",
   "metadata": {},
   "outputs": [],
   "source": [
    "df = getDataset(500)\n",
    "\n",
    "# df.head(100)"
   ]
  },
  {
   "cell_type": "code",
   "execution_count": null,
   "id": "impressive-treasure",
   "metadata": {},
   "outputs": [],
   "source": [
    "covVec = getCovarianceVector(df)\n",
    "# print(covVec.head(100))"
   ]
  },
  {
   "cell_type": "code",
   "execution_count": null,
   "id": "associate-wells",
   "metadata": {},
   "outputs": [],
   "source": [
    "# print(covVec)"
   ]
  },
  {
   "cell_type": "code",
   "execution_count": 6,
   "id": "noted-publisher",
   "metadata": {},
   "outputs": [],
   "source": [
    "class Node():\n",
    "    def __init__(self, featureIndex=None,LeftNode=None, RightNode=None, InformationGain=None,splitPoint= None, value=None):\n",
    "        self.featureIndex = featureIndex ##to help define the conditions with splitPoint\n",
    "        self.RightNode = RightNode # right child node\n",
    "        self.LeftNode = LeftNode # lefct child node\n",
    "        self.InformationGain = InformationGain ## stored by info gained for split by node\n",
    "        self.splitPoint = splitPoint # to store the splitpoint\n",
    "        self.value = value #value (determinite if it is a leaf node or not)"
   ]
  },
  {
   "cell_type": "code",
   "execution_count": 7,
   "id": "super-emperor",
   "metadata": {},
   "outputs": [],
   "source": [
    "\n",
    "class DecisionTree():\n",
    "    def __init__(self, MinDatapoints = 4, MaxDepth = 4):\n",
    "        self.root = None\n",
    "        \n",
    "        #hyper parameters (to stop the tree)\n",
    "        self.MinDatapoints = MinDatapoints #if the number of samples becomes less than the minimum samples we won't split that node futher\n",
    "        self.MaxDepth = MaxDepth # if the depth reaches the maximum depth\n",
    "        \n",
    "    def CreateTree(self, Data, currDepth = 0):\n",
    "        X = Data[:,:-1]  #splitting the data into fetures and targets\n",
    "        Y = Data[:,-1]\n",
    "        NumofDatapoints, NumofFeatures = np.shape(X)\n",
    "        \n",
    "        # split until stopping conditions are met\n",
    "        RequiredMinData = self.MinDatapoints\n",
    "        RequiredDepth = self.MaxDepth \n",
    "        if NumofDatapoints>= RequiredMinData and currDepth<=RequiredDepth: #conditions \n",
    "            # compute the optimal split \n",
    "            \n",
    "            BestSplit = self.GetBestSplit(Data, NumofDatapoints, NumofFeatures)\n",
    "            if BestSplit[\"InfoGain\"] > 0: \n",
    "                LeftTree = self.CreateTree(BestSplit[\"LeftData\"], currDepth+1)\n",
    "                RightTree = self.CreateTree(BestSplit[\"RightData\"], currDepth+1)\n",
    "                # Returning the decision node\n",
    "                return Node(BestSplit[\"FeatureIndex\"],LeftTree, RightTree,BestSplit[\"InfoGain\"],BestSplit[\"Split\"])\n",
    "        \n",
    "        #calculate leaf node value\n",
    "        LeafNode = self.GetLeafValue(Y)\n",
    "        # return leaf node\n",
    "        return Node(value=LeafNode)\n",
    "    \n",
    "    def GetBestSplit(self, Data, NumofDatapoints, NumofFeatures):\n",
    "        BestSplit = {}\n",
    "        MaxGain = -float(\"inf\") #must be negative infinity\n",
    "        \n",
    "        # loop over all the features\n",
    "        for FIndex in range(NumofFeatures):\n",
    "            Fvalue = Data[:, FIndex]\n",
    "            Splits = np.unique(Fvalue)\n",
    "            \n",
    "            \n",
    "            for Split in Splits:\n",
    "                # get current split\n",
    "                Data_Left, Data_Right = self.GetSplit(Data, FIndex, Split)\n",
    "                # check if the neither of the two array splits are null\n",
    "                if len(Data_Left)>0 and len(Data_Right)>0:\n",
    "                    Y = Data[:,-1]\n",
    "                    LeftSplitY = Data_Left[:,-1]\n",
    "                    RightSplitY = Data_Right[:,-1]\n",
    "                    # compute information gain\n",
    "                    CurrentInfoGain = self.InfoGain(Y, LeftSplitY, RightSplitY)\n",
    "                    # update the best split if needed to find maximum split\n",
    "                    if CurrentInfoGain>MaxGain:\n",
    "                        BestSplit[\"FeatureIndex\"] = FIndex\n",
    "                        BestSplit[\"LeftData\"] = Data_Left\n",
    "                        BestSplit[\"Split\"] = Split\n",
    "                        BestSplit[\"RightData\"] = Data_Right\n",
    "                        BestSplit[\"InfoGain\"] = CurrentInfoGain\n",
    "                        MaxGain = CurrentInfoGain\n",
    "                        \n",
    "        # return best split\n",
    "        return BestSplit\n",
    "    \n",
    "    def GetSplit(self, Data,FIndex, Split):\n",
    "         #split the dataset into two using splitpoint\n",
    "        DataRight =np.array([row for row in Data if row[FIndex]>Split]) \n",
    "        DataLeft = np.array([row for row in Data if row[FIndex]<=Split]) \n",
    "        return DataLeft, DataRight\n",
    "    \n",
    "    def InfoGain(self, ParentNode, LeftChildNode, RightChildNode): #calculate information gained  \n",
    "        WeightL = len(LeftChildNode) / len(ParentNode)\n",
    "        WeightR = len(RightChildNode) / len(ParentNode)\n",
    "        gain = self.gini_index(ParentNode) -(WeightL*self.gini_index(LeftChildNode) + WeightR*self.gini_index(RightChildNode))\n",
    "        return gain #gone with gini index\n",
    "    \n",
    "    def gini_index(self, Y): #use gini index\n",
    "        class_labels = np.unique(Y)\n",
    "        gini = 0\n",
    "        for cls in class_labels:\n",
    "            p_cls = len(Y[Y == cls]) / len(Y)\n",
    "            gini += p_cls**2\n",
    "        return 1 - gini\n",
    "        \n",
    "    def GetLeafValue(self, Y):    \n",
    "        Y = list(Y)\n",
    "        return max(Y, key=Y.count)\n",
    "    \n",
    " \n",
    "    def fit(self, X, Y):\n",
    "        Data = np.concatenate((X, Y), axis=1)\n",
    "        self.root = self.CreateTree(Data)\n",
    "    \n",
    "    def predict(self, X):\n",
    "        preditions = [self.makePrediction(x, self.root) for x in X]\n",
    "        return preditions\n",
    "    \n",
    "    def makePrediction(self, x, tree):\n",
    "        if tree.value!=None:\n",
    "            return tree.value\n",
    "        FeatureValue = x[tree.featureIndex]\n",
    "        if (FeatureValue>tree.splitPoint):\n",
    "            return self.makePrediction(x, tree.RightNode)\n",
    "        else:\n",
    "            return self.makePrediction(x, tree.LeftNode)"
   ]
  },
  {
   "cell_type": "code",
   "execution_count": 8,
   "id": "biblical-baptist",
   "metadata": {},
   "outputs": [],
   "source": [
    "#splitting the dataset into training and testing sets\n",
    "Training_set = df.sample(frac = 0.7,random_state = 25)\n",
    "Test_set = df.drop(Training_set.index)\n",
    "\n",
    "\n",
    "\n",
    "X_train = Training_set.iloc[:, :-2].values\n",
    "Y_train = Training_set.iloc[:, -2].values.reshape(-1,1)\n",
    "\n",
    "X_test = Test_set.iloc[:, :-2].values\n",
    "Y_test = Test_set.iloc[:, -2].values.reshape(-1,1)\n"
   ]
  },
  {
   "cell_type": "code",
   "execution_count": 9,
   "id": "distinguished-isaac",
   "metadata": {},
   "outputs": [
    {
     "name": "stdout",
     "output_type": "stream",
     "text": [
      "CPU times: user 19min 30s, sys: 5.9 s, total: 19min 36s\n",
      "Wall time: 19min 46s\n"
     ]
    }
   ],
   "source": [
    "%%time\n",
    "#train model\n",
    "\n",
    "Model = DecisionTree(25,20)\n",
    "\n",
    "Model.fit(X_train,Y_train)"
   ]
  },
  {
   "cell_type": "code",
   "execution_count": null,
   "id": "fallen-queens",
   "metadata": {},
   "outputs": [],
   "source": []
  },
  {
   "cell_type": "code",
   "execution_count": 10,
   "id": "raised-colors",
   "metadata": {},
   "outputs": [
    {
     "name": "stdout",
     "output_type": "stream",
     "text": [
      "=================================\n",
      "Confusion Matrix \n",
      "\n",
      "Classes :  0      1\n",
      "     0     1623     120\n",
      "     1     68     1633\n",
      "\n",
      "=================================\n",
      "accuracy:  0.9454123112659698\n",
      "==================================\n",
      "\n",
      "\n"
     ]
    }
   ],
   "source": [
    "#caluclate accuracy and confusion matrx\n",
    "Y_pred = Model.predict(X_test)\n",
    "\n",
    "Totalcorrect0 = 0\n",
    "Totalcorrect1 = 0\n",
    "Totalincorrect0 = 0\n",
    "Totalincorrect1 = 0\n",
    "for i in range(len(Y_pred)):\n",
    "    if(Y_test[i] == 0 and Y_pred[i] == 0):\n",
    "        Totalcorrect0 = Totalcorrect0 + 1\n",
    "    elif(Y_test[i] == 1 and Y_pred[i] == 1):\n",
    "        Totalcorrect1 = Totalcorrect1 +1\n",
    "    elif(Y_test[i] == 1 and Y_pred[i] == 0):\n",
    "        Totalincorrect0 = Totalincorrect0 +1\n",
    "    elif(Y_test[i] == 0 and Y_pred[i] == 1):\n",
    "        Totalincorrect1 = Totalincorrect1 +1\n",
    "\n",
    "print(\"=================================\")\n",
    "print(\"Confusion Matrix \\n\")\n",
    "\n",
    "print(\"Classes :  0      1\")\n",
    "print(\"     0    \",Totalcorrect0,\"   \",Totalincorrect0)\n",
    "print(\"     1    \",Totalincorrect1,\"   \",Totalcorrect1)\n",
    "print(\"\")\n",
    "print(\"=================================\")\n",
    "print(\"accuracy: \" , (Totalcorrect0 + Totalcorrect1)/len(Y_pred))\n",
    "print(\"==================================\")\n",
    "print(\"\\n\")"
   ]
  }
 ],
 "metadata": {
  "kernelspec": {
   "display_name": "Python 3",
   "language": "python",
   "name": "python3"
  },
  "language_info": {
   "codemirror_mode": {
    "name": "ipython",
    "version": 3
   },
   "file_extension": ".py",
   "mimetype": "text/x-python",
   "name": "python",
   "nbconvert_exporter": "python",
   "pygments_lexer": "ipython3",
   "version": "3.8.8"
  }
 },
 "nbformat": 4,
 "nbformat_minor": 5
}
