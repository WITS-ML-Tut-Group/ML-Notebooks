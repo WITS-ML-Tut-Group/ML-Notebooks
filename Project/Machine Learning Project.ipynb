{
 "cells": [
  {
   "cell_type": "markdown",
   "id": "6d1d90b9",
   "metadata": {},
   "source": [
    "## Authors\n",
    "## ----------------------------------------\n",
    "\n",
    "### Kiara Gabriel             -    2161334\n",
    "\n",
    "### Phola Bavuma          -    1848739\n",
    "\n",
    "### Shravan Singh         -    2173638\n",
    "\n",
    "### Arneev Singh          -    2180393\n",
    "\n",
    "## ----------------------------------------"
   ]
  },
  {
   "cell_type": "markdown",
   "id": "17496b2d",
   "metadata": {},
   "source": [
    "# Questions\n",
    "\n",
    "Answering the questions from the PDF."
   ]
  },
  {
   "cell_type": "markdown",
   "id": "3e651aac",
   "metadata": {},
   "source": [
    "## Question 1\n",
    "\n",
    "We are using a **phishing** dataset.\n",
    "Basically, it has a list of features of the website and the URL of the wesbite, and it will predict whether or not the website is a phishing(dangerous) website or not.\n",
    "\n",
    "We chose this important and interesting dataset because an algorithm to determine if a website is phishing or legitimate is particularly helpful for anyone using the internet (most people). There are many cases where people have given personal and confidential information to websites, thinking that they are legitimate. This will help people predict whether or not a website is phishing or not and will save them their information, time and possibly money.\n",
    "\n",
    "We found it on **kaggle**, here is the link: https://www.kaggle.com/manishkc06/web-page-phishing-detection\n",
    "\n",
    "The target of this dataset is contained in the `status` column which tells us whether or not the website is `Phishing (represented as 1)` or `Legitimate (represented as 0)`\n",
    "\n",
    "We have **11481 records** (data points) with **89 columns** HOWEVER, we deleted a few columns and we currently have **57 features** (excluding the URL string - not a feature but some of the features are based off the URL).  (*Explained in Question 2*)\n",
    "\n",
    "Please see below covariance vector (All the features with their covariance relative to the `status`.\n"
   ]
  },
  {
   "cell_type": "code",
   "execution_count": 19,
   "id": "36537637",
   "metadata": {},
   "outputs": [
    {
     "data": {
      "text/html": [
       "<div>\n",
       "<style scoped>\n",
       "    .dataframe tbody tr th:only-of-type {\n",
       "        vertical-align: middle;\n",
       "    }\n",
       "\n",
       "    .dataframe tbody tr th {\n",
       "        vertical-align: top;\n",
       "    }\n",
       "\n",
       "    .dataframe thead th {\n",
       "        text-align: right;\n",
       "    }\n",
       "</style>\n",
       "<table border=\"1\" class=\"dataframe\">\n",
       "  <thead>\n",
       "    <tr style=\"text-align: right;\">\n",
       "      <th></th>\n",
       "      <th>status</th>\n",
       "    </tr>\n",
       "  </thead>\n",
       "  <tbody>\n",
       "    <tr>\n",
       "      <th>length_url</th>\n",
       "      <td>0.122758</td>\n",
       "    </tr>\n",
       "    <tr>\n",
       "      <th>length_hostname</th>\n",
       "      <td>0.124186</td>\n",
       "    </tr>\n",
       "    <tr>\n",
       "      <th>ip</th>\n",
       "      <td>0.159140</td>\n",
       "    </tr>\n",
       "    <tr>\n",
       "      <th>nb_dots</th>\n",
       "      <td>0.100476</td>\n",
       "    </tr>\n",
       "    <tr>\n",
       "      <th>nb_hyphens</th>\n",
       "      <td>-0.048708</td>\n",
       "    </tr>\n",
       "    <tr>\n",
       "      <th>nb_qm</th>\n",
       "      <td>0.146679</td>\n",
       "    </tr>\n",
       "    <tr>\n",
       "      <th>nb_and</th>\n",
       "      <td>0.086875</td>\n",
       "    </tr>\n",
       "    <tr>\n",
       "      <th>nb_eq</th>\n",
       "      <td>0.117088</td>\n",
       "    </tr>\n",
       "    <tr>\n",
       "      <th>nb_underscore</th>\n",
       "      <td>0.020014</td>\n",
       "    </tr>\n",
       "    <tr>\n",
       "      <th>nb_slash</th>\n",
       "      <td>0.119932</td>\n",
       "    </tr>\n",
       "    <tr>\n",
       "      <th>nb_colon</th>\n",
       "      <td>0.047183</td>\n",
       "    </tr>\n",
       "    <tr>\n",
       "      <th>nb_www</th>\n",
       "      <td>-0.221905</td>\n",
       "    </tr>\n",
       "    <tr>\n",
       "      <th>nb_com</th>\n",
       "      <td>0.079576</td>\n",
       "    </tr>\n",
       "    <tr>\n",
       "      <th>https_token</th>\n",
       "      <td>0.055458</td>\n",
       "    </tr>\n",
       "    <tr>\n",
       "      <th>ratio_digits_url</th>\n",
       "      <td>0.178212</td>\n",
       "    </tr>\n",
       "    <tr>\n",
       "      <th>ratio_digits_host</th>\n",
       "      <td>0.112384</td>\n",
       "    </tr>\n",
       "    <tr>\n",
       "      <th>tld_in_path</th>\n",
       "      <td>0.046814</td>\n",
       "    </tr>\n",
       "    <tr>\n",
       "      <th>tld_in_subdomain</th>\n",
       "      <td>0.104759</td>\n",
       "    </tr>\n",
       "    <tr>\n",
       "      <th>nb_subdomains</th>\n",
       "      <td>0.054965</td>\n",
       "    </tr>\n",
       "    <tr>\n",
       "      <th>prefix_suffix</th>\n",
       "      <td>0.100879</td>\n",
       "    </tr>\n",
       "    <tr>\n",
       "      <th>random_domain</th>\n",
       "      <td>0.007922</td>\n",
       "    </tr>\n",
       "    <tr>\n",
       "      <th>shortening_service</th>\n",
       "      <td>0.047693</td>\n",
       "    </tr>\n",
       "    <tr>\n",
       "      <th>nb_redirection</th>\n",
       "      <td>-0.011302</td>\n",
       "    </tr>\n",
       "    <tr>\n",
       "      <th>length_words_raw</th>\n",
       "      <td>0.096434</td>\n",
       "    </tr>\n",
       "    <tr>\n",
       "      <th>char_repeat</th>\n",
       "      <td>0.008630</td>\n",
       "    </tr>\n",
       "    <tr>\n",
       "      <th>shortest_words_raw</th>\n",
       "      <td>-0.019300</td>\n",
       "    </tr>\n",
       "    <tr>\n",
       "      <th>shortest_word_host</th>\n",
       "      <td>0.112902</td>\n",
       "    </tr>\n",
       "    <tr>\n",
       "      <th>shortest_word_path</th>\n",
       "      <td>0.038037</td>\n",
       "    </tr>\n",
       "    <tr>\n",
       "      <th>longest_words_raw</th>\n",
       "      <td>0.103503</td>\n",
       "    </tr>\n",
       "    <tr>\n",
       "      <th>longest_word_host</th>\n",
       "      <td>0.068084</td>\n",
       "    </tr>\n",
       "    <tr>\n",
       "      <th>longest_word_path</th>\n",
       "      <td>0.108812</td>\n",
       "    </tr>\n",
       "    <tr>\n",
       "      <th>avg_words_raw</th>\n",
       "      <td>0.086236</td>\n",
       "    </tr>\n",
       "    <tr>\n",
       "      <th>avg_word_host</th>\n",
       "      <td>0.101016</td>\n",
       "    </tr>\n",
       "    <tr>\n",
       "      <th>avg_word_path</th>\n",
       "      <td>0.100473</td>\n",
       "    </tr>\n",
       "    <tr>\n",
       "      <th>phish_hints</th>\n",
       "      <td>0.169795</td>\n",
       "    </tr>\n",
       "    <tr>\n",
       "      <th>domain_in_brand</th>\n",
       "      <td>-0.048345</td>\n",
       "    </tr>\n",
       "    <tr>\n",
       "      <th>nb_hyperlinks</th>\n",
       "      <td>-0.172048</td>\n",
       "    </tr>\n",
       "    <tr>\n",
       "      <th>ratio_intHyperlinks</th>\n",
       "      <td>-0.121281</td>\n",
       "    </tr>\n",
       "    <tr>\n",
       "      <th>ratio_extHyperlinks</th>\n",
       "      <td>0.041879</td>\n",
       "    </tr>\n",
       "    <tr>\n",
       "      <th>nb_extCSS</th>\n",
       "      <td>-0.042901</td>\n",
       "    </tr>\n",
       "    <tr>\n",
       "      <th>ratio_extRedirection</th>\n",
       "      <td>-0.075055</td>\n",
       "    </tr>\n",
       "    <tr>\n",
       "      <th>ratio_extErrors</th>\n",
       "      <td>-0.015022</td>\n",
       "    </tr>\n",
       "    <tr>\n",
       "      <th>login_form</th>\n",
       "      <td>-0.008924</td>\n",
       "    </tr>\n",
       "    <tr>\n",
       "      <th>external_favicon</th>\n",
       "      <td>-0.075267</td>\n",
       "    </tr>\n",
       "    <tr>\n",
       "      <th>links_in_tags</th>\n",
       "      <td>-0.091885</td>\n",
       "    </tr>\n",
       "    <tr>\n",
       "      <th>ratio_intMedia</th>\n",
       "      <td>-0.100741</td>\n",
       "    </tr>\n",
       "    <tr>\n",
       "      <th>ratio_extMedia</th>\n",
       "      <td>-0.071267</td>\n",
       "    </tr>\n",
       "    <tr>\n",
       "      <th>safe_anchor</th>\n",
       "      <td>-0.084065</td>\n",
       "    </tr>\n",
       "    <tr>\n",
       "      <th>empty_title</th>\n",
       "      <td>0.098607</td>\n",
       "    </tr>\n",
       "    <tr>\n",
       "      <th>domain_in_title</th>\n",
       "      <td>0.164895</td>\n",
       "    </tr>\n",
       "    <tr>\n",
       "      <th>domain_with_copyright</th>\n",
       "      <td>-0.090199</td>\n",
       "    </tr>\n",
       "    <tr>\n",
       "      <th>domain_registration_length</th>\n",
       "      <td>-0.075727</td>\n",
       "    </tr>\n",
       "    <tr>\n",
       "      <th>domain_age</th>\n",
       "      <td>-0.167512</td>\n",
       "    </tr>\n",
       "    <tr>\n",
       "      <th>web_traffic</th>\n",
       "      <td>0.030704</td>\n",
       "    </tr>\n",
       "    <tr>\n",
       "      <th>google_index</th>\n",
       "      <td>0.363049</td>\n",
       "    </tr>\n",
       "    <tr>\n",
       "      <th>page_rank</th>\n",
       "      <td>-0.255251</td>\n",
       "    </tr>\n",
       "  </tbody>\n",
       "</table>\n",
       "</div>"
      ],
      "text/plain": [
       "                              status\n",
       "length_url                  0.122758\n",
       "length_hostname             0.124186\n",
       "ip                          0.159140\n",
       "nb_dots                     0.100476\n",
       "nb_hyphens                 -0.048708\n",
       "nb_qm                       0.146679\n",
       "nb_and                      0.086875\n",
       "nb_eq                       0.117088\n",
       "nb_underscore               0.020014\n",
       "nb_slash                    0.119932\n",
       "nb_colon                    0.047183\n",
       "nb_www                     -0.221905\n",
       "nb_com                      0.079576\n",
       "https_token                 0.055458\n",
       "ratio_digits_url            0.178212\n",
       "ratio_digits_host           0.112384\n",
       "tld_in_path                 0.046814\n",
       "tld_in_subdomain            0.104759\n",
       "nb_subdomains               0.054965\n",
       "prefix_suffix               0.100879\n",
       "random_domain               0.007922\n",
       "shortening_service          0.047693\n",
       "nb_redirection             -0.011302\n",
       "length_words_raw            0.096434\n",
       "char_repeat                 0.008630\n",
       "shortest_words_raw         -0.019300\n",
       "shortest_word_host          0.112902\n",
       "shortest_word_path          0.038037\n",
       "longest_words_raw           0.103503\n",
       "longest_word_host           0.068084\n",
       "longest_word_path           0.108812\n",
       "avg_words_raw               0.086236\n",
       "avg_word_host               0.101016\n",
       "avg_word_path               0.100473\n",
       "phish_hints                 0.169795\n",
       "domain_in_brand            -0.048345\n",
       "nb_hyperlinks              -0.172048\n",
       "ratio_intHyperlinks        -0.121281\n",
       "ratio_extHyperlinks         0.041879\n",
       "nb_extCSS                  -0.042901\n",
       "ratio_extRedirection       -0.075055\n",
       "ratio_extErrors            -0.015022\n",
       "login_form                 -0.008924\n",
       "external_favicon           -0.075267\n",
       "links_in_tags              -0.091885\n",
       "ratio_intMedia             -0.100741\n",
       "ratio_extMedia             -0.071267\n",
       "safe_anchor                -0.084065\n",
       "empty_title                 0.098607\n",
       "domain_in_title             0.164895\n",
       "domain_with_copyright      -0.090199\n",
       "domain_registration_length -0.075727\n",
       "domain_age                 -0.167512\n",
       "web_traffic                 0.030704\n",
       "google_index                0.363049\n",
       "page_rank                  -0.255251"
      ]
     },
     "execution_count": 19,
     "metadata": {},
     "output_type": "execute_result"
    }
   ],
   "source": [
    "covVec.head(100)"
   ]
  },
  {
   "cell_type": "code",
   "execution_count": 20,
   "id": "6b531a51",
   "metadata": {},
   "outputs": [
    {
     "data": {
      "image/png": "[encoded data removed]",
      "text/plain": [
       "<Figure size 1152x432 with 1 Axes>"
      ]
     },
     "metadata": {
      "needs_background": "light"
     },
     "output_type": "display_data"
    }
   ],
   "source": [
    "printCovPlot()"
   ]
  },
  {
   "cell_type": "markdown",
   "id": "a174d8b1",
   "metadata": {},
   "source": [
    "As we can see, there are a decent amount of covariance difference between the features. Some matter more than others.\n",
    "\n",
    "The classes are not balanced as expected, there are going to be more 'weighted' indicators to tell whether a website is phishing or not, such as whether it shows up in the first few sites to click on, on google (google_index) compared to how many characters repeat in the URL (char_repeat)."
   ]
  },
  {
   "cell_type": "markdown",
   "id": "47cef719",
   "metadata": {},
   "source": [
    "Website phishing detection is important as in this day and age, where we so technologically reliant on the web, we need to know whether the sites we use are harmful or not. This is why it is important to distinguish between safe and dangerous websites."
   ]
  },
  {
   "cell_type": "markdown",
   "id": "18ccce72",
   "metadata": {},
   "source": [
    "There are 89 features that needs explaining, please refer to the PDF document link below OR find it in the folder."
   ]
  },
  {
   "cell_type": "code",
   "execution_count": 21,
   "id": "9c53c9f8",
   "metadata": {},
   "outputs": [
    {
     "data": {
      "text/markdown": [
       "[Features](Features.pdf)"
      ],
      "text/plain": [
       "<IPython.core.display.Markdown object>"
      ]
     },
     "execution_count": 21,
     "metadata": {},
     "output_type": "execute_result"
    }
   ],
   "source": [
    "featuresLink"
   ]
  },
  {
   "cell_type": "markdown",
   "id": "895daee8",
   "metadata": {},
   "source": [
    "## Question 2\n",
    "\n",
    "We loaded the CSV data into a `pandas.DataFrame`.\n",
    "\n",
    "All of our features were supposed to be numerical (excluding `URL` and `status`)\n",
    "\n",
    "Some of them however had 'zero' and 'one' representing 0 and 1 respectively. So we looped through each row and changed those to their numerical form and then we changed the data type of the column to either `int64` or `float64`.\n",
    "\n",
    "We stored the `URL` and the `status` column in their own variables and then deleted them from the `pandas.DataFrame`, this is so why we have all our features containing numerical values.\n",
    "\n",
    "We now normalized the data for each taking each point, subtracting the mean for the feature and dividing that by the standard deviation for that \n",
    "\n",
    "`x = Data Point`   \n",
    "`mean = Mean of Feature`    \n",
    "`std = Standard Deviation of Feature`\n",
    "\n",
    "`FORMULA: normalizedValue = (x - mean)/(std)`\n",
    "\n",
    "We did not have any missing data values **fortunately :)** \n",
    "\n",
    "With regards to deleting columns,\n",
    "\n",
    "We started off with **89 features** but ended with **57 features** after the cleaning process.\n",
    "\n",
    "We only manually deleted one feature and the rest were deleted. \n",
    "We deleted the `whois_registered_domain`, as we do not know what it represents AND that the correlation between it and the `status` is low.\n",
    "\n",
    "If there were only 2 unique values for the feature, if either one of the unique values occurances were below the threshold (`500`), it would get deleted.\n",
    "\n",
    "We would test out multiple threshold values HOWEVER, most of our algorithms take a long time to run so we left it out.\n",
    "\n"
   ]
  },
  {
   "cell_type": "markdown",
   "id": "1ab8a58f",
   "metadata": {},
   "source": [
    "Each of us split the data differently, \n",
    "\n",
    "### Decision Trees\n",
    "\n",
    "We split the data using `numpy` and `pandas`. \n",
    "\n",
    "It got split into **70% for training** and **30% for testing**\n",
    "\n",
    "### Linear Regression\n",
    "\n",
    "We split the data using the `sklearn.model_selection.train_test_split` function from the `sklearn` package. \n",
    "\n",
    "It got split into **60% for training**, **20% for validation** and **20% for testing**\n",
    "\n",
    "### Logistic Regression\n",
    "\n",
    "We split the data using the `sklearn.model_selection.train_test_split` function from the `sklearn` package. \n",
    "\n",
    "It got split into **60% for training**, **20% for validation** and **20% for testing**\n",
    "\n",
    "### K-Nearest Neighbour\n",
    "\n",
    "We split the data using `numpy` and `pandas`. \n",
    "\n",
    "It got split into **60% for training**, **20% for validation** and **20% for testing**"
   ]
  },
  {
   "cell_type": "markdown",
   "id": "da5cda35",
   "metadata": {},
   "source": [
    "## Question 3 & 4\n",
    "\n",
    "We broke this question down into 4 sections, each section for each algorithm.\n",
    "\n",
    "`  \n",
    "(1) Decision Trees\n",
    "(2) Linear Regression\n",
    "(3) Logisitic Regression\n",
    "(4) K-Nearest Neighbour\n",
    "`"
   ]
  },
  {
   "cell_type": "markdown",
   "id": "8bf0e728",
   "metadata": {},
   "source": [
    "### Decision Trees\n",
    "\n",
    "We have decided to choose Decision Trees as a model to predict our outputs because it will continuously split our data into the most probable classification. Decision trees also *reveal the most influential features* in our database by measuring the information gain from each feature and selecting the most optimal split for the next branch of the tree.\n",
    "\n",
    "**Explanation of Algorithm**\n",
    "\n",
    "The algorithm takes in a training set with $X$ and $Y$ values and begins to find the best spit point to branch out the data. The two stopping criteria’s used for this model is the min number of datapoints, which dictates the minimum number of datapoints that the model must use before a split, and the max depth of the tree, which stipulates the maximum depth of the tree (to prevent overfitting).\n",
    "\n",
    "Looping through each possible value for a feature to find the optimal threshold for the split would be too expensive and time consuming as we would have to run through each float between the $Min$ and the $Max$ of the values in the column. \n",
    "\n",
    "So to find the thresholds to split each feature we decided to find all the unique values in each feature and compare the information gained from each to find the most optimal split. Once the best flit threshold has been computed the dataset is split into two nodes which represent the data that satisfies the threshold and the data that doesn’t satisfy the threshold. \n",
    "\n",
    "This procedure is continuously repeated until the Stopping criteria’s have been met or until there are no more remaining data points to separate."
   ]
  },
  {
   "cell_type": "code",
   "execution_count": 22,
   "id": "00ea53d1",
   "metadata": {},
   "outputs": [
    {
     "data": {
      "image/png": "[encoded data removed]",
      "text/plain": [
       "<IPython.core.display.Image object>"
      ]
     },
     "execution_count": 22,
     "metadata": {},
     "output_type": "execute_result"
    }
   ],
   "source": [
    "# Refer to DecisionTrees.ipynb for model\n",
    "showImage(\"DT.png\")"
   ]
  },
  {
   "cell_type": "code",
   "execution_count": 23,
   "id": "1659c67f",
   "metadata": {},
   "outputs": [
    {
     "data": {
      "image/png": "[encoded data removed]",
      "text/plain": [
       "<IPython.core.display.Image object>"
      ]
     },
     "execution_count": 23,
     "metadata": {},
     "output_type": "execute_result"
    }
   ],
   "source": [
    "showImage(\"DT_Time.png\")"
   ]
  },
  {
   "cell_type": "markdown",
   "id": "10638a5b",
   "metadata": {},
   "source": [
    "Phishing website URL identities have improved the ability to mask as a legitimate URL immensely to the point that using the human eye it would be near impossible to predict if the URL is legitimate or not.\n",
    "\n",
    "For example: The two URLs  https://www.hornguys.com/ and http://betasus7.blogspot.com/ have similar structures but one is a phishing site and the other is a legitimate site. Guessing the difference between the two would be as probable as guessing heads or tails for a coin flip. But using a decision tree the model is able to make a 94.5 % accuracy guess on the problem."
   ]
  },
  {
   "cell_type": "markdown",
   "id": "af3e45a1",
   "metadata": {},
   "source": [
    "### Linear Regression\n",
    "\n",
    "We chose Linear Regression as one of our Machine Learning Models because it is a simple and commonly used algorithm used for prediction analysis. Our dataset is to predict if a URL given leads to a phishing website or not, so we are using the algorithm to predict the status of the website. Due to the fact that We have multiple features, this model is accually called *Multivariate Linear Regression.*\n",
    "\n",
    "**Explanation of Algorithm**\n",
    "\n",
    "This algorithm has two solutions (we implemented both) - the *closed-form solution* and *gradient descent.*                  \n",
    "\n",
    "`Closed-Form Solution:` this solution allows us to calculate the most optimal values for theta using the formula: \n",
    "\n",
    "theta = $((X)^{Y}$$X)$$^{-1}$$(X^{T}$$y)$\n",
    "\n",
    "We can calculate these theta values using the training dataset and then use the values calculated as the thetas in the validation and testing datasets. This solution is very accurate and does not have a long compute time due to our dataset not being overly huge.\n",
    "\n",
    "`Gradient Decsent:` this algorithm finds the best-fit line for the cost function of the data by taking tiny iterative steps (to best represent the cost function). It iteratively finds new theta values using the previous theta values calculated in the previous iteration. The new theta values are calculated using the formula:\n",
    "\n",
    "$newTheta = oldTheta - a(predictedY - trueY)x$\n",
    "\n",
    "Based off the confusion matrices we calculated from both of these solutions, the gradient descent usually does 2x worse than the closed-form solution. After multiple runs, the closed-form solution gets around a 92% accuracy and the gradient descent gets around 45%\n",
    "\n",
    "**Hyperparameters**\n",
    "\n",
    "`Closed-Form Solution:` the hyperparameter used in this solution was lambda which is used for regularisation. For the training data we chose `lambda = 0.1`. The lambda is not very small because the compute time takes longer for a very very mininimal increase in the accuracy (~ 0.0005%). \n",
    "\n",
    "\n",
    "`Gradient Decsent:` we used two hyperparameters: alpha and the stopping value. Alpha is used to calculate the new theta values (small iterative steps to get closer to the cost function) and the stopping value is used as a stopping criteria for the algoritm - the smaller the hyperparameters, the more accurate. For testing we used `alpha = 0.00001` and `stoppingVal = 0.001`. \n",
    "\n",
    "**Regularisation**\n",
    "\n",
    "As mentioned above, regularisation was used in the `closed-Form solution` but the affect was extremely small so we decided that the extra compute time was not beneficial to add it the `gradient decsent`.\n",
    "\n",
    "**Basis Function**\n",
    "\n",
    "y = $theta$$_{0}$ $+$ $theta$$_{1}$$*$$x_{1}$ $+$ $theta$$_{2}$$*$$x_{2}$ $+$ $...$ $+$ $theta$$_{n}$$*$$x_{n}$\n",
    "where $n$ = the number of features `(57)`\n",
    "\n",
    "**Validation Data**\n",
    "\n",
    "For the validation data, we used multiple different values for the hyperparameters to find the highest accuracy.\n",
    "\n",
    "`Closed-Form Solution:` lamda = [0.001, 0.05, 0.1, 2, 5]\n",
    "\n",
    "`Gradient Decsent:` alpha = [0.00001, 0.01, 1, 5] ; stopping values = [0.0001, 0.1, 1, 5]\n",
    "\n",
    "**Testing Data**\n",
    "\n",
    "`Closed-Form Solution:` lamda = 0.001\n",
    "\n",
    "`Gradient Decsent:` alpha = 0.00001 ; stopping values = 0.0001"
   ]
  },
  {
   "cell_type": "code",
   "execution_count": 24,
   "id": "95865466",
   "metadata": {},
   "outputs": [],
   "source": [
    "# Refer to Linear_Regression.ipynb for model\n",
    "# showImage(\"LR.png\")"
   ]
  },
  {
   "cell_type": "markdown",
   "id": "8522819f",
   "metadata": {},
   "source": [
    "###### INSERT ANS TO BASELINE"
   ]
  },
  {
   "cell_type": "markdown",
   "id": "d5726f31",
   "metadata": {},
   "source": [
    "### Logistic Regression\n",
    "\n",
    "We chose logistic regression because it is a Supervised Classification model which will be able to accurately predict binary classes based on our input. Logistic Regression also has three Hyperparameters which could make the model even more accurate by doing hyperparameter tuning using a grid search algorithm.\n",
    "\n",
    "**Explanation of Algorithm**\n",
    "\n",
    "Logistic regression works by using a `Sigmoidal Function` to compress an infinitely wide range of $x$ values into a range of `0` and `1`. We then simply round off the value to allocate it to class 0 or class 1. In this case, the values that it compresses are two vectors that are multiplied together using a dot product. The two vectors are the features of our input data and the values of theta.\n",
    "\n",
    "We had a Logistic Regression function that trained the model and returned the optimal values of theta. Our function took in the following parameters:\n",
    "\n",
    "`An initial guess for theta`                                         \n",
    "`Gradient Descent value`                                             \n",
    "`Strength of Regularization`                                    \n",
    "`The input data`                                                \n",
    "`The output data`\n",
    "\n",
    "Using the aforementioned parameters, the model would return the optimal values of theta.\n",
    "\n",
    "**Hyperparameters**\n",
    "\n",
    "With Logistic Regression we have three Hyperparameters.\n",
    "\n",
    "`A threshold for theta`                                           \n",
    "`Gradient Descent value`                                      \n",
    "`Strength of Regularization`\n",
    "\n",
    "However, since our validation data was 2217 records with 56 parameters. We decided to not have a threshold for theta. Instead, we ran the algorithm 10 times as we achieved a $94.3$% accuracy. It would have been a waste of computation and time in order to implement a threshold. As well as onsidering the values of theta changed largely throughout each iteration.\n",
    "\n",
    "For $alpha$, we had 4 values to find out which was most optimal. So we ran the algorithm on the validation data with the same initial theta but for the different values of alpha.                                            \n",
    "$alpha$ = [0.1, 0.01, 0.001, 0.0001]\n",
    "\n",
    "Doing this we then found out that the smallest alpha was the most optimal value. As for the strength of regularization we ran through 3 different values for each $alpha$.\n",
    "\n",
    "$lambda$ = [0, 0.001, 0.002]\n",
    "By doing this we found that the optimal value for $lambda$ was `0`. Implying that no regularization was needed, and the algorithm worked best without it. This was rather a surprising conclusion considering that regularization helps in improving the model’s prediction ability.\n",
    "\n",
    "Hence in the end we trained the model with $alpha$ = 0.0001 and $lambda$ = 0"
   ]
  },
  {
   "cell_type": "code",
   "execution_count": 25,
   "id": "1f2ded87",
   "metadata": {},
   "outputs": [],
   "source": [
    "# Refer to Loogistic_Regression.ipynb for model\n",
    "# showImage(\"LR.png\")"
   ]
  },
  {
   "cell_type": "markdown",
   "id": "c67662ce",
   "metadata": {},
   "source": [
    "The problem arises when we have non linearities in the data or when features itself do not correlate linearly with the output classes. Beause of these problems the model did not predict a **few** data points correctly.\n",
    "\n",
    "If I were to guess of which sites would be phishing or not. I would definitely guess less accurately than the machine. This is because the Linear Regression model would be able to correlate which features play an important factor in detecting phishing. With the size of the data it would be difficult for a human to remember the records as well as pick up traces in the data unlike the model which would have coefficients to know how important a feature is."
   ]
  },
  {
   "cell_type": "markdown",
   "id": "57e6c0b4",
   "metadata": {},
   "source": [
    "### K-Nearest Neighbour\n",
    "\n",
    "We wanted to see how a clustering algorithm would perform on this data set. The regressions are well, regressions and Decision Trees are it's own unique algorithm.\n",
    "\n",
    "Clustering was meant to be it's own unique algorithm (relative to the algorithm we doing) in this project. We were curious about it's results.\n",
    "\n",
    "There is no regularisation for this algorithm.\n",
    "We used all the features avaliable after cleaning.\n",
    "\n",
    "We only had one hyperparameter which was the value for `k`.\n",
    "\n",
    "**Explanation of Algorithm**\n",
    "\n",
    "So basically this algorithm will have a graph of all your training data points.\n",
    "\n",
    "And once you put in a new point to predict, it will find the closets `k` training data points. \n",
    "\n",
    "The training data points have the target class stored within them, so from the `k` training data points, you get their target values (`1 for phishing, 0 for legititmate`)\n",
    "\n",
    "The one with the most occurances would be what the inputed data point will be predicted as.\n",
    "\n",
    "**End of Explanation**\n",
    "\n",
    "So this is what the `k` value represents in K-Nearest Neighbour.\n",
    "\n",
    "The higher the `k` value, the more points the inputed data point will have to determine if it's a `1 (phishing)` or `0 (legititmate)`\n",
    "\n",
    "We tested a wide range of possible k values (Also note k **should** be odd)\n",
    "\n",
    "These are the k values we tried out [3,5,7,9,15,27,51,67,99,217,515,999]\n",
    "\n",
    "The optimal k value we found was for when `k = 5`\n",
    "\n",
    "`k` was picked for the model that had the highest accuracy"
   ]
  },
  {
   "cell_type": "code",
   "execution_count": 26,
   "id": "0aba8149",
   "metadata": {},
   "outputs": [
    {
     "data": {
      "image/png": "[encoded data removed]",
      "text/plain": [
       "<IPython.core.display.Image object>"
      ]
     },
     "execution_count": 26,
     "metadata": {},
     "output_type": "execute_result"
    }
   ],
   "source": [
    "# Refer to KNN.ipynb for model\n",
    "showImage(\"kNN.png\")"
   ]
  },
  {
   "cell_type": "markdown",
   "id": "164c61c3",
   "metadata": {},
   "source": [
    "This is quite a nice accuracy however, it can be improved. \n",
    "\n",
    "One reasoning for how the accuracy could imporve is that the cleaning process be more rigiorous and try to eliminate all outliers as much as possible. \n",
    "\n",
    "We could drop the threshold for the data set even more to generalize it but we not sure how the accruacy would be affected by it. (It is unpredictable)\n",
    "\n",
    "For the **average** human being who wouldn't be able to tell if a URL leads to a phishing website or not, getting scammed is not easy but it is also not hard either. \n",
    "\n",
    "We don't know the probability of the average person falling victim to phishing websites.\n",
    "\n",
    "Personally though, there are a few signs that tell us if a website is dodgey or not.\n",
    "\n",
    "For example, if the protocol is using either `https` or `http`.                                 \n",
    "If the URL length is too long.      \n",
    "If the domain is something unfamilar (**not** `com`, `org` `co.za` .etc)   \n",
    "\n",
    "Nevertheless, the algorithm would defiently be **way** more accurate than any of us would. As the dataset itself contains more features than I would think of for checking if the URL leads to a phishing website or not.\n",
    "\n"
   ]
  },
  {
   "cell_type": "markdown",
   "id": "ed50df34",
   "metadata": {},
   "source": [
    "## Question 5"
   ]
  },
  {
   "cell_type": "markdown",
   "id": "472b5aab",
   "metadata": {},
   "source": [
    "**Struggles**\n",
    "\n",
    "`Decision Trees: `\n",
    "\n",
    "Due to the Decision tree’s nature of continuously splitting the data into multiple branches, this can cause the Decision tree to over fit the data and output slightly skewed results for new inputs. \n",
    "\n",
    "To combat these problems we have included a min number of datpoints feature, which specifies the minimum number of datapoints so be split, and Maximum depth of the tree, which controls the depth of the tree to ensure the model doesn’t over fit.\n",
    "    \n",
    "`Linear Regression: ` This algorithm struggles with outliers. We calculated the number of outliers in our solution (where the predicted value was neither a `0` or `1`) and had that for the closed-form solution there was usually approximately `10 outliers`, and for gradient descent there was usually `0 outliers`. This is presented in the above image under *Linear Regression*.\n",
    "    \n",
    "`Logistic Regression: ` The Logistic Regression model struggles with nonlinearities  between the features and the classes. If there is a nonlinear correlation the model will predict inaccurately on these data points. There weren't many but there were a few. Hence the **INSERT ACCURACY HERE**.\n",
    "    \n",
    "`K-Nearest Neighbour: ` The K-Nearest Neighbor is sensitive to irrelevant features. We could have done a more thorough cleaning of the data set to increase our accuracy.\n",
    "\n",
    "Overall, the data was decent quality in our opinion and cleaned satisfactory, KNN did not struggle much with our data set.\n",
    "\n",
    "**What went well?**\n",
    "\n",
    "`Decision Trees: `\n",
    "    \n",
    "`Linear Regression: ` The closed form solution was easy to implement and it ran relatively fast (**INSERT NUMBER HERE**) due to numpy's matrix math operations.\n",
    "\n",
    "`Logistic Regression: ` With the Logistic Regression model, a lot of the the features linearly correlated with the output class. That worked best since **most** of the data was linearly correlated.\n",
    "    \n",
    "`K-Nearest Neighbour: ` The K-Nearest Neighbor is pretty robust against noisy data. Fortuanetly, our data was not very noisy. Nevertheless, there was some noise involved and KNN dealt with that well.\n",
    "\n",
    "The algorithm was realtively fast with the testing data run being only **$45.7$** seconds thanks to pandas dataframe math operations being so blazing fast.\n",
    "\n",
    "**What went bad?**\n",
    "\n",
    "`Decision Trees: `\n",
    "    \n",
    "`Linear Regression: ` The Gradient descent solution performed poorly even with a low alpha value. There were rare occasions where the accuracy was above a $70$% but most times it was around $40$%. These solutions take a very long time to compute.\n",
    "    \n",
    "`Logistic Regression: ` The logistic regression model is more computationally expensive in comparison to linear regression hence the algorithm ran slower.\n",
    "    \n",
    "`K-Nearest Neighbour: ` The algorithm is slow if you use normal python functions and math operations but if you use the pandas dataframe's operations it is a lot quicker. Nothing went bad but, if we weren't using pandas, the algorithm would be a lot slower.\n",
    "\n",
    "\n",
    "\n",
    "\n",
    "**What we would recommend**\n",
    "\n",
    "If you want the most accuracy, then you should choose the **INSERT MODEL** model, the differences between accuracies among our algorithms are between $0.3$% to $3$%. So not much difference.\n",
    "\n",
    "If you want to see how different types of algorithms would work, such as clustering, decision tree classification or regression, we would recommend you try all 4 of the algorithms out."
   ]
  },
  {
   "cell_type": "markdown",
   "id": "911a28fa",
   "metadata": {},
   "source": [
    "## References\n",
    "\n",
    "KNN Explanation - https://www.mygreatlearning.com/blog/knn-algorithm-introduction/\n",
    "\n",
    "Splitting Train Valid Test (Using `pandas` and `numpy`) -                         \n",
    "https://datascience.stackexchange.com/questions/15135/train-test-validation-set-splitting-in-sklearn - 2nd Comment"
   ]
  },
  {
   "cell_type": "code",
   "execution_count": null,
   "id": "b3dd3ed8",
   "metadata": {},
   "outputs": [],
   "source": []
  },
  {
   "cell_type": "code",
   "execution_count": null,
   "id": "e4b8bdf9",
   "metadata": {},
   "outputs": [],
   "source": []
  },
  {
   "cell_type": "code",
   "execution_count": null,
   "id": "90df5efb",
   "metadata": {},
   "outputs": [],
   "source": []
  },
  {
   "cell_type": "code",
   "execution_count": null,
   "id": "c18c9636",
   "metadata": {},
   "outputs": [],
   "source": []
  },
  {
   "cell_type": "code",
   "execution_count": null,
   "id": "82bd87d6",
   "metadata": {},
   "outputs": [],
   "source": []
  },
  {
   "cell_type": "code",
   "execution_count": null,
   "id": "dca5f0f1",
   "metadata": {},
   "outputs": [],
   "source": []
  },
  {
   "cell_type": "code",
   "execution_count": null,
   "id": "a0159e33",
   "metadata": {},
   "outputs": [],
   "source": []
  },
  {
   "cell_type": "code",
   "execution_count": null,
   "id": "e266fcd3",
   "metadata": {},
   "outputs": [],
   "source": []
  },
  {
   "cell_type": "code",
   "execution_count": null,
   "id": "bf61706f",
   "metadata": {},
   "outputs": [],
   "source": []
  },
  {
   "cell_type": "code",
   "execution_count": null,
   "id": "2de7eebd",
   "metadata": {},
   "outputs": [],
   "source": []
  },
  {
   "cell_type": "code",
   "execution_count": null,
   "id": "21d63197",
   "metadata": {},
   "outputs": [],
   "source": []
  },
  {
   "cell_type": "code",
   "execution_count": null,
   "id": "bf62e982",
   "metadata": {},
   "outputs": [],
   "source": []
  },
  {
   "cell_type": "code",
   "execution_count": null,
   "id": "591b3559",
   "metadata": {},
   "outputs": [],
   "source": []
  },
  {
   "cell_type": "code",
   "execution_count": null,
   "id": "4aa4e87a",
   "metadata": {},
   "outputs": [],
   "source": []
  },
  {
   "cell_type": "code",
   "execution_count": null,
   "id": "380a678c",
   "metadata": {},
   "outputs": [],
   "source": []
  },
  {
   "cell_type": "code",
   "execution_count": null,
   "id": "c4ff7db9",
   "metadata": {},
   "outputs": [],
   "source": []
  },
  {
   "cell_type": "code",
   "execution_count": null,
   "id": "a59f7232",
   "metadata": {},
   "outputs": [],
   "source": []
  },
  {
   "cell_type": "code",
   "execution_count": null,
   "id": "ed47e81b",
   "metadata": {},
   "outputs": [],
   "source": []
  },
  {
   "cell_type": "code",
   "execution_count": null,
   "id": "823986ca",
   "metadata": {},
   "outputs": [],
   "source": []
  },
  {
   "cell_type": "markdown",
   "id": "93ca0999",
   "metadata": {},
   "source": [
    "# HELPER CODE"
   ]
  },
  {
   "cell_type": "code",
   "execution_count": 27,
   "id": "0385a132",
   "metadata": {
    "scrolled": true
   },
   "outputs": [],
   "source": [
    "%%capture\n",
    "import numpy as np\n",
    "import pandas as pd\n",
    "import matplotlib.pyplot as plt\n",
    "from ipynb.fs.full.CleaningData import *\n",
    "from IPython.display import FileLink, FileLinks\n",
    "from IPython.display import display, Markdown\n",
    "# from ipynb.fs.full.CleaningData import getCovarianceVector\n",
    "\n",
    "import warnings\n",
    "warnings.filterwarnings('ignore')\n",
    "\n",
    "pd.set_option(\"display.max_rows\", 100)\n",
    "pd.set_option(\"display.max_columns\", None)"
   ]
  },
  {
   "cell_type": "code",
   "execution_count": 28,
   "id": "26bd906d",
   "metadata": {},
   "outputs": [],
   "source": [
    "featuresLink = Markdown(\"[Features](Features.pdf)\")"
   ]
  },
  {
   "cell_type": "code",
   "execution_count": 29,
   "id": "b4bdde26",
   "metadata": {},
   "outputs": [],
   "source": [
    "%%capture\n",
    "df = getDataset(500)"
   ]
  },
  {
   "cell_type": "code",
   "execution_count": 30,
   "id": "502ea7aa",
   "metadata": {},
   "outputs": [],
   "source": [
    "covVec = getCovarianceVector(df)\n",
    "covPlotData = covVec\n",
    "\n",
    "covVec = pd.DataFrame(index=covVec.index, columns=['status'], data=covVec)\n",
    "\n",
    "def printCovPlot():\n",
    "    fig = plt.figure(figsize=(16, 6)) # the figsize changes the width and height respectively\n",
    "    ax = fig.add_axes([0,0,1,1])\n",
    "    ax.bar(covPlotData.index, covPlotData, align='edge', width=0.7) #width determines width of bars\n",
    "    plt.xticks(rotation=90) \n",
    "    plt.show()"
   ]
  },
  {
   "cell_type": "code",
   "execution_count": 31,
   "id": "9fe63296",
   "metadata": {},
   "outputs": [],
   "source": [
    "#Deleting URL as the features have been extracted from the URL\n",
    "del df['url']"
   ]
  },
  {
   "cell_type": "code",
   "execution_count": 32,
   "id": "f8840a92",
   "metadata": {},
   "outputs": [],
   "source": [
    "from IPython.display import Image\n",
    "\n",
    "def showImage(fileName):\n",
    "    fileLoc = \"Images/\" + fileName\n",
    "    return Image(filename=fileLoc)"
   ]
  },
  {
   "cell_type": "code",
   "execution_count": 33,
   "id": "1962d009",
   "metadata": {},
   "outputs": [
    {
     "data": {
      "text/markdown": [
       "[Features](Features.pdf)"
      ],
      "text/plain": [
       "<IPython.core.display.Markdown object>"
      ]
     },
     "execution_count": 33,
     "metadata": {},
     "output_type": "execute_result"
    }
   ],
   "source": [
    "featuresLink"
   ]
  },
  {
   "cell_type": "code",
   "execution_count": 34,
   "id": "42967d29",
   "metadata": {},
   "outputs": [
    {
     "name": "stdout",
     "output_type": "stream",
     "text": [
      "Requirement already satisfied: ipynb in c:\\users\\arneev\\anaconda3\\lib\\site-packages (0.5.1)\n"
     ]
    }
   ],
   "source": [
    "import sys\n",
    "!{sys.executable} -m pip install ipynb"
   ]
  },
  {
   "cell_type": "code",
   "execution_count": null,
   "id": "bb17fe66",
   "metadata": {},
   "outputs": [],
   "source": []
  }
 ],
 "metadata": {
  "kernelspec": {
   "display_name": "Python 3",
   "language": "python",
   "name": "python3"
  },
  "language_info": {
   "codemirror_mode": {
    "name": "ipython",
    "version": 3
   },
   "file_extension": ".py",
   "mimetype": "text/x-python",
   "name": "python",
   "nbconvert_exporter": "python",
   "pygments_lexer": "ipython3",
   "version": "3.8.8"
  }
 },
 "nbformat": 4,
 "nbformat_minor": 5
}
