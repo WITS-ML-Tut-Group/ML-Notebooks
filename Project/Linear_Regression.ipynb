{
 "cells": [
  {
   "cell_type": "code",
   "execution_count": 112,
   "id": "12672d52",
   "metadata": {},
   "outputs": [],
   "source": [
    "%%capture\n",
    "import sys\n",
    "!{sys.executable} -m pip install ipynb\n",
    "!{sys.executable} -m pip install scikit-learn"
   ]
  },
  {
   "cell_type": "code",
   "execution_count": 113,
   "id": "2166ee91",
   "metadata": {},
   "outputs": [],
   "source": [
    "%%capture\n",
    "import numpy as np\n",
    "import pandas as pd\n",
    "import matplotlib.pyplot as plt\n",
    "import sklearn as sklearn\n",
    "\n",
    "from ipynb.fs.full.CleaningData import getDataset\n",
    "from ipynb.fs.full.CleaningData import getCovarianceVector\n",
    "from sklearn.model_selection import train_test_split\n",
    "from numpy import unravel_index\n",
    "\n",
    "import warnings\n",
    "warnings.filterwarnings('ignore')\n",
    "\n",
    "pd.set_option(\"display.max_rows\", 100)\n",
    "pd.set_option(\"display.max_columns\", None)\n",
    "\n",
    "np.set_printoptions(suppress=True)  # When displaying a numpy array, the values are NOT expressed in Scientific Notation\n",
    "# :) Please uncomment to use (if desired):\n",
    "# To use this you MIGHT need to run Jupyter Notebook with the following command: \n",
    "# jupyter notebook --NotebookApp.iopub_data_rate_limit=1.0e10\n",
    "#np.set_printoptions(threshold=np.inf)  # Displays ALL rows and ALL columns - takes slightly more compute time"
   ]
  },
  {
   "cell_type": "markdown",
   "id": "2eb3e07f",
   "metadata": {},
   "source": [
    "### Hyper Parameters\n",
    "The three global variables below are used in the validation dataset to find the best hyper paramters to be used for the testing dataset."
   ]
  },
  {
   "cell_type": "code",
   "execution_count": 114,
   "id": "05911d8c",
   "metadata": {},
   "outputs": [],
   "source": [
    "# Closed-form Solution\n",
    "optimalLambda = 0\n",
    "\n",
    "# Gradient Descent\n",
    "optimalAlpha = 0\n",
    "optimalStopping = 0"
   ]
  },
  {
   "cell_type": "markdown",
   "id": "59dd67a8",
   "metadata": {},
   "source": [
    "# Get Dataset\n",
    "\n",
    "The datatset is imported from CleaningData.ipynb. It prints all the columns that were deleted and the reason why. It also prints a dataframe of the first 100 records from the cleaned dataset."
   ]
  },
  {
   "cell_type": "code",
   "execution_count": null,
   "id": "801bcf97",
   "metadata": {},
   "outputs": [],
   "source": [
    "# Store dataset in a dataframe df\n",
    "df = getDataset(500)\n",
    "\n",
    "# Remove the URL column because it is not a feature - the features are based off the url\n",
    "urlColumn = df['url']\n",
    "del df['url']\n",
    "\n",
    "# Print the first 100 records in the dataframe\n",
    "df.head(100)"
   ]
  },
  {
   "cell_type": "markdown",
   "id": "cec94d16",
   "metadata": {},
   "source": [
    "# Split Data\n",
    "\n",
    "We used a package called **sklearn** to split the dataset into Training Data, Testing Data, and Validation Data.\n",
    "\n",
    "The ratio is Training:Testing:Validation = 60:20:20"
   ]
  },
  {
   "cell_type": "code",
   "execution_count": 116,
   "id": "ad211cea",
   "metadata": {},
   "outputs": [],
   "source": [
    "# Create variables for ratios (60:20:20)\n",
    "train_ratio = 0.6\n",
    "validation_ratio = 0.2\n",
    "test_ratio = 0.2\n",
    "\n",
    "# trainX is split to be 60% of the entire data set and testX is 40% of the entire dataset\n",
    "trainX, testX, = train_test_split(df, test_size = 1 - train_ratio)\n",
    "\n",
    "# test is now 40% of the initial data set\n",
    "# testX is split further to create testX to be 20% and validationX (valX) to be 20% of the initial data set\n",
    "valX, testX = train_test_split(testX, test_size = test_ratio/(test_ratio + validation_ratio)) \n",
    "\n",
    "# The 'status' column is our target, so it is deleted from the features and stored as the true y values\n",
    "trainY = trainX['status']\n",
    "del trainX['status']\n",
    "testY = testX['status']\n",
    "del testX['status']\n",
    "valY = valX['status']\n",
    "del valX['status']\n",
    "\n",
    "# Print out the training data (x)\n",
    "# :) Please uncomment to see the print statement (if desired):\n",
    "#print(trainX)  # At the bottom, it shows that trainX contains 6888 rows and 56 columns"
   ]
  },
  {
   "cell_type": "markdown",
   "id": "2278f171",
   "metadata": {},
   "source": [
    "# FUNCTIONS\n",
    "Before performing Linear Regression, we've created functions that are used in both solutions (closed-form and gradient descent)."
   ]
  },
  {
   "cell_type": "markdown",
   "id": "319f9772",
   "metadata": {},
   "source": [
    "# Create Design Matrix"
   ]
  },
  {
   "cell_type": "code",
   "execution_count": 117,
   "id": "e37675d4",
   "metadata": {},
   "outputs": [],
   "source": [
    "# Function to create design matrix using the data given (xValues)\n",
    "def createDesignMatrix(xValues):\n",
    "    \n",
    "    # Initialise matrix filled with 1s\n",
    "    number_rows = len(xValues.index)\n",
    "    number_cols = len(xValues.columns) + 1\n",
    "    designMat = np.ones((number_rows, number_cols), dtype=float)\n",
    "\n",
    "    # For each feature (column) and url (row), add the value to the design matrix\n",
    "    for featureIndex in range(len(xValues.columns)):\n",
    "        for urlIndex in range(len(xValues.index)): \n",
    "\n",
    "            colName = xValues.columns[featureIndex]\n",
    "            designMat[urlIndex][featureIndex + 1] = xValues[colName][xValues.index[urlIndex]]\n",
    "    \n",
    "    return designMat\n",
    "\n",
    "designMatrix = createDesignMatrix(trainX)\n",
    "# :) Please uncomment to see the print statement (if desired):\n",
    "#print(designMatrix)"
   ]
  },
  {
   "cell_type": "markdown",
   "id": "ecaced93",
   "metadata": {},
   "source": [
    "# Calculate Predicted y Values\n",
    "\n",
    "The predicted y values are the values we predicted using the `thetaVector`. \n",
    "\n",
    "The predicted y vales are calculated using the function:\n",
    "`y = ` $theta$$_{0}$ $+$ $theta$$_{1}$$*$$x_{1}$ $+$ $theta$$_{2}$$*$$x_{2}$ $+$ $...$ $+$ $theta$$_{n}$$*$$x_{n}$\n",
    "\n",
    "Predicted values are rounded because the `status` column (target) contains values of `0` (Legitimate) or `1` (Phishing)."
   ]
  },
  {
   "cell_type": "code",
   "execution_count": 118,
   "id": "af6003e0",
   "metadata": {},
   "outputs": [],
   "source": [
    "# Function to calulate predicted y values\n",
    "def calculateY(designMat, thetas):\n",
    "    \n",
    "    # Store predicted values in a vector\n",
    "    predictedY = []\n",
    "\n",
    "    # For every url\n",
    "    for urlIndex in range(len(designMat)):\n",
    "\n",
    "        # The function is really long because there are 57 features so we add each term in the for loop\n",
    "        # we begin by setting y to the theta0 (which is multiplied by 1 - the first element in the design matrix\n",
    "        # for each row)\n",
    "        y = thetas[0]\n",
    "\n",
    "        # For every feature (exluding the first element which is used above)\n",
    "        for j in range(1, len(designMat[urlIndex])): \n",
    "\n",
    "            y = y + designMat[urlIndex][j] * thetas[j]\n",
    "\n",
    "        # Rount the predicted y value\n",
    "        predictedY.append(round(y))\n",
    "\n",
    "    return predictedY"
   ]
  },
  {
   "cell_type": "markdown",
   "id": "8e4a3f64",
   "metadata": {},
   "source": [
    "# Create Confusion Matrix\n",
    "\n",
    "The functions `getConfusionMatrix()` calculates the confusion martix and `printConfusionMatrix()` prints it out."
   ]
  },
  {
   "cell_type": "code",
   "execution_count": 119,
   "id": "7cc4f6c5",
   "metadata": {},
   "outputs": [],
   "source": [
    "#Get confusion matrix data for making the matrix\n",
    "def getConfusionMatrix(predictedY, trueY):\n",
    "    \n",
    "    # For all URLs\n",
    "    amountDataPoints = len(predictedY)\n",
    "    \n",
    "    quad1 = 0\n",
    "    quad2 = 0\n",
    "    quad3 = 0\n",
    "    quad4 = 0\n",
    "    outliers = 0  # outliers is used for the case when the predicted y value is neither a 0 or 1 (outliers)\n",
    "\n",
    "    for i in range(amountDataPoints): \n",
    "        \n",
    "        if(trueY[trueY.index[i]] == 0):\n",
    "            \n",
    "            if (predictedY[i] == 0):\n",
    "                quad1 += 1\n",
    "            elif (predictedY[i] == 1):\n",
    "                quad2 += 1\n",
    "            else:\n",
    "                outliers += 1\n",
    "                \n",
    "        else:\n",
    "            \n",
    "            if (predictedY[i] == 1):\n",
    "                quad4 += 1\n",
    "            elif (predictedY[i] == 0):\n",
    "                quad3 += 1\n",
    "            else:\n",
    "                outliers += 1\n",
    "\n",
    "        \n",
    "    return [quad1, quad2, quad3, quad4, outliers]\n",
    "        \n",
    "#Printing out confusion matrix\n",
    "def printConfusionMatrix(quad1, quad2, quad3, quad4, hyperParemeterSymbol, hyperParameterValue):\n",
    "    \n",
    "    print(hyperParemeterSymbol + \" is: \" + str(hyperParameterValue))\n",
    "    print(\"===========================\\n\")\n",
    "\n",
    "    print(\"===========================\")\n",
    "    print(\"Confusion Matrix\\n\")\n",
    "    print(\"Class\\t\\tLegitimate\\tPhishing\")\n",
    "    print(\"Legitimate\\t\"+str(quad1)+\"\\t\\t\"+str(quad2))\n",
    "    print(\"Phishing\\t\"+str(quad3)+\"\\t\\t\"+str(quad4))\n",
    "    print(\"\\n=========================\\n\")\n",
    "\n",
    "    accu = (quad1 + quad4)/(quad1 + quad2 + quad3 + quad4)\n",
    "    print(\"===========================\")\n",
    "    print(\"Accuracy of: \" + str(format(accu * 100,\".5f\")) + \" %\")\n",
    "    print(\"===========================\")\n",
    "\n",
    "    print(\"\\n\")"
   ]
  },
  {
   "cell_type": "markdown",
   "id": "724e62d2",
   "metadata": {},
   "source": [
    "# TRAINING DATA"
   ]
  },
  {
   "cell_type": "markdown",
   "id": "8e85e836",
   "metadata": {},
   "source": [
    "# Closed-Form Solution"
   ]
  },
  {
   "cell_type": "markdown",
   "id": "c8a165a2",
   "metadata": {},
   "source": [
    "### Create theta vector\n",
    "Create vector which represents the **optimal solution for theta**\n",
    "\n",
    "The formula to determine the optimal solution for theta is:\n",
    "`theta =` $((X)^{Y}$$X)$$^{-1}$$(X^{T}$$y)$"
   ]
  },
  {
   "cell_type": "code",
   "execution_count": 120,
   "id": "a6f91991",
   "metadata": {},
   "outputs": [],
   "source": [
    "# Function to create the optimal theta vector\n",
    "def createOptimalTheta(lamda):\n",
    "    \n",
    "    # The identity matrix is used for regularisation\n",
    "    identityMatrix = np.identity(designMatrix.shape[1])\n",
    "    identityMatrix[0][0] = 0  # There is no regularisation on theta0\n",
    "\n",
    "    # Performing calculation:\n",
    "    transMatrix = designMatrix.transpose() #X^T\n",
    "\n",
    "    calcXtX = transMatrix.dot(designMatrix)  #(X^T X)\n",
    "\n",
    "    calcReg = calcXtX + (lamda * identityMatrix)  #(X^T X + lamda*identity) - Regularisation\n",
    "    calcInverse = np.linalg.inv(calcReg) #(X^T X + lamda*identity)^(-1)\n",
    "\n",
    "    calcXtY = (transMatrix.dot(trainY)) #X^T y\n",
    "    thetaVector = calcInverse.dot(calcXtY) # theta = (X^T X + lamda*identity)^(-1) X^T y\n",
    "\n",
    "    return thetaVector"
   ]
  },
  {
   "cell_type": "markdown",
   "id": "285ce4c4",
   "metadata": {},
   "source": [
    "### Perform closed-form solution"
   ]
  },
  {
   "cell_type": "code",
   "execution_count": 121,
   "id": "7189bf3e",
   "metadata": {},
   "outputs": [
    {
     "name": "stdout",
     "output_type": "stream",
     "text": [
      "Wall time: 19.9 ms\n"
     ]
    }
   ],
   "source": [
    "%%time\n",
    "# Call function\n",
    "\n",
    "# Lambda is a hyperparameter that is used for regularisation\n",
    "# Lambda was tested at a few different values but had a very minimal impact on the accuracy of the model.\n",
    "lamda = 0.1    \n",
    "thetaVector = createOptimalTheta(lamda)\n",
    "\n",
    "# :) Please uncomment to see the print statement (if desired):\n",
    "#print(thetaVector)"
   ]
  },
  {
   "cell_type": "markdown",
   "id": "7997a1b5",
   "metadata": {},
   "source": [
    "### Calculate predicted y values"
   ]
  },
  {
   "cell_type": "code",
   "execution_count": null,
   "id": "ba671cca",
   "metadata": {},
   "outputs": [],
   "source": [
    "# Call function\n",
    "predictedY = calculateY(designMatrix, thetaVector)\n",
    "\n",
    "# :) Please uncomment to see the print statement (if desired):\n",
    "print(predictedY)"
   ]
  },
  {
   "cell_type": "markdown",
   "id": "86f4a711",
   "metadata": {},
   "source": [
    "### Print Confusion Matrix"
   ]
  },
  {
   "cell_type": "code",
   "execution_count": 123,
   "id": "2697ffd3",
   "metadata": {},
   "outputs": [
    {
     "name": "stdout",
     "output_type": "stream",
     "text": [
      "===========================\n",
      "Hyper Parameters:\n",
      "\n",
      "lambda is: 0.1\n",
      "===========================\n",
      "\n",
      "===========================\n",
      "Confusion Matrix\n",
      "\n",
      "Class\t\tLegitimate\tPhishing\n",
      "Legitimate\t3222\t\t256\n",
      "Phishing\t246\t\t3155\n",
      "\n",
      "=========================\n",
      "\n",
      "===========================\n",
      "Accuracy of: 92.70243 %\n",
      "===========================\n",
      "\n",
      "\n",
      "===========================\n",
      "Number of outiers = 9\n"
     ]
    }
   ],
   "source": [
    "print(\"===========================\")\n",
    "print(\"Hyper Parameters:\\n\")\n",
    "\n",
    "# Call functions\n",
    "quad1, quad2, quad3, quad4, outliers = getConfusionMatrix(predictedY, trainY)\n",
    "printConfusionMatrix(quad1, quad2, quad3, quad4, \"lambda\", lamda)\n",
    "\n",
    "print(\"===========================\")\n",
    "print(\"Number of outiers = \" + str(outliers))"
   ]
  },
  {
   "cell_type": "markdown",
   "id": "f8df9281",
   "metadata": {},
   "source": [
    "# Gradient Descent"
   ]
  },
  {
   "cell_type": "markdown",
   "id": "d71956c9",
   "metadata": {},
   "source": [
    "### Function to calculate gradient descent"
   ]
  },
  {
   "cell_type": "code",
   "execution_count": 124,
   "id": "3a61ada4",
   "metadata": {},
   "outputs": [],
   "source": [
    "#Gradient Descent Function\n",
    "def gradientDescent(designMat, a_val, stoppingVal, y_set):\n",
    "    \n",
    "    # Initialise variables\n",
    "    amountOfThetas = designMat.shape[1]\n",
    "    newTheta = np.repeat(0.5, amountOfThetas)\n",
    "    oldTheta = np.repeat(99999, amountOfThetas)\n",
    "    \n",
    "    # If the x values and the y values have a different number of rows\n",
    "    if (len(designMat) != len(y_set)):\n",
    "        print(\"The x values and the y values have different lengths\")\n",
    "        return []\n",
    "    \n",
    "    # Repeat until convergence\n",
    "    while (np.linalg.norm(newTheta - oldTheta,2) > stoppingVal):\n",
    "        \n",
    "        # Calculate predicted y values with new theta\n",
    "        for i in range(len(designMat)):\n",
    "            \n",
    "            oldTheta = newTheta\n",
    "            \n",
    "            y = newTheta[0]\n",
    "            \n",
    "            for j in range(1, len(designMat[i])): \n",
    "\n",
    "                y = y + designMat[i][j] * newTheta[j]\n",
    "        \n",
    "               \n",
    "            \n",
    "                # FORMULA: theta = theta - a(predictedY - trueY)x\n",
    "                var1 = a * (y - y_set[y_set.index[j]])  # a(predictedY - trueY)\n",
    "                var = np.multiply(designMat[i], np.float64(var1))  # a(predictedY - trueY)x\n",
    "                newTheta = newTheta - var  # theta = theta - a(predictedY - trueY)x\n",
    "\n",
    "            # Converged\n",
    "            if (np.linalg.norm(newTheta - oldTheta,2) > stoppingVal):\n",
    "                break  \n",
    "        \n",
    "    \n",
    "    return newTheta"
   ]
  },
  {
   "cell_type": "markdown",
   "id": "c60fe0d2",
   "metadata": {},
   "source": [
    "### Perform gradient descent"
   ]
  },
  {
   "cell_type": "code",
   "execution_count": 125,
   "id": "d9259a70",
   "metadata": {},
   "outputs": [
    {
     "name": "stdout",
     "output_type": "stream",
     "text": [
      "Wall time: 5min 6s\n"
     ]
    }
   ],
   "source": [
    "%%time\n",
    "# Hyperparameter value (alpha) and (stoppingVal - used for the convergence)\n",
    "a = 0.00001\n",
    "stoppingVal = 0.001\n",
    "\n",
    "# Call function\n",
    "gradientTheta = gradientDescent(designMatrix, a, stoppingVal, trainY)\n",
    "\n",
    "# :) Please uncomment to see the print statement (if desired):\n",
    "#print(gradientTheta)"
   ]
  },
  {
   "cell_type": "markdown",
   "id": "3af49a72",
   "metadata": {},
   "source": [
    "### Calculate predicted y values"
   ]
  },
  {
   "cell_type": "code",
   "execution_count": 126,
   "id": "68dcff38",
   "metadata": {},
   "outputs": [],
   "source": [
    "# Call function\n",
    "newY = calculateY(designMatrix, gradientTheta)\n",
    "\n",
    "# :) Please uncomment to see the print statement (if desired):\n",
    "#print(newY)"
   ]
  },
  {
   "cell_type": "markdown",
   "id": "4fa8836c",
   "metadata": {},
   "source": [
    "### Print confusion matrix"
   ]
  },
  {
   "cell_type": "code",
   "execution_count": 127,
   "id": "b7c8f790",
   "metadata": {},
   "outputs": [
    {
     "name": "stdout",
     "output_type": "stream",
     "text": [
      "===========================\n",
      "Hyper Parameters:\n",
      "\n",
      "stoppingval is: 0.001\n",
      "alpha is: 1e-05\n",
      "===========================\n",
      "\n",
      "===========================\n",
      "Confusion Matrix\n",
      "\n",
      "Class\t\tLegitimate\tPhishing\n",
      "Legitimate\t1018\t\t2460\n",
      "Phishing\t2417\t\t993\n",
      "\n",
      "=========================\n",
      "\n",
      "===========================\n",
      "Accuracy of: 29.19570 %\n",
      "===========================\n",
      "\n",
      "\n",
      "===========================\n",
      "Number of outiers = 0\n"
     ]
    }
   ],
   "source": [
    "print(\"===========================\")\n",
    "print(\"Hyper Parameters:\\n\")\n",
    "print(\"stoppingval is: \" + str(stoppingVal))\n",
    "\n",
    "quad1, quad2, quad3, quad4, outliers = getConfusionMatrix(newY, trainY)\n",
    "printConfusionMatrix(quad1, quad2, quad3, quad4, \"alpha\", a)\n",
    "\n",
    "print(\"===========================\")\n",
    "print(\"Number of outiers = \" + str(outliers))"
   ]
  },
  {
   "cell_type": "markdown",
   "id": "f7281ac9",
   "metadata": {},
   "source": [
    "# VALIDATION DATA"
   ]
  },
  {
   "cell_type": "markdown",
   "id": "a30ec4fc",
   "metadata": {},
   "source": [
    "### Closed-Form Solution"
   ]
  },
  {
   "cell_type": "code",
   "execution_count": 128,
   "id": "90ec7582",
   "metadata": {},
   "outputs": [
    {
     "name": "stdout",
     "output_type": "stream",
     "text": [
      "Wall time: 1.33 s\n"
     ]
    }
   ],
   "source": [
    "%%time\n",
    "# Get design matrix\n",
    "designMatVal = createDesignMatrix(valX)\n",
    "\n",
    "# Store different hyper parameters for lambda to find the highest accuracy\n",
    "lamda = [0.001, 0.05, 0.1, 2, 5]\n",
    "accuracyVec = np.array([0, 0, 0, 0, 0])\n",
    "\n",
    "for lambdaIndex in range(len(lamda)):\n",
    "    \n",
    "    # Create theta vector\n",
    "    thetaValidation = createOptimalTheta(lamda[lambdaIndex])\n",
    "    \n",
    "    # Calculate predicted y values\n",
    "    predictedValY = calculateY(designMatVal, thetaValidation)\n",
    "    \n",
    "    # Get confusion matrix data to calculate accuracy\n",
    "    quad1, quad2, quad3, quad4, outliers = getConfusionMatrix(predictedValY, valY)\n",
    "    # Calculate accuracy and store it\n",
    "    accuracy = (quad1 + quad4)/(quad1 + quad2 + quad3 + quad4)\n",
    "    accuracyVec[lambdaIndex] = accuracy\n",
    "    \n",
    "# Find index of highest accuracy and determine best hyper parameter\n",
    "maxAccuracyIndex = np.argmax(accuracyVec, axis=0)\n",
    "\n",
    "# Set optimalLambda to best optimal lambda\n",
    "optimalLambda = lamda[maxAccuracyIndex]\n",
    "    \n",
    "# :) Please uncomment to see the print statement (if desired):\n",
    "#print(optimalLambda)"
   ]
  },
  {
   "cell_type": "markdown",
   "id": "3f778204",
   "metadata": {},
   "source": [
    "### Gradient Decsent"
   ]
  },
  {
   "cell_type": "code",
   "execution_count": 129,
   "id": "2c950fbe",
   "metadata": {},
   "outputs": [
    {
     "name": "stdout",
     "output_type": "stream",
     "text": [
      "Wall time: 2h 29min 21s\n"
     ]
    }
   ],
   "source": [
    "%%time\n",
    "# Get design matrix\n",
    "designMatVal = createDesignMatrix(valX)\n",
    "\n",
    "# Store different hyper parameters for alpha and the stopping value to find the highest accuracy\n",
    "# Because there are two hyper parameters, we use a double for loop is so that every alpha \n",
    "# parameter is tested with every stopping value parameter. \n",
    "# There are 4 values in each list, so it runs 16 times to find the accuracy - this takes a loooonnggg time.\n",
    "alpha = [0.00001, 0.01] #, 1, 5\n",
    "stoppingVec = [0.0001, 0.1] #, 1, 5\n",
    "accuracyVec = np.zeros((len(alpha), len(stoppingVec)))\n",
    "\n",
    "# for each alpha parameter\n",
    "for alphaIndex in range(len(alpha)):\n",
    "    \n",
    "    # for each stopping value parameter\n",
    "    for stoppingIndex in range(len(stoppingVec)):\n",
    "    \n",
    "        # Create theta vector\n",
    "        thetaValidation = gradientDescent(designMatVal, alpha[alphaIndex], stoppingVec[stoppingIndex], valY)\n",
    "\n",
    "        # Calculate predicted y values\n",
    "        predictedValY = calculateY(designMatVal, thetaValidation)\n",
    "\n",
    "        # Get confusion matrix data to calculate accuracy\n",
    "        quad1, quad2, quad3, quad4, outliers = getConfusionMatrix(predictedValY, valY)\n",
    "        # Calculate accuracy and store it\n",
    "        accuracy = (quad1 + quad4)/(quad1 + quad2 + quad3 + quad4)\n",
    "        accuracyVec[alphaIndex][stoppingIndex] = accuracy\n",
    "    \n",
    "    \n",
    "# Find value and index of highest accuracy and determine best hyper parameters\n",
    "maxAccuracy = np.max(accuracyVec)\n",
    "indexes = np.where(accuracyVec == maxAccuracy)\n",
    "\n",
    "# Set optimalAlpha and optimalStopping to best optimal values\n",
    "optimalAlpha = alpha[indexes[0][0]]\n",
    "optimalStopping = stoppingVec[indexes[1][0]]\n",
    "    \n",
    "# :) Please uncomment to see the print statement (if desired):\n",
    "#print(optimalAlpha)\n",
    "#print(optimalStopping)"
   ]
  },
  {
   "cell_type": "markdown",
   "id": "d5c00637",
   "metadata": {},
   "source": [
    "# TESTING DATA"
   ]
  },
  {
   "cell_type": "markdown",
   "id": "aa1522cd",
   "metadata": {},
   "source": [
    "### Closed-Form Solution"
   ]
  },
  {
   "cell_type": "code",
   "execution_count": 130,
   "id": "58ee70f4",
   "metadata": {},
   "outputs": [
    {
     "name": "stdout",
     "output_type": "stream",
     "text": [
      "===========================\n",
      "Hyper Parameters:\n",
      "\n",
      "lambda is: 0.001\n",
      "===========================\n",
      "\n",
      "===========================\n",
      "Confusion Matrix\n",
      "\n",
      "Class\t\tLegitimate\tPhishing\n",
      "Legitimate\t1037\t\t83\n",
      "Phishing\t84\t\t1090\n",
      "\n",
      "=========================\n",
      "\n",
      "===========================\n",
      "Accuracy of: 92.72014 %\n",
      "===========================\n",
      "\n",
      "\n",
      "===========================\n",
      "Number of outiers = 3\n",
      "Wall time: 1.17 s\n"
     ]
    }
   ],
   "source": [
    "%%time\n",
    "# Get design matrix\n",
    "designMatTest = createDesignMatrix(testX)\n",
    "\n",
    "# Calculate predicted y values\n",
    "predictedTestY = calculateY(designMatTest, thetaVector)\n",
    "\n",
    "print(\"===========================\")\n",
    "print(\"Hyper Parameters:\\n\")\n",
    "    \n",
    "# Get confusion matrix and print it\n",
    "quad1, quad2, quad3, quad4, outliers = getConfusionMatrix(predictedTestY, testY)\n",
    "printConfusionMatrix(quad1, quad2, quad3, quad4, \"lambda\", optimalLambda)\n",
    "\n",
    "print(\"===========================\")\n",
    "print(\"Number of outiers = \" + str(outliers))"
   ]
  },
  {
   "cell_type": "markdown",
   "id": "83bf59f8",
   "metadata": {},
   "source": [
    "### Gradient Descent "
   ]
  },
  {
   "cell_type": "code",
   "execution_count": 131,
   "id": "5e649048",
   "metadata": {},
   "outputs": [
    {
     "name": "stdout",
     "output_type": "stream",
     "text": [
      "===========================\n",
      "Hyper Parameters:\n",
      "\n",
      "stoppingval is: 0.001\n",
      "alpha is: 1e-05\n",
      "===========================\n",
      "\n",
      "===========================\n",
      "Confusion Matrix\n",
      "\n",
      "Class\t\tLegitimate\tPhishing\n",
      "Legitimate\t1037\t\t83\n",
      "Phishing\t84\t\t1090\n",
      "\n",
      "=========================\n",
      "\n",
      "===========================\n",
      "Accuracy of: 92.72014 %\n",
      "===========================\n",
      "\n",
      "\n",
      "===========================\n",
      "Number of outiers = 3\n",
      "Wall time: 2.87 s\n"
     ]
    }
   ],
   "source": [
    "%%time\n",
    "# Get design matrix\n",
    "designMatTest = createDesignMatrix(testX)\n",
    "\n",
    "# Calculate predicted y values\n",
    "predictedTestY = calculateY(designMatTest, thetaVector)\n",
    "\n",
    "# Get and print confusion matrix\n",
    "print(\"===========================\")\n",
    "print(\"Hyper Parameters:\\n\")\n",
    "print(\"stoppingval is: \" + str(stoppingVal))\n",
    "\n",
    "quad1, quad2, quad3, quad4, outliers = getConfusionMatrix(predictedTestY, testY)\n",
    "printConfusionMatrix(quad1, quad2, quad3, quad4, \"alpha\", a)\n",
    "\n",
    "print(\"===========================\")\n",
    "print(\"Number of outiers = \" + str(outliers))"
   ]
  },
  {
   "cell_type": "code",
   "execution_count": null,
   "id": "870d8a6d",
   "metadata": {},
   "outputs": [],
   "source": []
  }
 ],
 "metadata": {
  "kernelspec": {
   "display_name": "Python 3",
   "language": "python",
   "name": "python3"
  },
  "language_info": {
   "codemirror_mode": {
    "name": "ipython",
    "version": 3
   },
   "file_extension": ".py",
   "mimetype": "text/x-python",
   "name": "python",
   "nbconvert_exporter": "python",
   "pygments_lexer": "ipython3",
   "version": "3.8.8"
  }
 },
 "nbformat": 4,
 "nbformat_minor": 5
}
